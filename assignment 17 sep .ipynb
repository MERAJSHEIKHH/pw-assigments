{
 "cells": [
  {
   "cell_type": "markdown",
   "id": "083fe2de-2e57-4dbb-bb73-03f267dcf000",
   "metadata": {},
   "source": [
    "# for loop "
   ]
  },
  {
   "cell_type": "markdown",
   "id": "47ad0387-e8d0-4059-9a5e-b775a80d0573",
   "metadata": {},
   "source": [
    "## 1 Write a Python program to print numbers from 1 to 10 using a for loop."
   ]
  },
  {
   "cell_type": "code",
   "execution_count": 2,
   "id": "a3a845e5-31c6-4911-8892-36a707c117ef",
   "metadata": {},
   "outputs": [
    {
     "name": "stdout",
     "output_type": "stream",
     "text": [
      "1\n",
      "2\n",
      "3\n",
      "4\n",
      "5\n",
      "6\n",
      "7\n",
      "8\n",
      "9\n",
      "10\n"
     ]
    }
   ],
   "source": [
    "for i in range(1,11):\n",
    "    print(i)"
   ]
  },
  {
   "cell_type": "markdown",
   "id": "33075450-f2b9-4614-8077-047d8985f0a1",
   "metadata": {},
   "source": [
    "## 2 Explain the difference between a for loop and a while loop in Python."
   ]
  },
  {
   "cell_type": "markdown",
   "id": "2c58219b-d09f-4759-85de-3ffd5df456be",
   "metadata": {},
   "source": [
    "'''A for loop is used when you know in advance how many times you want to execute a block of code'''\n",
    "\n",
    "\n",
    "'''A while loop is used when you want to repeat a block of code as long as a condition is True. It's more flexible than a for loop because\n",
    "you might not know in advance how many times you need to execute the code.'''\n"
   ]
  },
  {
   "cell_type": "markdown",
   "id": "bb98104f-696a-4a00-9378-7389387cc358",
   "metadata": {},
   "source": [
    "## 3 Write a Python program to calculate the sum of all numbers from 1 to 100 using a for loop."
   ]
  },
  {
   "cell_type": "code",
   "execution_count": 7,
   "id": "83219068-5df2-4ba1-b99b-c33bb03f16a1",
   "metadata": {},
   "outputs": [
    {
     "data": {
      "text/plain": [
       "5050"
      ]
     },
     "execution_count": 7,
     "metadata": {},
     "output_type": "execute_result"
    }
   ],
   "source": [
    "\n",
    "sum([i for i in range (101)])"
   ]
  },
  {
   "cell_type": "code",
   "execution_count": 11,
   "id": "e8e401fe-a3ba-48ae-aaec-6d77760bdae3",
   "metadata": {},
   "outputs": [
    {
     "name": "stdout",
     "output_type": "stream",
     "text": [
      "5050\n"
     ]
    }
   ],
   "source": [
    "# 2nd method\n",
    "sum_of_no=0\n",
    "for num in range (101):\n",
    "    sum_of_no+=num\n",
    "print(sum_of_no)    \n",
    "    "
   ]
  },
  {
   "cell_type": "markdown",
   "id": "88e6e9e9-d84d-4781-8d27-fd05f4cb4f78",
   "metadata": {},
   "source": []
  },
  {
   "cell_type": "markdown",
   "id": "613d788c-a288-48cd-8ac9-ce1d00cf6be6",
   "metadata": {},
   "source": [
    "## 4 How do you iterate through a list using a for loop in Python?"
   ]
  },
  {
   "cell_type": "code",
   "execution_count": null,
   "id": "92033a43-7b15-4ccf-b303-127ba5aaa822",
   "metadata": {},
   "outputs": [],
   "source": []
  },
  {
   "cell_type": "code",
   "execution_count": 14,
   "id": "f00553ba-4178-4bb2-b7ac-1127b424b263",
   "metadata": {},
   "outputs": [
    {
     "name": "stdout",
     "output_type": "stream",
     "text": [
      "1\n",
      "2\n",
      "3\n",
      "4\n",
      "5\n",
      "6\n",
      "7\n"
     ]
    }
   ],
   "source": [
    "\n",
    "list1=[1,2,3,4,5,6,7]\n",
    "for item in list1:\n",
    "    print(item)"
   ]
  },
  {
   "cell_type": "markdown",
   "id": "0b71254f-0f3c-48f5-a01d-a84275228483",
   "metadata": {},
   "source": [
    "## 5 Write a Python program to find the product of all elements in a list using a for loop."
   ]
  },
  {
   "cell_type": "code",
   "execution_count": 22,
   "id": "a3d36bb5-de61-4b72-b2ab-da0385990981",
   "metadata": {},
   "outputs": [
    {
     "name": "stdout",
     "output_type": "stream",
     "text": [
      "48\n"
     ]
    }
   ],
   "source": [
    "list1=[1,2,2,3,4]\n",
    "#for i in range(list1)\n",
    "product_of_all=1\n",
    "for j in list1:\n",
    "    product_of_all*=j\n",
    "print(product_of_all)    \n",
    "    \n",
    "    "
   ]
  },
  {
   "cell_type": "code",
   "execution_count": 18,
   "id": "9e21b92c-54f8-4c8c-9283-ac652303a6f7",
   "metadata": {},
   "outputs": [
    {
     "name": "stdout",
     "output_type": "stream",
     "text": [
      "0\n",
      "1\n",
      "2\n",
      "3\n"
     ]
    }
   ],
   "source": [
    "list1=[1,2,3,4]\n",
    "for i in range(len(list1)):\n",
    "    print(i)"
   ]
  },
  {
   "cell_type": "markdown",
   "id": "01d4b979-a37d-416c-b1e8-cf748501c4cb",
   "metadata": {},
   "source": [
    "## 6 Create a Python program that prints all even numbers from 1 to 20 using a for loop."
   ]
  },
  {
   "cell_type": "code",
   "execution_count": 26,
   "id": "f2a27920-52ab-4c69-a2da-4bfafe971cd9",
   "metadata": {},
   "outputs": [
    {
     "name": "stdout",
     "output_type": "stream",
     "text": [
      "[2, 4, 6, 8, 10, 12, 14, 16, 18, 20]\n"
     ]
    }
   ],
   "source": [
    "l=[]\n",
    "for i in range(1,21):\n",
    "    if i %2==0:\n",
    "        l.append(i)\n",
    "print(l)        "
   ]
  },
  {
   "cell_type": "markdown",
   "id": "936d4e41-0870-4526-a445-1b1eb5b849e5",
   "metadata": {},
   "source": [
    "## 7 Write a Python program that calculates the factorial of a number using a for loop."
   ]
  },
  {
   "cell_type": "code",
   "execution_count": 35,
   "id": "463291fb-165d-4933-a4a1-17657870d43a",
   "metadata": {},
   "outputs": [
    {
     "name": "stdout",
     "output_type": "stream",
     "text": [
      "120\n"
     ]
    }
   ],
   "source": [
    "a=1\n",
    "for i in range(1,5+1):\n",
    "    \n",
    "    a=a*i\n",
    "    \n",
    "print(a)"
   ]
  },
  {
   "cell_type": "markdown",
   "id": "09bbc57c-b3ff-4d1c-affd-cbcda63fb9d7",
   "metadata": {},
   "source": [
    "## 8 How can you iterate through the characters of a string using a for loop in Python?"
   ]
  },
  {
   "cell_type": "code",
   "execution_count": 37,
   "id": "a8c5960d-00ca-47de-95ac-2d303cf05867",
   "metadata": {},
   "outputs": [
    {
     "name": "stdout",
     "output_type": "stream",
     "text": [
      "i\n",
      " \n",
      "l\n",
      "i\n",
      "v\n",
      "e\n",
      " \n",
      "i\n",
      "n\n",
      " \n",
      "d\n",
      "e\n",
      "l\n",
      "h\n",
      "i\n",
      " \n"
     ]
    }
   ],
   "source": [
    "string=\"i live in delhi \"\n",
    "for character in string:\n",
    "    print (character)"
   ]
  },
  {
   "cell_type": "markdown",
   "id": "a0b92ad1-e5ec-4bcd-9db4-c5670e5598c3",
   "metadata": {},
   "source": [
    "## 9 Write a Python program to find the largest number in a list using a for loop."
   ]
  },
  {
   "cell_type": "code",
   "execution_count": 6,
   "id": "6ebf46b4-a95b-4a42-9d5d-b5038472949f",
   "metadata": {},
   "outputs": [
    {
     "data": {
      "text/plain": [
       "20"
      ]
     },
     "execution_count": 6,
     "metadata": {},
     "output_type": "execute_result"
    }
   ],
   "source": [
    "def find_largest_number(numbers):\n",
    "    if len(numbers) == 0:\n",
    "        return None\n",
    "    \n",
    "    largest = numbers[0]\n",
    "    for num in numbers:\n",
    "        if num > largest:\n",
    "            largest= num\n",
    "    \n",
    "    return largest\n",
    "\n",
    "\n",
    "numbers = [10, 5, 20, 8, 15]\n",
    "largest_number = find_largest_number(numbers)\n",
    "largest_number\n"
   ]
  },
  {
   "cell_type": "code",
   "execution_count": null,
   "id": "f9e02239-e07b-42a1-b5cd-8b2e90cfed7e",
   "metadata": {},
   "outputs": [],
   "source": []
  },
  {
   "cell_type": "code",
   "execution_count": 7,
   "id": "cd1a0041-4fa5-452a-9a68-ab4de02aa5c4",
   "metadata": {},
   "outputs": [
    {
     "name": "stdin",
     "output_type": "stream",
     "text": [
      "Enter number of elements in list:  3\n",
      "Enter elements:  7\n",
      "Enter elements:  8\n",
      "Enter elements:  9\n"
     ]
    },
    {
     "name": "stdout",
     "output_type": "stream",
     "text": [
      "Largest element is: 9\n"
     ]
    }
   ],
   "source": [
    "# Python program to find largest\n",
    "# number in a list\n",
    "\n",
    "# Creating an empty list\n",
    "list1 = []\n",
    "\n",
    "# asking number of elements to put in list\n",
    "num = int(input(\"Enter number of elements in list: \"))\n",
    "\n",
    "# Iterating till num to append elements in list\n",
    "for i in range(1, num + 1):\n",
    "\tlist2 = int(input(\"Enter elements: \"))\n",
    "\tlist1.append(list2)\n",
    "\n",
    "# Printing maximum element\n",
    "print(\"Largest element is:\", max(list1))\n"
   ]
  },
  {
   "cell_type": "markdown",
   "id": "ec4ebc0e-192b-4514-8cec-82e1ccba0292",
   "metadata": {},
   "source": [
    "## 10 Create a Python program that prints the Fibonacci sequence up to a specified limit using a for loop.\n"
   ]
  },
  {
   "cell_type": "code",
   "execution_count": 26,
   "id": "42f9649b-8ad4-45db-94a8-bc23bc349871",
   "metadata": {},
   "outputs": [
    {
     "name": "stdin",
     "output_type": "stream",
     "text": [
      "Enter a number:  6\n"
     ]
    },
    {
     "name": "stdout",
     "output_type": "stream",
     "text": [
      "[0, 1, 1, 2, 3, 5]\n"
     ]
    }
   ],
   "source": [
    "def fib_seq(n):\n",
    "    fibonacci_seq = [0, 1]\n",
    "    list1 = []\n",
    "\n",
    "    for i in range(2, n):# it starts with 2 because o and 1 in given \n",
    "        next_fib = fibonacci_seq[i-1] + fibonacci_seq[i-2]\n",
    "        fibonacci_seq.append(next_fib)\n",
    "\n",
    "    return fibonacci_seq\n",
    "n = int(input(\"Enter a number: \"))\n",
    "result = fib_seq(n)\n",
    "print(result)\n"
   ]
  },
  {
   "cell_type": "markdown",
   "id": "22afa7ae-cc81-4158-9e25-0b62edb2b2e4",
   "metadata": {},
   "source": [
    "## 11 Write a Python program to count the number of vowels in a given string using a for loop."
   ]
  },
  {
   "cell_type": "code",
   "execution_count": 61,
   "id": "7cb89d80-a28a-467f-abe0-7a24928a0b70",
   "metadata": {},
   "outputs": [
    {
     "name": "stdout",
     "output_type": "stream",
     "text": [
      "vowel count: 7\n",
      "vowel list ['e', 'o', 'o', 'a', 'e', 'o', 'u']\n"
     ]
    }
   ],
   "source": [
    "string=\"hello how are you \"\n",
    "vowel=\"aeiouAEIOU\"\n",
    "vowel_list=[]\n",
    "count=0\n",
    "for char in string:\n",
    "    if char in vowel:\n",
    "        count+=1\n",
    "        vowel_list.append(char)\n",
    "        \n",
    "print(\"vowel count:\",count)\n",
    "print(\"vowel list\",vowel_list)\n",
    "        "
   ]
  },
  {
   "cell_type": "markdown",
   "id": "c4300fbd-3663-46fb-9e64-74aedbafe0e7",
   "metadata": {},
   "source": [
    "## 12 Create a Python program that generates a multiplication table for a given number using a for loop.\n"
   ]
  },
  {
   "cell_type": "code",
   "execution_count": 74,
   "id": "6933eee7-af3c-4df2-bac7-0b40622bb459",
   "metadata": {},
   "outputs": [
    {
     "name": "stdin",
     "output_type": "stream",
     "text": [
      " 9\n"
     ]
    },
    {
     "name": "stdout",
     "output_type": "stream",
     "text": [
      "9*1=9\n",
      "9*2=18\n",
      "9*3=27\n",
      "9*4=36\n",
      "9*5=45\n",
      "9*6=54\n",
      "9*7=63\n",
      "9*8=72\n",
      "9*9=81\n",
      "9*10=90\n"
     ]
    }
   ],
   "source": [
    "a= int(input())\n",
    "multiplication=a*i\n",
    "for i in range (1,11):\n",
    "    b=a*i      \n",
    "    print(f\"{a}*{i}={b}\")\n"
   ]
  },
  {
   "cell_type": "code",
   "execution_count": null,
   "id": "0d2d4f95-76f4-4c56-8edf-43b0eb2edf04",
   "metadata": {},
   "outputs": [],
   "source": []
  },
  {
   "cell_type": "markdown",
   "id": "5c3c829a-a89e-4118-93f1-f65688cba5c4",
   "metadata": {},
   "source": [
    "## 13  Write a Python program to reverse a list using a for loop"
   ]
  },
  {
   "cell_type": "code",
   "execution_count": 82,
   "id": "b1567cbc-d001-4c1e-b1c3-7ec0574a6486",
   "metadata": {},
   "outputs": [],
   "source": [
    "# using reverse function  \n",
    "list1=[1,2,3,4,5,6]\n",
    "list1.reverse()"
   ]
  },
  {
   "cell_type": "code",
   "execution_count": 85,
   "id": "11458368-d7b0-4f0d-a076-a5f6939ec44a",
   "metadata": {},
   "outputs": [
    {
     "data": {
      "text/plain": [
       "[6, 5, 4, 3, 2, 1]"
      ]
     },
     "execution_count": 85,
     "metadata": {},
     "output_type": "execute_result"
    }
   ],
   "source": [
    "list1"
   ]
  },
  {
   "cell_type": "code",
   "execution_count": 95,
   "id": "5e4b1efd-0722-4122-bba1-bbe904364526",
   "metadata": {},
   "outputs": [],
   "source": [
    "#unsing for loop\n",
    "def reverse_list(input_list):\n",
    "    reversed_list = []\n",
    "    for i in range(len(input_list)-1,-1,-1 ):\n",
    "        reversed_list.append(input_list[i])\n",
    "    return reversed_list\n",
    "\n"
   ]
  },
  {
   "cell_type": "code",
   "execution_count": 97,
   "id": "3b41ae6c-2e97-4667-8623-585f53bc5ee2",
   "metadata": {},
   "outputs": [
    {
     "data": {
      "text/plain": [
       "[5, 4, 3, 2, 1]"
      ]
     },
     "execution_count": 97,
     "metadata": {},
     "output_type": "execute_result"
    }
   ],
   "source": [
    "list2=[1,2,3,4,5]\n",
    "\n",
    "reverse_list(list2)"
   ]
  },
  {
   "cell_type": "markdown",
   "id": "e73c90a9-6db2-4aec-a16a-b0e33ee51388",
   "metadata": {},
   "source": [
    "## 14 Write a Python program to find the common elements between two lists using a for loop."
   ]
  },
  {
   "cell_type": "markdown",
   "id": "4743e659-8113-4df3-b7e7-42c5f455dbd5",
   "metadata": {},
   "source": [
    "### with inbuilt function "
   ]
  },
  {
   "cell_type": "code",
   "execution_count": 98,
   "id": "cc13e018-adae-4880-bc97-2a97cee4ab67",
   "metadata": {},
   "outputs": [],
   "source": [
    "list1=[1,2,3,4,5]\n",
    "list2=[4,5,6,7,8]\n"
   ]
  },
  {
   "cell_type": "code",
   "execution_count": 102,
   "id": "adbb19a1-b1ad-4068-9e1f-4a4b0ae3ce8b",
   "metadata": {},
   "outputs": [],
   "source": [
    "b=set(list1)\n",
    "c=set(list2)"
   ]
  },
  {
   "cell_type": "code",
   "execution_count": 105,
   "id": "71c318fd-ab2d-4192-8d73-4c029c90c425",
   "metadata": {},
   "outputs": [
    {
     "data": {
      "text/plain": [
       "{4, 5}"
      ]
     },
     "execution_count": 105,
     "metadata": {},
     "output_type": "execute_result"
    }
   ],
   "source": [
    "b.intersection(c)"
   ]
  },
  {
   "cell_type": "markdown",
   "id": "d3745284-96cc-4e32-bba4-c3d05f239b2d",
   "metadata": {},
   "source": [
    "### for loop "
   ]
  },
  {
   "cell_type": "code",
   "execution_count": 115,
   "id": "461f6665-cc6e-4653-9a92-7e057758f8c8",
   "metadata": {},
   "outputs": [
    {
     "name": "stdout",
     "output_type": "stream",
     "text": [
      "[4, 5]\n"
     ]
    }
   ],
   "source": [
    "list1=[1,2,3,4,5]\n",
    "list2=[4,5,6,7,8]\n",
    "\n",
    "common_elements=[]\n",
    "for i in list1:\n",
    "    if i in list2:\n",
    "        common_elements.append(i)\n",
    "print(common_elements)    "
   ]
  },
  {
   "cell_type": "code",
   "execution_count": null,
   "id": "d3f9c4d1-1936-49aa-a323-40650f07d3a2",
   "metadata": {},
   "outputs": [],
   "source": []
  },
  {
   "cell_type": "markdown",
   "id": "1a12b999-c06b-4779-be17-e6d404646feb",
   "metadata": {},
   "source": [
    "## 15 Explain how to use a for loop to iterate through the keys and values of a dictionary in Python."
   ]
  },
  {
   "cell_type": "code",
   "execution_count": 128,
   "id": "7208cabd-3c68-4f5e-a15f-3e8dc061e3cf",
   "metadata": {},
   "outputs": [
    {
     "name": "stdout",
     "output_type": "stream",
     "text": [
      "key is name,value is meraj\n",
      "key is course,value is bcom\n"
     ]
    }
   ],
   "source": [
    "dict1={'name':'meraj','course':'bcom'}\n",
    "\n",
    "for key ,value in dict1.items():\n",
    "    print(f\"key is {key},value is {value}\")\n",
    "        "
   ]
  },
  {
   "cell_type": "markdown",
   "id": "8574f41d-8965-4fa6-9fd2-92445130358a",
   "metadata": {},
   "source": [
    "## 16 Write a Python program to find the GCD (Greatest Common Divisor) of two numbers using a for loop.\n"
   ]
  },
  {
   "cell_type": "code",
   "execution_count": 12,
   "id": "7869f987-e2b1-41cc-b6db-8f176acc9e36",
   "metadata": {},
   "outputs": [
    {
     "name": "stdout",
     "output_type": "stream",
     "text": [
      "The GCD of 48 and 60 is: 12\n"
     ]
    }
   ],
   "source": [
    "def find_gcd(num1, num2):\n",
    "    smaller = min(num1, num2) # here is smaller becase greater no can not be able to devide by higher than lower no \n",
    "    gcd = 1\n",
    "\n",
    "    for i in range(1, smaller + 1):\n",
    "        if num1 % i == 0 and num2 % i == 0:\n",
    "            gcd = i\n",
    "\n",
    "    return gcd\n",
    "\n",
    "# Example usage:\n",
    "num1 = 48\n",
    "num2 = 60\n",
    "result = find_gcd(num1, num2)\n",
    "print(f\"The GCD of {num1} and {num2} is: {result}\")\n"
   ]
  },
  {
   "cell_type": "code",
   "execution_count": null,
   "id": "ef1d66e9-5fd4-4918-b1c0-1ed7554851f5",
   "metadata": {},
   "outputs": [],
   "source": []
  },
  {
   "cell_type": "markdown",
   "id": "5f610102-9a71-4ed5-8cf0-1bbf4aa2af14",
   "metadata": {},
   "source": [
    "## 17 Create a Python program that checks if a string is a palindrome using a for loop."
   ]
  },
  {
   "cell_type": "code",
   "execution_count": 169,
   "id": "2e313fea-8ac6-4ab5-8ad5-8b332738beed",
   "metadata": {},
   "outputs": [],
   "source": [
    "# using for loop\n",
    "\n",
    "def palindrome(a):\n",
    "\n",
    " \n",
    "\n",
    "    b=a[::-1]\n",
    "    for i in a:\n",
    "        if i==b:\n",
    "            print(\"yes this is palindrome\")\n",
    "    else:\n",
    "        print(\"no this in not a palindrome \")"
   ]
  },
  {
   "cell_type": "code",
   "execution_count": 170,
   "id": "583e50e7-db42-4d93-b539-76c55b2519c4",
   "metadata": {},
   "outputs": [
    {
     "name": "stdout",
     "output_type": "stream",
     "text": [
      "no this in not a palindrome \n"
     ]
    }
   ],
   "source": [
    "a=\"radar\"\n",
    "palindrome(a)"
   ]
  },
  {
   "cell_type": "markdown",
   "id": "4960f34e-5135-4cb4-b8c6-a5980d430b55",
   "metadata": {},
   "source": [
    "## 18vWrite a Python program to remove duplicates from a list using a for loop."
   ]
  },
  {
   "cell_type": "code",
   "execution_count": 180,
   "id": "4df462fb-7539-4704-a361-08309939afaf",
   "metadata": {},
   "outputs": [
    {
     "name": "stdout",
     "output_type": "stream",
     "text": [
      "[1, 2, 3, 4, 5, 6, 7, 8, 9]\n"
     ]
    }
   ],
   "source": [
    "list1=[1,2,3,4,5,6,7,7,7,8,9]\n",
    "unique_list=[]\n",
    "for i in list1:\n",
    "    if i not in unique_list:\n",
    "        unique_list.append(i)\n",
    "  #  else:\n",
    "   #     list1.append(i)\n",
    "print(unique_list)        \n",
    "        \n",
    "    "
   ]
  },
  {
   "cell_type": "markdown",
   "id": "199badcd-877f-43e4-b3db-3ec2f287613c",
   "metadata": {},
   "source": [
    "## 19 Create a Python program that counts the number of words in a sentence using a for loop."
   ]
  },
  {
   "cell_type": "code",
   "execution_count": 193,
   "id": "fe5dc30d-4e37-40c5-8f25-34a1769d911b",
   "metadata": {},
   "outputs": [
    {
     "name": "stdout",
     "output_type": "stream",
     "text": [
      "2\n"
     ]
    }
   ],
   "source": [
    "a=\"hello world\"\n",
    "word_count=0\n",
    "for char in a:\n",
    "    if char==' ':\n",
    "        word_count+=1\n",
    "word_count+=1  # for last word even there is no space  \n",
    "print(word_count)    "
   ]
  },
  {
   "cell_type": "code",
   "execution_count": null,
   "id": "0b3df1bf-5f00-4c7b-a903-3c924bdaf796",
   "metadata": {},
   "outputs": [],
   "source": []
  },
  {
   "cell_type": "markdown",
   "id": "8ff13b72-9597-4d7e-8f9a-3474ea0ef3e8",
   "metadata": {},
   "source": [
    "## 20 Write a Python program to find the sum of all odd numbers from 1 to 50 using a for loop"
   ]
  },
  {
   "cell_type": "code",
   "execution_count": 211,
   "id": "90fb2c0d-359c-4d0d-8c74-193ba11e9961",
   "metadata": {},
   "outputs": [
    {
     "name": "stdout",
     "output_type": "stream",
     "text": [
      "625\n"
     ]
    }
   ],
   "source": [
    "sum_odd=[]\n",
    "for i in range (1,51):\n",
    "    if i %2!=0:\n",
    "        sum_odd.append(i)\n",
    "print(sum(sum_odd))    "
   ]
  },
  {
   "cell_type": "code",
   "execution_count": 220,
   "id": "fa972f73-dd0d-4d7f-a1cc-b777cd8504be",
   "metadata": {},
   "outputs": [
    {
     "name": "stdout",
     "output_type": "stream",
     "text": [
      "625\n"
     ]
    }
   ],
   "source": [
    "#method 2\n",
    "\n",
    "sum_odd=0\n",
    "for i in range (1,51):\n",
    "    if i %2!=0:\n",
    "        sum_odd+=i\n",
    "print(sum_odd)\n",
    "      \n"
   ]
  },
  {
   "cell_type": "code",
   "execution_count": 222,
   "id": "da12d8ad-a3a6-4401-b6e7-99234f60f128",
   "metadata": {},
   "outputs": [
    {
     "name": "stdout",
     "output_type": "stream",
     "text": [
      "625\n"
     ]
    }
   ],
   "source": [
    "#list comprehension\n",
    "sum_of_odd_num =sum ([i for i in range(1,51)  if i%2!=0 ])\n",
    "print(sum_of_odd_num)"
   ]
  },
  {
   "cell_type": "code",
   "execution_count": null,
   "id": "4aacc15f-2625-4a9c-a1be-cec59075362d",
   "metadata": {},
   "outputs": [],
   "source": []
  },
  {
   "cell_type": "markdown",
   "id": "16187c1f-e0dc-4c7c-bddc-fc21ec6217b5",
   "metadata": {},
   "source": [
    "## 21 Write a Python program that checks if a given year is a leap year using a for loop"
   ]
  },
  {
   "cell_type": "code",
   "execution_count": 238,
   "id": "61f7688c-6cac-4191-9051-289b56516e5b",
   "metadata": {},
   "outputs": [],
   "source": [
    "def leap_year(year):\n",
    "    \n",
    "    # true and true is true and then true or false is false concept \n",
    "    if year%4==0 and  year%400==0 or year%100!=0:\n",
    "        \n",
    "    \n",
    "        return 'yes it is a leap year'\n",
    "\n",
    "    else:\n",
    "        return \"no this is not a leap year\"\n"
   ]
  },
  {
   "cell_type": "code",
   "execution_count": 241,
   "id": "a6f53388-dd51-468e-a560-4188dbcd5fad",
   "metadata": {},
   "outputs": [
    {
     "name": "stdin",
     "output_type": "stream",
     "text": [
      " 2020\n"
     ]
    },
    {
     "data": {
      "text/plain": [
       "'yes it is a leap year'"
      ]
     },
     "execution_count": 241,
     "metadata": {},
     "output_type": "execute_result"
    }
   ],
   "source": [
    "year=int(input())\n",
    "leap_year(year)"
   ]
  },
  {
   "cell_type": "markdown",
   "id": "30fe5492-ddac-450d-ba44-56bbb064797e",
   "metadata": {},
   "source": [
    "## 22 Create a Python program that calculates the square root of a number using a for loop"
   ]
  },
  {
   "cell_type": "code",
   "execution_count": null,
   "id": "a9d5466b-168e-4fb8-b104-a2a6e6366414",
   "metadata": {},
   "outputs": [],
   "source": []
  },
  {
   "cell_type": "code",
   "execution_count": null,
   "id": "c270de52-e81b-47d6-9dbe-d5dcabb2c256",
   "metadata": {},
   "outputs": [],
   "source": [
    "a= int(input())\n",
    "sq_root=1\n",
    "for i in a:\n",
    "    \n",
    "    sq_root=i*i\n",
    "print(b)    "
   ]
  },
  {
   "cell_type": "code",
   "execution_count": null,
   "id": "9e85def9-7a19-4c46-93d8-58de9485645e",
   "metadata": {},
   "outputs": [],
   "source": []
  },
  {
   "cell_type": "markdown",
   "id": "c5b7e2f6-231c-4d4f-84a2-e37c003796ff",
   "metadata": {},
   "source": [
    "## 23 Write a Python program to find the LCM (Least Common Multiple) of two numbers using a for loop."
   ]
  },
  {
   "cell_type": "code",
   "execution_count": 9,
   "id": "0771bbcb-1b50-48e1-a222-3df02a92c0b8",
   "metadata": {},
   "outputs": [],
   "source": [
    "def find_lcm(x,y):\n",
    "    max_num=max(x,y)\n",
    "    lcm=max_num\n",
    "    while True:  # to iterate for uncertain period till we get lcm \n",
    "        if lcm%x==0 and lcm%y==0 :\n",
    "            return lcm\n",
    "    \n",
    "        lcm+=max_num #to check for another higher no "
   ]
  },
  {
   "cell_type": "code",
   "execution_count": 10,
   "id": "6fac0c11-1a97-4f2a-bce0-def4a549eace",
   "metadata": {},
   "outputs": [
    {
     "data": {
      "text/plain": [
       "80"
      ]
     },
     "execution_count": 10,
     "metadata": {},
     "output_type": "execute_result"
    }
   ],
   "source": [
    "find_lcm(16,20)"
   ]
  },
  {
   "cell_type": "markdown",
   "id": "619959e0-6057-4b7e-9c86-265811f12587",
   "metadata": {},
   "source": [
    "# if else"
   ]
  },
  {
   "cell_type": "markdown",
   "id": "485b3914-912b-4767-ba28-7dd79f7b22d1",
   "metadata": {},
   "source": [
    "# 1 Write a Python program to check if a number is positive, negative, or zero using an if-else statement.\n"
   ]
  },
  {
   "cell_type": "code",
   "execution_count": 10,
   "id": "c427fff3-7761-4b28-a1e8-929935ee06fa",
   "metadata": {},
   "outputs": [
    {
     "name": "stdin",
     "output_type": "stream",
     "text": [
      " 2\n"
     ]
    },
    {
     "name": "stdout",
     "output_type": "stream",
     "text": [
      "positive\n"
     ]
    }
   ],
   "source": [
    "a= int(input())\n",
    "\n",
    "if a >=0:\n",
    "    if a==0:\n",
    "        \n",
    "        print(\"this no is zero\")\n",
    "    else:\n",
    "        print(\"positive\")\n",
    "else:\n",
    "    print(\"negative\")\n",
    "    "
   ]
  },
  {
   "cell_type": "markdown",
   "id": "4f65acb3-3fe7-4ee6-adcf-6d354968e0f0",
   "metadata": {},
   "source": [
    "## 2  Create a Python program that checks if a given number is even or odd using an if-else statement."
   ]
  },
  {
   "cell_type": "code",
   "execution_count": 13,
   "id": "7a1d3325-cf29-49bb-9511-1a6027af3871",
   "metadata": {},
   "outputs": [
    {
     "name": "stdin",
     "output_type": "stream",
     "text": [
      " 149\n"
     ]
    },
    {
     "name": "stdout",
     "output_type": "stream",
     "text": [
      "this no is odd\n"
     ]
    }
   ],
   "source": [
    "a= int(input())\n",
    "\n",
    "if a%2 == 0:\n",
    "    print(\"this no is even\")\n",
    "else:\n",
    "    print(\"this no is odd\")"
   ]
  },
  {
   "cell_type": "markdown",
   "id": "48093984-51a9-4c04-a150-d560487fe402",
   "metadata": {},
   "source": [
    "## 3 How can you use nested if-else statements in Python, and provide an example?"
   ]
  },
  {
   "cell_type": "code",
   "execution_count": 17,
   "id": "8e12167e-e2b5-45fd-8f36-3eae5a5d05ac",
   "metadata": {},
   "outputs": [
    {
     "name": "stdout",
     "output_type": "stream",
     "text": [
      "yes this no is greater then or equal to 500\n",
      "no this no is not grater then 600\n"
     ]
    }
   ],
   "source": [
    "'''Nested if-else statements in Python allow you to include one if-else statement inside another.\n",
    "This can be useful for handling more complex decision-making scenarios'''\n",
    "\n",
    "\n",
    "a=500\n",
    "if a>= 500:\n",
    "    print(\"yes this no is greater then or equal to 500\")\n",
    "    if a>600:\n",
    "        print(\"yes this no is greater than 600\")\n",
    "    else:\n",
    "        print(\"no this no is not grater then 600\")\n",
    "else:\n",
    "    print(\"no this is not greater than 500\")"
   ]
  },
  {
   "cell_type": "code",
   "execution_count": null,
   "id": "d3428cac-429d-441e-8422-48c5a32ad61b",
   "metadata": {},
   "outputs": [],
   "source": [
    "# Example: Nested if-else statements\n",
    "\n",
    "x = 10\n",
    "y = 5\n",
    "\n",
    "if x > y:\n",
    "    print(\"x is greater than y\")\n",
    "    \n",
    "    if x % 2 == 0:\n",
    "        print(\"x is even\")\n",
    "    else:\n",
    "        print(\"x is odd\")\n",
    "else:\n",
    "    print(\"y is greater than or equal to x\")\n",
    "\n",
    "    "
   ]
  },
  {
   "cell_type": "markdown",
   "id": "5cd64116-f85c-45b2-8025-ab7c31f0d52f",
   "metadata": {},
   "source": [
    "## 4 Write a Python program to determine the largest of three numbers using if-else."
   ]
  },
  {
   "cell_type": "code",
   "execution_count": 3,
   "id": "7a1ae6c1-f3e7-4395-9065-fe768fd0df0c",
   "metadata": {},
   "outputs": [
    {
     "name": "stdin",
     "output_type": "stream",
     "text": [
      " 76\n",
      " 87\n",
      " 98\n"
     ]
    },
    {
     "name": "stdout",
     "output_type": "stream",
     "text": [
      "c is the largest no 98\n"
     ]
    }
   ],
   "source": [
    "a= int(input())\n",
    "b= int(input())\n",
    "c= int(input())\n",
    "\n",
    "if a>b and a>c:\n",
    "    print(\"a is the largest no \",a)\n",
    "elif b> c and b>a:\n",
    "    print(\"b is the largest no \",b)\n",
    "else:\n",
    "    print(\"c is the largest no\",c)\n",
    "        \n",
    "    "
   ]
  },
  {
   "cell_type": "markdown",
   "id": "4ccb7397-8d1d-4677-ae5f-a50f3fb653ab",
   "metadata": {},
   "source": [
    "## 5 Write a Python program that calculates the absolute value of a number using if-else."
   ]
  },
  {
   "cell_type": "code",
   "execution_count": 28,
   "id": "a3fe1bc3-1bc1-4a17-b2af-2f3fb99764cc",
   "metadata": {},
   "outputs": [
    {
     "name": "stdin",
     "output_type": "stream",
     "text": [
      "entner number 5\n"
     ]
    },
    {
     "data": {
      "text/plain": [
       "5"
      ]
     },
     "execution_count": 28,
     "metadata": {},
     "output_type": "execute_result"
    }
   ],
   "source": [
    "def absolute(n):\n",
    "    if n<0:\n",
    "        return - n\n",
    "    else:\n",
    "        return n \n",
    "n=int(input(\"entner number\"))\n",
    "absolute(n)"
   ]
  },
  {
   "cell_type": "code",
   "execution_count": null,
   "id": "dbbf8108-cb13-434d-9568-0ac4dd2ccc12",
   "metadata": {},
   "outputs": [],
   "source": []
  },
  {
   "cell_type": "markdown",
   "id": "fa5069c6-9c30-4dae-8949-4d6f854b9227",
   "metadata": {},
   "source": [
    "## 6 Create a Python program that checks if a given character is a vowel or consonant using if-else."
   ]
  },
  {
   "cell_type": "code",
   "execution_count": 4,
   "id": "b3605e94-fb6b-4c78-8efd-bb987504e23a",
   "metadata": {},
   "outputs": [
    {
     "name": "stdin",
     "output_type": "stream",
     "text": [
      " b\n"
     ]
    },
    {
     "name": "stdout",
     "output_type": "stream",
     "text": [
      "this is a consonant\n"
     ]
    }
   ],
   "source": [
    "a= input()\n",
    "vowel=\"aeiouAEIOU\"\n",
    "if a in vowel:\n",
    "    print(\"this is a vowel\")\n",
    "else:\n",
    "    print(\"this is a consonant\")"
   ]
  },
  {
   "cell_type": "code",
   "execution_count": null,
   "id": "52d4a403-9812-44ad-aaef-178bdc2ce4a1",
   "metadata": {},
   "outputs": [],
   "source": []
  },
  {
   "cell_type": "markdown",
   "id": "5d80bfec-2b40-4486-b262-eb027bff655b",
   "metadata": {},
   "source": [
    "## 7 Write a Python program to determine if a user is eligible to vote based on their age using if-else."
   ]
  },
  {
   "cell_type": "code",
   "execution_count": 9,
   "id": "87f814b6-65b5-480b-adc7-cbc40c3d2a4c",
   "metadata": {},
   "outputs": [
    {
     "name": "stdin",
     "output_type": "stream",
     "text": [
      " 17\n"
     ]
    },
    {
     "name": "stdout",
     "output_type": "stream",
     "text": [
      "no you r not eligible to vote\n"
     ]
    }
   ],
   "source": [
    "age=int(input())\n",
    "\n",
    "if age >=18:\n",
    "    print(\"yes u r eligible to vote\")\n",
    "else:\n",
    "    print(\"no you r not eligible to vote\")"
   ]
  },
  {
   "cell_type": "markdown",
   "id": "08e7bde7-eba7-4c84-bfb1-7dfd9f3d110b",
   "metadata": {},
   "source": [
    "## 8 Create a Python program that calculates the discount amount based on the purchase amount using if-else.\n"
   ]
  },
  {
   "cell_type": "code",
   "execution_count": 1,
   "id": "b425a027-61e5-42bc-871d-a0d3bec9ad37",
   "metadata": {},
   "outputs": [
    {
     "name": "stdin",
     "output_type": "stream",
     "text": [
      " 5050.50\n"
     ]
    },
    {
     "name": "stdout",
     "output_type": "stream",
     "text": [
      "discounted price is: 3535.3500000000004\n"
     ]
    }
   ],
   "source": [
    "purchase_price= float(input())\n",
    "\n",
    "if purchase_price>=5000:\n",
    "    discount_percentage=30\n",
    "elif purchase_price>=3000:\n",
    "    discount_percentage=20\n",
    "elif purchase_price>=1000:\n",
    "    discount_percentage=10\n",
    "    #print(\"discounted price is:\",discounted_amount)\n",
    "else:\n",
    "    discount_percentage=0\n",
    "    print(\"no discount\")    \n",
    "\n",
    "discounted_amount= purchase_price - discount_percentage/100*purchase_price \n",
    "\n",
    "print(\"discounted price is:\",discounted_amount)\n",
    "\n",
    "\n",
    "\n"
   ]
  },
  {
   "cell_type": "markdown",
   "id": "8f7fc48d-2d6c-45e7-86c3-7932bc8517a2",
   "metadata": {},
   "source": [
    "## 9 Write a Python program to check if a number is within a specified range using if-else.\n"
   ]
  },
  {
   "cell_type": "code",
   "execution_count": 7,
   "id": "3582bee0-8659-4f67-911a-8ab6c5fa675d",
   "metadata": {},
   "outputs": [
    {
     "name": "stdin",
     "output_type": "stream",
     "text": [
      " 101\n"
     ]
    },
    {
     "name": "stdout",
     "output_type": "stream",
     "text": [
      "no num is not in range \n"
     ]
    }
   ],
   "source": [
    "# method 1\n",
    "num=int(input())\n",
    "\n",
    "if num in range (100):\n",
    "    print(\"yes no is in range\")\n",
    "else:\n",
    "    print(\"no num is not in range \")"
   ]
  },
  {
   "cell_type": "code",
   "execution_count": 9,
   "id": "37293bd8-bb46-41bd-894f-93dbbeb71b0a",
   "metadata": {},
   "outputs": [
    {
     "name": "stdin",
     "output_type": "stream",
     "text": [
      "lower limit 1\n",
      "upper limit 100\n",
      "num 50.9\n"
     ]
    },
    {
     "name": "stdout",
     "output_type": "stream",
     "text": [
      "yes num is in specified limit\n"
     ]
    }
   ],
   "source": [
    "#method 2\n",
    "\n",
    "\n",
    "def check_range(num,lower_limit,upper_limit):\n",
    "\n",
    "    if lower_limit <=num<=upper_limit:\n",
    "        print(\"yes num is in specified limit\")\n",
    "    else:\n",
    "        print(\"no num is not in specified limit\")\n",
    "\n",
    "lower_limit=float(input(\"lower limit\"))\n",
    "\n",
    "upper_limit= float(input(\"upper limit\"))\n",
    "\n",
    "num= float(input(\"num\"))\n",
    "\n",
    "check_range(num,lower_limit,upper_limit)\n",
    "        "
   ]
  },
  {
   "cell_type": "markdown",
   "id": "0a9a5a58-dd06-4a27-bdcb-7f21992b8353",
   "metadata": {},
   "source": [
    "\n",
    "##  10 Create a Python program that determines the grade of a student based on their score using if-else.\n"
   ]
  },
  {
   "cell_type": "code",
   "execution_count": 2,
   "id": "79b17009-2846-4bc1-b563-847d4319fd59",
   "metadata": {},
   "outputs": [
    {
     "name": "stdin",
     "output_type": "stream",
     "text": [
      "student score is 89\n"
     ]
    },
    {
     "name": "stdout",
     "output_type": "stream",
     "text": [
      "student grade is:  b\n"
     ]
    }
   ],
   "source": [
    "score= float(input(\"student score is\"))\n",
    "\n",
    "if score >=90:\n",
    "    print(\"student grade is:  A\")\n",
    "elif score >=80:\n",
    "    print(\"student grade is:  b\")\n",
    "elif score >=70:\n",
    "    print(\"student grade is:  C\") \n",
    "else:\n",
    "\n",
    "    print(\"student grade is: D\")\n",
    "          \n",
    "          "
   ]
  },
  {
   "cell_type": "markdown",
   "id": "2ab70b64-d7c4-46dd-99e7-fa51ded36d74",
   "metadata": {},
   "source": [
    "## 11 Write a Python program to check if a string is empty or not using if-else"
   ]
  },
  {
   "cell_type": "code",
   "execution_count": 34,
   "id": "f878315d-8320-4207-9382-8af3cb6f84ff",
   "metadata": {},
   "outputs": [
    {
     "name": "stdin",
     "output_type": "stream",
     "text": [
      " utyj56\n"
     ]
    },
    {
     "name": "stdout",
     "output_type": "stream",
     "text": [
      "have words\n"
     ]
    }
   ],
   "source": [
    "string=input()\n",
    "\n",
    "for char in string:\n",
    "    if char in string:\n",
    "        print(\"have words\")\n",
    "        break\n",
    "else:\n",
    "    print(\"empty\")\n",
    "        \n",
    "        "
   ]
  },
  {
   "cell_type": "code",
   "execution_count": null,
   "id": "7b2a7ca7-08d7-46fd-9a66-735d784ebafe",
   "metadata": {},
   "outputs": [],
   "source": []
  },
  {
   "cell_type": "markdown",
   "id": "21893b91-3ff6-465d-bb2a-62c4cb908e19",
   "metadata": {},
   "source": [
    "## 12 Create a Python program that identifies the type of a triangle (e.g., equilateral, isosceles, or scalene) based on input values using if-else.\n"
   ]
  },
  {
   "cell_type": "code",
   "execution_count": 1,
   "id": "4946db15-f236-4a5d-b7b3-d3f4ea3f661f",
   "metadata": {},
   "outputs": [
    {
     "name": "stdin",
     "output_type": "stream",
     "text": [
      "enter side os a triangle 6\n",
      "enter side os a triangle 8\n",
      "enter side os a triangle 9\n"
     ]
    },
    {
     "name": "stdout",
     "output_type": "stream",
     "text": [
      "this is a scalene triangle\n"
     ]
    }
   ],
   "source": [
    "a=int(input(\"enter side os a triangle\"))\n",
    "b=int(input(\"enter side os a triangle\"))\n",
    "c=int(input(\"enter side os a triangle\"))\n",
    "\n",
    "if a==b==c:\n",
    "    print(\"equilateral triangle\")\n",
    "    \n",
    "elif a==b!=c or b==c!=a or c==a!=b:\n",
    "    \n",
    "    print(\"this is ans isoceles triangle\")\n",
    "    \n",
    "#elif a*a==b*b+c*c or b*b==a*a+c*c or c*c==a*a+b*b:\n",
    "    print(\"this is a hypotunos triangle\")\n",
    "    \n",
    "else:\n",
    "    print(\"this is a scalene triangle\")"
   ]
  },
  {
   "cell_type": "markdown",
   "id": "0e4fd374-f327-4886-b8ce-7a55c63335b9",
   "metadata": {},
   "source": [
    "## 13 Write a Python program to determine the day of the week based on a user-provided number using if-else.\n"
   ]
  },
  {
   "cell_type": "code",
   "execution_count": null,
   "id": "513a5562-d293-4baf-876c-baf537e83d86",
   "metadata": {},
   "outputs": [],
   "source": []
  },
  {
   "cell_type": "code",
   "execution_count": 48,
   "id": "a4845ea2-849c-47ec-80e1-babd56c75656",
   "metadata": {},
   "outputs": [
    {
     "name": "stdin",
     "output_type": "stream",
     "text": [
      "enter a no 1-7  6\n"
     ]
    },
    {
     "name": "stdout",
     "output_type": "stream",
     "text": [
      "the 6 day is friday\n"
     ]
    }
   ],
   "source": [
    "def day_of_the_week(day_number):\n",
    "    \n",
    "    days={1:\"sunday\",\n",
    "         2:\"monday\",\n",
    "         3:\"tuesday\",\n",
    "         4:\"wednesday\",\n",
    "         5:\"thurdsay\",\n",
    "         6:\"friday\",\n",
    "         7:\"saturday\"}\n",
    "    return days.get(day_number,\"invalid\")\n",
    "\n",
    "user_input=int(input(\"enter a no 1-7 \"))\n",
    "\n",
    "week_day= day_of_the_week(user_input)\n",
    "\n",
    "print(f\"the {user_input} day is {week_day}\")\n",
    "         "
   ]
  },
  {
   "cell_type": "code",
   "execution_count": 39,
   "id": "7c21c7a3-336c-4a77-9bbb-cbafe894a319",
   "metadata": {},
   "outputs": [
    {
     "data": {
      "text/plain": [
       "'sunday'"
      ]
     },
     "execution_count": 39,
     "metadata": {},
     "output_type": "execute_result"
    }
   ],
   "source": [
    "days={1:\"sunday\",2:\"monday\"}\n",
    "days.get(1)    \n",
    "        "
   ]
  },
  {
   "cell_type": "markdown",
   "id": "84ad48e0-82fa-460b-b971-d315bcdee48e",
   "metadata": {},
   "source": [
    "## 14 Create a Python program that checks if a given year is a leap year using both if-else and a function.\n"
   ]
  },
  {
   "cell_type": "code",
   "execution_count": 6,
   "id": "6e7cf86b-0f01-47ce-a5cc-6f3c3aa77513",
   "metadata": {},
   "outputs": [
    {
     "name": "stdin",
     "output_type": "stream",
     "text": [
      "Enter a year:  1900\n"
     ]
    },
    {
     "name": "stdout",
     "output_type": "stream",
     "text": [
      "1900 is not a leap year.\n"
     ]
    }
   ],
   "source": [
    "def is_leap_year(year):\n",
    "    if (year % 4 == 0 and year % 100 != 0) or (year % 400 == 0):\n",
    "        return True\n",
    "    else:\n",
    "        return False\n",
    "\n",
    "# Get user input\n",
    "year = int(input(\"Enter a year: \"))\n",
    "\n",
    "# Call the function and print the result\n",
    "if is_leap_year(year):\n",
    "    print(f\"{year} is a leap year.\")\n",
    "else:\n",
    "    print(f\"{year} is not a leap year.\")\n"
   ]
  },
  {
   "cell_type": "markdown",
   "id": "9a1c1859-6946-4633-9451-e3594eabf9cc",
   "metadata": {},
   "source": [
    "## 15 How do you use the \"assert\" statement in Python to add debugging checks within if-else blocks?\n"
   ]
  },
  {
   "cell_type": "code",
   "execution_count": 10,
   "id": "f1493389-ac64-43ef-a485-4baa7985a99e",
   "metadata": {},
   "outputs": [
    {
     "name": "stdin",
     "output_type": "stream",
     "text": [
      "enter numerator 7\n",
      "enter denomenator 0\n"
     ]
    },
    {
     "ename": "AssertionError",
     "evalue": "Division by zero is not allowed",
     "output_type": "error",
     "traceback": [
      "\u001b[0;31m---------------------------------------------------------------------------\u001b[0m",
      "\u001b[0;31mAssertionError\u001b[0m                            Traceback (most recent call last)",
      "Cell \u001b[0;32mIn[10], line 11\u001b[0m\n\u001b[1;32m      7\u001b[0m numerator \u001b[38;5;241m=\u001b[39m  \u001b[38;5;28mint\u001b[39m(\u001b[38;5;28minput\u001b[39m(\u001b[38;5;124m\"\u001b[39m\u001b[38;5;124menter numerator\u001b[39m\u001b[38;5;124m\"\u001b[39m))\n\u001b[1;32m      8\u001b[0m denominator \u001b[38;5;241m=\u001b[39m  \u001b[38;5;28mint\u001b[39m(\u001b[38;5;28minput\u001b[39m(\u001b[38;5;124m\"\u001b[39m\u001b[38;5;124menter denomenator\u001b[39m\u001b[38;5;124m\"\u001b[39m))\n\u001b[0;32m---> 11\u001b[0m result \u001b[38;5;241m=\u001b[39m \u001b[43mdivide\u001b[49m\u001b[43m(\u001b[49m\u001b[43mnumerator\u001b[49m\u001b[43m,\u001b[49m\u001b[43m \u001b[49m\u001b[43mdenominator\u001b[49m\u001b[43m)\u001b[49m\n\u001b[1;32m     12\u001b[0m \u001b[38;5;28mprint\u001b[39m(\u001b[38;5;124mf\u001b[39m\u001b[38;5;124m\"\u001b[39m\u001b[38;5;124mThe result of the division is: \u001b[39m\u001b[38;5;132;01m{\u001b[39;00mresult\u001b[38;5;132;01m}\u001b[39;00m\u001b[38;5;124m\"\u001b[39m)\n",
      "Cell \u001b[0;32mIn[10], line 2\u001b[0m, in \u001b[0;36mdivide\u001b[0;34m(x, y)\u001b[0m\n\u001b[1;32m      1\u001b[0m \u001b[38;5;28;01mdef\u001b[39;00m \u001b[38;5;21mdivide\u001b[39m(x, y):\n\u001b[0;32m----> 2\u001b[0m     \u001b[38;5;28;01massert\u001b[39;00m y \u001b[38;5;241m!=\u001b[39m \u001b[38;5;241m0\u001b[39m , \u001b[38;5;124m\"\u001b[39m\u001b[38;5;124mDivision by zero is not allowed\u001b[39m\u001b[38;5;124m\"\u001b[39m\n\u001b[1;32m      3\u001b[0m     result \u001b[38;5;241m=\u001b[39m x \u001b[38;5;241m/\u001b[39m y\n\u001b[1;32m      4\u001b[0m     \u001b[38;5;28;01mreturn\u001b[39;00m result\n",
      "\u001b[0;31mAssertionError\u001b[0m: Division by zero is not allowed"
     ]
    }
   ],
   "source": [
    "def divide(x, y):\n",
    "    assert y != 0 , \"Division by zero is not allowed\"\n",
    "    result = x / y\n",
    "    return result\n",
    "\n",
    "# Example usage\n",
    "numerator =  int(input(\"enter numerator\"))\n",
    "denominator =  int(input(\"enter denomenator\"))\n",
    "\n",
    "\n",
    "result = divide(numerator, denominator)\n",
    "print(f\"The result of the division is: {result}\")\n"
   ]
  },
  {
   "cell_type": "code",
   "execution_count": null,
   "id": "95f5762e-165d-408b-8ce6-60911d3488ce",
   "metadata": {},
   "outputs": [],
   "source": []
  },
  {
   "cell_type": "code",
   "execution_count": null,
   "id": "76eb94f1-59fa-44ce-b426-b90f7ab98d10",
   "metadata": {},
   "outputs": [],
   "source": []
  },
  {
   "cell_type": "markdown",
   "id": "f7d9e192-55d4-482b-a2d4-9ae5abcfc13e",
   "metadata": {},
   "source": [
    "## 16 Create a Python program that determines the eligibility of a person for a senior citizen discount based on age using if-else.\n"
   ]
  },
  {
   "cell_type": "code",
   "execution_count": 19,
   "id": "a28fe695-ba8b-4914-b77d-014c6e831866",
   "metadata": {},
   "outputs": [
    {
     "name": "stdin",
     "output_type": "stream",
     "text": [
      " 23\n"
     ]
    },
    {
     "name": "stdout",
     "output_type": "stream",
     "text": [
      "no this person is not eligible\n"
     ]
    }
   ],
   "source": [
    "age= float(input())\n",
    "\n",
    "if age>=60:\n",
    "    print(\"this person is eligible for senior citizen discount\")\n",
    "    \n",
    "else:\n",
    "    print(\"no this person is not eligible\")\n",
    "    "
   ]
  },
  {
   "cell_type": "markdown",
   "id": "0244c439-a1d1-4ca5-b9a0-099d7ccb64e9",
   "metadata": {},
   "source": [
    "## 17 Write a Python program to categorize a given character as uppercase, lowercase, or neither using if-else.\n"
   ]
  },
  {
   "cell_type": "code",
   "execution_count": 23,
   "id": "32fae3c3-4248-4450-bbcc-516857f023aa",
   "metadata": {},
   "outputs": [
    {
     "name": "stdin",
     "output_type": "stream",
     "text": [
      " meraj\n"
     ]
    },
    {
     "name": "stdout",
     "output_type": "stream",
     "text": [
      "lower\n"
     ]
    }
   ],
   "source": [
    "a=input()\n",
    "\n",
    "if a.isupper():\n",
    "    print(\"uppercase\")\n",
    "elif a.islower():\n",
    "    print(\"lower\")\n",
    "else:\n",
    "    \n",
    "    print(\"neither\")\n"
   ]
  },
  {
   "cell_type": "markdown",
   "id": "a97a429a-8ae4-45ac-8eee-b51aa50494f6",
   "metadata": {},
   "source": [
    "## 18 Write a Python program to determine the roots of a quadratic equation using if-else.\n"
   ]
  },
  {
   "cell_type": "code",
   "execution_count": null,
   "id": "65cb48ec-909e-4baf-94b1-888143e963fe",
   "metadata": {},
   "outputs": [],
   "source": []
  },
  {
   "cell_type": "code",
   "execution_count": null,
   "id": "8d1e4e3b-2eac-4269-b6fe-00c5f4aff3d7",
   "metadata": {},
   "outputs": [],
   "source": []
  },
  {
   "cell_type": "markdown",
   "id": "a4b1133d-54c2-4097-a841-112bf4a61fae",
   "metadata": {},
   "source": [
    "## 19 Create a Python program that checks if a given year is a century year or not using if-else."
   ]
  },
  {
   "cell_type": "code",
   "execution_count": 1,
   "id": "f76d4a9b-45b3-4b1f-a00c-8e57ee6a1672",
   "metadata": {},
   "outputs": [
    {
     "name": "stdin",
     "output_type": "stream",
     "text": [
      "enter year here 1980\n"
     ]
    },
    {
     "name": "stdout",
     "output_type": "stream",
     "text": [
      "not a century year \n"
     ]
    }
   ],
   "source": [
    "year= int(input(\"enter year here\"))\n",
    "\n",
    "if year %100==0:\n",
    "    print(\"century year\")\n",
    "else :\n",
    "    print(\"not a century year \")\n",
    "        "
   ]
  },
  {
   "cell_type": "markdown",
   "id": "3def7322-2313-4ac9-a4ba-508d162434da",
   "metadata": {},
   "source": [
    "# 20 Write a Python program to determine if a given number is a perfect square using if-else.\n"
   ]
  },
  {
   "cell_type": "code",
   "execution_count": 16,
   "id": "399a6d76-4a5d-4033-b713-d9b09cdbd310",
   "metadata": {},
   "outputs": [
    {
     "data": {
      "text/plain": [
       "'this is a perfect square'"
      ]
     },
     "execution_count": 16,
     "metadata": {},
     "output_type": "execute_result"
    }
   ],
   "source": [
    "def perfect_sq( n , start = 1):\n",
    "    if n== start**2:\n",
    "        return \"this is a perfect square\"\n",
    "    elif n< start**2:\n",
    "        return \"this is not a perfect square\"\n",
    "    else :\n",
    "        return perfect_sq(n,start+1)\n",
    "        \n",
    "  \n",
    "perfect_sq(64)"
   ]
  },
  {
   "cell_type": "markdown",
   "id": "f05a80fa-d051-4e5c-b606-582ff77095fa",
   "metadata": {},
   "source": [
    "## 21 Explain the purpose of the \"continue\" and \"break\" statements within if-else loops"
   ]
  },
  {
   "cell_type": "code",
   "execution_count": 32,
   "id": "c51568f7-8d78-4022-8939-d69e59b64f97",
   "metadata": {},
   "outputs": [
    {
     "name": "stdout",
     "output_type": "stream",
     "text": [
      "0\n",
      "1\n",
      "2\n"
     ]
    }
   ],
   "source": [
    "''' in break loop when value of i is equal to given no then program break \n",
    "and in continue it will jump continue till end \n",
    "'''\n",
    "\n",
    "for i in range(9):\n",
    "    if i== 3 :\n",
    "        break\n",
    "    print(i)\n"
   ]
  },
  {
   "cell_type": "code",
   "execution_count": 33,
   "id": "f6876743-cf90-4035-8fd8-fbe46c6d9a4e",
   "metadata": {},
   "outputs": [
    {
     "name": "stdout",
     "output_type": "stream",
     "text": [
      "0\n",
      "1\n",
      "2\n",
      "4\n",
      "5\n",
      "6\n",
      "7\n",
      "8\n"
     ]
    }
   ],
   "source": [
    "for i in range(9):\n",
    "    if i== 3 :\n",
    "        continue\n",
    "    print(i)\n"
   ]
  },
  {
   "cell_type": "code",
   "execution_count": null,
   "id": "36f82c0a-b8cc-4048-9c0e-6d4675ee3f07",
   "metadata": {},
   "outputs": [],
   "source": []
  },
  {
   "cell_type": "markdown",
   "id": "df52da09-b01f-4d3b-990b-53e8faa51c20",
   "metadata": {},
   "source": [
    "## 22 Create a Python program that calculates the BMI (Body Mass Index) of a person based on their weight and height using if-else.\n"
   ]
  },
  {
   "cell_type": "code",
   "execution_count": 6,
   "id": "b774cec0-8b94-4e9d-a65d-b2b2d722766a",
   "metadata": {},
   "outputs": [
    {
     "name": "stdin",
     "output_type": "stream",
     "text": [
      "weight: 50\n",
      "height in meter 1.55\n"
     ]
    },
    {
     "name": "stdout",
     "output_type": "stream",
     "text": [
      "your bmi is:20.811654526534856\n",
      "you r catogarised as Normal Weight\n"
     ]
    }
   ],
   "source": [
    "weight= float(input(\"weight:\"))\n",
    "height_in_meter=float(input(\"height in meter\"))\n",
    "\n",
    "bmi=weight/(height_in_meter*height_in_meter)\n",
    "\n",
    "\n",
    "if bmi < 18.5:\n",
    "    category = \"Underweight\"\n",
    "elif 18.5 <= bmi < 24.9:\n",
    "    category = \"Normal Weight\"\n",
    "elif 25 <= bmi < 29.9:\n",
    "    category = \"Overweight\"\n",
    "else:\n",
    "    category = \"Obese\"\n",
    "print(f\"your bmi is:{bmi}\")\n",
    "print(f\"you r catogarised as {category}\")\n"
   ]
  },
  {
   "cell_type": "code",
   "execution_count": null,
   "id": "3f11a5fa-627b-4cb5-a198-edf11fa041b6",
   "metadata": {},
   "outputs": [],
   "source": []
  },
  {
   "cell_type": "code",
   "execution_count": null,
   "id": "4f050f13-22fe-4eea-b4ec-5d3dbc74a095",
   "metadata": {},
   "outputs": [],
   "source": []
  },
  {
   "cell_type": "markdown",
   "id": "11a0713d-fd00-4c49-818b-d21dea3d1cdf",
   "metadata": {},
   "source": [
    "##  23 How can you use the \"filter()\" function with if-else statements to filter elements from a list?\n"
   ]
  },
  {
   "cell_type": "code",
   "execution_count": 13,
   "id": "2a4861dc-ee7b-407c-9f37-dc638257bdfd",
   "metadata": {},
   "outputs": [
    {
     "name": "stdout",
     "output_type": "stream",
     "text": [
      "[2, 4, 6, 8]\n"
     ]
    }
   ],
   "source": [
    "a=[2,3,4,5,6,7,8,9]\n",
    "\n",
    "even_no= lambda x:  x%2==0\n",
    "\n",
    "even_no=list(filter(even_no,a))\n",
    "print(even_no)    "
   ]
  },
  {
   "cell_type": "markdown",
   "id": "e81ad7e9-f3b5-4560-937c-fb1f23ed848d",
   "metadata": {},
   "source": [
    "## 24 Write a Python program to determine if a given number is prime or not using if-else."
   ]
  },
  {
   "cell_type": "code",
   "execution_count": 24,
   "id": "b109d9df-0fe6-4d9d-8e38-8fca244fd1c4",
   "metadata": {},
   "outputs": [
    {
     "name": "stdin",
     "output_type": "stream",
     "text": [
      "enter a no here 2\n"
     ]
    },
    {
     "name": "stdout",
     "output_type": "stream",
     "text": [
      "this is a prime no\n"
     ]
    }
   ],
   "source": [
    "n=int(input(\"enter a no here\"))\n",
    "\n",
    "for i in range(2,n-1):\n",
    "    \n",
    "    if n%i==0:\n",
    "        print(\"this is not a prime no \")\n",
    "        \n",
    "else:\n",
    "    print(\"this is a prime no\")"
   ]
  },
  {
   "cell_type": "code",
   "execution_count": null,
   "id": "c6d4376d-9793-49aa-a3bb-01088faa18d2",
   "metadata": {},
   "outputs": [],
   "source": []
  },
  {
   "cell_type": "markdown",
   "id": "6659fde8-07c5-4cbe-ab62-edac76bed007",
   "metadata": {},
   "source": []
  },
  {
   "cell_type": "markdown",
   "id": "4bf9979c-c03f-46e5-bbf4-9ff70d597602",
   "metadata": {},
   "source": [
    "# map"
   ]
  },
  {
   "cell_type": "markdown",
   "id": "4a06f442-5fc4-45d8-ac10-cb54258e4f91",
   "metadata": {},
   "source": [
    "# 1 Explain the purpose of the `map()` function in Python and provide an example of how it can be used to apply a function to each element of an iterable.\n"
   ]
  },
  {
   "cell_type": "code",
   "execution_count": 6,
   "id": "9e091c83-c5a3-4b46-ac80-2d46762bf054",
   "metadata": {},
   "outputs": [
    {
     "data": {
      "text/plain": [
       "[2, 4, 6, 8, 10, 12, 14, 16]"
      ]
     },
     "execution_count": 6,
     "metadata": {},
     "output_type": "execute_result"
    }
   ],
   "source": [
    "'''map function is used to apply one formula to all value in a list \n",
    "\n",
    "for example'''\n",
    "l=[1,2,3,4,5,6,7,8]\n",
    "\n",
    "list(map(lambda x: x*2,l))\n",
    "\n",
    "# in this all value is multiply by 2 "
   ]
  },
  {
   "cell_type": "code",
   "execution_count": null,
   "id": "637d3b7f-3a4b-48ad-90ea-738324935166",
   "metadata": {},
   "outputs": [],
   "source": []
  },
  {
   "cell_type": "markdown",
   "id": "ede68421-963b-4ddd-9f52-9dcd49eea209",
   "metadata": {},
   "source": [
    "# 2 Write a Python program that uses the `map()` function to square each element of a list of numbers."
   ]
  },
  {
   "cell_type": "code",
   "execution_count": 8,
   "id": "7ae98e70-6b3e-42a8-bd39-7dd9d5226e20",
   "metadata": {},
   "outputs": [
    {
     "data": {
      "text/plain": [
       "[1, 4, 9, 16, 25]"
      ]
     },
     "execution_count": 8,
     "metadata": {},
     "output_type": "execute_result"
    }
   ],
   "source": [
    "l=[1,2,3,4,5]\n",
    "\n",
    "list(map(lambda x: x*x,l))"
   ]
  },
  {
   "cell_type": "markdown",
   "id": "332795ad-febd-4f95-a5ec-dc0693a2928c",
   "metadata": {},
   "source": [
    "# 3 How does the `map()` function differ from a list comprehension in Python, and when would you choose one over the other?\n"
   ]
  },
  {
   "cell_type": "code",
   "execution_count": null,
   "id": "83611535-8208-41ee-bd92-5cee9d6fa1c4",
   "metadata": {},
   "outputs": [],
   "source": [
    "'''The map() function and list comprehensions in Python are both tools for performing operations on elements of a list \n",
    "(or other iterable) and returning a new list. However, they have some differences in how they work and their use cases:\n",
    "\n",
    "map() Function:\n",
    "The map() function applies a specified function to all the items in an input list (or other iterable) and returns \n",
    "an iterator of the results. It takes two arguments: the function to apply and the iterable.\n",
    "\n",
    "\n",
    "\n",
    "A list comprehension is a concise way to create a new list by specifying the elements you want to include, \n",
    "along with any transformations or conditions.\n",
    "\n",
    "\n",
    "\n",
    "\n",
    "\n",
    "If you have an existing function and you want to apply it to elements of an iterable, map() can be a good choice,\n",
    "especially if you're working with a large dataset.\n",
    "If you want to create a new list with a transformation or condition applied to elements of an iterable, and the operation is \n",
    "relatively simple, a list comprehension may be more concise and readable.'''"
   ]
  },
  {
   "cell_type": "code",
   "execution_count": null,
   "id": "7b8b38e6-a023-44be-9daf-1b2c1b5e5836",
   "metadata": {},
   "outputs": [],
   "source": []
  },
  {
   "cell_type": "markdown",
   "id": "dede8459-02a8-4b76-ba22-460a1f68e5f1",
   "metadata": {},
   "source": [
    "# 4 Create a Python program that uses the `map()` function to convert a list of names to uppercase.\n"
   ]
  },
  {
   "cell_type": "code",
   "execution_count": 1,
   "id": "37f69b83-2d81-46d6-8b07-9f8e4569f882",
   "metadata": {},
   "outputs": [
    {
     "data": {
      "text/plain": [
       "['MERAJ', 'SHEIKH']"
      ]
     },
     "execution_count": 1,
     "metadata": {},
     "output_type": "execute_result"
    }
   ],
   "source": [
    "name=\"meraj\",\"sheikh\"\n",
    "list(map(lambda x : x.upper(),name))"
   ]
  },
  {
   "cell_type": "code",
   "execution_count": null,
   "id": "9ac34124-dcf4-46fa-914d-968737a17650",
   "metadata": {},
   "outputs": [],
   "source": []
  },
  {
   "cell_type": "markdown",
   "id": "d9136233-8194-4636-b4e7-a08ddeed3ecb",
   "metadata": {},
   "source": [
    "# 5 Write a Python program that uses the `map()` function to calculate the length of each word in a list of strings.\n"
   ]
  },
  {
   "cell_type": "code",
   "execution_count": 7,
   "id": "ccec7f0b-57f5-48be-96f4-9c8776fdcfd8",
   "metadata": {},
   "outputs": [
    {
     "name": "stdout",
     "output_type": "stream",
     "text": [
      "list ['meraj', 'sheikh', 'pwskills']\n",
      "word length is: [5, 6, 8]\n"
     ]
    }
   ],
   "source": [
    "l=[\"meraj\",\"sheikh\",\"pwskills\"]\n",
    "\n",
    "no_list=(map(lambda x : len(x),l))\n",
    "\n",
    "print(\"list\",l)\n",
    "print(\"word length is:\",list(no_list))"
   ]
  },
  {
   "cell_type": "markdown",
   "id": "f5a090ad-819a-4e0b-92b7-f18d5ecb33c0",
   "metadata": {},
   "source": [
    "## 6How can you use the `map()` function to apply a custom function to elements of multiple lists simultaneously in Python?\n"
   ]
  },
  {
   "cell_type": "code",
   "execution_count": 11,
   "id": "cb08bb6b-d98c-4447-ba71-b9ec5cceeb63",
   "metadata": {},
   "outputs": [],
   "source": [
    "def add(x,y,z):\n",
    "    return x+y+z"
   ]
  },
  {
   "cell_type": "code",
   "execution_count": 13,
   "id": "4fa798f5-2cad-4772-8a93-b54819f7c40b",
   "metadata": {},
   "outputs": [
    {
     "data": {
      "text/plain": [
       "[16, 17, 18, 19, 10]"
      ]
     },
     "execution_count": 13,
     "metadata": {},
     "output_type": "execute_result"
    }
   ],
   "source": [
    "#using lambda function \n",
    "\n",
    "l=[1,2,3,4,5]\n",
    "l1=[6,7,8,9,0]\n",
    "l2=[9,8,7,6,5]\n",
    "list(map(lambda x,y,z: x+y+z,l,l1,l2))"
   ]
  },
  {
   "cell_type": "code",
   "execution_count": 14,
   "id": "d4c95dd4-ca05-4c37-9b94-af2d88ef551d",
   "metadata": {},
   "outputs": [
    {
     "data": {
      "text/plain": [
       "[16, 17, 18, 19, 10]"
      ]
     },
     "execution_count": 14,
     "metadata": {},
     "output_type": "execute_result"
    }
   ],
   "source": [
    "#using outside function \n",
    "l=[1,2,3,4,5]\n",
    "l1=[6,7,8,9,0]\n",
    "l2=[9,8,7,6,5]\n",
    "list(map(add,l,l1,l2))"
   ]
  },
  {
   "cell_type": "markdown",
   "id": "f71d4ba2-bed2-4543-b662-54e6f72e0c44",
   "metadata": {},
   "source": [
    "## 7 Create a Python program that uses `map()` to convert a list of temperatures from Celsius to Fahrenheit.\n"
   ]
  },
  {
   "cell_type": "code",
   "execution_count": 15,
   "id": "02f66baf-7700-48a1-8b4e-f9e0cafbc1c6",
   "metadata": {},
   "outputs": [],
   "source": [
    "def calcious_to_frhranhite(x):\n",
    "    fahranhite = (x*9/5)+32\n",
    "    return fahranhite"
   ]
  },
  {
   "cell_type": "code",
   "execution_count": 16,
   "id": "2306a17f-fe6c-4cfa-a6d3-93a60ed40398",
   "metadata": {},
   "outputs": [
    {
     "data": {
      "text/plain": [
       "86.0"
      ]
     },
     "execution_count": 16,
     "metadata": {},
     "output_type": "execute_result"
    }
   ],
   "source": [
    "calcious_to_frhranhite(30)"
   ]
  },
  {
   "cell_type": "code",
   "execution_count": 17,
   "id": "ff72b15e-2203-4c78-b6f8-d599f377ac9b",
   "metadata": {},
   "outputs": [
    {
     "data": {
      "text/plain": [
       "[86.0, 87.8, 89.6, 93.2, 95.0, 98.6, 102.2]"
      ]
     },
     "execution_count": 17,
     "metadata": {},
     "output_type": "execute_result"
    }
   ],
   "source": [
    "celcious_temp=[30,31,32,34,35,37,39]\n",
    "\n",
    "list(map(calcious_to_frhranhite,celcious_temp))\n"
   ]
  },
  {
   "cell_type": "code",
   "execution_count": null,
   "id": "6e1af04a-b47a-4b11-989f-d749bf661a77",
   "metadata": {},
   "outputs": [],
   "source": []
  },
  {
   "cell_type": "markdown",
   "id": "13634392-19ef-48c0-9b63-a5443761f574",
   "metadata": {},
   "source": [
    "## 8 Write a Python program that uses the `map()` function to round each element of a list of floating-point numbers to the nearest integer.\n"
   ]
  },
  {
   "cell_type": "code",
   "execution_count": null,
   "id": "92bd4378-d647-49c8-bf13-b069143671f9",
   "metadata": {},
   "outputs": [],
   "source": [
    "def round"
   ]
  },
  {
   "cell_type": "code",
   "execution_count": 28,
   "id": "fc127895-6e62-4e23-b1d8-29343eeb7ebb",
   "metadata": {},
   "outputs": [
    {
     "data": {
      "text/plain": [
       "[12, 46, 68, 56]"
      ]
     },
     "execution_count": 28,
     "metadata": {},
     "output_type": "execute_result"
    }
   ],
   "source": [
    "l=[12.3,45.7,67.7,56.4]\n",
    "\n",
    "list(map(lambda x: round(x),l))\n"
   ]
  },
  {
   "cell_type": "code",
   "execution_count": null,
   "id": "b552786f-ea26-44f4-aeb9-097cc0e7ac84",
   "metadata": {},
   "outputs": [],
   "source": []
  },
  {
   "cell_type": "code",
   "execution_count": null,
   "id": "72979b01-74fd-49cb-be42-d26bd6abcad5",
   "metadata": {},
   "outputs": [],
   "source": []
  },
  {
   "cell_type": "markdown",
   "id": "bf3a4f46-b0c7-40f8-b9fa-a2561cb55c86",
   "metadata": {},
   "source": [
    "# reduce"
   ]
  },
  {
   "cell_type": "markdown",
   "id": "c9cbda08-5c42-4168-9407-62805cea1e45",
   "metadata": {},
   "source": [
    "## 1 What is the `reduce()` function in Python, and what module should you import to use it? Provide an example of its basic usage.\n"
   ]
  },
  {
   "cell_type": "code",
   "execution_count": 31,
   "id": "1879774f-bb85-444e-b335-a53e1dae8ac0",
   "metadata": {},
   "outputs": [
    {
     "data": {
      "text/plain": [
       "720"
      ]
     },
     "execution_count": 31,
     "metadata": {},
     "output_type": "execute_result"
    }
   ],
   "source": [
    "'''The reduce() function in Python is a part of the functools module. It is used to perform a specific operation \n",
    "on a list of elements cumulatively, in such a way that the result \n",
    "of the previous operation is passed as one of the operands to the next operation.'''\n",
    "\n",
    "''' we have to import reduce from functools'''\n",
    "\n",
    "from functools import reduce\n",
    "l=[1,2,3,4,5,6]\n",
    "\n",
    "reduce(lambda a,b: a*b,l)"
   ]
  },
  {
   "cell_type": "markdown",
   "id": "a9a5049c-8838-45b5-8d3c-f0db318a14e7",
   "metadata": {},
   "source": [
    "\n",
    "## 2 Write a Python program that uses the `reduce()` function to find the product of all elements in a list.\n"
   ]
  },
  {
   "cell_type": "code",
   "execution_count": 6,
   "id": "2a7f95e8-6c56-48c1-acfe-5f21f52a1dbc",
   "metadata": {},
   "outputs": [
    {
     "data": {
      "text/plain": [
       "720"
      ]
     },
     "execution_count": 6,
     "metadata": {},
     "output_type": "execute_result"
    }
   ],
   "source": [
    "from functools import reduce\n",
    "l=[1,2,3,4,5,6]\n",
    "\n",
    "reduce(lambda a,b: a*b,l)"
   ]
  },
  {
   "cell_type": "markdown",
   "id": "2c32297f-108d-4caa-9be2-e944047eb4e8",
   "metadata": {},
   "source": [
    "## 3 Create a Python program that uses `reduce()` to find the maximum element in a list of numbers."
   ]
  },
  {
   "cell_type": "code",
   "execution_count": 8,
   "id": "7c55a3b5-e388-4e11-880f-35025f959892",
   "metadata": {},
   "outputs": [
    {
     "data": {
      "text/plain": [
       "8"
      ]
     },
     "execution_count": 8,
     "metadata": {},
     "output_type": "execute_result"
    }
   ],
   "source": [
    "from functools import reduce\n",
    "l1=[1,2,3,4,5,6,7,8]\n",
    "\n",
    "reduce( lambda a,b : a if a>b else b,l1)"
   ]
  },
  {
   "cell_type": "markdown",
   "id": "b46c384f-9299-4c21-8edb-ad43803d3543",
   "metadata": {},
   "source": [
    "## 4 How can you use the `reduce()` function to concatenate a list of strings into a single string?\n"
   ]
  },
  {
   "cell_type": "code",
   "execution_count": 14,
   "id": "0fe784d1-9f5a-468a-9810-e3cc0ce8c68f",
   "metadata": {},
   "outputs": [
    {
     "data": {
      "text/plain": [
       "'my name is meraj'"
      ]
     },
     "execution_count": 14,
     "metadata": {},
     "output_type": "execute_result"
    }
   ],
   "source": [
    "from functools import reduce\n",
    "l1=[\"my\",\" \",\"name\",\" \",\"is\",\" \",\"meraj\"]\n",
    "\n",
    "reduce(lambda x,y:x+y,l1)"
   ]
  },
  {
   "cell_type": "code",
   "execution_count": null,
   "id": "e834a71c-e54a-44ad-aa34-e02607e95d5b",
   "metadata": {},
   "outputs": [],
   "source": []
  },
  {
   "cell_type": "code",
   "execution_count": null,
   "id": "e45ad270-4020-4315-b7a7-f36d6756750f",
   "metadata": {},
   "outputs": [],
   "source": [
    "# rough work\n",
    "\n",
    "\n",
    "\n",
    "\n"
   ]
  },
  {
   "cell_type": "code",
   "execution_count": 36,
   "id": "f256d0c7-c20d-47d9-b934-fb9d6a39396e",
   "metadata": {},
   "outputs": [
    {
     "ename": "SyntaxError",
     "evalue": "unmatched ')' (2777993309.py, line 4)",
     "output_type": "error",
     "traceback": [
      "\u001b[0;36m  Cell \u001b[0;32mIn[36], line 4\u001b[0;36m\u001b[0m\n\u001b[0;31m    reduce((lambda x,y : x +y ,l1) for y in l1))\u001b[0m\n\u001b[0m                                               ^\u001b[0m\n\u001b[0;31mSyntaxError\u001b[0m\u001b[0;31m:\u001b[0m unmatched ')'\n"
     ]
    }
   ],
   "source": [
    "from functools import reduce\n",
    "l1=[\"my\",\" \",\"name\",\" \",\"is\",\" \",\"meraj\"]\n",
    "\n",
    "reduce((lambda x,y : x +y ,l1) for y in l1))"
   ]
  },
  {
   "cell_type": "code",
   "execution_count": 15,
   "id": "5404d70b-87a5-4443-a9ca-c0a9804213d1",
   "metadata": {},
   "outputs": [],
   "source": [
    "x= \"str dfbdf sdgner\""
   ]
  },
  {
   "cell_type": "code",
   "execution_count": 17,
   "id": "8f99cb06-fe0d-49e7-a634-93391b2a6703",
   "metadata": {},
   "outputs": [
    {
     "name": "stdout",
     "output_type": "stream",
     "text": [
      "str dfbdf sdgner\n"
     ]
    }
   ],
   "source": [
    "\" \".join(x)\n",
    "print(x)"
   ]
  },
  {
   "cell_type": "code",
   "execution_count": null,
   "id": "12c3ad90-4ab8-4145-ba3b-acbe346eeb1e",
   "metadata": {},
   "outputs": [],
   "source": []
  },
  {
   "cell_type": "markdown",
   "id": "78b128a6-4281-4839-9088-1fc17edc3584",
   "metadata": {},
   "source": [
    "## 5 Write a Python program that calculates the factorial of a number using the `reduce()` function.\n"
   ]
  },
  {
   "cell_type": "code",
   "execution_count": 5,
   "id": "b13f1e48-bcd9-45a5-bb7b-c061e19a237f",
   "metadata": {},
   "outputs": [
    {
     "data": {
      "text/plain": [
       "24"
      ]
     },
     "execution_count": 5,
     "metadata": {},
     "output_type": "execute_result"
    }
   ],
   "source": [
    "from functools import reduce\n",
    "n=4\n",
    "\n",
    "reduce(lambda x,y:x*y ,range(1,n+1))"
   ]
  },
  {
   "cell_type": "markdown",
   "id": "49c9da4a-73ba-4d73-a607-7cdb1b8e9f38",
   "metadata": {},
   "source": [
    "## 6 Create a Python program that uses `reduce()` to find the GCD (Greatest Common Divisor) of a list of numbers.\n"
   ]
  },
  {
   "cell_type": "code",
   "execution_count": 39,
   "id": "58cc6c3d-1b69-4ffa-b71e-f807e5370651",
   "metadata": {},
   "outputs": [
    {
     "name": "stdout",
     "output_type": "stream",
     "text": [
      "The GCD of [24, 36, 48, 60] is: 12\n"
     ]
    }
   ],
   "source": [
    "from functools import reduce\n",
    "import math\n",
    "\n",
    "def gcd_of_list(numbers):\n",
    "    return reduce(math.gcd, numbers)\n",
    "\n",
    "# Example usage\n",
    "numbers = [24, 36, 48, 60]\n",
    "result = gcd_of_list(numbers)\n",
    "\n",
    "print(f\"The GCD of {numbers} is: {result}\")\n"
   ]
  },
  {
   "cell_type": "code",
   "execution_count": null,
   "id": "9dc25d37-a52a-452c-b422-7df6fcb7b876",
   "metadata": {},
   "outputs": [],
   "source": [
    "def gcd(x,y):\n",
    "    b= min(x,y)\n",
    "    \n",
    "    "
   ]
  },
  {
   "cell_type": "code",
   "execution_count": null,
   "id": "260b16cb-341e-47a5-91c8-4defc2398a39",
   "metadata": {},
   "outputs": [],
   "source": []
  },
  {
   "cell_type": "markdown",
   "id": "07c4cd88-4271-4ade-b6c2-9c66aa9c7ab6",
   "metadata": {},
   "source": [
    "## 7 Write a Python program that uses the `reduce()` function to find the sum of the digits of a given number.\n"
   ]
  },
  {
   "cell_type": "code",
   "execution_count": 1,
   "id": "a0f9fa85-3757-49e4-83a6-4bc7d5c48c48",
   "metadata": {},
   "outputs": [
    {
     "name": "stdin",
     "output_type": "stream",
     "text": [
      "enter your no here,1 5\n",
      "enter your no here,2 5\n",
      "enter your no here,3 5\n",
      "enter your no here,4 5\n"
     ]
    },
    {
     "name": "stdout",
     "output_type": "stream",
     "text": [
      "20\n"
     ]
    }
   ],
   "source": [
    "  y=[]\n",
    "for i in range(4):\n",
    "   \n",
    "    x=int(input(f\"enter your no here,{i+1}\"))\n",
    "\n",
    "    y.append(x)\n",
    "    \n",
    "from functools import reduce\n",
    "\n",
    "result=reduce(lambda x,y : x+y,y)\n",
    "\n",
    "print(result)\n",
    "    "
   ]
  },
  {
   "cell_type": "code",
   "execution_count": null,
   "id": "9974038c-f42a-4da2-bd70-6618c5f7bf46",
   "metadata": {},
   "outputs": [],
   "source": []
  },
  {
   "cell_type": "markdown",
   "id": "85b6ab5e-75e3-4216-90c2-cd04aea4d654",
   "metadata": {},
   "source": [
    "# filter"
   ]
  },
  {
   "cell_type": "markdown",
   "id": "d446e50d-08c9-418e-8050-96f1420173c6",
   "metadata": {},
   "source": [
    "## 1 Explain the purpose of the `filter()` function in Python and provide an example of how it can be used to filter elements from an iterable.\n"
   ]
  },
  {
   "cell_type": "code",
   "execution_count": 7,
   "id": "0e34dd04-e3d2-48e1-b75f-699428be9461",
   "metadata": {},
   "outputs": [
    {
     "data": {
      "text/plain": [
       "(2, 4, 6, 8)"
      ]
     },
     "execution_count": 7,
     "metadata": {},
     "output_type": "execute_result"
    }
   ],
   "source": [
    "'''filter is used to find a certain type of data from a list or a tuple or etc'''\n",
    "\n",
    "\n",
    "t=(1,2,3,4,5,6,7,8,9)\n",
    "\n",
    "tuple(filter(lambda x:x%2==0,l))"
   ]
  },
  {
   "cell_type": "code",
   "execution_count": null,
   "id": "879e4ad1-7f92-4628-8360-92a274f9a712",
   "metadata": {},
   "outputs": [],
   "source": []
  },
  {
   "cell_type": "markdown",
   "id": "4bf62b64-8993-42c1-91eb-e9a9a20d3fe6",
   "metadata": {},
   "source": [
    "## 2 Write a Python program that uses the `filter()` function to select even numbers from a list of integers"
   ]
  },
  {
   "cell_type": "code",
   "execution_count": 8,
   "id": "038a116f-e32e-4bc2-bbb9-f0887a7aee1d",
   "metadata": {},
   "outputs": [
    {
     "data": {
      "text/plain": [
       "(2, 4, 6, 8)"
      ]
     },
     "execution_count": 8,
     "metadata": {},
     "output_type": "execute_result"
    }
   ],
   "source": [
    "\n",
    "t=(1,2,3,4,5,6,7,8,9)\n",
    "\n",
    "tuple(filter(lambda x:x%2==0,l))"
   ]
  },
  {
   "cell_type": "markdown",
   "id": "96637bdb-ca9e-49b5-89b6-4685fba961bc",
   "metadata": {},
   "source": [
    "## 3 Create a Python program that uses the `filter()` function to select names that start with a specific letter from a list of strings.\n"
   ]
  },
  {
   "cell_type": "code",
   "execution_count": 6,
   "id": "56f4c6d4-4bf6-439c-9123-4027932a34d7",
   "metadata": {},
   "outputs": [
    {
     "name": "stdout",
     "output_type": "stream",
     "text": [
      "['rohit', 'rahul']\n"
     ]
    }
   ],
   "source": [
    "name_list=[\"meraj\",\"rohit\",\"rahul\",\"aanu\",\"sanya\", \"naveen\"]\n",
    "\n",
    "filtered_list= filter(lambda name:name[0]=='r',name_list)\n",
    "\n",
    "print(list(filtered_list))"
   ]
  },
  {
   "cell_type": "code",
   "execution_count": null,
   "id": "ccb597ef-1fc2-45fa-b9ea-5637c20fc84a",
   "metadata": {},
   "outputs": [],
   "source": []
  },
  {
   "cell_type": "markdown",
   "id": "82d99c8f-88b9-4731-ad57-4a78eb2da421",
   "metadata": {},
   "source": [
    "## 4 Write a Python program that uses the `filter()` function to select prime numbers from a list of integers.\n"
   ]
  },
  {
   "cell_type": "code",
   "execution_count": 36,
   "id": "f7afb25f-14c9-491e-9575-80b8b21ddd18",
   "metadata": {},
   "outputs": [],
   "source": [
    "x= lambda x: x>1 and all( x%i!=0  for i  in range(2,x-1) )"
   ]
  },
  {
   "cell_type": "code",
   "execution_count": 37,
   "id": "517a719e-2877-4bdd-8ca8-566511aeac0a",
   "metadata": {},
   "outputs": [
    {
     "data": {
      "text/plain": [
       "[2, 3, 5, 7, 11, 13, 17, 19]"
      ]
     },
     "execution_count": 37,
     "metadata": {},
     "output_type": "execute_result"
    }
   ],
   "source": [
    "int_list=(1,2,3,4,5,6,7,8,9,11,12,13,14,15,17,19)\n",
    "list(filter(x,int_list))"
   ]
  },
  {
   "cell_type": "code",
   "execution_count": null,
   "id": "1ae258d9-651d-4af9-85a8-e02527adef76",
   "metadata": {},
   "outputs": [],
   "source": []
  },
  {
   "cell_type": "code",
   "execution_count": 38,
   "id": "fcdc7573-7a3e-4ced-ac43-eb2bfb8d25ff",
   "metadata": {},
   "outputs": [
    {
     "name": "stdin",
     "output_type": "stream",
     "text": [
      "enter a no to check  3\n"
     ]
    },
    {
     "data": {
      "text/plain": [
       "True"
      ]
     },
     "execution_count": 38,
     "metadata": {},
     "output_type": "execute_result"
    }
   ],
   "source": [
    "#using user defined function \n",
    "\n",
    "def prime(n):\n",
    "    for i in range(2,n-1):\n",
    "        if n%i==0:\n",
    "            return False\n",
    "    else:\n",
    "        return True\n",
    "n =int(input(\"enter a no to check \"))    \n",
    "prime(n)    "
   ]
  },
  {
   "cell_type": "code",
   "execution_count": 32,
   "id": "d9c8906d-9a09-486a-8044-3c3d091e706a",
   "metadata": {},
   "outputs": [],
   "source": []
  },
  {
   "cell_type": "markdown",
   "id": "ac7e15d4-c7f6-4806-b475-c65ff184adab",
   "metadata": {},
   "source": [
    "## 5 How can you use the `filter()` function to remove None values from a list in Python?\n"
   ]
  },
  {
   "cell_type": "code",
   "execution_count": 1,
   "id": "816a9087-3ec7-40f3-a7b3-6a9f3bfb0a97",
   "metadata": {},
   "outputs": [
    {
     "name": "stdout",
     "output_type": "stream",
     "text": [
      "[1, 3, 5, 7]\n"
     ]
    }
   ],
   "source": [
    "# Define a list with some None values\n",
    "original_list = [1, None, 3, None, 5, None, 7, None]\n",
    "\n",
    "# Use filter() to remove None values\n",
    "filtered_list = list(filter(lambda x: x is not None, original_list))\n",
    "\n",
    "print(filtered_list)\n",
    "\n"
   ]
  },
  {
   "cell_type": "code",
   "execution_count": null,
   "id": "4e3ae710-ee21-4e1d-949f-b432f290a28f",
   "metadata": {},
   "outputs": [],
   "source": []
  },
  {
   "cell_type": "code",
   "execution_count": 7,
   "id": "2ca9f2e9-a3eb-4715-a721-f608329f2965",
   "metadata": {},
   "outputs": [
    {
     "data": {
      "text/plain": [
       "[1, 2, 3, 4, 5]"
      ]
     },
     "execution_count": 7,
     "metadata": {},
     "output_type": "execute_result"
    }
   ],
   "source": [
    "l=[1,2,None,3,None,4,5]\n",
    "\n",
    "list(filter(lambda x : x is not None,l))"
   ]
  },
  {
   "cell_type": "markdown",
   "id": "afea1c70-3d59-40bd-b9f5-8f21c60b1823",
   "metadata": {},
   "source": [
    "## 6 Create a Python program that uses `filter()` to select words longer than a certain length from a list of strings.\n"
   ]
  },
  {
   "cell_type": "code",
   "execution_count": 1,
   "id": "b17c25eb-4350-4f15-afa5-94713272c5e0",
   "metadata": {},
   "outputs": [
    {
     "data": {
      "text/plain": [
       "['hello', 'merajsheikh']"
      ]
     },
     "execution_count": 1,
     "metadata": {},
     "output_type": "execute_result"
    }
   ],
   "source": [
    "a=[\"hello\",\"i\" ,\"am\", \"merajsheikh\"]\n",
    "\n",
    "list(filter(lambda x : len(x)>4,a))"
   ]
  },
  {
   "cell_type": "code",
   "execution_count": null,
   "id": "d3a622b2-5a22-4032-92d6-29a8cdb50e72",
   "metadata": {},
   "outputs": [],
   "source": []
  },
  {
   "cell_type": "markdown",
   "id": "6df2a362-c860-4689-8fd1-c299c0ab340b",
   "metadata": {},
   "source": [
    "## 7 Write a Python program that uses the `filter()` function to select elements greater than a specified threshold from a list of values.\n"
   ]
  },
  {
   "cell_type": "code",
   "execution_count": 2,
   "id": "34778490-e7d5-4225-a9f3-e6da7b7d6e0a",
   "metadata": {},
   "outputs": [
    {
     "data": {
      "text/plain": [
       "[40, 50, 60, 70, 80]"
      ]
     },
     "execution_count": 2,
     "metadata": {},
     "output_type": "execute_result"
    }
   ],
   "source": [
    "l1=[10,20,30,40,50,60,70,80]\n",
    "\n",
    "list(filter(lambda x: x>30,l1))"
   ]
  },
  {
   "cell_type": "code",
   "execution_count": null,
   "id": "15c5437d-0b7a-4c07-990d-40372310263b",
   "metadata": {},
   "outputs": [],
   "source": []
  },
  {
   "cell_type": "code",
   "execution_count": null,
   "id": "7feb941d-5f33-43ee-a1b9-82371f548ad8",
   "metadata": {},
   "outputs": [],
   "source": []
  },
  {
   "cell_type": "markdown",
   "id": "664ad84e-3832-42d5-ae85-d356d19b8938",
   "metadata": {},
   "source": [
    "# recurrsion "
   ]
  },
  {
   "cell_type": "markdown",
   "id": "85575a55-86ff-45c9-a5d0-9147bba08511",
   "metadata": {},
   "source": [
    "## 1 Explain the concept of recursion in Python. How does it differ from iteration?\n"
   ]
  },
  {
   "cell_type": "code",
   "execution_count": 1,
   "id": "45a9f6b0-e985-40c7-899f-c508e52779e0",
   "metadata": {},
   "outputs": [
    {
     "data": {
      "text/plain": [
       "'Recursion is a technique in which a function calls itself in order to break down a problem into smaller subproblems\\n. Each time the function calls itself, it operates on a smaller instance of the original problem until a base case is reached.\\nThe base case provides a stopping condition, preventing the function from calling itself infinitely.\\nRecursion can be a powerful and elegant way to solve certain types of problems,\\nparticularly those that exhibit a recursive structure.\\n\\n\\n function call\\n \\nRecursion: Control flows through function calls, with each call creating a new instance of the function on the call stack.\\n\\nIteration: Control flows through loops, which repeatedly execute a block of code until a condition is met.\\n\\nhow to stop function  call \\n\\nRecursion: Requires a well-defined base case to prevent infinite recursion.\\nIteration: Requires a condition that can be evaluated to False to terminate the loop.'"
      ]
     },
     "execution_count": 1,
     "metadata": {},
     "output_type": "execute_result"
    }
   ],
   "source": [
    "'''Recursion is a technique in which a function calls itself in order to break down a problem into smaller subproblems\n",
    ". Each time the function calls itself, it operates on a smaller instance of the original problem until a base case is reached.\n",
    "The base case provides a stopping condition, preventing the function from calling itself infinitely.\n",
    "Recursion can be a powerful and elegant way to solve certain types of problems,\n",
    "particularly those that exhibit a recursive structure.\n",
    "\n",
    "\n",
    " function call\n",
    " \n",
    "Recursion: Control flows through function calls, with each call creating a new instance of the function on the call stack.\n",
    "\n",
    "Iteration: Control flows through loops, which repeatedly execute a block of code until a condition is met.\n",
    "\n",
    "how to stop function  call \n",
    "\n",
    "Recursion: Requires a well-defined base case to prevent infinite recursion.\n",
    "Iteration: Requires a condition that can be evaluated to False to terminate the loop.'''\n"
   ]
  },
  {
   "cell_type": "markdown",
   "id": "af84a92a-5bdb-4e43-a29c-aa4efebd1297",
   "metadata": {},
   "source": [
    "## 2 Write a Python program to calculate the factorial of a number using recursion."
   ]
  },
  {
   "cell_type": "code",
   "execution_count": 35,
   "id": "7a9beace-de18-4b80-9b4a-3107bd340d0d",
   "metadata": {},
   "outputs": [],
   "source": [
    "def factorial(n):\n",
    "    if n==1:\n",
    "        return 1\n",
    "    else:\n",
    "        return n*factorial(n-1)"
   ]
  },
  {
   "cell_type": "code",
   "execution_count": 36,
   "id": "f8f2e7d7-d242-45b5-9d96-6ba6d4313d1b",
   "metadata": {},
   "outputs": [
    {
     "data": {
      "text/plain": [
       "24"
      ]
     },
     "execution_count": 36,
     "metadata": {},
     "output_type": "execute_result"
    }
   ],
   "source": [
    "factorial(4)"
   ]
  },
  {
   "cell_type": "markdown",
   "id": "76956c42-dbbc-4280-962a-8e53e6fa9d2b",
   "metadata": {},
   "source": [
    "## 3 Create a recursive Python function to find the nth Fibonacci number."
   ]
  },
  {
   "cell_type": "code",
   "execution_count": 52,
   "id": "4c04ad5c-f6cb-4c26-8a25-68b00ac0e6a5",
   "metadata": {},
   "outputs": [
    {
     "name": "stdin",
     "output_type": "stream",
     "text": [
      "enter a no here 9\n"
     ]
    },
    {
     "data": {
      "text/plain": [
       "34"
      ]
     },
     "execution_count": 52,
     "metadata": {},
     "output_type": "execute_result"
    }
   ],
   "source": [
    "def find_fib(n):\n",
    "    if n==1 or n==2:\n",
    "        \n",
    "        return 1\n",
    "    else:\n",
    "        return   find_fib(n-1)+find_fib(n-2)\n",
    "    \n",
    "n= int(input(\"enter a no here\"))\n",
    "find_fib(n)"
   ]
  },
  {
   "cell_type": "markdown",
   "id": "ca2a8f3b-7efa-4bf7-b5ad-205ca6fd28db",
   "metadata": {},
   "source": [
    "## 4 Write a recursive Python function to calculate the sum of all elements in a list."
   ]
  },
  {
   "cell_type": "code",
   "execution_count": 55,
   "id": "3f5d079f-c6a5-4d84-9187-e732674f6481",
   "metadata": {},
   "outputs": [],
   "source": [
    "def  sum_all(n):\n",
    "    if n<=1:\n",
    "        return n\n",
    "    else:\n",
    "        return n +sum_all(n-1)"
   ]
  },
  {
   "cell_type": "code",
   "execution_count": 57,
   "id": "d9868eae-388d-44cb-aada-f9c997dd97c7",
   "metadata": {},
   "outputs": [
    {
     "data": {
      "text/plain": [
       "21"
      ]
     },
     "execution_count": 57,
     "metadata": {},
     "output_type": "execute_result"
    }
   ],
   "source": [
    "sum_all(6)"
   ]
  },
  {
   "cell_type": "markdown",
   "id": "b83f2c6e-2733-4f1e-a4be-49fee1aa76c5",
   "metadata": {},
   "source": [
    "## 5 How can you prevent a recursive function from running indefinitely, causing a stack overflow error?\n"
   ]
  },
  {
   "cell_type": "code",
   "execution_count": 37,
   "id": "5d6ae3e6-2c67-4a45-bca9-0b9174e5883f",
   "metadata": {},
   "outputs": [],
   "source": [
    "#we can prevent a  recursive function from running indefinitely, by providing a base condtion if it will true then prgram breaks "
   ]
  },
  {
   "cell_type": "code",
   "execution_count": null,
   "id": "85cc052c-07b5-4fcc-ba7c-d7c9d1e449f3",
   "metadata": {},
   "outputs": [],
   "source": []
  },
  {
   "cell_type": "markdown",
   "id": "fee50cdb-ea2b-46b3-aa06-78cb687c75f5",
   "metadata": {},
   "source": [
    "## 6 Create a recursive Python function to find the greatest common divisor (GCD) of two numbers using the Euclidean algorithm."
   ]
  },
  {
   "cell_type": "code",
   "execution_count": 58,
   "id": "3eab8911-0c1d-4182-a365-1cd0735d1a8d",
   "metadata": {},
   "outputs": [
    {
     "name": "stdin",
     "output_type": "stream",
     "text": [
      "enter 1st no  20\n",
      "enter  2nd no  25\n"
     ]
    },
    {
     "data": {
      "text/plain": [
       "5"
      ]
     },
     "execution_count": 63,
     "metadata": {},
     "output_type": "execute_result"
    }
   ],
   "source": [
    "def gcd(x,y):\n",
    "    gcd=1\n",
    "    m=min(x,y)\n",
    "    \n",
    "    for i in range(1,m):\n",
    "        if x%1==0 and y%i==0:\n",
    "            gcd=i\n",
    "            \n",
    "    return gcd\n",
    "        \n",
    "    \n",
    "x=int(input(\"enter 1st no \"))\n",
    "y= int(input(\"enter  2nd no \"))\n",
    "\n",
    "gcd(x,y)"
   ]
  },
  {
   "cell_type": "code",
   "execution_count": null,
   "id": "a508a4c9-470c-44ef-8082-a5073a42f4fa",
   "metadata": {},
   "outputs": [],
   "source": []
  },
  {
   "cell_type": "markdown",
   "id": "523668ea-c52d-40b0-bc30-fe3df83a81de",
   "metadata": {},
   "source": [
    "## 7 Write a recursive Python function to reverse a string.\n"
   ]
  },
  {
   "cell_type": "code",
   "execution_count": 30,
   "id": "35fd08d1-2922-4c51-8965-51dc6933d87e",
   "metadata": {},
   "outputs": [
    {
     "name": "stdin",
     "output_type": "stream",
     "text": [
      " hlo \n"
     ]
    },
    {
     "data": {
      "text/plain": [
       "' olh'"
      ]
     },
     "execution_count": 30,
     "metadata": {},
     "output_type": "execute_result"
    }
   ],
   "source": [
    "def reverse1(string):\n",
    "    if string ==\"\":\n",
    "        return \"\"\n",
    "    else :\n",
    "        return reverse1(string[1::])+string[0]\n",
    "    \n",
    "n=input()\n",
    "reverse1(n )    "
   ]
  },
  {
   "cell_type": "markdown",
   "id": "95c768a7-01fb-4f7c-a4a6-a7c5163f907b",
   "metadata": {},
   "source": [
    "## 8 Create a recursive Python function to calculate the power of a number (x^n)."
   ]
  },
  {
   "cell_type": "code",
   "execution_count": 35,
   "id": "67be219f-d22c-4d53-b75e-e6c0f7017e93",
   "metadata": {},
   "outputs": [
    {
     "name": "stdin",
     "output_type": "stream",
     "text": [
      "enter a no here 10\n",
      "enter a no here 2\n"
     ]
    },
    {
     "name": "stdout",
     "output_type": "stream",
     "text": [
      "10 raised to the power of 2 is: 100\n"
     ]
    }
   ],
   "source": [
    "def power(a, b):\n",
    "    if b == 0:\n",
    "        return 1\n",
    "    else:\n",
    "        return a * power(a, b - 1)\n",
    "\n",
    "# Example usage\n",
    "a = int(input(\"enter a no here\"))\n",
    "b = int(input(\"enter a no here\"))\n",
    "result = power(a, b)\n",
    "print(f\"{a} raised to the power of {b} is: {result}\")\n"
   ]
  },
  {
   "cell_type": "markdown",
   "id": "54946d98-00d6-4bc0-9c6f-0f1a7cfccf30",
   "metadata": {},
   "source": [
    "## 9 Write a recursive Python function to find all permutations of a given string"
   ]
  },
  {
   "cell_type": "markdown",
   "id": "2a872516-38be-402a-84c8-5dce1106778b",
   "metadata": {},
   "source": [
    "## 10 Write a recursive Python function to check if a string is a palindrome."
   ]
  },
  {
   "cell_type": "code",
   "execution_count": 12,
   "id": "3bd034fc-a360-492f-a0e4-bb38f9dfa495",
   "metadata": {},
   "outputs": [
    {
     "name": "stdin",
     "output_type": "stream",
     "text": [
      "Enter a word:  radar\n"
     ]
    },
    {
     "name": "stdout",
     "output_type": "stream",
     "text": [
      "Yes, this is a palindrome.\n"
     ]
    }
   ],
   "source": [
    "def is_palindrome(n):\n",
    "    if n == \"\":\n",
    "        return True\n",
    "    else:\n",
    "        return n[0] == n[-1] and is_palindrome(n[1:-1])\n",
    "\n",
    "n = input(\"Enter a word: \")\n",
    "\n",
    "if is_palindrome(n):\n",
    "    print(\"Yes, this is a palindrome.\")\n",
    "else:\n",
    "    print(\"No, this is not a palindrome.\")\n"
   ]
  },
  {
   "cell_type": "code",
   "execution_count": null,
   "id": "99d18fa8-5839-4852-a6bf-85cac5e453eb",
   "metadata": {},
   "outputs": [],
   "source": []
  },
  {
   "cell_type": "markdown",
   "id": "3aa970f8-b74e-48cc-85c0-96645a06a146",
   "metadata": {},
   "source": [
    "## 11 Create a recursive Python function to generate all possible combinations of a list of elements."
   ]
  },
  {
   "cell_type": "code",
   "execution_count": 18,
   "id": "17ea9ce2-6504-4a57-a045-23ead83020b6",
   "metadata": {},
   "outputs": [
    {
     "name": "stdout",
     "output_type": "stream",
     "text": [
      "[]\n",
      "[3]\n",
      "[2]\n",
      "[2, 3]\n",
      "[1]\n",
      "[1, 3]\n",
      "[1, 2]\n",
      "[1, 2, 3]\n"
     ]
    }
   ],
   "source": [
    "def generate_combinations(elements):\n",
    "    if len(elements) == 0:\n",
    "        return [[]]\n",
    "    \n",
    "    combinations_without_first = generate_combinations(elements[1:])\n",
    "    combinations_with_first = []\n",
    "    for combination in combinations_without_first:\n",
    "        combinations_with_first.append([elements[0]] + combination)\n",
    "    \n",
    "    return combinations_without_first + combinations_with_first\n",
    "\n",
    "# Example usage\n",
    "elements = [1, 2, 3]\n",
    "combinations = generate_combinations(elements)\n",
    "\n",
    "for combination in combinations:\n",
    "    print(combination)\n"
   ]
  },
  {
   "cell_type": "code",
   "execution_count": null,
   "id": "d454dd22-7036-43ce-a99c-040599edb16c",
   "metadata": {},
   "outputs": [],
   "source": []
  },
  {
   "cell_type": "markdown",
   "id": "b4775b8e-44eb-4bf0-a987-bbba410d73a6",
   "metadata": {},
   "source": [
    "# basics of function "
   ]
  },
  {
   "cell_type": "markdown",
   "id": "89cf446e-88d6-48f9-a820-e756d73c9aee",
   "metadata": {},
   "source": [
    "## What is a function in Python, and why is it used?"
   ]
  },
  {
   "cell_type": "code",
   "execution_count": 58,
   "id": "37e5e29c-2ec8-4db2-a9f6-c6f51e4d8dac",
   "metadata": {},
   "outputs": [
    {
     "ename": "SyntaxError",
     "evalue": "invalid syntax (3964161501.py, line 1)",
     "output_type": "error",
     "traceback": [
      "\u001b[0;36m  Cell \u001b[0;32mIn[58], line 1\u001b[0;36m\u001b[0m\n\u001b[0;31m    In Python, a function is a block of reusable code that performs a specific task or set of tasks.\u001b[0m\n\u001b[0m       ^\u001b[0m\n\u001b[0;31mSyntaxError\u001b[0m\u001b[0;31m:\u001b[0m invalid syntax\n"
     ]
    }
   ],
   "source": [
    "\n",
    "'''In Python, a function is a block of reusable code that performs a specific task or set of tasks.\n",
    "It is defined using the def keyword, followed by the function name and a pair of parentheses containing\n",
    "optional input parameters\n",
    "\n",
    "\n",
    "Why Are Functions Used?\n",
    "\n",
    "Modularity: Functions allow you to break down a program into smaller, more manageable pieces.\n",
    "Each function can focus on a specific task, making the code easier to read, understand, and maintain.\n",
    "\n",
    "Reuse: Once you define a function, you can call it multiple times from different parts of your program. \n",
    "This promotes code reusability and saves you from writing the same code over and over.\n",
    "\n",
    "\n",
    "\n",
    "Debugging and Testing: Functions make it easier to isolate and debug specific parts of your code.\n",
    "You can test functions individually, which helps in identifying and fixing issues.\n",
    "\n",
    "Organization: Functions help organize code into logical units, improving the overall structure and readability of your program.\n",
    "\n",
    "Collaboration: In a collaborative development environment, functions provide a way to divide work among team members.\n",
    "Each member can be responsible for implementing specific functions.'''\n",
    "\n",
    "\n",
    "\n",
    "\n",
    "\n",
    "\n"
   ]
  },
  {
   "cell_type": "markdown",
   "id": "c5f045ab-fa1f-4f8b-bddd-68730941c36a",
   "metadata": {},
   "source": [
    "## 2 How do you define a function in Python? Provide an example."
   ]
  },
  {
   "cell_type": "code",
   "execution_count": 102,
   "id": "23903954-7279-46f6-b8c9-a016611f91c0",
   "metadata": {},
   "outputs": [
    {
     "data": {
      "text/plain": [
       "\"To define a function in Python, you use the def keyword followed by the function name, a pair of parentheses containing \\noptional parameters, and a colon (:) to begin the function block.\\nHere's the basic syntax\\n\\n\\ndef add_numbers(x, y):\\n    result = x + y\\n    return result\\n\\n\\ndef declares the start of the function definition.\\n\\nadd_numbers is the chosen function name.\\n\\nx and y are the parameters (input values) that the function expects.\\n\\nresult = x + y calculates the sum of x and y.\\n\\nreturn result sends the result back to the caller.\""
      ]
     },
     "execution_count": 102,
     "metadata": {},
     "output_type": "execute_result"
    }
   ],
   "source": [
    "\n",
    "'''To define a function in Python, you use the def keyword followed by the function name, a pair of parentheses containing \n",
    "optional parameters, and a colon (:) to begin the function block.\n",
    "Here's the basic syntax\n",
    "\n",
    "\n",
    "def add_numbers(x, y):\n",
    "    result = x + y\n",
    "    return result\n",
    "\n",
    "\n",
    "def declares the start of the function definition.\n",
    "\n",
    "add_numbers is the chosen function name.\n",
    "\n",
    "x and y are the parameters (input values) that the function expects.\n",
    "\n",
    "result = x + y calculates the sum of x and y.\n",
    "\n",
    "return result sends the result back to the caller.'''"
   ]
  },
  {
   "cell_type": "markdown",
   "id": "14187412-af57-4d12-97b0-2850c38ea4a5",
   "metadata": {},
   "source": [
    "## 3 Explain the difference between a function definition and a function call.\n"
   ]
  },
  {
   "cell_type": "code",
   "execution_count": 63,
   "id": "4a9a6ed1-0d4f-4a61-89aa-138403db30dc",
   "metadata": {},
   "outputs": [
    {
     "data": {
      "text/plain": [
       "\"A function definition is the actual code that specifies what the function does.\\nIt includes the function's name, parameters (if any), and the code that executes when the function is called.\\nHere's an example of a function definition in Python:\\n\\ndef add_numbers(x, y):\\n    result = x + y\\n    return result\\n\\nA function call is the act of using a function that has been defined elsewhere in your code. I\\nt involves providing the actual values (arguments) that the function expects (if any).\\nHere's an example of a function call:\\n\\nsum_result = add_numbers(3, 5)\\nprint(sum_result)\\n\\n\\nIn this example:\\n\\nadd_numbers is the name of the function being called.\\n3 and 5 are the actual values (arguments) provided to the function. They will be assigned to the parameters x and y respectively.\\nThe result of the function call (8) will be assigned to the variable sum_result.\""
      ]
     },
     "execution_count": 63,
     "metadata": {},
     "output_type": "execute_result"
    }
   ],
   "source": [
    "'''A function definition is the actual code that specifies what the function does.\n",
    "It includes the function's name, parameters (if any), and the code that executes when the function is called.\n",
    "Here's an example of a function definition in Python:\n",
    "\n",
    "def add_numbers(x, y):\n",
    "    result = x + y\n",
    "    return result\n",
    "\n",
    "A function call is the act of using a function that has been defined elsewhere in your code. I\n",
    "t involves providing the actual values (arguments) that the function expects (if any).\n",
    "Here's an example of a function call:\n",
    "\n",
    "sum_result = add_numbers(3, 5)\n",
    "print(sum_result)\n",
    "\n",
    "\n",
    "In this example:\n",
    "\n",
    "add_numbers is the name of the function being called.\n",
    "3 and 5 are the actual values (arguments) provided to the function. They will be assigned to the parameters x and y respectively.\n",
    "The result of the function call (8) will be assigned to the variable sum_result.'''\n",
    "\n"
   ]
  },
  {
   "cell_type": "markdown",
   "id": "944a2697-8953-45a7-ae9c-7ac27358873c",
   "metadata": {},
   "source": [
    "## 4 Write a Python program that defines a function to calculate the sum of two numbers and then calls the function.\n"
   ]
  },
  {
   "cell_type": "code",
   "execution_count": 69,
   "id": "19ed19a6-f0fa-41d6-b247-01d13eb0fda9",
   "metadata": {},
   "outputs": [
    {
     "name": "stdin",
     "output_type": "stream",
     "text": [
      " 4\n",
      " 6\n"
     ]
    },
    {
     "name": "stdout",
     "output_type": "stream",
     "text": [
      "10\n"
     ]
    }
   ],
   "source": [
    "#defining a function \n",
    "def sumtotal(x,y):\n",
    "    return x+y\n",
    "\n",
    "#calling a function \n",
    "sumt=sumtotal(x=int(input()) , y=int(input()  ))\n",
    "print(sumt)              \n",
    "              \n",
    "\n"
   ]
  },
  {
   "cell_type": "markdown",
   "id": "ad72844f-a542-4d73-b1a0-2d8dba3a85d8",
   "metadata": {},
   "source": [
    "## 5 What is a function signature, and what information does it typically include?"
   ]
  },
  {
   "cell_type": "code",
   "execution_count": null,
   "id": "d44b2634-e547-4cbe-937b-8bad809b70fb",
   "metadata": {},
   "outputs": [],
   "source": []
  },
  {
   "cell_type": "markdown",
   "id": "aa0640fc-fc73-4149-bb09-36585a497fbc",
   "metadata": {},
   "source": [
    "A function signature is a term used in programming to describe the general information about a function, such as its name,\n",
    "scope, and parameters1. It is used to uniquely identify a function and differentiate it from other functions with the same name1.\n",
    "The signature typically includes the function name, the number and types of its arguments, and in some languages, the return type2\n",
    ". It provides a concise summary of the function’s interface and helps programmers understand how to use it correctly2\n",
    ".\n",
    "\n",
    "Here's an example of a function signature in Python:\n",
    "\n",
    "def add_numbers(x, y=0):\n",
    "    \n",
    "In this example:\n",
    "\n",
    "Function Name: add_numbers\n",
    "Parameters:\n",
    "x is a required parameter.\n",
    "y is an optional parameter with a default value of 0.\n",
    "Return Type: Not specified explicitly (determined dynamically).\n",
    "\n",
    "\n",
    "example 2 \n",
    "def addnum(x:int,y:int):\n",
    "    return x+y\n",
    "\n",
    "\n",
    "\n"
   ]
  },
  {
   "cell_type": "markdown",
   "id": "c62c21ec-9761-4936-9b12-e4fe7aad2659",
   "metadata": {},
   "source": [
    "## 6 Create a Python function that takes two arguments and returns their product."
   ]
  },
  {
   "cell_type": "code",
   "execution_count": 19,
   "id": "065c4a1f-d264-423c-9efe-c9109129793e",
   "metadata": {},
   "outputs": [
    {
     "name": "stdin",
     "output_type": "stream",
     "text": [
      "enter a no here 5\n",
      "enter a no here 5\n"
     ]
    },
    {
     "data": {
      "text/plain": [
       "25"
      ]
     },
     "execution_count": 19,
     "metadata": {},
     "output_type": "execute_result"
    }
   ],
   "source": [
    "def product(x,y):\n",
    "    return x*y\n",
    "\n",
    "\n",
    "x=int(input(\"enter a no here\"))\n",
    "y=int(input(\"enter a no here\"))\n",
    "\n",
    "product(x,y)"
   ]
  },
  {
   "cell_type": "code",
   "execution_count": null,
   "id": "9c884be7-8298-429d-84e8-0a45ad4ced75",
   "metadata": {},
   "outputs": [],
   "source": []
  },
  {
   "cell_type": "markdown",
   "id": "fdc8a094-5ca6-4901-9096-e0d562376d61",
   "metadata": {},
   "source": [
    "# Function Parameters and Arguments:"
   ]
  },
  {
   "cell_type": "markdown",
   "id": "e5646fbf-2865-4bd2-a626-835ed3f7667c",
   "metadata": {},
   "source": [
    "## 1 Explain the concepts of formal parameters and actual arguments in Python functions."
   ]
  },
  {
   "cell_type": "markdown",
   "id": "82b02932-db73-4b1c-ad5a-6c1eb530071e",
   "metadata": {},
   "source": [
    "Actual Arguments:\n",
    "\n",
    "Definition: Actual arguments (also known as arguments or function arguments) are the values passed to a function when it is called. \n",
    "They provide the actual data to be used within the function.\n",
    "\n",
    "greet(\"Alice\")\n",
    "\n",
    "\n",
    "Formal Parameters:\n",
    "\n",
    "Definition: Formal parameters are the variables listed in the function definition. They act as placeholders for the values that will be passed \n",
    "to the function when it is called.\n",
    "\n",
    "def greet(name):\n",
    "    print(f\"Hello, {name}!\")\n"
   ]
  },
  {
   "cell_type": "markdown",
   "id": "4822d4ef-2407-40c7-ad9e-a7aae5637941",
   "metadata": {},
   "source": [
    "## 2 Write a Python program that defines a function with default argument values"
   ]
  },
  {
   "cell_type": "code",
   "execution_count": 20,
   "id": "58ac41fe-1a20-4069-9a50-381c6b66d242",
   "metadata": {},
   "outputs": [
    {
     "name": "stdout",
     "output_type": "stream",
     "text": [
      "Hello, User!\n",
      "Hello, Alice!\n",
      "Hi, Bob!\n"
     ]
    }
   ],
   "source": [
    "def greet(name=\"User\", greeting=\"Hello\"):\n",
    "    print(f\"{greeting}, {name}!\")\n",
    "\n",
    "# Example usage\n",
    "greet()  # Uses default values\n",
    "greet(\"Alice\")  # Uses default greeting\n",
    "greet(\"Bob\", \"Hi\")  # Uses both provided values\n"
   ]
  },
  {
   "cell_type": "markdown",
   "id": "b502bdba-e45a-4382-bdd0-e19c1d937f2c",
   "metadata": {},
   "source": [
    "## 3 How do you use keyword arguments in Python function calls? Provide an example. "
   ]
  },
  {
   "cell_type": "code",
   "execution_count": null,
   "id": "71ed2d23-1c0d-49fb-a08e-b01c86d24b69",
   "metadata": {},
   "outputs": [],
   "source": [
    "def greet(name, greeting):\n",
    "    print(f\"{greeting}, {name}!\")\n",
    "\n",
    "# Using keyword arguments\n",
    "greet(ankit,hi)\n",
    "greet(ravi,hello)\n"
   ]
  },
  {
   "cell_type": "markdown",
   "id": "6420303d-2d96-4dcf-8818-a2a871050f8c",
   "metadata": {},
   "source": [
    "## 4 Create a Python function that accepts a variable number of arguments and calculates their sum."
   ]
  },
  {
   "cell_type": "code",
   "execution_count": 5,
   "id": "e6e27949-8dc4-4ece-b4f2-727a182928d5",
   "metadata": {},
   "outputs": [
    {
     "name": "stdout",
     "output_type": "stream",
     "text": [
      "The sum is: 15\n"
     ]
    }
   ],
   "source": [
    "def calculate_sum(*args):\n",
    "    total = sum(args)\n",
    "    return total\n",
    "\n",
    "# Example usage\n",
    "result = calculate_sum(1, 2, 3, 4, 5)\n",
    "print(f\"The sum is: {result}\")\n"
   ]
  },
  {
   "cell_type": "code",
   "execution_count": 4,
   "id": "5be5f2fb-b3ca-499c-9753-b3d9897aecf2",
   "metadata": {},
   "outputs": [
    {
     "name": "stdin",
     "output_type": "stream",
     "text": [
      "enter a no here 1\n",
      "enter a no  1\n"
     ]
    },
    {
     "name": "stdout",
     "output_type": "stream",
     "text": [
      "the sum of these no are 1\n"
     ]
    }
   ],
   "source": [
    "y=[]\n",
    "x=int(input(\"enter a no here\"))\n",
    "for i in range (x):\n",
    "    b=int(input(\"enter a no \"))\n",
    "    y.append(b)\n",
    "    \n",
    "c= sum(y)\n",
    "    \n",
    "print(\"the sum of these no are\",c)    "
   ]
  },
  {
   "cell_type": "markdown",
   "id": "da84da0b-ef80-4703-b780-e284cdb04b33",
   "metadata": {},
   "source": [
    "## 5 What is the purpose of the `*args` and `**kwargs` syntax in function parameter lists?"
   ]
  },
  {
   "cell_type": "markdown",
   "id": "71a20349-4d16-46ef-9ba6-5ef61d34d267",
   "metadata": {},
   "source": [
    "*args is used to take any no of input \n",
    "\n",
    "Purpose: The **kwargs syntax allows a function to accept a variable number of keyword arguments.\n",
    "This means that you can pass any number of keyword-value pairs to the function."
   ]
  },
  {
   "cell_type": "markdown",
   "id": "ec8086d8-a401-423b-8f84-f140016f123b",
   "metadata": {},
   "source": [
    "\n",
    "# Return Values and Scoping:\n"
   ]
  },
  {
   "cell_type": "code",
   "execution_count": null,
   "id": "facb17cf-2315-4885-aa7e-b71b18f205a1",
   "metadata": {},
   "outputs": [],
   "source": []
  },
  {
   "cell_type": "markdown",
   "id": "d4c8b0b3-92ef-4730-afca-bcbac204551e",
   "metadata": {},
   "source": [
    "## 1 Describe the role of the `return` statement in Python functions and provide examples."
   ]
  },
  {
   "cell_type": "markdown",
   "id": "c5111fbb-ba96-4873-848f-42e9dbe76d24",
   "metadata": {},
   "source": [
    "A return statement is used to end the execution of the function call and “returns” the result (value of the expression \n",
    "following the return keyword) to the caller. The statements after the return statements are not executed. If the return statement\n",
    "is without any expression, then the special value None is returned.\n",
    "\n",
    "\n",
    "def add_numbers(a, b):\n",
    "    result = a + b\n",
    "    return result\n",
    "\n",
    "sum_result = add_numbers(5, 3)  # Calls the function\n",
    "print(sum_result)  # Output: 8\n",
    " \n",
    "    in this it return a single value"
   ]
  },
  {
   "cell_type": "markdown",
   "id": "a53923f4-be14-48d6-b9f6-ddabf085e86e",
   "metadata": {},
   "source": [
    "## 2 Explain the concept of variable scope in Python, including local and global variables."
   ]
  },
  {
   "cell_type": "code",
   "execution_count": 12,
   "id": "345b3e33-ad4b-4339-b217-38a03dac0b73",
   "metadata": {},
   "outputs": [
    {
     "data": {
      "text/plain": [
       "9"
      ]
     },
     "execution_count": 12,
     "metadata": {},
     "output_type": "execute_result"
    }
   ],
   "source": [
    "add_num()"
   ]
  },
  {
   "cell_type": "code",
   "execution_count": 35,
   "id": "fade646e-8c2d-4dd1-aeb7-e3523e662545",
   "metadata": {},
   "outputs": [
    {
     "name": "stdout",
     "output_type": "stream",
     "text": [
      "Local Hello\n",
      "global variable Hello\n"
     ]
    }
   ],
   "source": [
    "#@here this is a locak variable which can only be called in function \n",
    "\n",
    "    \n",
    "def greet():\n",
    "\n",
    "    # local variable\n",
    "    message = 'Hello'\n",
    "    \n",
    "    print('Local', message)\n",
    "\n",
    "greet()\n",
    "\n",
    "# try to access message variable \n",
    "# outside greet() function\n",
    "print(\"global variable\",message) # i didn't able to under how this is printing"
   ]
  },
  {
   "cell_type": "code",
   "execution_count": 36,
   "id": "42bcfef0-0399-409f-99e4-9c96706f6344",
   "metadata": {},
   "outputs": [
    {
     "name": "stdout",
     "output_type": "stream",
     "text": [
      "Local Hello\n",
      "Global Hello\n"
     ]
    }
   ],
   "source": [
    "\n",
    "\n",
    "# this is a global variable which can call inside or outside a function  global variable\n",
    "message = 'Hello'\n",
    "\n",
    "def greet():\n",
    "    # declare local variable\n",
    "    print('Local', message)\n",
    "\n",
    "greet()\n",
    "print('Global', message)"
   ]
  },
  {
   "cell_type": "markdown",
   "id": "9eb8897c-8e04-4188-a0e4-950845d1ecdd",
   "metadata": {},
   "source": [
    "## 3 Write a Python program that demonstrates the use of global variables within functions."
   ]
  },
  {
   "cell_type": "code",
   "execution_count": 40,
   "id": "87e493df-7b0f-4fa9-95b1-77e45db44b62",
   "metadata": {},
   "outputs": [
    {
     "data": {
      "text/plain": [
       "('global var', 10)"
      ]
     },
     "execution_count": 40,
     "metadata": {},
     "output_type": "execute_result"
    }
   ],
   "source": [
    "a= 5+5\n",
    "\n",
    "def sum():\n",
    "    return \"global var\",a\n",
    "\n",
    "sum()"
   ]
  },
  {
   "cell_type": "markdown",
   "id": "b872c3e5-54e8-417c-9b64-fe8bd676158b",
   "metadata": {},
   "source": [
    "## 4 Create a Python function that calculates the factorial of a number and returns it."
   ]
  },
  {
   "cell_type": "code",
   "execution_count": 53,
   "id": "822fe9c4-4851-4773-b242-c9052185eebb",
   "metadata": {},
   "outputs": [
    {
     "data": {
      "text/plain": [
       "24"
      ]
     },
     "execution_count": 53,
     "metadata": {},
     "output_type": "execute_result"
    }
   ],
   "source": [
    "def fact(n):\n",
    "    if n<0:\n",
    "        return \"value error no must be positive\"\n",
    "    elif n==0 or n==1 :\n",
    "        return 1\n",
    "    \n",
    "    else:\n",
    "        return n*fact(n-1)\n",
    "    \n",
    "fact(4)    "
   ]
  },
  {
   "cell_type": "markdown",
   "id": "b61e99f7-8a89-44db-a347-cd0b1d90537f",
   "metadata": {},
   "source": [
    "## 5 How can you access variables defined outside a function from within the function?"
   ]
  },
  {
   "cell_type": "code",
   "execution_count": 62,
   "id": "f34029b9-73d1-4c97-8989-22f9b7808f2c",
   "metadata": {},
   "outputs": [
    {
     "name": "stdin",
     "output_type": "stream",
     "text": [
      "enter your age 18\n"
     ]
    },
    {
     "data": {
      "text/plain": [
       "'not eligible'"
      ]
     },
     "execution_count": 62,
     "metadata": {},
     "output_type": "execute_result"
    }
   ],
   "source": [
    "age= int(input(\"enter your age\"))    \n",
    "def election(): \n",
    "    if  age>18:\n",
    "        return\"eligible\"\n",
    "        \n",
    "    else:\n",
    "        return \"not eligible\"\n",
    "election()            "
   ]
  },
  {
   "cell_type": "markdown",
   "id": "b6f19ce4-2862-4eb7-9bfe-308f45accd9c",
   "metadata": {},
   "source": [
    "# Lambda Functions and Higher-Order Functions:"
   ]
  },
  {
   "cell_type": "markdown",
   "id": "a3aab926-0ec6-47a0-a06d-21a7d3e9a84d",
   "metadata": {},
   "source": [
    "## 1 What are lambda functions in Python, and when are they typically used?"
   ]
  },
  {
   "cell_type": "markdown",
   "id": "a72826ce-474c-4cae-989b-f8ea26e25777",
   "metadata": {},
   "source": [
    "Python Lambda Functions are anonymous function means that the function is without a name. As we already know that \n",
    "the def keyword is used to define a normal function in Python. Similarly, \n",
    "the lambda keyword is used to define an anonymous function\n",
    "in Python. \n",
    "\n",
    "\n",
    " They are particularly useful in situations where you need to pass a simple function as an argument to another function."
   ]
  },
  {
   "cell_type": "markdown",
   "id": "1f050c91-f45d-4529-b91c-8082997ac352",
   "metadata": {},
   "source": [
    "## 2 Write a Python program that uses lambda functions to sort a list of tuples based on the second element."
   ]
  },
  {
   "cell_type": "code",
   "execution_count": 70,
   "id": "22f19aa1-2564-42ba-a141-1a31912ea0e6",
   "metadata": {},
   "outputs": [
    {
     "name": "stdout",
     "output_type": "stream",
     "text": [
      "Sorted List: [(3, 1), (8, 2), (6, 4), (10, 5), (5, 7)]\n"
     ]
    }
   ],
   "source": [
    "# Define a list of tuples\n",
    "tuples_list = [(10, 5), (5, 7), (8, 2), (3, 1), (6, 4)]\n",
    "\n",
    "# Sort the list based on the second element using a lambda function\n",
    "sorted_list = sorted(tuples_list, key=lambda x: x[1],)\n",
    "\n",
    "# Print the sorted list\n",
    "print(\"Sorted List:\", sorted_list)\n"
   ]
  },
  {
   "cell_type": "markdown",
   "id": "b247bc9a-6cd7-4b8d-9071-29b3aaa2c47b",
   "metadata": {},
   "source": [
    "## 3 Explain the concept of higher-order functions in Python, and provide an example."
   ]
  },
  {
   "cell_type": "code",
   "execution_count": 74,
   "id": "61abd4b4-ddf5-4047-9c1d-8b8d9ade6d52",
   "metadata": {},
   "outputs": [
    {
     "name": "stdout",
     "output_type": "stream",
     "text": [
      "[1, 4, 9, 16, 25]\n"
     ]
    }
   ],
   "source": [
    "#Higher-order functions are functions that take a function as a parameter and/or return a function as an output.\n",
    "\n",
    "#A few useful higher-order functions are map(), filter(), and reduce(). map() and filter() are built-in functions, whereas reduce() \n",
    "#is contained in functools() modul\n",
    "\n",
    "\n",
    "num=[1,2,3,4,5]\n",
    "square=map(lambda x: x**2 , num)\n",
    "print(list(square))\n",
    "#Output: <map object at 0x0152E4D8>\n",
    "\n"
   ]
  },
  {
   "cell_type": "markdown",
   "id": "331e763e-ff39-4d8b-9ea6-a1ff12e743ec",
   "metadata": {},
   "source": [
    "## 4 Create a Python function that takes a list of numbers and a function as arguments, applying the function to each element in the list.\n"
   ]
  },
  {
   "cell_type": "code",
   "execution_count": 78,
   "id": "43bb6b47-75a6-4a2e-8455-98425687ba12",
   "metadata": {},
   "outputs": [
    {
     "name": "stdout",
     "output_type": "stream",
     "text": [
      "[1, 4, 9, 16, 25, 36]\n"
     ]
    }
   ],
   "source": [
    "list1=[1,2,3,4,5,6]\n",
    "\n",
    "result= map(lambda x:x*x,list1)\n",
    "\n",
    "print(list(result))"
   ]
  },
  {
   "cell_type": "markdown",
   "id": "45a6429c-ef01-4cee-9523-0fe935407d93",
   "metadata": {},
   "source": [
    "# builtin function "
   ]
  },
  {
   "cell_type": "code",
   "execution_count": null,
   "id": "73f718ad-1ba0-44ce-92aa-64f7529c3900",
   "metadata": {},
   "outputs": [],
   "source": []
  },
  {
   "cell_type": "markdown",
   "id": "964f0adf-a965-4ee7-815e-1e6eeef091f6",
   "metadata": {},
   "source": [
    "## 1 Describe the role of built-in functions like `len()`, `max()`, and `min()` in Python."
   ]
  },
  {
   "cell_type": "markdown",
   "id": "2c8466ee-1854-4452-84c4-9b3cc3f9a426",
   "metadata": {},
   "source": [
    "Built-in functions like len(), max(), and min() play important roles in Python for performing common operations on data structures. Here's an explanation of each function:\n",
    "\n",
    "len():\n",
    "\n",
    "Role: The len() function is used to determine the length or number of elements in a sequence, such as a string, list, tuple, or dictionary.\n",
    "\n",
    "\n",
    "\n",
    "\n",
    "\n",
    "max():\n",
    "\n",
    "Role: The max() function is used to find the maximum value in a given sequence or a set of arguments.\n",
    "\n",
    "\n",
    "\n",
    "min():\n",
    "\n",
    "Role: The min() function is used to find the minimum value in a given sequence or a set of arguments."
   ]
  },
  {
   "cell_type": "code",
   "execution_count": 81,
   "id": "7a2fb666-8f82-4b0b-95ba-aa839bd2901a",
   "metadata": {},
   "outputs": [
    {
     "name": "stdout",
     "output_type": "stream",
     "text": [
      "Length of the list: 5\n",
      "Maximum value in the list: 7\n",
      "Minimum value in the list: 1\n"
     ]
    }
   ],
   "source": [
    "my_list = [1, 5, 2, 7, 3]\n",
    "length_of_list = len(my_list)  # length_of_list will be 5\n",
    "max_value = max(my_list)  # max_value will be 7\n",
    "min_value = min(my_list)  # min_value will be 1\n",
    "\n",
    "print(f\"Length of the list: {length_of_list}\")\n",
    "print(f\"Maximum value in the list: {max_value}\")\n",
    "print(f\"Minimum value in the list: {min_value}\")\n"
   ]
  },
  {
   "cell_type": "markdown",
   "id": "f9d60c29-bca5-4586-8cbb-268d6f19c2b3",
   "metadata": {},
   "source": [
    "## 2 Write a Python program that uses the `map()` function to apply a function to each element of a list.\n"
   ]
  },
  {
   "cell_type": "code",
   "execution_count": 83,
   "id": "72858d04-2461-47c3-babf-8f36b7b3ce61",
   "metadata": {},
   "outputs": [
    {
     "name": "stdout",
     "output_type": "stream",
     "text": [
      "[1, 4, 9, 16, 25, 36]\n"
     ]
    }
   ],
   "source": [
    "list1=[1,2,3,4,5,6]\n",
    "\n",
    "result= map(lambda x:x*x,list1)\n",
    "\n",
    "print(list(result))"
   ]
  },
  {
   "cell_type": "markdown",
   "id": "aec9b8a8-4297-40f5-aaa9-ce61f7f2bf84",
   "metadata": {},
   "source": [
    "## 3 How does the `filter()` function work in Python, and when would you use it?"
   ]
  },
  {
   "cell_type": "markdown",
   "id": "aa23f385-6fc5-4bc9-bdfd-9d2a331eb066",
   "metadata": {},
   "source": [
    "The filter() method filters the given sequence with the help of a function that tests each element in the sequence to be true or not. \n",
    "\n",
    "\n",
    "\n",
    "The filter() function in Python is used when you want to selectively include or exclude elements from a sequence (like a list) based on a condition. It's particularly useful when you have a large dataset and you want to extract specific elements that meet a certain criteria."
   ]
  },
  {
   "cell_type": "code",
   "execution_count": 93,
   "id": "2fd9cffe-71da-4b87-b0ed-63363852c5b1",
   "metadata": {},
   "outputs": [
    {
     "name": "stdout",
     "output_type": "stream",
     "text": [
      "[2, 4, 6, 8, 10]\n"
     ]
    }
   ],
   "source": [
    "numbers = [1, 2, 3, 4, 5, 6, 7, 8, 9, 10]\n",
    "even_numbers = list(filter(lambda x: x % 2 == 0, numbers))\n",
    "print(even_numbers)"
   ]
  },
  {
   "cell_type": "code",
   "execution_count": null,
   "id": "9f6d5939-7a73-4127-b279-64968f6d84cf",
   "metadata": {},
   "outputs": [],
   "source": []
  },
  {
   "cell_type": "code",
   "execution_count": null,
   "id": "b04e494b-971d-4d3b-862c-89b494499b4d",
   "metadata": {},
   "outputs": [],
   "source": []
  },
  {
   "cell_type": "code",
   "execution_count": 90,
   "id": "03d20019-37eb-43b3-a7ee-0f434a63aff8",
   "metadata": {},
   "outputs": [
    {
     "name": "stdout",
     "output_type": "stream",
     "text": [
      "[10, 20, 30]\n"
     ]
    }
   ],
   "source": [
    "values = [10, None, 20, \"\", 30, 0, False]\n",
    "non_empty_values = list(filter(None, values))\n",
    "print(non_empty_values)"
   ]
  },
  {
   "cell_type": "code",
   "execution_count": 94,
   "id": "062f1a1b-45d7-4090-8382-217db8511be7",
   "metadata": {},
   "outputs": [
    {
     "data": {
      "text/plain": [
       "NoneType"
      ]
     },
     "execution_count": 94,
     "metadata": {},
     "output_type": "execute_result"
    }
   ],
   "source": [
    "type(None)"
   ]
  },
  {
   "cell_type": "markdown",
   "id": "7c50a0e6-1d51-4341-884f-c9348e7b9b32",
   "metadata": {},
   "source": [
    "## 4 Create a Python program that uses the `reduce()` function to find the product of all elements in a list.\n"
   ]
  },
  {
   "cell_type": "code",
   "execution_count": 97,
   "id": "e3ea1447-dd7c-4c6d-8a3a-ed10f80e6e11",
   "metadata": {},
   "outputs": [
    {
     "data": {
      "text/plain": [
       "120"
      ]
     },
     "execution_count": 97,
     "metadata": {},
     "output_type": "execute_result"
    }
   ],
   "source": [
    "from functools import reduce\n",
    "l1=[1,2,3,4,5]\n",
    "\n",
    "reduce(lambda x,y:x*y,l1)"
   ]
  },
  {
   "cell_type": "code",
   "execution_count": null,
   "id": "a9d818d7-3537-4fd9-b02a-73edd06e5714",
   "metadata": {},
   "outputs": [],
   "source": []
  },
  {
   "cell_type": "markdown",
   "id": "af01c5ff-91fb-484b-88db-0d63ccb1f8ee",
   "metadata": {},
   "source": [
    "# Function Documentation and Best Practices:"
   ]
  },
  {
   "cell_type": "code",
   "execution_count": null,
   "id": "1330227f-a6a7-4d90-a693-9c3ce46f5f64",
   "metadata": {},
   "outputs": [],
   "source": [
    "\n"
   ]
  },
  {
   "cell_type": "markdown",
   "id": "f81dba97-b717-4d44-85e1-9dbceed2a4cb",
   "metadata": {},
   "source": [
    "## 1 Explain the purpose of docstrings in Python functions and how to write them."
   ]
  },
  {
   "cell_type": "markdown",
   "id": "97267e7b-a3d4-48e0-b1c4-4a4de6700842",
   "metadata": {},
   "source": [
    "Python documentation strings (or docstrings) provide a convenient way of associating documentation with Python modules, functions, classes, and methods. It’s specified in source code that is used, like a comment, to document a specific segment of code. Unlike conventional source code comments, the docstring should describe what the function does, not how.\n",
    "\n",
    "Declaring Docstrings: The docstrings are declared using ”’triple single quotes”’ or “”” triple double quotes “”” just below the class, method, or function declaration. All functions should have a docstring.\n",
    "Accessing Docstrings: The docstrings can be accessed using the __doc__ method of the object or using the help function. The below examples demonstrate how to declare and access a docstring.\n",
    "\n",
    "\n",
    "\n",
    "\n",
    "Triple-Quoted Strings\n",
    "This is the most common docstring format in Python. It involves using triple quotes (either single or double) to enclose the documentation text. Triple-quoted strings can span multiple lines and are often placed immediately below the function, class, or module definition"
   ]
  },
  {
   "cell_type": "code",
   "execution_count": 100,
   "id": "0ec32b49-0612-436c-9c3b-abddfb139edf",
   "metadata": {},
   "outputs": [
    {
     "name": "stdout",
     "output_type": "stream",
     "text": [
      "Using __doc__:\n",
      "Demonstrates triple double quotes\n",
      "\tdocstrings and does nothing really.\n",
      "Using help:\n",
      "Help on function my_function in module __main__:\n",
      "\n",
      "my_function()\n",
      "    Demonstrates triple double quotes\n",
      "    docstrings and does nothing really.\n",
      "\n"
     ]
    }
   ],
   "source": [
    "# docstring is writeen uder triple qoutr \"\"\"__\"\"\" or  '''____'''\n",
    "\n",
    "\n",
    "def my_function():\n",
    "\t'''Demonstrates triple double quotes\n",
    "\tdocstrings and does nothing really.'''\n",
    "\n",
    "\treturn None\n",
    "\n",
    "print(\"Using __doc__:\")\n",
    "print(my_function.__doc__)\n",
    "\n",
    "print(\"Using help:\")\n",
    "help(my_function)\n"
   ]
  },
  {
   "cell_type": "markdown",
   "id": "97e714ac-bf2d-44eb-a404-c34e285c6da2",
   "metadata": {},
   "source": [
    "## 2 Describe some best practices for naming functions and variables in Python, including naming conventions and guidelines.\n",
    "\n"
   ]
  },
  {
   "cell_type": "markdown",
   "id": "66714e7c-dff7-4b9b-8675-483d71ee36a4",
   "metadata": {},
   "source": [
    "1. Use descriptive and meaningful names\n",
    "\n",
    "\n",
    "2. Follow a consistent naming convention2. Follow a consistent naming convention\n",
    "\n",
    "CamelCase: This convention capitalizes the first letter of each word except for the first word. For example, \"firstName\" or \"lastName\".\n",
    "snake_case: This convention uses underscores to separate words. For example, \"first_name\" or \"last_name\".\n",
    "\n",
    "\n",
    "3. Avoid reserved keywords\n",
    "\n",
    "4. Don't use abbreviations\n",
    "\n",
    "5. Be mindful of variable scope\n"
   ]
  },
  {
   "cell_type": "code",
   "execution_count": null,
   "id": "00f53cd9-fb55-4f1f-9d3d-c11a074c7c14",
   "metadata": {},
   "outputs": [],
   "source": []
  }
 ],
 "metadata": {
  "kernelspec": {
   "display_name": "Python 3 (ipykernel)",
   "language": "python",
   "name": "python3"
  },
  "language_info": {
   "codemirror_mode": {
    "name": "ipython",
    "version": 3
   },
   "file_extension": ".py",
   "mimetype": "text/x-python",
   "name": "python",
   "nbconvert_exporter": "python",
   "pygments_lexer": "ipython3",
   "version": "3.10.8"
  }
 },
 "nbformat": 4,
 "nbformat_minor": 5
}
