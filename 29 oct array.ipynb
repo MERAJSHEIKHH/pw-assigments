{
 "cells": [
  {
   "cell_type": "markdown",
   "id": "09590672-7d56-4167-bdf0-795aad643540",
   "metadata": {},
   "source": [
    "# 1. Given an array, check if it contains any duplicates or not.\n",
    "# arr = [1, 2, 4, 2, 5, 9]"
   ]
  },
  {
   "cell_type": "code",
   "execution_count": 11,
   "id": "d52aa1c4-7d7b-4d88-b617-5898ff7a27ea",
   "metadata": {},
   "outputs": [
    {
     "name": "stdout",
     "output_type": "stream",
     "text": [
      "it has dublicates\n"
     ]
    }
   ],
   "source": [
    "def has_dublicat(arr):\n",
    "    # creating an empty list to store uniqe elments which was checked\n",
    "    num=[]\n",
    "    # creating a for loop\n",
    "    for i in arr:\n",
    "        # checking if the elemts is in the list or not \n",
    "        if i in num:\n",
    "            # if the elements is in the list it will return it has dublicates \n",
    "            return \"it has dublicates\"\n",
    "        # if the elemet is unique store in the empty list \n",
    "        num.append(i)\n",
    "        # if every elemnt is this will return not dublicate \n",
    "    return \"not dublicate\"\n",
    "# driver code        \n",
    "s=[1,  4,2,2, 5, 9]\n",
    "result=has_dublicat(s)\n",
    "print(result)"
   ]
  },
  {
   "cell_type": "markdown",
   "id": "8f7d30e8-fb1e-49f3-b228-c76184a54f4a",
   "metadata": {},
   "source": [
    "# 2. Given an array and an integer k, rotate the array to the right by k steps. arr = [1, 2, 3, 4, 5, 6, 7] k = 3 Output = [5, 6, 7, 1, 2, 3, 4]"
   ]
  },
  {
   "cell_type": "code",
   "execution_count": 2,
   "id": "89f6ac81-1733-4264-b0ef-aec9e947e736",
   "metadata": {},
   "outputs": [
    {
     "name": "stdout",
     "output_type": "stream",
     "text": [
      "[5, 6, 7, 1, 2, 3, 4]\n"
     ]
    }
   ],
   "source": [
    "def rotate_array(arr, k):\n",
    "    #here we r using slicing operation to find the lst k elements \n",
    "    A= arr[-k:]\n",
    "    # this code extract al the element except the last k elements\n",
    "    B=arr[:-k]\n",
    "    # the last k elemts will place at the begning then appends the remainging elemt which will result in the rotation to right by k speps  \n",
    "    return A+B\n",
    "\n",
    "# driver code \n",
    "arr = [1, 2, 3, 4, 5, 6, 7]\n",
    "k = 3\n",
    "rotated_arr = rotate_array(arr, k)\n",
    "print(rotated_arr)  "
   ]
  },
  {
   "cell_type": "markdown",
   "id": "f8dd19a4-417e-4cdd-9fb8-4386e39bb590",
   "metadata": {},
   "source": [
    "# 3. Reverse the given array in-place, means without using any extra data structure. arr = [2, 4, 5, 7, 9, 12] Output = [12, 9, 7, 5, 4, 2]"
   ]
  },
  {
   "cell_type": "code",
   "execution_count": 50,
   "id": "5264a788-0797-4029-bfa8-01f5112fe007",
   "metadata": {},
   "outputs": [
    {
     "data": {
      "text/plain": [
       "[12, 9, 7, 5, 4, 2]"
      ]
     },
     "execution_count": 50,
     "metadata": {},
     "output_type": "execute_result"
    }
   ],
   "source": [
    "def reverse_array(arr):\n",
    "    # by slicing opertation we r storing reversed array in b \n",
    "    b = arr[::+1] = arr[::-1]\n",
    "    return b\n",
    "\n",
    "# driver code \n",
    "arr = [2, 4, 5, 7, 9, 12]\n",
    "reverse_array(arr)"
   ]
  },
  {
   "cell_type": "markdown",
   "id": "06074b8b-0659-48f2-8e8b-d815ad005456",
   "metadata": {},
   "source": [
    "# 4. Given an array of integers, find the maximum element in an arrayarr = [10, 5, 20, 8, 15] Output = 20"
   ]
  },
  {
   "cell_type": "code",
   "execution_count": 24,
   "id": "b8382d1d-f574-4be8-9f57-bf9969fa318d",
   "metadata": {},
   "outputs": [
    {
     "name": "stdout",
     "output_type": "stream",
     "text": [
      "maximum element : 20 \n"
     ]
    }
   ],
   "source": [
    "def find_max(arr):\n",
    "    # using inbuilt function of max \n",
    "    a=max(arr)\n",
    "    # vreturning an output \n",
    "    return a\n",
    "\n",
    "arr = [10, 5, 20, 8, 15] \n",
    "\n",
    "# driver code \n",
    "\n",
    "result=find_max(arr)\n",
    "print(f\"maximum element : {result} \")"
   ]
  },
  {
   "cell_type": "markdown",
   "id": "c9f9f479-f901-401c-8a02-6da123c8a6cf",
   "metadata": {},
   "source": [
    "# 5. Given a sorted array, remove the duplicate element without using any extra data structure.arr = [1, 1, 2, 2, 2, 3, 3, 4, 4, 4, 5, 5]Output = [1, 2, 3, 4, 5]"
   ]
  },
  {
   "cell_type": "code",
   "execution_count": 42,
   "id": "0c80aa81-ade5-44d0-ba01-a4c650bef18d",
   "metadata": {},
   "outputs": [
    {
     "data": {
      "text/plain": [
       "[1, 2, 3, 4, 5]"
      ]
     },
     "execution_count": 42,
     "metadata": {},
     "output_type": "execute_result"
    }
   ],
   "source": [
    "def sorted_arr(arr):\n",
    "    # creating an empty list \n",
    "    l1=[]\n",
    "    # for loop for itteration \n",
    "    for i in arr:\n",
    "        # in this an ittirable wil append in l1 if it is not existing in l1 \n",
    "        if i  not in  l1:\n",
    "            l1.append(i)\n",
    "         # returning l1    \n",
    "    return l1\n",
    " \n",
    "arr = [1, 1, 2, 2, 2, 3, 3, 4, 4, 4, 5, 5]\n",
    "sorted_elements(arr)"
   ]
  }
 ],
 "metadata": {
  "kernelspec": {
   "display_name": "Python 3 (ipykernel)",
   "language": "python",
   "name": "python3"
  },
  "language_info": {
   "codemirror_mode": {
    "name": "ipython",
    "version": 3
   },
   "file_extension": ".py",
   "mimetype": "text/x-python",
   "name": "python",
   "nbconvert_exporter": "python",
   "pygments_lexer": "ipython3",
   "version": "3.10.8"
  }
 },
 "nbformat": 4,
 "nbformat_minor": 5
}
