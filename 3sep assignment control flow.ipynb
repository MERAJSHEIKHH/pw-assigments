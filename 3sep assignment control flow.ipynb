{
 "cells": [
  {
   "cell_type": "markdown",
   "id": "21306b3c-c9e0-4b2e-bd60-b2b44af957b6",
   "metadata": {},
   "source": [
    "# Basic If-Else Statements\n",
    "## 1. Write a Python program to check if a given number is positive or negative "
   ]
  },
  {
   "cell_type": "code",
   "execution_count": 17,
   "id": "71466ddd-e8d4-4353-96dd-15acb80ecd84",
   "metadata": {},
   "outputs": [
    {
     "name": "stdin",
     "output_type": "stream",
     "text": [
      " 2\n"
     ]
    },
    {
     "name": "stdout",
     "output_type": "stream",
     "text": [
      "number is positive\n"
     ]
    }
   ],
   "source": [
    "#providing input\n",
    "num=int(input())\n",
    "\n",
    "#providing conditions\n",
    "if num >=0:\n",
    "    if num==0:\n",
    "        print(\"num is zero\")\n",
    "    else:\n",
    "        print(\"number is positive\")\n",
    "else:\n",
    "    print(\"num is negative\")\n",
    "    \n",
    "       "
   ]
  },
  {
   "cell_type": "markdown",
   "id": "08fea374-2736-490f-a1db-d1feb062a582",
   "metadata": {},
   "source": [
    "## 2. Create a program that determines if a person is eligible to vote based on their age\n"
   ]
  },
  {
   "cell_type": "code",
   "execution_count": 18,
   "id": "0a209a80-a58b-433e-8f39-4b3d53c84a4f",
   "metadata": {},
   "outputs": [
    {
     "name": "stdin",
     "output_type": "stream",
     "text": [
      " 17\n"
     ]
    },
    {
     "name": "stdout",
     "output_type": "stream",
     "text": [
      "you are not eligible tovvote\n"
     ]
    }
   ],
   "source": [
    "#providing input\n",
    "\n",
    "age=int(input())\n",
    "\n",
    "#providing condition \n",
    "\n",
    "\n",
    "if age>=18:\n",
    "    print(\"you are eligible to vote\")\n",
    "else:\n",
    "    print(\"you are not eligible tovvote\")\n",
    "    \n"
   ]
  },
  {
   "cell_type": "markdown",
   "id": "7226d156-04c8-4c4b-ac6b-eb22cc5472ea",
   "metadata": {},
   "source": [
    "## 3. Develop a program to find the maximum of two numbers using if-else statements."
   ]
  },
  {
   "cell_type": "code",
   "execution_count": 19,
   "id": "cea0cb80-7174-4a09-b4c0-690bfee6bb34",
   "metadata": {},
   "outputs": [
    {
     "name": "stdin",
     "output_type": "stream",
     "text": [
      " 5\n",
      " 8\n"
     ]
    },
    {
     "name": "stdout",
     "output_type": "stream",
     "text": [
      "num 2 is grater 8\n"
     ]
    }
   ],
   "source": [
    "#providing input for num \n",
    "\n",
    "num1=int(input())\n",
    "num2=int(input())\n",
    "\n",
    "#providing conditions\n",
    "if num1>num2:\n",
    "    print(\"num 1 is greater:\",num1)\n",
    "else:\n",
    "    print(\"num 2 is grater\",num2)\n",
    "         "
   ]
  },
  {
   "cell_type": "markdown",
   "id": "d290ce74-6f21-471f-86fe-7f1cb2ce5b31",
   "metadata": {},
   "source": [
    "## 4. Write a Python script to classify a given year as a leap year or not"
   ]
  },
  {
   "cell_type": "code",
   "execution_count": 1,
   "id": "ee10d639-6995-4be6-83c6-1a55773e2913",
   "metadata": {},
   "outputs": [
    {
     "name": "stdin",
     "output_type": "stream",
     "text": [
      "enter year: 1904\n"
     ]
    },
    {
     "data": {
      "text/plain": [
       "True"
      ]
     },
     "execution_count": 1,
     "metadata": {},
     "output_type": "execute_result"
    }
   ],
   "source": [
    "def is_leap_year(year):\n",
    "    if (year % 4 == 0 and year % 100 != 0) or (year % 400 == 0):\n",
    "        return True\n",
    "    else:\n",
    "        return False\n",
    "\n",
    "year=int(input(\"enter year:\"))    \n",
    "is_leap_year(year)"
   ]
  },
  {
   "cell_type": "code",
   "execution_count": null,
   "id": "fd917861-45de-440a-9208-9aaa6eae1a7a",
   "metadata": {},
   "outputs": [],
   "source": []
  },
  {
   "cell_type": "markdown",
   "id": "183301db-8e82-45ce-90f4-85b1fa6a0df5",
   "metadata": {},
   "source": [
    "## 5. Create a program that checks whether a character is a vowel or a consonant."
   ]
  },
  {
   "cell_type": "code",
   "execution_count": 21,
   "id": "1b7f1c2e-86af-4a37-838c-5f39800fb1f7",
   "metadata": {},
   "outputs": [
    {
     "name": "stdin",
     "output_type": "stream",
     "text": [
      " e\n"
     ]
    },
    {
     "name": "stdout",
     "output_type": "stream",
     "text": [
      "this is a vowel\n"
     ]
    }
   ],
   "source": [
    "#providing input for vhar \n",
    "\n",
    "char=input().lower()\n",
    "\n",
    "# providing vowel list \n",
    "\n",
    "vowel=\"aeiou\"\n",
    "\n",
    "#providing conditions\n",
    "if char in vowel:\n",
    "    print(\"this is a vowel\")\n",
    "else:\n",
    "    print(\"this in not vowel\")"
   ]
  },
  {
   "cell_type": "code",
   "execution_count": null,
   "id": "9607ae8b-c952-4882-a5a0-9df7c5180108",
   "metadata": {},
   "outputs": [],
   "source": []
  },
  {
   "cell_type": "markdown",
   "id": "82d927ae-794f-4552-9c6c-e7ed78466252",
   "metadata": {},
   "source": [
    "## 6. Implement a program to determine whether a given number is even or odd."
   ]
  },
  {
   "cell_type": "code",
   "execution_count": 22,
   "id": "5940cf01-07ee-4781-9d54-3a60e9cc6021",
   "metadata": {},
   "outputs": [
    {
     "name": "stdin",
     "output_type": "stream",
     "text": [
      " 1\n"
     ]
    },
    {
     "name": "stdout",
     "output_type": "stream",
     "text": [
      "this is odd no\n"
     ]
    }
   ],
   "source": [
    "#providing input\n",
    "\n",
    "number=int(input())\n",
    "\n",
    "#providing conditions\n",
    "if number%2==0:\n",
    "    print(\"this no is even\")\n",
    "else:\n",
    "    print(\"this is odd no\")"
   ]
  },
  {
   "cell_type": "markdown",
   "id": "4d9d8bbc-1bf6-40d4-8678-4ed84e8d47b5",
   "metadata": {},
   "source": [
    "## 7. Write a Python function to calculate the absolute value of a number without using the `abs()` function"
   ]
  },
  {
   "cell_type": "code",
   "execution_count": 3,
   "id": "296840df-196a-48d5-b691-94f4018f12e1",
   "metadata": {},
   "outputs": [
    {
     "name": "stdin",
     "output_type": "stream",
     "text": [
      " -10\n"
     ]
    },
    {
     "name": "stdout",
     "output_type": "stream",
     "text": [
      "10\n"
     ]
    }
   ],
   "source": [
    "def calculate_absolute_value(number):\n",
    "    if number < 0:\n",
    "        return -number\n",
    "    else:\n",
    "        return number\n",
    "\n",
    "\n",
    "a=int(input())\n",
    "result = calculate_absolute_value(a)\n",
    "print(result)  #\n"
   ]
  },
  {
   "cell_type": "code",
   "execution_count": 5,
   "id": "717957f5-289f-4a71-8547-08fe3ae0ec6b",
   "metadata": {},
   "outputs": [
    {
     "data": {
      "text/plain": [
       "10"
      ]
     },
     "execution_count": 5,
     "metadata": {},
     "output_type": "execute_result"
    }
   ],
   "source": [
    "a=int(input())\n",
    "abs()"
   ]
  },
  {
   "cell_type": "markdown",
   "id": "b1cacbd7-31b9-44d8-9e6b-c6b8bb489b61",
   "metadata": {},
   "source": [
    "## 8. Develop a program that determines the largest of three given numbers using if-else statements."
   ]
  },
  {
   "cell_type": "code",
   "execution_count": 23,
   "id": "8383680a-aee8-4f37-8eee-80ef7f3b7ffc",
   "metadata": {},
   "outputs": [],
   "source": [
    "# providing function name \n",
    "def find_largest(num1,num2,num3):\n",
    "    \n",
    "    #PROVIDING CONDITION \n",
    "    \n",
    "    if num1> num2 and num1> num3:\n",
    "        print(\"num 1 is largest\",num1)\n",
    "    elif num2>num1 and num2>num3:\n",
    "        print(\"num 2 is largest\",num2)\n",
    "    else:\n",
    "        print(\"num 3 is largest\",num3)"
   ]
  },
  {
   "cell_type": "code",
   "execution_count": 24,
   "id": "1cbdb91c-4dde-44e9-b293-1d4a848d65eb",
   "metadata": {},
   "outputs": [
    {
     "name": "stdout",
     "output_type": "stream",
     "text": [
      "num 2 is largest 13\n"
     ]
    }
   ],
   "source": [
    "find_largest(12,13,12)"
   ]
  },
  {
   "cell_type": "markdown",
   "id": "45e66eaf-e781-4480-ae27-6a9a0beb7f61",
   "metadata": {},
   "source": [
    "## 9. Create a program that checks if a given string is a palindrome."
   ]
  },
  {
   "cell_type": "code",
   "execution_count": 25,
   "id": "9d1775ed-2802-44dc-bccf-7f56f7003761",
   "metadata": {},
   "outputs": [
    {
     "name": "stdin",
     "output_type": "stream",
     "text": [
      " radar\n"
     ]
    },
    {
     "name": "stdout",
     "output_type": "stream",
     "text": [
      "this is palindrome\n"
     ]
    }
   ],
   "source": [
    "# giving input for a\n",
    "a=input().lower()\n",
    "\n",
    "#giving input for b \n",
    "b=a[::-1]\n",
    "\n",
    "#providing condition \n",
    "if a== b:\n",
    "    \n",
    "    print(\"this is palindrome\")\n",
    "else:\n",
    "    print(\"this is not a palindrome\")\n"
   ]
  },
  {
   "cell_type": "markdown",
   "id": "8008c07d-310a-4811-93e8-c611f945e360",
   "metadata": {},
   "source": [
    "## 10. Write a Python program to calculate the grade based on a student's score."
   ]
  },
  {
   "cell_type": "code",
   "execution_count": 6,
   "id": "d1367747-40f0-4d52-94ee-72c062553994",
   "metadata": {},
   "outputs": [],
   "source": [
    "#providing function name\n",
    "\n",
    "def calculate_grade(score):\n",
    "   \n",
    "  #providing conditions\n",
    "    if score>=90:\n",
    "        return \"A\"\n",
    "    if score>=80 and  score < 90:\n",
    "        return \"B\"\n",
    "    if score>=70 and score < 80:\n",
    "        return \"c\"\n",
    "    else:\n",
    "        return \"d\"\n",
    "        "
   ]
  },
  {
   "cell_type": "code",
   "execution_count": 7,
   "id": "93fd6615-99ec-43d5-805f-d8c1d24f480a",
   "metadata": {},
   "outputs": [
    {
     "data": {
      "text/plain": [
       "'d'"
      ]
     },
     "execution_count": 7,
     "metadata": {},
     "output_type": "execute_result"
    }
   ],
   "source": [
    "calculate_grade(60)"
   ]
  },
  {
   "cell_type": "markdown",
   "id": "595b924e-8385-4db6-87b9-e4a66d4241d8",
   "metadata": {},
   "source": [
    "#  Nested If-Else Statements"
   ]
  },
  {
   "cell_type": "markdown",
   "id": "46cc9161-3b21-4472-90c0-866ab05cf1f4",
   "metadata": {},
   "source": [
    "## 11. Write a program to find the largest among three numbers using nested if-else statements"
   ]
  },
  {
   "cell_type": "code",
   "execution_count": 26,
   "id": "fe501cec-9660-4eba-b1ea-482d37f4b968",
   "metadata": {},
   "outputs": [
    {
     "name": "stdin",
     "output_type": "stream",
     "text": [
      "enter the first no : 5\n",
      "enter the second no 6\n",
      "enter the third no 7\n"
     ]
    },
    {
     "name": "stdout",
     "output_type": "stream",
     "text": [
      "the largest no is: 7\n"
     ]
    }
   ],
   "source": [
    "#providing input for numbers\n",
    "\n",
    "num1=int(input(\"enter the first no :\"))\n",
    "num2=int(input(\"enter the second no\"))\n",
    "num3=int(input(\"enter the third no\"))\n",
    "\n",
    "#providing conditions\n",
    "if num1>num2:\n",
    "    \n",
    "    if num1>num3:\n",
    "        \n",
    "        print(\"the largest no is:\",num1)\n",
    "    \n",
    "    else:\n",
    "        \n",
    "        if num2>num3:\n",
    "            \n",
    "            print(\"the largest no is:\",num2)\n",
    "else:\n",
    "    print(\"the largest no is:\",num3)\n",
    "\n",
    "    "
   ]
  },
  {
   "cell_type": "markdown",
   "id": "883bb250-fa23-4047-9c31-800fd79bc6d4",
   "metadata": {},
   "source": [
    "## 12. Implement a program to determine if a triangle is equilateral, isosceles, or scalene."
   ]
  },
  {
   "cell_type": "code",
   "execution_count": 5,
   "id": "7781282e-145b-4357-97eb-68990f5a4191",
   "metadata": {},
   "outputs": [
    {
     "name": "stdin",
     "output_type": "stream",
     "text": [
      " 4\n",
      " 5\n",
      " 5\n"
     ]
    },
    {
     "name": "stdout",
     "output_type": "stream",
     "text": [
      "this is an isoceles trianlge\n"
     ]
    }
   ],
   "source": [
    "side1=int(input())\n",
    "side2=int(input())\n",
    "side3=int(input())\n",
    "\n",
    "if side1==side2==side3:\n",
    "    print(\"this is an equilateral triangle\")\n",
    "    \n",
    "elif side1==side2 or side2==side3 or side3==side1:\n",
    "    print(\"this is an isoceles trianlge\")\n",
    "    \n",
    "    \n",
    "else:\n",
    "    print(\"this is an isoceles triangle\")\n",
    "    "
   ]
  },
  {
   "cell_type": "markdown",
   "id": "4c5b00ad-cb1f-4d7e-adfb-6f1e35e6a190",
   "metadata": {},
   "source": [
    "## 13. Develop a program that checks if a year is a leap year and also if it is a century year."
   ]
  },
  {
   "cell_type": "code",
   "execution_count": 2,
   "id": "cdaf2f18-5fd7-4197-8b48-fac245dde7e1",
   "metadata": {},
   "outputs": [
    {
     "name": "stdin",
     "output_type": "stream",
     "text": [
      " 1904\n"
     ]
    },
    {
     "name": "stdout",
     "output_type": "stream",
     "text": [
      "this is a leap year\n",
      "no it is not a century year\n"
     ]
    }
   ],
   "source": [
    "year= int(input())\n",
    "if (year % 4 == 0 and year % 100 != 0) or (year % 400 == 0):\n",
    "    print (\"this is a leap year\")\n",
    "else:\n",
    "    print(\"this is not a leap year\")\n",
    "\n",
    "\n",
    "if year % 100 == 0:\n",
    "    print(\"yes is is a century year\")\n",
    "        \n",
    "else:\n",
    "    print(\"no it is not a century year\")\n",
    "  \n",
    "\n"
   ]
  },
  {
   "cell_type": "code",
   "execution_count": null,
   "id": "7dd73aca-1f3d-41df-b4da-87c9c1c5262e",
   "metadata": {},
   "outputs": [],
   "source": []
  },
  {
   "cell_type": "markdown",
   "id": "f3b08100-0c1e-4044-8f9f-d9d770195feb",
   "metadata": {},
   "source": [
    "## 14. Write a Python script to determine if a number is positive, negative, or zero."
   ]
  },
  {
   "cell_type": "code",
   "execution_count": 28,
   "id": "50a919c5-412d-4be3-8406-60cf51e76d5e",
   "metadata": {},
   "outputs": [
    {
     "name": "stdin",
     "output_type": "stream",
     "text": [
      " 1\n"
     ]
    },
    {
     "name": "stdout",
     "output_type": "stream",
     "text": [
      "the no is positive\n"
     ]
    }
   ],
   "source": [
    "#providing input\n",
    "\n",
    "num=int(input())\n",
    "\n",
    "#providing conditions \n",
    "\n",
    "if num>=0:\n",
    "    if num==0:\n",
    "        print(\"the no is zero\")\n",
    "    else:\n",
    "        print(\"the no is positive\")\n",
    "else:\n",
    "    print(\"the no is negative\")\n"
   ]
  },
  {
   "cell_type": "markdown",
   "id": "db318d7e-6eea-4c53-9f2c-ccc23c39282a",
   "metadata": {},
   "source": [
    "## 15. Create a program to check if a person is a teenager (between 13 and 19 years old"
   ]
  },
  {
   "cell_type": "code",
   "execution_count": 2,
   "id": "7ed9dca3-1f77-4939-b070-a7a4518deb6c",
   "metadata": {},
   "outputs": [
    {
     "name": "stdin",
     "output_type": "stream",
     "text": [
      " 21\n"
     ]
    },
    {
     "name": "stdout",
     "output_type": "stream",
     "text": [
      "you are not a teenager\n"
     ]
    }
   ],
   "source": [
    "#providing age as a input\n",
    "\n",
    "age=int(input())\n",
    "\n",
    "# prviding conditions\n",
    "\n",
    "if 19>= age>=13:\n",
    "    print(\"you are a teenager\")\n",
    "else:\n",
    "    print(\"you are not a teenager\")"
   ]
  },
  {
   "cell_type": "markdown",
   "id": "0b4d418a-5637-4433-92f7-aa0f30ca0d1b",
   "metadata": {},
   "source": [
    "## 16. Develop a program that determines the type of angle based on its measure (acute, obtuse, or right)."
   ]
  },
  {
   "cell_type": "code",
   "execution_count": null,
   "id": "61486c83-8cbc-4f0b-a148-e5e430c0453d",
   "metadata": {},
   "outputs": [],
   "source": [
    "a=int(input(\"enter  side here:  \"))\n",
    "b=int(input(\"enter  side here:  \"))\n",
    "c=int(input(\"enter  side here:  \"))\n",
    "\n",
    "\n",
    "if a*a+b*b==c*c or b*b+c*c==a*a or c*c+a*a==b*b:\n",
    "    print(\"this is a right angled triangle\")\n",
    "    \n",
    "\n",
    "elif a*a+b*b>c*c  or b*b+c*c>a*a or c*c+a*a>b*b: \n",
    "    print(\"this is an acute angled triangle \")\n",
    "    \n",
    "\n",
    "elif a*a+b*b<c*c  or b*b+c*c<a*a or c*c+a*a<b*b: \n",
    "    print(\"this is an obtuse angled triangle\")\n",
    "    "
   ]
  },
  {
   "cell_type": "code",
   "execution_count": 1,
   "id": "0599b759-5ced-4402-8dcb-ff6b3ba7d2c9",
   "metadata": {},
   "outputs": [
    {
     "name": "stdin",
     "output_type": "stream",
     "text": [
      "Enter the angle measure in degrees:  92\n"
     ]
    },
    {
     "name": "stdout",
     "output_type": "stream",
     "text": [
      "The angle is a Obtuse Angle.\n"
     ]
    }
   ],
   "source": [
    "\n",
    "\n",
    "def angle_type(measure):\n",
    "    if measure < 90:\n",
    "        return \"Acute Angle\"\n",
    "    elif measure == 90:\n",
    "        return \"Right Angle\"\n",
    "    else:\n",
    "        return \"Obtuse Angle\"\n",
    "\n",
    "\n",
    "angle_measure = float(input(\"Enter the angle measure in degrees: \"))\n",
    "\n",
    "\n",
    "angle_result = angle_type(angle_measure)\n",
    "print(f\"The angle is a {angle_result}.\")\n"
   ]
  },
  {
   "cell_type": "code",
   "execution_count": null,
   "id": "83586089-6de0-430f-b5e9-c39c66715316",
   "metadata": {},
   "outputs": [],
   "source": []
  },
  {
   "cell_type": "markdown",
   "id": "21dfcf62-0624-4132-8c96-7e6af6ff04e2",
   "metadata": {},
   "source": [
    "## 17. Write a Python program to calculate the roots of a quadratic equation"
   ]
  },
  {
   "cell_type": "code",
   "execution_count": null,
   "id": "35888ba7-8354-4b6e-a356-d38c452e3e64",
   "metadata": {},
   "outputs": [],
   "source": [
    "# import complex math module\n",
    "import cmath\n",
    "\n",
    "a = 1\n",
    "b = 4\n",
    "c = 2\n",
    "\n",
    "# calculating the discriminant\n",
    "dis = (b**2) - (4 * a*c)\n",
    "\n",
    "# find two results\n",
    "ans1 = (-b-cmath.sqrt(dis))/(2 * a)\n",
    "ans2 = (-b + cmath.sqrt(dis))/(2 * a)\n",
    "\n",
    "# printing the results\n",
    "print('The roots are')\n",
    "print(ans1)\n",
    "print(ans2)\n"
   ]
  },
  {
   "cell_type": "code",
   "execution_count": null,
   "id": "e679656a-62ba-49f5-90b7-7f0940c94bc6",
   "metadata": {},
   "outputs": [],
   "source": []
  },
  {
   "cell_type": "markdown",
   "id": "fe1ad58f-7376-43f9-905e-0c6ce3209bbf",
   "metadata": {},
   "source": [
    "## 18. Implement a program to determine the day of the week based on a user-provided number (1 for Monday, 2 for Tuesday, etc.)\n"
   ]
  },
  {
   "cell_type": "code",
   "execution_count": 7,
   "id": "d54e954e-9d75-4dd1-b370-79a19144398c",
   "metadata": {},
   "outputs": [
    {
     "name": "stdin",
     "output_type": "stream",
     "text": [
      " 4\n"
     ]
    },
    {
     "name": "stdout",
     "output_type": "stream",
     "text": [
      "thursday\n"
     ]
    }
   ],
   "source": [
    "def find_day(n):\n",
    "    if n==1:\n",
    "        print(\"monday\")\n",
    "    if n==2:\n",
    "        print(\"tuesday\")\n",
    "    if n==3:\n",
    "        print(\"wednesday\")\n",
    "    \n",
    "    if n==4:\n",
    "        print(\"thursday\")\n",
    "    \n",
    "    if n==5:\n",
    "        print(\"friday\")\n",
    "    \n",
    "   \n",
    "    if n==6:\n",
    "        print(\"saturday\")\n",
    "\n",
    "user_provide_number = int(input())\n",
    "\n",
    "find_day(user_provide_number)"
   ]
  },
  {
   "cell_type": "markdown",
   "id": "04eba529-7966-44a8-8e29-772cf96ea251",
   "metadata": {},
   "source": [
    "## 19. Create a program that determines if a year is a leap year and also if it is evenly divisible by 400."
   ]
  },
  {
   "cell_type": "code",
   "execution_count": 11,
   "id": "f39fbae6-a31d-4cf0-afac-2e7c7a3a6519",
   "metadata": {},
   "outputs": [
    {
     "name": "stdin",
     "output_type": "stream",
     "text": [
      " 1904\n"
     ]
    },
    {
     "name": "stdout",
     "output_type": "stream",
     "text": [
      "this is a leap year \n",
      "no it is not evenly divisible by 400\n"
     ]
    }
   ],
   "source": [
    "year=int(input())\n",
    "\n",
    "if (year%2==0 and year%100!=0) or year%400==0:\n",
    "    print(\"this is a leap year \")\n",
    "    \n",
    "if year%400==0:\n",
    "    print(\"yes is it evenly divisible by 400\")\n",
    "else:\n",
    "    print(\"no it is not evenly divisible by 400\")"
   ]
  },
  {
   "cell_type": "markdown",
   "id": "11ad58ee-04db-4532-913b-a09b54944043",
   "metadata": {},
   "source": [
    "## 20. Develop a program that checks if a given number is prime or not using nested if-else statements"
   ]
  },
  {
   "cell_type": "code",
   "execution_count": 22,
   "id": "9eefaefd-f987-410d-ad05-304b440b634d",
   "metadata": {},
   "outputs": [
    {
     "name": "stdin",
     "output_type": "stream",
     "text": [
      " 7\n"
     ]
    },
    {
     "name": "stdout",
     "output_type": "stream",
     "text": [
      "7 is a prime number\n"
     ]
    }
   ],
   "source": [
    "num = int(input())\n",
    "# If given number is greater than 1\n",
    "if num > 1:\n",
    "\t# Iterate from 2 to n / 2\n",
    "\tfor i in range(2, int(num)-1):\n",
    "\t\t# If num is divisible by any number between\n",
    "\t\t# 2 and n / 2, it is not prime\n",
    "\t\tif num % i == 0:\n",
    "\t\t\tprint(num, \"is not a prime number\")\n",
    "\t\t\tbreak\n",
    "\telse:\n",
    "\t\tprint(num, \"is a prime number\")\n",
    "else:\n",
    "\tprint(num, \"is not a prime number\")\n"
   ]
  },
  {
   "cell_type": "code",
   "execution_count": null,
   "id": "e0912f8e-7bce-4f88-8566-ebea8f52db4e",
   "metadata": {},
   "outputs": [],
   "source": []
  },
  {
   "cell_type": "markdown",
   "id": "ebfc65f9-34f5-4854-8971-f59d940d5360",
   "metadata": {},
   "source": [
    "# elif statemnets \n"
   ]
  },
  {
   "cell_type": "markdown",
   "id": "32b8d490-6d5e-48c8-b088-d9384200de14",
   "metadata": {},
   "source": [
    "## 21. Write a Python program to assign grades based on different ranges of scores using elif statements.\n"
   ]
  },
  {
   "cell_type": "code",
   "execution_count": null,
   "id": "a87bc9a4-e2b8-4d07-88c9-8d69c5b9eec8",
   "metadata": {},
   "outputs": [],
   "source": []
  },
  {
   "cell_type": "code",
   "execution_count": 5,
   "id": "ab6a5eaf-c9d3-4c41-91cb-fe1613998dc0",
   "metadata": {},
   "outputs": [
    {
     "data": {
      "text/plain": [
       "'c'"
      ]
     },
     "execution_count": 5,
     "metadata": {},
     "output_type": "execute_result"
    }
   ],
   "source": [
    "#provide function name \n",
    "def calculate_grade(score):\n",
    "    \n",
    "#provide condition\n",
    "s   \n",
    "    if score>=90:\n",
    "        return \"A\"\n",
    "    elif score>=80 and  score < 90:\n",
    "        return \"B\"\n",
    "    elif score>=70 and score < 80:\n",
    "        return \"c\"\n",
    "    else:\n",
    "        return \"d\"\n",
    "  # calling function   \n",
    "calculate_grade(75)    \n",
    "        "
   ]
  },
  {
   "cell_type": "markdown",
   "id": "38fe64f0-ca2a-4fb4-8ca9-274396af0e5b",
   "metadata": {},
   "source": [
    "## 22. Implement a program to determine the type of a triangle based on its angles."
   ]
  },
  {
   "cell_type": "code",
   "execution_count": 4,
   "id": "b5c99fb9-bfb5-442c-a137-2eee91d02593",
   "metadata": {},
   "outputs": [
    {
     "name": "stdin",
     "output_type": "stream",
     "text": [
      "enter angle of first triangle 65\n",
      "enter angle of second triangle 70\n",
      "enter angle of third triangle 45\n"
     ]
    },
    {
     "name": "stdout",
     "output_type": "stream",
     "text": [
      "this is an acute angled triangle\n"
     ]
    }
   ],
   "source": [
    "angle1= int(input(\"enter angle of first triangle\"))\n",
    "angle2= int(input(\"enter angle of second triangle\"))\n",
    "angle3= int(input(\"enter angle of third triangle\"))\n",
    "\n",
    "\n",
    "if angle1+angle2+angle3!=180:\n",
    "    print(\"invalid triangle\")\n",
    "    \n",
    "\n",
    "else :\n",
    "    if angle1==angle2==angle3:\n",
    "        print(\"this is a right angled trianlge\")\n",
    "    \n",
    "    elif angle1>90 or angle2>90 or angle3>90:\n",
    "        print(\"this is an obtuse angle triangle\")\n",
    "    else:\n",
    "        print(\"this is an acute angled triangle\")\n"
   ]
  },
  {
   "cell_type": "code",
   "execution_count": null,
   "id": "ef68cc8b-f469-47e8-8c91-f9495464cd53",
   "metadata": {},
   "outputs": [],
   "source": []
  },
  {
   "cell_type": "markdown",
   "id": "44136b96-41e6-48c3-90f6-05d6dcff7059",
   "metadata": {},
   "source": [
    "## 23. Develop a program to categorize a given person's BMI into underweight, normal, overweight, or obese using \n",
    "elif statements."
   ]
  },
  {
   "cell_type": "code",
   "execution_count": 8,
   "id": "a5b7c0fa-810f-4428-925c-835db1607897",
   "metadata": {},
   "outputs": [
    {
     "name": "stdin",
     "output_type": "stream",
     "text": [
      "enter your weight in kg here 80\n",
      "enter your height in meter 1.55\n"
     ]
    },
    {
     "name": "stdout",
     "output_type": "stream",
     "text": [
      "your bmi is:  33.29864724245577\n",
      "over weight\n"
     ]
    }
   ],
   "source": [
    "weight_in_kg=float(input(\"enter your weight in kg here\"))\n",
    "height_in_meter=float(input(\"enter your height in meter\"))\n",
    "\n",
    "bmi=  weight_in_kg/ (height_in_meter*height_in_meter)\n",
    "\n",
    "print(\"your bmi is: \",bmi)\n",
    "\n",
    "if bmi < 18.5:\n",
    "    print(\"you r underweight\")\n",
    "    \n",
    "elif 18.5<bmi <24.9:\n",
    "    print(\"you are a normal weight\")\n",
    "    \n",
    "elif 25< bmi >29.9:\n",
    "    print(\"over weight\")\n",
    "elif  30< bmi >34.9:\n",
    "    print(\"obese\")\n",
    "\n",
    "else:\n",
    "    print(\"you are exta obse\")\n",
    "    \n"
   ]
  },
  {
   "cell_type": "code",
   "execution_count": null,
   "id": "4a64334d-5d23-4fa0-ae40-be890fecf0b4",
   "metadata": {},
   "outputs": [],
   "source": [
    "\n"
   ]
  },
  {
   "cell_type": "markdown",
   "id": "1a40a19d-c4ec-42bc-a47a-adfb1565d86b",
   "metadata": {},
   "source": [
    "## 24. Create a program that determines whether a given number is positive, negative, or zero using elif \n",
    "statements."
   ]
  },
  {
   "cell_type": "code",
   "execution_count": 29,
   "id": "62808701-7432-4068-8c1c-86fe6337f6e1",
   "metadata": {},
   "outputs": [
    {
     "name": "stdin",
     "output_type": "stream",
     "text": [
      " 1\n"
     ]
    },
    {
     "name": "stdout",
     "output_type": "stream",
     "text": [
      "num is positive\n"
     ]
    }
   ],
   "source": [
    "#provind num as input\n",
    "num=int(input())\n",
    "# providing conditons \n",
    "\n",
    "if num==0:\n",
    "    print(\"numm is zero\")\n",
    "elif num>0:\n",
    "    print(\"num is positive\")\n",
    "elif num<0:\n",
    "    print(\"num is negative\")\n",
    "    "
   ]
  },
  {
   "cell_type": "markdown",
   "id": "e19cbe75-36f9-47ea-855b-0b881332f50c",
   "metadata": {},
   "source": [
    "## 25. Write a Python script to determine the type of a character (uppercase, lowercase, or special) using elif statements\n"
   ]
  },
  {
   "cell_type": "code",
   "execution_count": 8,
   "id": "7017465e-2ef8-4c5c-a701-3f7e73033088",
   "metadata": {},
   "outputs": [
    {
     "name": "stdin",
     "output_type": "stream",
     "text": [
      " @$\n"
     ]
    },
    {
     "name": "stdout",
     "output_type": "stream",
     "text": [
      "this is special\n"
     ]
    }
   ],
   "source": [
    "# providing input \n",
    "char= input()\n",
    "\n",
    "if char.isupper():\n",
    "    \n",
    "    #providing conditions\n",
    "    print(\"this is uppercase\")\n",
    "elif char.islower():\n",
    "    print(\"this is lowercase\")\n",
    "else:\n",
    "    print(\"this is special\")"
   ]
  },
  {
   "cell_type": "markdown",
   "id": "a03bf667-e1ea-4a38-9275-a60b5cfcb315",
   "metadata": {},
   "source": [
    "## 26. Implement a program to calculate the discounted price based on different purchase amounts using elif \n",
    "statements."
   ]
  },
  {
   "cell_type": "code",
   "execution_count": 31,
   "id": "112facc7-efcc-4952-9922-3fbf6d783121",
   "metadata": {},
   "outputs": [
    {
     "data": {
      "text/plain": [
       "3850.0"
      ]
     },
     "execution_count": 31,
     "metadata": {},
     "output_type": "execute_result"
    }
   ],
   "source": [
    "#providing fun name\n",
    "def calculate_discounted_price(amount):\n",
    "    if amount>=5000:\n",
    "        discount=0.3\n",
    "    elif amount>=3000:\n",
    "        discount=0.2\n",
    "    elif amount>=1000:\n",
    "        discount=0.1\n",
    "    else:\n",
    "        discount=0\n",
    "# giving obj to discounted price \n",
    "    discounted_price= amount-(amount*discount) \n",
    "    return discounted_price\n",
    "\n",
    " #calling function    \n",
    "calculate_discounted_price(5500)"
   ]
  },
  {
   "cell_type": "code",
   "execution_count": null,
   "id": "02332048-93c1-41b2-bde2-fc51914ca33c",
   "metadata": {},
   "outputs": [],
   "source": [
    "\n",
    "                          \n",
    "                "
   ]
  },
  {
   "cell_type": "markdown",
   "id": "7d957727-e873-45b8-8de6-8b32d3ef5ec1",
   "metadata": {},
   "source": [
    "## 27. Develop a program to calculate the electricity bill based on different consumption slabs using elif statements"
   ]
  },
  {
   "cell_type": "code",
   "execution_count": null,
   "id": "72435d77-7b19-4fc9-a5c7-b1ca9d71f6cb",
   "metadata": {},
   "outputs": [],
   "source": []
  },
  {
   "cell_type": "code",
   "execution_count": 35,
   "id": "dd4df473-9c35-4c89-8dd5-37ce5822284c",
   "metadata": {},
   "outputs": [
    {
     "name": "stdin",
     "output_type": "stream",
     "text": [
      " 600\n"
     ]
    },
    {
     "name": "stdout",
     "output_type": "stream",
     "text": [
      "your bill is 3000\n"
     ]
    }
   ],
   "source": [
    "unit=int(input())\n",
    "if unit<200:\n",
    "    rate=0\n",
    "elif 300>=unit>200:\n",
    "    rate=4\n",
    "else: \n",
    "    rate=5\n",
    "    \n",
    "electricity_bill=unit*rate\n",
    "print(f\"your bill is {electricity_bill}\")"
   ]
  },
  {
   "cell_type": "markdown",
   "id": "bbbfe824-2556-4372-b618-cc7d55c41a42",
   "metadata": {},
   "source": [
    "## 28. Create a program to determine the type of quadrilateral based on its angles and sides using elif\n",
    "## statements."
   ]
  },
  {
   "cell_type": "code",
   "execution_count": 1,
   "id": "3354b959-ad15-4ea3-a28b-00fa3f57e6b6",
   "metadata": {},
   "outputs": [
    {
     "name": "stdin",
     "output_type": "stream",
     "text": [
      "enter angle 1 90\n",
      "enter angle 2 90\n",
      "enter angle 3 90\n",
      "enter angle 4 90\n",
      "enter side 1  9\n",
      "enter side 2 length 9\n",
      "enter side 3 length 9\n",
      "enter side 4 length 9\n"
     ]
    },
    {
     "name": "stdout",
     "output_type": "stream",
     "text": [
      "this qd is square\n"
     ]
    }
   ],
   "source": [
    "#self\n",
    "\n",
    "\n",
    "\n",
    "\n",
    "\n",
    "\n",
    "#def angles_qd(angles):\n",
    "    \n",
    "#angles = [int(input(f\"Enter side {i+1} length: \")) for i in range(4)]\n",
    "angle1=int(input(\"enter angle 1\"))\n",
    "angle2=int(input(\"enter angle 2\"))\n",
    "angle3=int(input(\"enter angle 3\"))\n",
    "angle4=int(input(\"enter angle 4\"))\n",
    " #   return ang\n",
    "    \n",
    "#sides= [int(input(f\"Enter side {i+1} length: \")) for i in range(4)]\n",
    "side1=int(input(\"enter side 1 \"))\n",
    "side2=int(input(\"enter side 2 length\"))\n",
    "side3=int(input(\"enter side 3 length\"))\n",
    "side4=int(input(\"enter side 4 length\"))\n",
    "   \n",
    "    \n",
    "if angle1+angle2+angle3+angle4!=360:\n",
    "    \n",
    "    print(\"this is  invalid quadrilatoerial \")\n",
    "    \n",
    "else:\n",
    "    \n",
    "    if angle1==angle2==angle3==angle4 and side1==side2==side3==side4:\n",
    "        \n",
    "        print(\"this qd is square\")\n",
    "        \n",
    "        \n",
    "    elif side1==side3 and side2==side4 and angle1==angle2==angle3==angle4:\n",
    "        print(\"this is rectangle\")\n",
    "        \n",
    "    elif  side1==side2==side3==side4 and    angle1==angle3==angle2==angle4:\n",
    "        print(\"rhombus\")\n",
    "        \n",
    "    elif side1==side3 and side2==side4  and   angle1==angle3==angle2==angle4:\n",
    "        print(\"parellogram\")\n",
    "        \n",
    "    elif     side1==side3 or side2==side4 and angle1+angle2==180 and angle2+angle4==180 and angle4+angle3==180 and angle3+angle1==180 :\n",
    "        print(\"this is trapozoid \")\n",
    "        \n",
    "        \n",
    " #   if sides[0] == sides[1] or sides[2] == sides[3]:\n",
    "  #      return \"Trapezoid\"\n",
    "    elif side1 == side2 and side3 == side4 or side2 == side3 and side4 == sides1:\n",
    "        print(\"Kite\")\n",
    "    else:\n",
    "        print(\"General Quadrilateral\")\n",
    "\n",
    "\n",
    "\n",
    "     \n",
    "       \n",
    "\n",
    "\n",
    "\n",
    "\n",
    "                \n",
    "                "
   ]
  },
  {
   "cell_type": "code",
   "execution_count": 3,
   "id": "64952fc7-2990-4f4b-b232-4d13b6e7317c",
   "metadata": {},
   "outputs": [
    {
     "name": "stdin",
     "output_type": "stream",
     "text": [
      "Enter angle 1:  90\n",
      "Enter angle 2:  90\n",
      "Enter angle 3:  90\n",
      "Enter angle 4:  90\n",
      "Enter side 1 length:  9\n",
      "Enter side 2 length:  9\n",
      "Enter side 3 length:  9\n",
      "Enter side 4 length:  9\n"
     ]
    },
    {
     "name": "stdout",
     "output_type": "stream",
     "text": [
      "Parallelogram\n"
     ]
    }
   ],
   "source": [
    "#only for practice\n",
    "\n",
    "\n",
    "\n",
    "\n",
    "angles = [int(input(f\"Enter angle {i+1}: \")) for i in range(4)]\n",
    "sides = [int(input(f\"Enter side {i+1} length: \")) for i in range(4)]\n",
    "\n",
    "\n",
    "if sum(angles) != 360:\n",
    "        print(\"Invalid Quadrilateral\")\n",
    "\n",
    "num_equal_sides = sides.count(sides)  # Count of sides with same length\n",
    "\n",
    "if num_equal_sides == 4:\n",
    "    print(\"Square\")\n",
    "elif num_equal_sides == 2:\n",
    "    print(\"Rectangle\")\n",
    "elif num_equal_sides == 1 and angles.count(90) == 4:\n",
    "    print(\"Rhombus\")\n",
    "elif sides[0] == sides[2] and sides[1] == sides[3]:\n",
    "    print(\"Parallelogram\")\n",
    "elif sides[0] == sides[1] or sides[2] == sides[3]:\n",
    "    print(\"Trapezoid\")\n",
    "elif (sides[0] == sides[1] and sides[2] == sides[3]) or (sides[1] == sides[2] and sides[3] == sides[0]):\n",
    "    print(\"Kite\")\n",
    "else:\n",
    "        \n",
    "        print(\"General Quadrilateral\")\n"
   ]
  },
  {
   "cell_type": "code",
   "execution_count": null,
   "id": "49b588cb-6c9d-4897-8ce8-466fb0445fdb",
   "metadata": {},
   "outputs": [],
   "source": []
  },
  {
   "cell_type": "markdown",
   "id": "e89f9c76-8b22-420b-a879-4d7f2f23f4a0",
   "metadata": {},
   "source": [
    "## 29. Write a Python script to determine the season based on a user-provided month using elif statements."
   ]
  },
  {
   "cell_type": "code",
   "execution_count": 4,
   "id": "1879817b-21f9-4357-9c65-80e7ccf1ccf0",
   "metadata": {},
   "outputs": [
    {
     "ename": "TypeError",
     "evalue": "list.count() takes exactly one argument (0 given)",
     "output_type": "error",
     "traceback": [
      "\u001b[0;31m---------------------------------------------------------------------------\u001b[0m",
      "\u001b[0;31mTypeError\u001b[0m                                 Traceback (most recent call last)",
      "Cell \u001b[0;32mIn[4], line 2\u001b[0m\n\u001b[1;32m      1\u001b[0m l\u001b[38;5;241m=\u001b[39m[\u001b[38;5;241m1\u001b[39m,\u001b[38;5;241m1\u001b[39m,\u001b[38;5;241m2\u001b[39m,\u001b[38;5;241m3\u001b[39m,\u001b[38;5;241m4\u001b[39m,\u001b[38;5;241m5\u001b[39m,\u001b[38;5;241m5\u001b[39m]\n\u001b[0;32m----> 2\u001b[0m \u001b[43ml\u001b[49m\u001b[38;5;241;43m.\u001b[39;49m\u001b[43mcount\u001b[49m\u001b[43m(\u001b[49m\u001b[43m)\u001b[49m\n\u001b[1;32m      3\u001b[0m help(count)\n",
      "\u001b[0;31mTypeError\u001b[0m: list.count() takes exactly one argument (0 given)"
     ]
    }
   ],
   "source": [
    "l=[1,1,2,3,4,5,5]\n",
    "l.count()\n",
    "help(count)"
   ]
  },
  {
   "cell_type": "code",
   "execution_count": 2,
   "id": "d3d44186-3771-4122-bbe8-4203c51fcc4b",
   "metadata": {},
   "outputs": [
    {
     "ename": "NameError",
     "evalue": "name 'count' is not defined",
     "output_type": "error",
     "traceback": [
      "\u001b[0;31m---------------------------------------------------------------------------\u001b[0m",
      "\u001b[0;31mNameError\u001b[0m                                 Traceback (most recent call last)",
      "Cell \u001b[0;32mIn[2], line 1\u001b[0m\n\u001b[0;32m----> 1\u001b[0m help(\u001b[43mcount\u001b[49m)\n",
      "\u001b[0;31mNameError\u001b[0m: name 'count' is not defined"
     ]
    }
   ],
   "source": [
    "help(count)"
   ]
  },
  {
   "cell_type": "code",
   "execution_count": 38,
   "id": "d7f55e56-3b3f-4dfa-a167-7258df5cc58a",
   "metadata": {},
   "outputs": [
    {
     "name": "stdin",
     "output_type": "stream",
     "text": [
      " 5\n"
     ]
    },
    {
     "data": {
      "text/plain": [
       "'Spring'"
      ]
     },
     "execution_count": 38,
     "metadata": {},
     "output_type": "execute_result"
    }
   ],
   "source": [
    "def get_season(month):\n",
    "    if month in [12, 1, 2]:\n",
    "        season = \"Winter\"\n",
    "    elif month in [3, 4, 5]:\n",
    "        season = \"Spring\"\n",
    "    elif month in [6, 7, 8]:\n",
    "        season = \"Summer\"\n",
    "    elif month in [9, 10, 11]:\n",
    "        season = \"Autumn\"\n",
    "    else:\n",
    "        season = \"Invalid month\"\n",
    "    return season\n",
    "\n",
    "\n",
    "month=int(input())\n",
    "\n",
    "get_season(month)"
   ]
  },
  {
   "cell_type": "markdown",
   "id": "0eb1ae70-4f35-44a5-a85e-5260ccdb379c",
   "metadata": {},
   "source": [
    "# basic level"
   ]
  },
  {
   "cell_type": "markdown",
   "id": "efaa2fc7-ee2d-4c0e-bb67-fbf226a899d9",
   "metadata": {},
   "source": [
    "## 1. Write a Python program that checks if a given number is positive, negative, or zero."
   ]
  },
  {
   "cell_type": "code",
   "execution_count": 42,
   "id": "a90c1596-797e-4266-9421-b66e49aba294",
   "metadata": {},
   "outputs": [
    {
     "name": "stdin",
     "output_type": "stream",
     "text": [
      " 1\n"
     ]
    },
    {
     "name": "stdout",
     "output_type": "stream",
     "text": [
      "theno is p0stitive\n"
     ]
    }
   ],
   "source": [
    "num=int(input())\n",
    "\n",
    "if num>=0:\n",
    "\n",
    "\n",
    "    if num==0:\n",
    "\n",
    "        print(\"the no is zero\")\n",
    "    else:\n",
    "        print(\"theno is p0stitive\")\n",
    "\n",
    "else:\n",
    "    print(\"the no is negative\")        \n",
    "\n",
    "    \n",
    "\n",
    "\n",
    "      \n",
    "\n"
   ]
  },
  {
   "cell_type": "markdown",
   "id": "c8c8540c-4945-4de5-9cb8-fbd9165ed922",
   "metadata": {},
   "source": [
    "## 2. Create a program to determine if a person is eligible to vote based on their age."
   ]
  },
  {
   "cell_type": "code",
   "execution_count": 46,
   "id": "00020d7e-a161-4980-8d87-18feaae2bc50",
   "metadata": {},
   "outputs": [
    {
     "name": "stdin",
     "output_type": "stream",
     "text": [
      "enter your age here: 19\n"
     ]
    },
    {
     "name": "stdout",
     "output_type": "stream",
     "text": [
      "yes you r eligible to vote\n"
     ]
    }
   ],
   "source": [
    "age= int(input(\"enter your age here:\"))\n",
    "\n",
    "if age>=18:\n",
    "    print(\"yes you r eligible to vote\")\n",
    "else:\n",
    "    print(\"no you r eligible to vote\")"
   ]
  },
  {
   "cell_type": "markdown",
   "id": "40021272-083b-45f4-91fa-8645163436ea",
   "metadata": {},
   "source": [
    "## 3. Write a program to find the maximum of two given numbers using conditional statements."
   ]
  },
  {
   "cell_type": "code",
   "execution_count": 10,
   "id": "9d4be2db-6523-4404-90c4-e3633f7e942e",
   "metadata": {},
   "outputs": [
    {
     "name": "stdin",
     "output_type": "stream",
     "text": [
      "enter first no 1\n",
      "enter  second no  1\n"
     ]
    },
    {
     "name": "stdout",
     "output_type": "stream",
     "text": [
      "both no is equal\n"
     ]
    }
   ],
   "source": [
    "num1=int(input(\"enter first no\"))\n",
    "num2=int(input(\"enter  second no \"))\n",
    "\n",
    "\n",
    "\n",
    "if num1>num2:\n",
    "    print(\"the  greater no is:\",num1)\n",
    "elif num2>num1:\n",
    "        print(\"the  greater no is:\",num2)\n",
    "else:\n",
    "    print(\"both no is equal\")"
   ]
  },
  {
   "cell_type": "markdown",
   "id": "270c61a7-ff3b-4890-9d47-760a12bdce9c",
   "metadata": {},
   "source": [
    "## 4. Develop a program that calculates the grade of a student based on their exam score."
   ]
  },
  {
   "cell_type": "code",
   "execution_count": 14,
   "id": "f6a8a8d5-1f12-483c-9488-db2dc52aef24",
   "metadata": {},
   "outputs": [
    {
     "name": "stdin",
     "output_type": "stream",
     "text": [
      "enter your score here : 70\n"
     ]
    },
    {
     "name": "stdout",
     "output_type": "stream",
     "text": [
      "your score is : C\n"
     ]
    }
   ],
   "source": [
    "score= int(input(\"enter your score here :\"))\n",
    "\n",
    "if  100>= score>=90:\n",
    "    print(\"your score is: A\")\n",
    "elif   90>score>=80:\n",
    "       print(\"your score is:B\")\n",
    "elif 80>score>=70:\n",
    "    print(\"your score is : C\")\n",
    "    \n",
    "else:\n",
    "    print(\"your score is : D\")"
   ]
  },
  {
   "cell_type": "markdown",
   "id": "80421b5e-edc0-4b52-aa55-9e24124162e6",
   "metadata": {},
   "source": [
    "## 5. Create a program that checks if a year is a leap year or not."
   ]
  },
  {
   "cell_type": "code",
   "execution_count": 20,
   "id": "b3ca4575-8bec-4a78-b8c0-6b4f8db044d2",
   "metadata": {},
   "outputs": [
    {
     "name": "stdin",
     "output_type": "stream",
     "text": [
      "enter year here: 2000\n"
     ]
    },
    {
     "name": "stdout",
     "output_type": "stream",
     "text": [
      "this is a leap year \n"
     ]
    }
   ],
   "source": [
    "# providing input\n",
    "year=int(input(\"enter year here:\"))\n",
    "\n",
    "#providing conditon  if this conditon is satisfied  it will go to next condition \n",
    "if year%4==0 and year%400==0:\n",
    "    \n",
    "    if year%100==0:\n",
    "           print(\"this is a leap year \")\n",
    "    else:\n",
    "        print(\"this is not a leap year \")\n",
    "else:\n",
    "    print(\"no this is not a leap year \")"
   ]
  },
  {
   "cell_type": "code",
   "execution_count": null,
   "id": "f0d00b9f-c48e-4265-a011-aaba2832c10d",
   "metadata": {},
   "outputs": [],
   "source": []
  },
  {
   "cell_type": "markdown",
   "id": "81ffa2e6-eb0f-4748-a070-47750a56de0e",
   "metadata": {},
   "source": [
    "## 6. Write a program to classify a triangle based on its sides' lengths."
   ]
  },
  {
   "cell_type": "code",
   "execution_count": 22,
   "id": "3b149a7a-29d0-4208-89a1-0ac7b0778ffe",
   "metadata": {},
   "outputs": [
    {
     "name": "stdin",
     "output_type": "stream",
     "text": [
      "enter first side of a triangle: 1\n",
      "enter second side of a triangle: 4\n",
      "enter third side of a triangle: 8\n"
     ]
    },
    {
     "name": "stdout",
     "output_type": "stream",
     "text": [
      "this is a scelene triangle \n"
     ]
    }
   ],
   "source": [
    "side1= int(input(\"enter first side of a triangle:\"))\n",
    "side2=int(input(\"enter second side of a triangle:\"))\n",
    "side3= int(input(\"enter third side of a triangle:\"))\n",
    "\n",
    "if side1==side2==side3:\n",
    "    print(\"this triangle is an equilateral triangle\")\n",
    "    \n",
    "elif side1== side2 or side2==side3 or side3== side1:\n",
    "    print(\"this is a isoceles triangle \")\n",
    "    \n",
    "else: \n",
    "    print(\"this is a scelene triangle \")"
   ]
  },
  {
   "cell_type": "markdown",
   "id": "54811f3c-e4e4-4f97-81ec-a411aabf35bf",
   "metadata": {},
   "source": [
    "## 7. Build a program that determines the largest of three given numbers."
   ]
  },
  {
   "cell_type": "code",
   "execution_count": 6,
   "id": "81d48be6-7760-4dba-bdd0-d83ac913f686",
   "metadata": {},
   "outputs": [
    {
     "name": "stdin",
     "output_type": "stream",
     "text": [
      "enter your first number here 7\n",
      "enter your second number here 7\n",
      "enter your third number here 7\n"
     ]
    },
    {
     "name": "stdout",
     "output_type": "stream",
     "text": [
      "the greatest no is  7\n"
     ]
    }
   ],
   "source": [
    "num1=int(input(\"enter your first number here\"))\n",
    "num2=int(input(\"enter your second number here\"))\n",
    "num3=int(input(\"enter your third number here\"))\n",
    "\n",
    "if num1>=num2 and num1>=num3:\n",
    "    print(\"the greatest no is \",num1)\n",
    "    \n",
    "elif num2>=num1 and num2>=num3:\n",
    "        print(\"the greatest no is \",num2)\n",
    "else:\n",
    "    print(\"the greatest no is \",num3)"
   ]
  },
  {
   "cell_type": "markdown",
   "id": "e7b4ad88-3c92-44d8-a002-3e5f90486038",
   "metadata": {},
   "source": [
    "## 8. Develop a program that checks whether a character is a vowel or a consonant."
   ]
  },
  {
   "cell_type": "code",
   "execution_count": 9,
   "id": "0d28c86a-539f-4bd2-997d-06989a3f868d",
   "metadata": {},
   "outputs": [
    {
     "name": "stdin",
     "output_type": "stream",
     "text": [
      "enter your character here t\n"
     ]
    },
    {
     "name": "stdout",
     "output_type": "stream",
     "text": [
      "this is consonant\n"
     ]
    }
   ],
   "source": [
    "character= input(\"enter your character here\")\n",
    "vowel=\"aeiouAEIOU\"\n",
    "\n",
    "for char in character :\n",
    "    if char in vowel :\n",
    "        print(\"this is vowel \")\n",
    "        \n",
    "    else:\n",
    "        print(\"this is consonant\")\n",
    "        "
   ]
  },
  {
   "cell_type": "markdown",
   "id": "8f059f71-983a-4072-8caa-7b296d03c9e9",
   "metadata": {},
   "source": [
    "## 9. Create a program to calculate the total cost of a shopping cart based on discounts."
   ]
  },
  {
   "cell_type": "code",
   "execution_count": 40,
   "id": "25e17a67-b712-4f97-bf65-7b8f9dfeda05",
   "metadata": {},
   "outputs": [
    {
     "name": "stdout",
     "output_type": "stream",
     "text": [
      "the total cost of shopping cart is  2160.0\n"
     ]
    }
   ],
   "source": [
    "total_cost=0\n",
    "#list_item=[\"mango\",\"papaya\",\"gajar\",\"apple\",\"orange\"]\n",
    "list_price=[400,500,900,600,300]\n",
    "\n",
    "for i in list_price:\n",
    "    total_cost+=i\n",
    "    if total_cost>2500:\n",
    "        discount=20\n",
    "        \n",
    "discountned_price=total_cost-(discount/100*total_cost)\n",
    "        \n",
    "    #         print((\"the total cost of shopping cart is \",discoutned_price)        \n",
    "print(\"the total cost of shopping cart is \",discoutned_price)"
   ]
  },
  {
   "cell_type": "markdown",
   "id": "b52321a4-b572-49ee-9c50-27edea9a7314",
   "metadata": {},
   "source": [
    "## 10. Write a program that checks if a given number is even or odd."
   ]
  },
  {
   "cell_type": "code",
   "execution_count": 43,
   "id": "ee0e5519-7d34-48ca-a6f8-8955ce5a5fae",
   "metadata": {},
   "outputs": [
    {
     "name": "stdin",
     "output_type": "stream",
     "text": [
      "enter a number here: 7\n"
     ]
    },
    {
     "name": "stdout",
     "output_type": "stream",
     "text": [
      "this is a odd no \n"
     ]
    }
   ],
   "source": [
    "num= int(input(\"enter a number here:\"))\n",
    "\n",
    "if num % 2==0:\n",
    "    print(\"this is an even no \")\n",
    "else:\n",
    "    print(\"this is a odd no \")"
   ]
  },
  {
   "cell_type": "code",
   "execution_count": null,
   "id": "52d848cc-5cb5-486f-a416-b8476e98c871",
   "metadata": {},
   "outputs": [],
   "source": []
  },
  {
   "cell_type": "markdown",
   "id": "8b47be1f-3fe9-4ec5-89e4-fdbee7217658",
   "metadata": {},
   "source": [
    "# intermediate"
   ]
  },
  {
   "cell_type": "markdown",
   "id": "c473c213-fe86-4101-a294-f3a81bff04f4",
   "metadata": {},
   "source": [
    "## 11. Write a program that calculates the roots of a quadratic equation "
   ]
  },
  {
   "cell_type": "code",
   "execution_count": 8,
   "id": "2b672981-5f55-46e6-97eb-7573a991e2f6",
   "metadata": {},
   "outputs": [
    {
     "name": "stdin",
     "output_type": "stream",
     "text": [
      "enter a 1 no here 12\n",
      "enter a 2 no here 13\n",
      "enter a 3 no here 14\n"
     ]
    },
    {
     "name": "stdout",
     "output_type": "stream",
     "text": [
      "Roots are complex and different\n",
      "Root 1: -0.5416666666666666 + 0.9344858955002419 i\n",
      "Root 2: -0.5416666666666666 - 0.9344858955002419 i\n"
     ]
    }
   ],
   "source": [
    "import math\n",
    "\n",
    "a = float(input(\"enter a 1 no here\"))\n",
    "b = float(input(\"enter a 2 no here\"))\n",
    "c = float(input(\"enter a 3 no here\"))\n",
    "\n",
    "# Calculate the discriminant\n",
    "discriminant = b ** 2 - 4 * a * c\n",
    "\n",
    "if discriminant > 0:\n",
    "\troot1 = (-b + math.sqrt(discriminant)) / (2 * a)\n",
    "\troot2 = (-b - math.sqrt(discriminant)) / (2 * a)\n",
    "\tprint(\"Roots are real and distinct\")\n",
    "\tprint(\"Root 1:\", root1)\n",
    "\tprint(\"Root 2:\", root2)\n",
    "elif discriminant == 0:\n",
    "\troot = -b / (2 * a)\n",
    "\tprint(\"Roots are real and same\")\n",
    "\tprint(\"Root:\", root)\n",
    "else:\n",
    "\trealPart = -b / (2 * a)\n",
    "\timaginaryPart = math.sqrt(-discriminant) / (2 * a)\n",
    "\tprint(\"Roots are complex and different\")\n",
    "\tprint(\"Root 1:\", realPart, \"+\", imaginaryPart, \"i\")\n",
    "\tprint(\"Root 2:\", realPart, \"-\", imaginaryPart, \"i\")\n"
   ]
  },
  {
   "cell_type": "code",
   "execution_count": null,
   "id": "dc87b678-cd2c-4cab-8479-8a067f0be9ad",
   "metadata": {},
   "outputs": [],
   "source": []
  },
  {
   "cell_type": "code",
   "execution_count": null,
   "id": "516c8f17-5e0c-4343-b2c5-757a35a7595f",
   "metadata": {},
   "outputs": [],
   "source": []
  },
  {
   "cell_type": "code",
   "execution_count": null,
   "id": "b08fb8a1-86b9-4035-9b63-2697a1e50190",
   "metadata": {},
   "outputs": [],
   "source": []
  },
  {
   "cell_type": "markdown",
   "id": "61e35ff2-a9bb-4ab9-9345-238c09d3614b",
   "metadata": {},
   "source": [
    "## 12. Create a program that determines the day of the week based on the day number (1-7)."
   ]
  },
  {
   "cell_type": "code",
   "execution_count": 13,
   "id": "606d8257-01a9-4b4f-a749-50d2966335fc",
   "metadata": {},
   "outputs": [
    {
     "name": "stdin",
     "output_type": "stream",
     "text": [
      "Enter a day number (1-7):  6\n"
     ]
    },
    {
     "name": "stdout",
     "output_type": "stream",
     "text": [
      "The day of the week is friday\n"
     ]
    }
   ],
   "source": [
    "\n",
    "#self\n",
    "\n",
    "\n",
    "\n",
    "day_no=int(input(\"Enter a day number (1-7): \"))\n",
    "\n",
    "if day_no ==1:\n",
    "    print(\"The day of the week is sunday\")\n",
    "if day_no ==2:\n",
    "    print(f\"The day of the week is monday\")\n",
    "if day_no ==3:\n",
    "    print(f\"The day of the week is tuesday\")\n",
    "if day_no ==4:\n",
    "    print(f\"The day of the week is wednesday\")\n",
    "if day_no ==5:\n",
    "    print(f\"The day of the week is thursday\")\n",
    "if day_no ==6:\n",
    "    print(f\"The day of the week is friday\")    \n",
    "    \n",
    "if day_no ==7:\n",
    "    print(f\"The day of the week is saturday\")    \n",
    "    \n",
    "    "
   ]
  },
  {
   "cell_type": "code",
   "execution_count": 26,
   "id": "3d85e82e-4964-46f7-8183-b7106a7e92ec",
   "metadata": {},
   "outputs": [
    {
     "name": "stdin",
     "output_type": "stream",
     "text": [
      "Enter a day number (1-7):  6\n"
     ]
    },
    {
     "name": "stdout",
     "output_type": "stream",
     "text": [
      "The day of the week is Friday\n"
     ]
    },
    {
     "data": {
      "text/plain": [
       "'Friday'"
      ]
     },
     "execution_count": 26,
     "metadata": {},
     "output_type": "execute_result"
    }
   ],
   "source": [
    "\n",
    "#copied only for practice\n",
    "\n",
    "\n",
    "\n",
    "\n",
    "\n",
    "def get_day_of_week(day_number):\n",
    "    days = {\n",
    "        1: \"Sunday\",\n",
    "        2: \"Monday\",\n",
    "        3: \"Tuesday\",\n",
    "        4: \"Wednesday\",\n",
    "        5: \"Thursday\",\n",
    "        6: \"Friday\",\n",
    "        7: \"Saturday\"\n",
    "        \n",
    "    }\n",
    "    return days.get(day_number, \"Invalid day number\")\n",
    "    \n",
    "    \n",
    "''' The get method of dictionaries is used to retrieve a value associated with a given key. Here, day_number is used as the key.\n",
    "\n",
    "If the provided day_number exists in the dictionary, the corresponding day name is returned.\n",
    "\n",
    "If the day_number is not found in the dictionary, the method returns the default value \"Invalid day number'''\n",
    "\n",
    "    \n",
    "    \n",
    "\n",
    "# Get user input for the day number\n",
    "day_number = int(input(\"Enter a day number (1-7): \"))\n",
    "\n",
    "# Determine the day of the week\n",
    "day_of_week = get_day_of_week(day_number)\n",
    "\n",
    "# Print the result\n",
    "print(f\"The day of the week is {day_of_week}\")\n",
    "\n",
    "\n",
    "\n",
    "get_day_of_week(day_number)"
   ]
  },
  {
   "cell_type": "code",
   "execution_count": null,
   "id": "b62664e3-e76d-43ad-88e2-df45705e781a",
   "metadata": {},
   "outputs": [],
   "source": []
  },
  {
   "cell_type": "markdown",
   "id": "27fed225-48db-4d9b-83b5-b2c0beda390a",
   "metadata": {},
   "source": [
    "## 13. Develop a program that calculates the factorial of a given number using recursion"
   ]
  },
  {
   "cell_type": "code",
   "execution_count": 9,
   "id": "8b9b3d5e-90fd-4f69-9d1a-b07758dd641f",
   "metadata": {},
   "outputs": [],
   "source": [
    "def factorial(n):\n",
    "    if n==0:\n",
    "        return 1\n",
    "    else:\n",
    "        return n * factorial(n-1)\n",
    "        \n",
    "    "
   ]
  },
  {
   "cell_type": "code",
   "execution_count": 11,
   "id": "5e8cff46-086b-4d20-acd5-29e8c7116b10",
   "metadata": {},
   "outputs": [
    {
     "data": {
      "text/plain": [
       "24"
      ]
     },
     "execution_count": 11,
     "metadata": {},
     "output_type": "execute_result"
    }
   ],
   "source": [
    "factorial(4)"
   ]
  },
  {
   "cell_type": "markdown",
   "id": "b484bd0a-19bd-45de-93c3-21419479fbf8",
   "metadata": {},
   "source": [
    "## 14. Write a program to find the largest among three numbers without using the `max()` function."
   ]
  },
  {
   "cell_type": "code",
   "execution_count": 27,
   "id": "586d523f-3d07-475f-b6fe-72a01f4342a9",
   "metadata": {},
   "outputs": [
    {
     "name": "stdin",
     "output_type": "stream",
     "text": [
      "enter first no 5\n",
      "enter second no 7\n",
      "enter third no 9\n"
     ]
    },
    {
     "name": "stdout",
     "output_type": "stream",
     "text": [
      "the largest no is  9\n"
     ]
    }
   ],
   "source": [
    "num1=int(input(\"enter first no\"))\n",
    "num2=int(input(\"enter second no\"))\n",
    "num3=int(input(\"enter third no\"))\n",
    "\n",
    "if num1>num2 and num1>num3:\n",
    "    print(\"the largest no is \",num1)\n",
    "elif num2>num3 and num1>num2:\n",
    "    print(\"the largest no is \",num2)\n",
    "    \n",
    "else:\n",
    "    print(\"the largest no is \",num3)"
   ]
  },
  {
   "cell_type": "markdown",
   "id": "fde6fd49-2911-49a4-a883-f7b7601b0361",
   "metadata": {},
   "source": [
    "## 15. Create a program that simulates a basic ATM transaction menu."
   ]
  },
  {
   "cell_type": "code",
   "execution_count": null,
   "id": "8864c626-fcda-4eaf-b12f-58f570177f59",
   "metadata": {},
   "outputs": [],
   "source": []
  },
  {
   "cell_type": "code",
   "execution_count": 2,
   "id": "70560128-496a-4556-a06b-b694cc341852",
   "metadata": {},
   "outputs": [
    {
     "name": "stdout",
     "output_type": "stream",
     "text": [
      "===== ATM Transaction Menu =====\n",
      "1. Check Balance\n",
      "2. Deposit Money\n",
      "3. Withdraw Money\n",
      "4. Quit\n",
      "===============================\n"
     ]
    },
    {
     "name": "stdin",
     "output_type": "stream",
     "text": [
      "Enter your choice (1-4):  4\n"
     ]
    },
    {
     "name": "stdout",
     "output_type": "stream",
     "text": [
      "Thank you for using the ATM. Have a nice day!\n"
     ]
    }
   ],
   "source": [
    "def display_menu():\n",
    "    print(\"===== ATM Transaction Menu =====\")\n",
    "    print(\"1. Check Balance\")\n",
    "    print(\"2. Deposit Money\")\n",
    "    print(\"3. Withdraw Money\")\n",
    "    print(\"4. Quit\")\n",
    "    print(\"===============================\")\n",
    "\n",
    "def check_balance(balance):\n",
    "    print(f\"Your current balance is ${balance}\")\n",
    "\n",
    "def deposit_money(balance, amount):\n",
    "    balance += amount\n",
    "    print(f\"${amount} has been deposited. Your new balance is ${balance}\")\n",
    "    return balance\n",
    "\n",
    "def withdraw_money(balance, amount):\n",
    "    if amount > balance:\n",
    "        print(\"Insufficient funds. Unable to process withdrawal.\")\n",
    "    else:\n",
    "        balance -= amount\n",
    "        print(f\"${amount} has been withdrawn. Your new balance is ${balance}\")\n",
    "    return balance\n",
    "\n",
    "# Initial balance\n",
    "balance = 1000\n",
    "\n",
    "# Main program loop\n",
    "while True:  # for iterater loop \n",
    "    display_menu()\n",
    "    choice = input(\"Enter your choice (1-4): \")\n",
    "\n",
    "    if choice == \"1\":\n",
    "        check_balance(balance)\n",
    "    elif choice == \"2\":\n",
    "        amount = float(input(\"Enter the amount to deposit: $\"))\n",
    "        balance = deposit_money(balance, amount)\n",
    "      \n",
    "    elif choice == \"3\":\n",
    "        amount = float(input(\"Enter the amount to withdraw: $\"))\n",
    "        balance = withdraw_money(balance, amount)\n",
    "    elif choice == \"4\":\n",
    "        print(\"Thank you for using the ATM. Have a nice day!\")\n",
    "   \n",
    "   \n",
    "        break\n",
    "        \n",
    "    else:\n",
    "        print(\"Invalid choice. Please enter a number between 1 and 4.\")\n",
    "        \n",
    "        \n",
    "        \n",
    "  "
   ]
  },
  {
   "cell_type": "code",
   "execution_count": null,
   "id": "446b4afb-2e79-4aeb-b79f-161a7a149b48",
   "metadata": {},
   "outputs": [],
   "source": []
  },
  {
   "cell_type": "markdown",
   "id": "af46f8c4-c6b1-4f32-9c17-6ede6e05041d",
   "metadata": {},
   "source": [
    "## 16. Build a program that checks if a given string is a palindrome or not\n"
   ]
  },
  {
   "cell_type": "code",
   "execution_count": 5,
   "id": "84f6c716-1c8b-447e-8385-122e7afb4807",
   "metadata": {},
   "outputs": [
    {
     "name": "stdin",
     "output_type": "stream",
     "text": [
      " RADAR\n"
     ]
    },
    {
     "name": "stdout",
     "output_type": "stream",
     "text": [
      "yes this is palindrome\n"
     ]
    }
   ],
   "source": [
    "a= input()\n",
    "\n",
    "b=a[::-1]\n",
    "\n",
    "if a==b:\n",
    "    print(\"yes this is palindrome\")\n",
    "    \n",
    "else:\n",
    "    print(\"no this is not a palindrome\")"
   ]
  },
  {
   "cell_type": "markdown",
   "id": "b66eee79-a9b6-4dee-9ed0-bfb943ba22b1",
   "metadata": {},
   "source": [
    "## 17. Write a program that calculates the average of a list of numbers, excluding the smallest and largest values."
   ]
  },
  {
   "cell_type": "code",
   "execution_count": 29,
   "id": "eb1c4514-6620-416b-b3e6-123bb5f212e5",
   "metadata": {},
   "outputs": [
    {
     "name": "stdout",
     "output_type": "stream",
     "text": [
      "4.0\n"
     ]
    }
   ],
   "source": [
    "l=[1,2,3,4,5,6,9]\n",
    "\n",
    "total_count=0\n",
    "\n",
    "l.remove(max(l))\n",
    "l.remove(min(l))\n",
    "\n",
    "for i in l :\n",
    "    total_count+=i\n",
    "    \n",
    "total_num= len(l)\n",
    "\n",
    "average = total_count/total_num\n",
    "\n",
    "print(average)\n",
    "    \n",
    "    "
   ]
  },
  {
   "cell_type": "markdown",
   "id": "4f511bb1-adff-44bc-9489-58e9a8ad90ca",
   "metadata": {},
   "source": [
    "## 18. Develop a program that converts a given temperature from Celsius to Fahrenheit"
   ]
  },
  {
   "cell_type": "code",
   "execution_count": 31,
   "id": "02254eef-d503-4089-a699-9d8ec38a3b2b",
   "metadata": {},
   "outputs": [
    {
     "name": "stdin",
     "output_type": "stream",
     "text": [
      " 40\n"
     ]
    },
    {
     "name": "stdout",
     "output_type": "stream",
     "text": [
      "104.0\n"
     ]
    }
   ],
   "source": [
    "temperature=float(input())\n",
    "\n",
    "fehranhite_temp=temperature*1.8+32\n",
    "\n",
    "print(fehranhite_temp)"
   ]
  },
  {
   "cell_type": "markdown",
   "id": "956bc05b-5959-4529-920a-5a263693011c",
   "metadata": {},
   "source": [
    "## 19. Create a program that simulates a basic calculator for addition, subtraction, multiplication, and division."
   ]
  },
  {
   "cell_type": "code",
   "execution_count": 35,
   "id": "283ee555-0016-493b-8760-00a8086d9cf8",
   "metadata": {},
   "outputs": [
    {
     "name": "stdout",
     "output_type": "stream",
     "text": [
      "Select operation:\n",
      "1. Addition\n",
      "2. Subtraction\n",
      "3. Multiplication\n",
      "4. Division\n"
     ]
    },
    {
     "name": "stdin",
     "output_type": "stream",
     "text": [
      "Enter operation number (1/2/3/4):  7\n"
     ]
    },
    {
     "name": "stdout",
     "output_type": "stream",
     "text": [
      "Invalid input\n"
     ]
    }
   ],
   "source": [
    "def add(x, y):\n",
    "    return x + y\n",
    "\n",
    "def subtract(x, y):\n",
    "    return x - y\n",
    "\n",
    "def multiply(x, y):\n",
    "    return x * y\n",
    "\n",
    "def divide(x, y):\n",
    "    if y != 0:\n",
    "        return x / y\n",
    "    else:\n",
    "        return \"Error: Division by zero\"\n",
    "\n",
    "# Display the menu\n",
    "print(\"Select operation:\")\n",
    "print(\"1. Addition\")\n",
    "print(\"2. Subtraction\")\n",
    "print(\"3. Multiplication\")\n",
    "print(\"4. Division\")\n",
    "\n",
    "# Take user input\n",
    "operation = input(\"Enter operation number (1/2/3/4): \")\n",
    "\n",
    "if operation in ('1', '2', '3', '4'):\n",
    "    num1 = float(input(\"Enter first number: \"))\n",
    "    num2 = float(input(\"Enter second number: \"))\n",
    "\n",
    "    if operation == '1':\n",
    "        print(num1, \"+\", num2, \"=\", add(num1, num2))\n",
    "\n",
    "    elif operation == '2':\n",
    "        print(num1, \"-\", num2, \"=\", subtract(num1, num2))\n",
    "\n",
    "    elif operation == '3':\n",
    "        print(num1, \"*\", num2, \"=\", multiply(num1, num2))\n",
    "\n",
    "    elif operation == '4':\n",
    "        print(num1, \"/\", num2, \"=\", divide(num1, num2))\n",
    "\n",
    "else:\n",
    "    print(\"Invalid input\")\n"
   ]
  },
  {
   "cell_type": "code",
   "execution_count": null,
   "id": "c9e33255-3d96-43d6-9be4-1177f7c64e9f",
   "metadata": {},
   "outputs": [],
   "source": []
  },
  {
   "cell_type": "markdown",
   "id": "287c64fc-33cf-4406-a16d-4aa1fbc222f6",
   "metadata": {},
   "source": [
    "## 20. Write a program that determines the roots of a cubic equation using the Cardano formula"
   ]
  },
  {
   "cell_type": "code",
   "execution_count": null,
   "id": "f2fbdde5-7b44-4c2b-8f61-50a25f60d78b",
   "metadata": {},
   "outputs": [],
   "source": [
    "\n",
    "from sympy import symbols, solve, Eq, simplify, sqrt, cbrt\n",
    "\n",
    "# Define the variables and coefficients\n",
    "x = symbols('x')\n",
    "a = symbols('a')\n",
    "b = symbols('b')\n",
    "c = symbols('c')\n",
    "d = symbols('d')\n",
    "\n",
    "# Define the cubic equation\n",
    "equation = Eq(a*x**3 + b*x**2 + c*x + d, 0)\n",
    "\n",
    "# Solve the cubic equation\n",
    "solutions = solve(equation,x)\n",
    "\n",
    "# Display the solutions\n",
    "for solution in solutions:\n",
    "    print(f\"x = {solution}\")\n",
    "\n"
   ]
  },
  {
   "cell_type": "code",
   "execution_count": null,
   "id": "33718999-c427-4f6a-89a1-15215126d687",
   "metadata": {},
   "outputs": [],
   "source": []
  },
  {
   "cell_type": "markdown",
   "id": "4a96ed74-1939-4f90-93d7-97dc01b118c4",
   "metadata": {},
   "source": [
    "# advance"
   ]
  },
  {
   "cell_type": "code",
   "execution_count": null,
   "id": "dfa380c8-634f-48a7-ba54-2ce6bc150f48",
   "metadata": {},
   "outputs": [],
   "source": []
  },
  {
   "cell_type": "markdown",
   "id": "c03c13c3-f70d-4c0b-9378-7ab1da37385b",
   "metadata": {},
   "source": [
    "## 21. Create a program that calculates the income tax based on the user's income and tax brackets. "
   ]
  },
  {
   "cell_type": "code",
   "execution_count": 40,
   "id": "7818622f-3cde-4ff6-9221-ccb613b4f37a",
   "metadata": {},
   "outputs": [
    {
     "name": "stdin",
     "output_type": "stream",
     "text": [
      "enter you income here: 500000\n"
     ]
    },
    {
     "name": "stdout",
     "output_type": "stream",
     "text": [
      "the income tax for 500000 is 150000.0\n"
     ]
    }
   ],
   "source": [
    "user_income=int(input(\"enter you income here:\"))\n",
    "\n",
    "if user_income>=500000:\n",
    "    tax_rate  =  30\n",
    "elif user_income>=400000:\n",
    "    tax_rate= 25\n",
    "\n",
    "elif user_income>=300000:\n",
    "    tax_rate=20\n",
    "elif user_income<200000:   \n",
    "    tax_rate= 0 \n",
    "\n",
    "   \n",
    "\n",
    "income_tax = user_income*tax_rate/100\n",
    "\n",
    "print(f\"the income tax for {user_income} is {income_tax}\")\n",
    "\n",
    "\n",
    "    \n"
   ]
  },
  {
   "cell_type": "markdown",
   "id": "d3f1ca02-ca96-4910-b274-fd8c2c8df4ff",
   "metadata": {},
   "source": [
    "## 22. Write a program that simulates a rock-paper-scissors game against the computer"
   ]
  },
  {
   "cell_type": "code",
   "execution_count": 1,
   "id": "f3f9a309-0f8d-440e-966e-135281fac3a6",
   "metadata": {},
   "outputs": [
    {
     "name": "stdout",
     "output_type": "stream",
     "text": [
      "Welcome to Rock-Paper-Scissors!\n"
     ]
    },
    {
     "name": "stdin",
     "output_type": "stream",
     "text": [
      "Enter your choice (rock, paper, or scissors):  rock\n"
     ]
    },
    {
     "name": "stdout",
     "output_type": "stream",
     "text": [
      "You chose: rock\n",
      "The computer chose: paper\n",
      "You lose!\n"
     ]
    },
    {
     "name": "stdin",
     "output_type": "stream",
     "text": [
      "Do you want to play again? (yes/no):  no\n"
     ]
    }
   ],
   "source": [
    "import random\n",
    "\n",
    "def get_user_choice():\n",
    "    \n",
    "    \n",
    "    while True: # this is used to create infinite loop \n",
    "        \n",
    "        user_choice = input(\"Enter your choice (rock, paper, or scissors): \").lower()\n",
    "        if user_choice in [\"rock\", \"paper\", \"scissors\"]:\n",
    "            return user_choice\n",
    "        else:\n",
    "            print(\"Invalid choice. Please choose rock, paper, or scissors.\")\n",
    "\n",
    "def get_computer_choice():\n",
    "    choices = [\"rock\", \"paper\", \"scissors\"]\n",
    "    return random.choice(choices)\n",
    "\n",
    "def determine_winner(user_choice, computer_choice):\n",
    "    if user_choice == computer_choice:\n",
    "        return \"It's a tie!\"\n",
    "    elif (user_choice == \"rock\" and computer_choice == \"scissors\") or \\\n",
    "         (user_choice == \"paper\" and computer_choice == \"rock\") or \\\n",
    "         (user_choice == \"scissors\" and computer_choice == \"paper\"):\n",
    "        return \"You win!\"\n",
    "    else:\n",
    "        return \"You lose!\"\n",
    "\n",
    "def main():\n",
    "    print(\"Welcome to Rock-Paper-Scissors!\")\n",
    "    \n",
    "    \n",
    "    \n",
    "    #while True: loop is used in the main() function to keep the game running until the user decides to quit. \n",
    "    #The loop allows the game to continue playing multiple rounds without having to restart the program.\n",
    "    while True:\n",
    "        user_choice = get_user_choice()\n",
    "        computer_choice = get_computer_choice()\n",
    "        \n",
    "        print(f\"You chose: {user_choice}\")\n",
    "        print(f\"The computer chose: {computer_choice}\")\n",
    "        \n",
    "        result = determine_winner(user_choice, computer_choice)\n",
    "        print(result)\n",
    "        \n",
    "        play_again = input(\"Do you want to play again? (yes/no): \").lower()\n",
    "        if play_again != \"yes\":\n",
    "            break\n",
    "\n",
    "if __name__ == \"__main__\":\n",
    "    main()\n"
   ]
  },
  {
   "cell_type": "markdown",
   "id": "0d11fd9b-7a7e-4ad6-a090-180e32246433",
   "metadata": {},
   "source": [
    "## 23. Develop a program that generates a random password based on user preferences (length, complexity)."
   ]
  },
  {
   "cell_type": "code",
   "execution_count": 4,
   "id": "1ca51594-5f3b-420a-921d-d978fe8f8964",
   "metadata": {},
   "outputs": [
    {
     "name": "stdout",
     "output_type": "stream",
     "text": [
      "Welcome to Random Password Generator!\n"
     ]
    },
    {
     "name": "stdin",
     "output_type": "stream",
     "text": [
      "Enter the length of the password:  7\n",
      "Enter the complexity level (low, medium, high):  high\n"
     ]
    },
    {
     "name": "stdout",
     "output_type": "stream",
     "text": [
      "y-Aerated Password: erf\n"
     ]
    },
    {
     "name": "stdin",
     "output_type": "stream",
     "text": [
      "Do you want to generate another password? (yes/no):  no\n"
     ]
    }
   ],
   "source": [
    "import random\n",
    "import string\n",
    "\n",
    "def generate_password(length, complexity):\n",
    "    characters = \"\"\n",
    "\n",
    "    if complexity == \"low\":\n",
    "        characters = string.ascii_letters + string.digits\n",
    "    elif complexity == \"medium\":\n",
    "        characters = string.ascii_letters + string.digits + string.punctuation\n",
    "    elif complexity == \"high\":\n",
    "        characters = string.ascii_letters + string.digits + string.punctuation + string.whitespace\n",
    "\n",
    "    password = ''.join(random.choice(characters) for _ in range(length))\n",
    "    return password\n",
    "\n",
    "def main():\n",
    "    print(\"Welcome to Random Password Generator!\")\n",
    "\n",
    "    while True:\n",
    "        length = int(input(\"Enter the length of the password: \"))\n",
    "        complexity = input(\"Enter the complexity level (low, medium, high): \").lower()\n",
    "\n",
    "        if complexity not in [\"low\", \"medium\", \"high\"]:\n",
    "            print(\"Invalid complexity level. Please choose from low, medium, or high.\")\n",
    "            continue\n",
    "\n",
    "        password = generate_password(length, complexity)\n",
    "        print(f\"Generated Password: {password}\")\n",
    "\n",
    "        generate_again = input(\"Do you want to generate another password? (yes/no): \").lower()\n",
    "        if generate_again != \"yes\":\n",
    "            break\n",
    "\n",
    "\n",
    "    \n",
    "main()\n"
   ]
  },
  {
   "cell_type": "markdown",
   "id": "80e3fcc9-a2c8-4bea-be56-043acb020355",
   "metadata": {},
   "source": [
    "## 24. Create a program that implements a simple text-based adventure game with branching scenarios"
   ]
  },
  {
   "cell_type": "code",
   "execution_count": null,
   "id": "556132c6-ad9f-41f6-aa42-9db03b1b2464",
   "metadata": {},
   "outputs": [],
   "source": []
  },
  {
   "cell_type": "code",
   "execution_count": 6,
   "id": "95245f87-0acf-4911-ba15-5486b753a454",
   "metadata": {},
   "outputs": [
    {
     "name": "stdout",
     "output_type": "stream",
     "text": [
      "Welcome to the Adventure Game!\n",
      "You find yourself in a dark forest.\n",
      "You have two paths ahead of you.\n",
      "1. Take the left path.\n",
      "2. Take the right path.\n"
     ]
    },
    {
     "name": "stdin",
     "output_type": "stream",
     "text": [
      "Enter your choice (1 or 2):  1\n"
     ]
    },
    {
     "name": "stdout",
     "output_type": "stream",
     "text": [
      "\n",
      "You chose the left path.\n",
      "You encounter a friendly squirrel.\n",
      "1. Offer the squirrel some food.\n",
      "2. Ignore the squirrel and continue.\n"
     ]
    },
    {
     "name": "stdin",
     "output_type": "stream",
     "text": [
      "Enter your choice (1 or 2):  2\n"
     ]
    },
    {
     "name": "stdout",
     "output_type": "stream",
     "text": [
      "\n",
      "The squirrel seems disappointed but lets you pass.\n",
      "\n",
      "You continue your journey through the forest.\n",
      "You see a river up ahead.\n",
      "1. Follow the river.\n",
      "2. Cross the river.\n"
     ]
    },
    {
     "ename": "KeyboardInterrupt",
     "evalue": "Interrupted by user",
     "output_type": "error",
     "traceback": [
      "\u001b[0;31m---------------------------------------------------------------------------\u001b[0m",
      "\u001b[0;31mKeyboardInterrupt\u001b[0m                         Traceback (most recent call last)",
      "Cell \u001b[0;32mIn[6], line 83\u001b[0m\n\u001b[1;32m     80\u001b[0m         play_again()\n\u001b[1;32m     82\u001b[0m \u001b[38;5;66;03m# Start the game\u001b[39;00m\n\u001b[0;32m---> 83\u001b[0m \u001b[43mstart_game\u001b[49m\u001b[43m(\u001b[49m\u001b[43m)\u001b[49m\n",
      "Cell \u001b[0;32mIn[6], line 11\u001b[0m, in \u001b[0;36mstart_game\u001b[0;34m()\u001b[0m\n\u001b[1;32m      8\u001b[0m choice \u001b[38;5;241m=\u001b[39m \u001b[38;5;28minput\u001b[39m(\u001b[38;5;124m\"\u001b[39m\u001b[38;5;124mEnter your choice (1 or 2): \u001b[39m\u001b[38;5;124m\"\u001b[39m)\n\u001b[1;32m     10\u001b[0m \u001b[38;5;28;01mif\u001b[39;00m choice \u001b[38;5;241m==\u001b[39m \u001b[38;5;124m\"\u001b[39m\u001b[38;5;124m1\u001b[39m\u001b[38;5;124m\"\u001b[39m:\n\u001b[0;32m---> 11\u001b[0m     \u001b[43mleft_path\u001b[49m\u001b[43m(\u001b[49m\u001b[43m)\u001b[49m\n\u001b[1;32m     12\u001b[0m \u001b[38;5;28;01melif\u001b[39;00m choice \u001b[38;5;241m==\u001b[39m \u001b[38;5;124m\"\u001b[39m\u001b[38;5;124m2\u001b[39m\u001b[38;5;124m\"\u001b[39m:\n\u001b[1;32m     13\u001b[0m     right_path()\n",
      "Cell \u001b[0;32mIn[6], line 31\u001b[0m, in \u001b[0;36mleft_path\u001b[0;34m()\u001b[0m\n\u001b[1;32m     29\u001b[0m \u001b[38;5;28;01melif\u001b[39;00m choice \u001b[38;5;241m==\u001b[39m \u001b[38;5;124m\"\u001b[39m\u001b[38;5;124m2\u001b[39m\u001b[38;5;124m\"\u001b[39m:\n\u001b[1;32m     30\u001b[0m     \u001b[38;5;28mprint\u001b[39m(\u001b[38;5;124m\"\u001b[39m\u001b[38;5;130;01m\\n\u001b[39;00m\u001b[38;5;124mThe squirrel seems disappointed but lets you pass.\u001b[39m\u001b[38;5;124m\"\u001b[39m)\n\u001b[0;32m---> 31\u001b[0m     \u001b[43mcontinue_journey\u001b[49m\u001b[43m(\u001b[49m\u001b[43m)\u001b[49m\n\u001b[1;32m     32\u001b[0m \u001b[38;5;28;01melse\u001b[39;00m:\n\u001b[1;32m     33\u001b[0m     \u001b[38;5;28mprint\u001b[39m(\u001b[38;5;124m\"\u001b[39m\u001b[38;5;124mInvalid input. Please enter 1 or 2.\u001b[39m\u001b[38;5;124m\"\u001b[39m)\n",
      "Cell \u001b[0;32mIn[6], line 60\u001b[0m, in \u001b[0;36mcontinue_journey\u001b[0;34m()\u001b[0m\n\u001b[1;32m     57\u001b[0m \u001b[38;5;28mprint\u001b[39m(\u001b[38;5;124m\"\u001b[39m\u001b[38;5;124m1. Follow the river.\u001b[39m\u001b[38;5;124m\"\u001b[39m)\n\u001b[1;32m     58\u001b[0m \u001b[38;5;28mprint\u001b[39m(\u001b[38;5;124m\"\u001b[39m\u001b[38;5;124m2. Cross the river.\u001b[39m\u001b[38;5;124m\"\u001b[39m)\n\u001b[0;32m---> 60\u001b[0m choice \u001b[38;5;241m=\u001b[39m \u001b[38;5;28;43minput\u001b[39;49m\u001b[43m(\u001b[49m\u001b[38;5;124;43m\"\u001b[39;49m\u001b[38;5;124;43mEnter your choice (1 or 2): \u001b[39;49m\u001b[38;5;124;43m\"\u001b[39;49m\u001b[43m)\u001b[49m\n\u001b[1;32m     62\u001b[0m \u001b[38;5;28;01mif\u001b[39;00m choice \u001b[38;5;241m==\u001b[39m \u001b[38;5;124m\"\u001b[39m\u001b[38;5;124m1\u001b[39m\u001b[38;5;124m\"\u001b[39m:\n\u001b[1;32m     63\u001b[0m     \u001b[38;5;28mprint\u001b[39m(\u001b[38;5;124m\"\u001b[39m\u001b[38;5;130;01m\\n\u001b[39;00m\u001b[38;5;124mYou discover a beautiful waterfall!\u001b[39m\u001b[38;5;124m\"\u001b[39m)\n",
      "File \u001b[0;32m/opt/conda/lib/python3.10/site-packages/ipykernel/kernelbase.py:1175\u001b[0m, in \u001b[0;36mKernel.raw_input\u001b[0;34m(self, prompt)\u001b[0m\n\u001b[1;32m   1171\u001b[0m \u001b[38;5;28;01mif\u001b[39;00m \u001b[38;5;129;01mnot\u001b[39;00m \u001b[38;5;28mself\u001b[39m\u001b[38;5;241m.\u001b[39m_allow_stdin:\n\u001b[1;32m   1172\u001b[0m     \u001b[38;5;28;01mraise\u001b[39;00m StdinNotImplementedError(\n\u001b[1;32m   1173\u001b[0m         \u001b[38;5;124m\"\u001b[39m\u001b[38;5;124mraw_input was called, but this frontend does not support input requests.\u001b[39m\u001b[38;5;124m\"\u001b[39m\n\u001b[1;32m   1174\u001b[0m     )\n\u001b[0;32m-> 1175\u001b[0m \u001b[38;5;28;01mreturn\u001b[39;00m \u001b[38;5;28;43mself\u001b[39;49m\u001b[38;5;241;43m.\u001b[39;49m\u001b[43m_input_request\u001b[49m\u001b[43m(\u001b[49m\n\u001b[1;32m   1176\u001b[0m \u001b[43m    \u001b[49m\u001b[38;5;28;43mstr\u001b[39;49m\u001b[43m(\u001b[49m\u001b[43mprompt\u001b[49m\u001b[43m)\u001b[49m\u001b[43m,\u001b[49m\n\u001b[1;32m   1177\u001b[0m \u001b[43m    \u001b[49m\u001b[38;5;28;43mself\u001b[39;49m\u001b[38;5;241;43m.\u001b[39;49m\u001b[43m_parent_ident\u001b[49m\u001b[43m[\u001b[49m\u001b[38;5;124;43m\"\u001b[39;49m\u001b[38;5;124;43mshell\u001b[39;49m\u001b[38;5;124;43m\"\u001b[39;49m\u001b[43m]\u001b[49m\u001b[43m,\u001b[49m\n\u001b[1;32m   1178\u001b[0m \u001b[43m    \u001b[49m\u001b[38;5;28;43mself\u001b[39;49m\u001b[38;5;241;43m.\u001b[39;49m\u001b[43mget_parent\u001b[49m\u001b[43m(\u001b[49m\u001b[38;5;124;43m\"\u001b[39;49m\u001b[38;5;124;43mshell\u001b[39;49m\u001b[38;5;124;43m\"\u001b[39;49m\u001b[43m)\u001b[49m\u001b[43m,\u001b[49m\n\u001b[1;32m   1179\u001b[0m \u001b[43m    \u001b[49m\u001b[43mpassword\u001b[49m\u001b[38;5;241;43m=\u001b[39;49m\u001b[38;5;28;43;01mFalse\u001b[39;49;00m\u001b[43m,\u001b[49m\n\u001b[1;32m   1180\u001b[0m \u001b[43m\u001b[49m\u001b[43m)\u001b[49m\n",
      "File \u001b[0;32m/opt/conda/lib/python3.10/site-packages/ipykernel/kernelbase.py:1217\u001b[0m, in \u001b[0;36mKernel._input_request\u001b[0;34m(self, prompt, ident, parent, password)\u001b[0m\n\u001b[1;32m   1214\u001b[0m             \u001b[38;5;28;01mbreak\u001b[39;00m\n\u001b[1;32m   1215\u001b[0m \u001b[38;5;28;01mexcept\u001b[39;00m \u001b[38;5;167;01mKeyboardInterrupt\u001b[39;00m:\n\u001b[1;32m   1216\u001b[0m     \u001b[38;5;66;03m# re-raise KeyboardInterrupt, to truncate traceback\u001b[39;00m\n\u001b[0;32m-> 1217\u001b[0m     \u001b[38;5;28;01mraise\u001b[39;00m \u001b[38;5;167;01mKeyboardInterrupt\u001b[39;00m(\u001b[38;5;124m\"\u001b[39m\u001b[38;5;124mInterrupted by user\u001b[39m\u001b[38;5;124m\"\u001b[39m) \u001b[38;5;28;01mfrom\u001b[39;00m \u001b[38;5;28mNone\u001b[39m\n\u001b[1;32m   1218\u001b[0m \u001b[38;5;28;01mexcept\u001b[39;00m \u001b[38;5;167;01mException\u001b[39;00m:\n\u001b[1;32m   1219\u001b[0m     \u001b[38;5;28mself\u001b[39m\u001b[38;5;241m.\u001b[39mlog\u001b[38;5;241m.\u001b[39mwarning(\u001b[38;5;124m\"\u001b[39m\u001b[38;5;124mInvalid Message:\u001b[39m\u001b[38;5;124m\"\u001b[39m, exc_info\u001b[38;5;241m=\u001b[39m\u001b[38;5;28;01mTrue\u001b[39;00m)\n",
      "\u001b[0;31mKeyboardInterrupt\u001b[0m: Interrupted by user"
     ]
    }
   ],
   "source": [
    "def start_game():\n",
    "    print(\"Welcome to the Adventure Game!\")\n",
    "    print(\"You find yourself in a dark forest.\")\n",
    "    print(\"You have two paths ahead of you.\")\n",
    "    print(\"1. Take the left path.\")\n",
    "    print(\"2. Take the right path.\")\n",
    "\n",
    "    choice = input(\"Enter your choice (1 or 2): \")\n",
    "\n",
    "    if choice == \"1\":\n",
    "        left_path()\n",
    "    elif choice == \"2\":\n",
    "        right_path()\n",
    "    else:\n",
    "        print(\"Invalid input. Please enter 1 or 2.\")\n",
    "        start_game()\n",
    "\n",
    "def left_path():\n",
    "    print(\"\\nYou chose the left path.\")\n",
    "    print(\"You encounter a friendly squirrel.\")\n",
    "    print(\"1. Offer the squirrel some food.\")\n",
    "    print(\"2. Ignore the squirrel and continue.\")\n",
    "\n",
    "    choice = input(\"Enter your choice (1 or 2): \")\n",
    "\n",
    "    if choice == \"1\":\n",
    "        print(\"\\nThe squirrel is grateful and leads you to a hidden treasure!\")\n",
    "        play_again()\n",
    "    elif choice == \"2\":\n",
    "        print(\"\\nThe squirrel seems disappointed but lets you pass.\")\n",
    "        continue_journey()\n",
    "    else:\n",
    "        print(\"Invalid input. Please enter 1 or 2.\")\n",
    "        left_path()\n",
    "\n",
    "def right_path():\n",
    "    print(\"\\nYou chose the right path.\")\n",
    "    print(\"You come across a mysterious cave entrance.\")\n",
    "    print(\"1. Enter the cave.\")\n",
    "    print(\"2. Go back to the forest.\")\n",
    "\n",
    "    choice = input(\"Enter your choice (1 or 2): \")\n",
    "\n",
    "    if choice == \"1\":\n",
    "        print(\"\\nInside the cave, you discover a sleeping dragon!\")\n",
    "        print(\"You quietly exit the cave.\")\n",
    "        continue_journey()\n",
    "    elif choice == \"2\":\n",
    "        continue_journey()\n",
    "    else:\n",
    "        print(\"Invalid input. Please enter 1 or 2.\")\n",
    "        right_path()\n",
    "\n",
    "def continue_journey():\n",
    "    print(\"\\nYou continue your journey through the forest.\")\n",
    "    print(\"You see a river up ahead.\")\n",
    "    print(\"1. Follow the river.\")\n",
    "    print(\"2. Cross the river.\")\n",
    "\n",
    "    choice = input(\"Enter your choice (1 or 2): \")\n",
    "\n",
    "    if choice == \"1\":\n",
    "        print(\"\\nYou discover a beautiful waterfall!\")\n",
    "        play_again()\n",
    "    elif choice == \"2\":\n",
    "        print(\"\\nYou successfully cross the river.\")\n",
    "        play_again()\n",
    "    else:\n",
    "        print(\"Invalid input. Please enter 1 or 2.\")\n",
    "        continue_journey()\n",
    "\n",
    "def play_again():\n",
    "    choice = input(\"\\nDo you want to play again? (yes/no): \").lower()\n",
    "    if choice == \"yes\":\n",
    "        start_game()\n",
    "    elif choice == \"no\":\n",
    "        print(\"Thank you for playing! Goodbye.\")\n",
    "    else:\n",
    "        print(\"Invalid input. Please enter 'yes' or 'no'.\")\n",
    "        play_again()\n",
    "\n",
    "# Start the game\n",
    "start_game()\n"
   ]
  },
  {
   "cell_type": "markdown",
   "id": "2743ebf2-2f88-4368-b853-ac6f1a8d0742",
   "metadata": {},
   "source": [
    "## 25. Build a program that solves a linear equation  for x, considering different cases."
   ]
  },
  {
   "cell_type": "code",
   "execution_count": 5,
   "id": "9ee4c11c-06a9-49d6-aff0-090daeb9d1dc",
   "metadata": {},
   "outputs": [
    {
     "name": "stdin",
     "output_type": "stream",
     "text": [
      "Enter coefficient 'a':  4\n",
      "Enter coefficient 'b':  8\n"
     ]
    },
    {
     "name": "stdout",
     "output_type": "stream",
     "text": [
      "The solution is x = -2.0\n"
     ]
    }
   ],
   "source": [
    "def solve_linear_equation(a, b):\n",
    "    if a == 0:\n",
    "        if b == 0:\n",
    "            return \"Infinite solutions (all real numbers are solutions)\"\n",
    "        else:\n",
    "            return \"No solution (contradiction)\"\n",
    "    else:\n",
    "        x = -b / a\n",
    "        return f\"The solution is x = {x}\"\n",
    "\n",
    "# Get user input for coefficients a and b\n",
    "a = float(input(\"Enter coefficient 'a': \"))\n",
    "b = float(input(\"Enter coefficient 'b': \"))\n",
    "\n",
    "# Solve the linear equation\n",
    "solution = solve_linear_equation(a, b)\n",
    "\n",
    "# Print the result\n",
    "print(solution)\n"
   ]
  },
  {
   "cell_type": "markdown",
   "id": "516ecde6-3755-4e49-aacb-d56bdd58b942",
   "metadata": {},
   "source": [
    "## 26. Write a program that simulates a basic quiz game with multiple-choice questions and scoring\n"
   ]
  },
  {
   "cell_type": "code",
   "execution_count": null,
   "id": "b158838f-dec3-4466-a790-e4f26febf858",
   "metadata": {},
   "outputs": [],
   "source": []
  },
  {
   "cell_type": "code",
   "execution_count": null,
   "id": "547eb64d-a4ae-4798-8b25-39fd719e98b5",
   "metadata": {},
   "outputs": [
    {
     "name": "stdout",
     "output_type": "stream",
     "text": [
      "What is the capital of France?\n",
      "1. Berlin\n",
      "2. Madrid\n",
      "3. Paris\n",
      "4. Rome\n"
     ]
    },
    {
     "name": "stdin",
     "output_type": "stream",
     "text": [
      "Enter your choice:  1\n"
     ]
    },
    {
     "name": "stdout",
     "output_type": "stream",
     "text": [
      "Incorrect. The correct answer was 3: Paris\n",
      "\n",
      "Which planet is known as the 'Red Planet'?\n",
      "1. Mars\n",
      "2. Venus\n",
      "3. Jupiter\n",
      "4. Saturn\n"
     ]
    }
   ],
   "source": [
    "\n",
    "\n",
    "\n",
    "class Question:\n",
    "    def __init__(self, question, options, correct_option):\n",
    "        self.question = question\n",
    "        self.options = options\n",
    "        self.correct_option = correct_option\n",
    "\n",
    "    def display_question(self):\n",
    "        print(self.question)\n",
    "        for i, option   in enumerate(self.options, start=1):\n",
    "            print(f\"{i}. {option}\")\n",
    "        return int(input(\"Enter your choice: \"))\n",
    "\n",
    "def run_quiz(questions):\n",
    "    score = 0\n",
    "\n",
    "    for question in questions:\n",
    "        user_choice = question.display_question()\n",
    "\n",
    "        if user_choice == question.correct_option:\n",
    "            print(\"Correct!\\n\")\n",
    "            score += 1\n",
    "        else:\n",
    "            print(f\"Incorrect. The correct answer was {question.correct_option}: {question.options[question.correct_option - 1]}\\n\")\n",
    "\n",
    "    print(f\"You scored {score} out of {len(questions)}.\")\n",
    "\n",
    "# Define quiz questions\n",
    "def display_question(question, options):\n",
    "    print(question)\n",
    "    for i, option in enumerate(options, start=1):\n",
    "        print(f\"{i}. {option}\")\n",
    "    return int(input(\"Enter your choice: \"))\n",
    "\n",
    "def run_quiz(questions):\n",
    "    score = 0\n",
    "\n",
    "    for question, options, correct_option in questions:\n",
    "        user_choice = display_question(question, options)\n",
    "\n",
    "        if user_choice == correct_option:\n",
    "            print(\"Correct!\\n\")\n",
    "            score += 1\n",
    "        else:\n",
    "            correct_option_text = options[correct_option - 1]\n",
    "            print(f\"Incorrect. The correct answer was {correct_option}: {correct_option_text}\\n\")\n",
    "\n",
    "    print(f\"You scored {score} out of {len(questions)}.\")\n",
    "\n",
    "# Define quiz questions\n",
    "questions = [\n",
    "    (\"What is the capital of France?\", [\"Berlin\", \"Madrid\", \"Paris\", \"Rome\"], 3),\n",
    "    (\"Which planet is known as the 'Red Planet'?\", [\"Mars\", \"Venus\", \"Jupiter\", \"Saturn\"], 1),\n",
    "    (\"What is the powerhouse of the cell?\", [\"Nucleus\", \"Mitochondria\", \"Ribosome\", \"Endoplasmic Reticulum\"], 2),\n",
    "    (\"Who wrote 'Romeo and Juliet'?\", [\"Charles Dickens\", \"Jane Austen\", \"William Shakespeare\", \"Mark Twain\"], 3),\n",
    "]\n",
    "\n",
    "# Run the quiz\n",
    "run_quiz(questions)\n",
    "\n",
    "# Run the quiz\n",
    "run_quiz(questions)\n"
   ]
  },
  {
   "cell_type": "code",
   "execution_count": 1,
   "id": "28eb15d6-4c00-493d-9bba-c3b8f8b0e2bb",
   "metadata": {},
   "outputs": [
    {
     "name": "stdout",
     "output_type": "stream",
     "text": [
      "What is the capital of France?\n",
      "1 Berlin\n",
      "2 Madrid\n",
      "3 Paris\n",
      "4 Rome\n"
     ]
    },
    {
     "name": "stdin",
     "output_type": "stream",
     "text": [
      "Enter your choice:  1\n"
     ]
    },
    {
     "name": "stdout",
     "output_type": "stream",
     "text": [
      "Incorrect. The correct answer was 3: Paris\n",
      "\n",
      "Which planet is known as the 'Red Planet'?\n",
      "1 Mars\n",
      "2 Venus\n",
      "3 Jupiter\n",
      "4 Saturn\n"
     ]
    },
    {
     "name": "stdin",
     "output_type": "stream",
     "text": [
      "Enter your choice:  3\n"
     ]
    },
    {
     "name": "stdout",
     "output_type": "stream",
     "text": [
      "Incorrect. The correct answer was 1: Mars\n",
      "\n",
      "What is the powerhouse of the cell?\n",
      "1 Nucleus\n",
      "2 Mitochondria\n",
      "3 Ribosome\n",
      "4 Endoplasmic Reticulum\n"
     ]
    },
    {
     "name": "stdin",
     "output_type": "stream",
     "text": [
      "Enter your choice:  5\n"
     ]
    },
    {
     "name": "stdout",
     "output_type": "stream",
     "text": [
      "Incorrect. The correct answer was 2: Mitochondria\n",
      "\n",
      "Who wrote 'Romeo and Juliet'?\n",
      "1 Charles Dickens\n",
      "2 Jane Austen\n",
      "3 William Shakespeare\n",
      "4 Mark Twain\n"
     ]
    },
    {
     "name": "stdin",
     "output_type": "stream",
     "text": [
      "Enter your choice:  8\n"
     ]
    },
    {
     "name": "stdout",
     "output_type": "stream",
     "text": [
      "Incorrect. The correct answer was 3: William Shakespeare\n",
      "\n",
      "You scored 0 out of 4.\n"
     ]
    }
   ],
   "source": [
    "def display_question(question, options):\n",
    "    print(question)\n",
    "    for i, option in enumerate(options, start=1):\n",
    "        print(f\"{i} {option}\")\n",
    "    return int(input(\"Enter your choice: \"))\n",
    "\n",
    "def run_quiz(questions):\n",
    "    score = 0\n",
    "\n",
    "    for question, options, correct_option in questions:\n",
    "        user_choice = display_question(question, options)\n",
    "\n",
    "        if user_choice == correct_option:\n",
    "            print(\"Correct!\\n\")\n",
    "            score += 1\n",
    "        else:\n",
    "            correct_option_text = options [correct_option -1]\n",
    "            print(f\"Incorrect. The correct answer was {correct_option}: {correct_option_text}\\n\")\n",
    "\n",
    "    print(f\"You scored {score} out of {len(questions)}.\")\n",
    "\n",
    "# Define quiz questions\n",
    "questions = [\n",
    "    (\"What is the capital of France?\", [\"Berlin\", \"Madrid\", \"Paris\", \"Rome\"], 3),\n",
    "    (\"Which planet is known as the 'Red Planet'?\", [\"Mars\", \"Venus\", \"Jupiter\", \"Saturn\"], 1),\n",
    "    (\"What is the powerhouse of the cell?\", [\"Nucleus\", \"Mitochondria\", \"Ribosome\", \"Endoplasmic Reticulum\"], 2),\n",
    "    (\"Who wrote 'Romeo and Juliet'?\", [\"Charles Dickens\", \"Jane Austen\", \"William Shakespeare\", \"Mark Twain\"], 3),\n",
    "]\n",
    "\n",
    "# Run the quiz\n",
    "\n",
    "run_quiz(questions)\n"
   ]
  },
  {
   "cell_type": "markdown",
   "id": "84e83a19-ff64-4bb3-8e0e-03a355643a27",
   "metadata": {},
   "source": [
    "## 27. Develop a program that determines whether a given year is a prime number or not."
   ]
  },
  {
   "cell_type": "code",
   "execution_count": 4,
   "id": "4d7d9eb8-b6c8-4cf2-a062-78b07d97d6df",
   "metadata": {},
   "outputs": [
    {
     "name": "stdin",
     "output_type": "stream",
     "text": [
      "enter year here 1913\n"
     ]
    },
    {
     "name": "stdout",
     "output_type": "stream",
     "text": [
      "prime year \n"
     ]
    }
   ],
   "source": [
    "year= int(input(\"enter year here\"))\n",
    "\n",
    "if year>2:\n",
    "    \n",
    "    for i in range (2,year-1):\n",
    "        if year%i==0:\n",
    "            print(\"this is not a prime year\")\n",
    "            break\n",
    "\n",
    "                  \n",
    "    else :\n",
    "        print(\"prime year \")\n",
    "else:\n",
    "    (\"prime is not a prime year \")\n",
    "    \n",
    " "
   ]
  },
  {
   "cell_type": "code",
   "execution_count": 12,
   "id": "c3a4000e-f92c-46c2-8ce3-616cd9b1c543",
   "metadata": {},
   "outputs": [
    {
     "name": "stdin",
     "output_type": "stream",
     "text": [
      "enter no here 7\n"
     ]
    },
    {
     "name": "stdout",
     "output_type": "stream",
     "text": [
      "prime no \n"
     ]
    }
   ],
   "source": [
    "number= int(input(\"enter no here\"))\n",
    "\n",
    "if number >2:\n",
    "    \n",
    "    for i in range (2,number-1):\n",
    "        if number%i==0:\n",
    "            print(\"this is not a prime no\")\n",
    "            break\n",
    "\n",
    "                  \n",
    "    else :\n",
    "        print(\"prime no \")\n",
    "else:\n",
    "    (\"prime is not a prime no \")\n",
    "    \n",
    " "
   ]
  },
  {
   "cell_type": "markdown",
   "id": "d92b0736-c06d-48ef-a244-37653a7efca8",
   "metadata": {},
   "source": [
    "## 28. Create a program that sorts three numbers in ascending order using conditional statements."
   ]
  },
  {
   "cell_type": "code",
   "execution_count": 5,
   "id": "c54e5865-0f40-4814-9a75-52b65209012c",
   "metadata": {},
   "outputs": [
    {
     "name": "stdout",
     "output_type": "stream",
     "text": [
      "[2, 2, 3, 4, 6]\n"
     ]
    }
   ],
   "source": [
    "\n",
    "#using builtin method\n",
    "\n",
    "a=[2,4,3,6,2]\n",
    "\n",
    "a.sort(reverse=False)\n",
    "\n",
    "print(a)"
   ]
  },
  {
   "cell_type": "code",
   "execution_count": 31,
   "id": "3f998186-43ff-4220-9d1a-e25a01336215",
   "metadata": {},
   "outputs": [
    {
     "name": "stdin",
     "output_type": "stream",
     "text": [
      "enter 1 no here 6\n",
      "enter 2 no here 7\n",
      "enter 3 no here 9\n"
     ]
    },
    {
     "name": "stdout",
     "output_type": "stream",
     "text": [
      "soerted list is : (6, 7, 9)\n"
     ]
    }
   ],
   "source": [
    "# using conditional statements\n",
    "\n",
    "def sort_no(a,b,c):\n",
    "    \n",
    "    if a <= b <= c:\n",
    "        return a, b, c\n",
    "    elif a <= c <= b:\n",
    "        return a, c, b\n",
    "    elif b <= a <= c:\n",
    "        return b, a, c\n",
    "    elif b <= c <= a:\n",
    "        return b, c, a\n",
    "    elif c <= a <= b:\n",
    "        return c, a, b\n",
    "    else:\n",
    "        return c, b, a\n",
    "    \n",
    " \n",
    "num1=int(input(\"enter 1 no here\")) \n",
    "num2=int(input(\"enter 2 no here\")) \n",
    "num3=int(input(\"enter 3 no here\")) \n",
    "    \n",
    "    \n",
    "sorted_num = sort_no(num1,num2,num3)\n",
    "    \n",
    "print(\"soerted list is :\",sorted_num )    "
   ]
  },
  {
   "cell_type": "markdown",
   "id": "83fe3dd8-b753-4dfb-9413-0e127b6ab45d",
   "metadata": {},
   "source": [
    "\n",
    "\n",
    "## 29. Build a program that determines the roots of a quartic equation using numerical methods"
   ]
  },
  {
   "cell_type": "markdown",
   "id": "a159242d-6d5a-40f2-aabe-eb7956a0a1fa",
   "metadata": {},
   "source": [
    "## 30. Write a program that calculates the BMI (Body Mass Index) and provides health recommendations based on the user's input."
   ]
  },
  {
   "cell_type": "code",
   "execution_count": 12,
   "id": "26513ba3-9f49-4054-a20f-487288fa5f8e",
   "metadata": {},
   "outputs": [
    {
     "name": "stdin",
     "output_type": "stream",
     "text": [
      "enter your weight here 80\n",
      "enter your height here 1.78\n"
     ]
    },
    {
     "name": "stdout",
     "output_type": "stream",
     "text": [
      "your bmi is: 25.24933720489837\n",
      "you are slightly overweight follow some diet\n"
     ]
    }
   ],
   "source": [
    "weight=int(input(\"enter your weight here\"))\n",
    "\n",
    "height=float(input(\"enter your height here\"))\n",
    "\n",
    "bmi=weight/(height*height)\n",
    "\n",
    "if bmi <18.9:\n",
    "    print(\"your bmi is:\", bmi )\n",
    "    print(\"you r under weight u need to consult a doctor\")\n",
    "    \n",
    "elif 19<=bmi <=24.9:\n",
    "    print(\"your bmi is:\", bmi )\n",
    "    print(\"you are normal weight kepp to up \")\n",
    "elif 25<= bmi <=29.9:\n",
    "    print(\"your bmi is:\", bmi )\n",
    "    print(\"you are slightly overweight follow some diet\")\n",
    "    \n",
    "else:\n",
    "    print(\"your bmi is:\", bmi )\n",
    "    print(\"you are over weight consult a doctor \")"
   ]
  },
  {
   "cell_type": "code",
   "execution_count": 13,
   "id": "11641863-31de-4c2e-aa4d-e22c34374eab",
   "metadata": {},
   "outputs": [
    {
     "name": "stdin",
     "output_type": "stream",
     "text": [
      "Enter your weight (in kilograms):  90\n",
      "Enter your height (in meters):  1.90\n"
     ]
    },
    {
     "name": "stdout",
     "output_type": "stream",
     "text": [
      "your bmi is24.930747922437675\n",
      "You are obese. It's important to consult a healthcare provider for advice.\n"
     ]
    }
   ],
   "source": [
    "def bmi_calculate(weight,height):\n",
    "    return weight/(height*height)\n",
    "\n",
    "def health_recommendation(bmi):\n",
    "   \n",
    "        \n",
    "    if bmi < 18.5:\n",
    "        return \"You are underweight. It's important to consult a healthcare provider for advice.\"\n",
    "    elif 18.5 <= bmi < 24.9:\n",
    "        return \"You have a healthy weight. Keep up the good work!\"\n",
    "    elif 25 <= bmi < 29.9:\n",
    "        return \"You are overweight. Consider making some lifestyle changes for better health.\"\n",
    "    else:\n",
    "        return \"You are obese. It's important to consult a healthcare provider for advice.\"\n",
    "\n",
    "weight = float(input(\"Enter your weight (in kilograms): \"))\n",
    "height = float(input(\"Enter your height (in meters): \"))\n",
    "\n",
    "bmi= bmi_calculate(weight,height)\n",
    "\n",
    "recommendation = health_recommendation(bmi)\n",
    "\n",
    "print(f\"your bmi is{bmi}\")\n",
    "print(recommendation )"
   ]
  },
  {
   "cell_type": "markdown",
   "id": "0703ead6-d6ba-48e4-89fc-efbc1722ee78",
   "metadata": {},
   "source": [
    "##  31. Create a program that validates a password based on complexity rules (length, characters, etc.)."
   ]
  },
  {
   "cell_type": "code",
   "execution_count": 22,
   "id": "4074fd49-2365-4c9f-8d4b-e9f85fce1c20",
   "metadata": {},
   "outputs": [
    {
     "name": "stdin",
     "output_type": "stream",
     "text": [
      "Enter your password:  cghgfhfgnfgxbgbx\n"
     ]
    },
    {
     "name": "stdout",
     "output_type": "stream",
     "text": [
      "Password is invalid. Please make sure it meets the complexity rules.\n"
     ]
    }
   ],
   "source": [
    "def validate_password(password):\n",
    "    length_rule= len(password)>=8\n",
    "    uppercase_rule= any(char.isupper() for char in password)\n",
    "    lowecase_rule= any(char.islower() for char in password)\n",
    "    digit_rule= any(char.isdigit() for char in password)\n",
    "        \n",
    "    \n",
    "    special_char_rule = (' !@#$%^&*(),.?\":{}|<> ')\n",
    "        \n",
    "    for char in password:\n",
    "        if char in special_char_rule:\n",
    "            return True\n",
    "    else:\n",
    "        return False\n",
    "                   \n",
    "   # if special_char_rule in password:\n",
    "    #    return True\n",
    "    \n",
    "    #  else:\n",
    "     #   return False\n",
    "                         \n",
    "                         \n",
    "                         \n",
    "                        \n",
    "\n",
    "    if length_rule and uppercase_rule and lowercase_rule and digit_rule and special_char_rule is True:\n",
    "        return True\n",
    "    else:\n",
    "        return False\n",
    "\n",
    "    \n",
    "    \n",
    "password = input(\"Enter your password: \")\n",
    "\n",
    "# Validate the password\n",
    "if validate_password(password):\n",
    "    print(\"Password is valid.\")\n",
    "else:\n",
    "    print(\"Password is invalid. Please make sure it meets the complexity rules.\")\n",
    "    \n",
    "     "
   ]
  },
  {
   "cell_type": "markdown",
   "id": "3fbed4a9-3075-4454-b074-e9b16b4e2940",
   "metadata": {},
   "source": [
    "## 32. Develop a program that performs matrix addition and subtraction based on user input"
   ]
  },
  {
   "cell_type": "code",
   "execution_count": 2,
   "id": "16a65a4c-58ce-42ff-be40-9b60b50e53b6",
   "metadata": {},
   "outputs": [
    {
     "name": "stdout",
     "output_type": "stream",
     "text": [
      "Enter the first matrix:\n"
     ]
    },
    {
     "name": "stdin",
     "output_type": "stream",
     "text": [
      "Enter the number of rows:  2\n",
      "Enter the number of columns:  2\n"
     ]
    },
    {
     "name": "stdout",
     "output_type": "stream",
     "text": [
      "Enter the elements row by row:\n"
     ]
    },
    {
     "name": "stdin",
     "output_type": "stream",
     "text": [
      " 1 2\n",
      " 3 4\n"
     ]
    },
    {
     "name": "stdout",
     "output_type": "stream",
     "text": [
      "\n",
      "Enter the second matrix:\n"
     ]
    },
    {
     "name": "stdin",
     "output_type": "stream",
     "text": [
      "Enter the number of rows:  2\n",
      "Enter the number of columns:  2\n"
     ]
    },
    {
     "name": "stdout",
     "output_type": "stream",
     "text": [
      "Enter the elements row by row:\n"
     ]
    },
    {
     "name": "stdin",
     "output_type": "stream",
     "text": [
      " 4 5\n",
      " 5 6\n"
     ]
    },
    {
     "name": "stdout",
     "output_type": "stream",
     "text": [
      "\n",
      "Matrix Addition:\n",
      "5 7\n",
      "8 10\n",
      "\n",
      "Matrix Subtraction:\n",
      "-3 -3\n",
      "-2 -2\n"
     ]
    }
   ],
   "source": [
    "def add_matrices(matrix1, matrix2):\n",
    "    result = [[matrix1[i][j] + matrix2[i][j] for j in range(len(matrix1[0]))] for i in range(len(matrix1))]\n",
    "    return result\n",
    "\n",
    "def subtract_matrices(matrix1, matrix2):\n",
    "    result = [[matrix1[i][j] - matrix2[i][j] for j in range(len(matrix1[0]))] for i in range(len(matrix1))]\n",
    "    return result\n",
    "\n",
    "def input_matrix():\n",
    "    rows = int(input(\"Enter the number of rows: \"))\n",
    "    cols = int(input(\"Enter the number of columns: \"))\n",
    "\n",
    "    matrix = []\n",
    "    print(\"Enter the elements row by row:\")\n",
    "    for i in range(rows):\n",
    "        row = [int(x) for x in input().split()]\n",
    "        if len(row) != cols:\n",
    "            print(\"Invalid input. Please enter\", cols, \"numbers.\")\n",
    "            return None\n",
    "        matrix.append(row)\n",
    "    return matrix\n",
    "\n",
    "def print_matrix(matrix):\n",
    "    for row in matrix:\n",
    "        print(' '.join(map(str, row)))\n",
    "\n",
    "# Get user input for the first matrix\n",
    "print(\"Enter the first matrix:\")\n",
    "matrix1 = input_matrix()\n",
    "\n",
    "# Get user input for the second matrix\n",
    "print(\"\\nEnter the second matrix:\")\n",
    "matrix2 = input_matrix()\n",
    "\n",
    "if matrix1 is not None and matrix2 is not None:\n",
    "    if len(matrix1) == len(matrix2) and len(matrix1[0]) == len(matrix2[0]):\n",
    "        print(\"\\nMatrix Addition:\")\n",
    "        result_addition = add_matrices(matrix1, matrix2)\n",
    "        print_matrix(result_addition)\n",
    "\n",
    "        print(\"\\nMatrix Subtraction:\")\n",
    "        result_subtraction = subtract_matrices(matrix1, matrix2)\n",
    "        print_matrix(result_subtraction)\n",
    "    else:\n",
    "        print(\"\\nMatrix dimensions are not compatible for addition and subtraction.\")\n"
   ]
  },
  {
   "cell_type": "markdown",
   "id": "cae6486e-b16f-4fb6-b828-fe887105669c",
   "metadata": {},
   "source": [
    "## 33. Write a program that calculates the greatest common divisor (GCD) of two numbers using the Euclidean algorithm."
   ]
  },
  {
   "cell_type": "code",
   "execution_count": 5,
   "id": "dc98db1d-2cdb-4a1b-9341-2445e25386ee",
   "metadata": {},
   "outputs": [
    {
     "name": "stdin",
     "output_type": "stream",
     "text": [
      "Enter the first number:  10\n",
      "Enter the second number:  15\n"
     ]
    },
    {
     "name": "stdout",
     "output_type": "stream",
     "text": [
      "The GCD of 10 and 15 is: 5\n"
     ]
    }
   ],
   "source": [
    "def euclidean_gcd(a, b):\n",
    "    while b != 0:\n",
    "        a, b = b, a % b\n",
    "    return a\n",
    "\n",
    "# Get user input for two numbers\n",
    "a = int(input(\"Enter the first number: \"))\n",
    "b = int(input(\"Enter the second number: \"))\n",
    "\n",
    "# Calculate the GCD using the Euclidean algorithm\n",
    "gcd = euclidean_gcd(a, b)\n",
    "\n",
    "# Display the result\n",
    "print(f\"The GCD of {a} and {b} is: {gcd}\")\n"
   ]
  },
  {
   "cell_type": "markdown",
   "id": "e7f9e98f-c808-4f7a-af94-7849f5448d5a",
   "metadata": {},
   "source": [
    "## 34. Build a program that performs matrix multiplication using nested loops and conditional statements."
   ]
  },
  {
   "cell_type": "code",
   "execution_count": 1,
   "id": "dd8b7a0e-c7e9-420c-b82a-5e36e11a8c55",
   "metadata": {},
   "outputs": [
    {
     "name": "stdout",
     "output_type": "stream",
     "text": [
      "Enter the first matrix:\n"
     ]
    },
    {
     "name": "stdin",
     "output_type": "stream",
     "text": [
      "Enter the number of rows:  2\n",
      "Enter the number of columns:  3\n"
     ]
    },
    {
     "name": "stdout",
     "output_type": "stream",
     "text": [
      "Enter the elements row by row:\n"
     ]
    },
    {
     "name": "stdin",
     "output_type": "stream",
     "text": [
      " 1 2 3\n",
      " 4 5 6\n"
     ]
    },
    {
     "name": "stdout",
     "output_type": "stream",
     "text": [
      "\n",
      "Enter the second matrix:\n"
     ]
    },
    {
     "name": "stdin",
     "output_type": "stream",
     "text": [
      "Enter the number of rows:  3\n",
      "Enter the number of columns:  2\n"
     ]
    },
    {
     "name": "stdout",
     "output_type": "stream",
     "text": [
      "Enter the elements row by row:\n"
     ]
    },
    {
     "name": "stdin",
     "output_type": "stream",
     "text": [
      " 7 8\n",
      " 9 10\n",
      " 11 12\n"
     ]
    },
    {
     "name": "stdout",
     "output_type": "stream",
     "text": [
      "\n",
      "Matrix Multiplication:\n",
      "58 64\n",
      "139 154\n"
     ]
    }
   ],
   "source": [
    "def multiply_matrices(matrix1, matrix2):\n",
    "    if len(matrix1[0]) != len(matrix2):\n",
    "        print(\"Matrix dimensions are not compatible for multiplication.\")\n",
    "        return None\n",
    "\n",
    "    result = [[0 for _ in range(len(matrix2[0]))] for _ in range(len(matrix1))]\n",
    "\n",
    "    for i in range(len(matrix1)):\n",
    "        for j in range(len(matrix2[0])):\n",
    "            for k in range(len(matrix2)):\n",
    "                result[i][j] += matrix1[i][k] * matrix2[k][j]\n",
    "\n",
    "    return result\n",
    "\n",
    "def input_matrix():\n",
    "    rows = int(input(\"Enter the number of rows: \"))\n",
    "    cols = int(input(\"Enter the number of columns: \"))\n",
    "\n",
    "    matrix = []\n",
    "    print(\"Enter the elements row by row:\")\n",
    "    for i in range(rows):\n",
    "        row = [int(x) for x in input().split()]\n",
    "        if len(row) != cols:\n",
    "            print(\"Invalid input. Please enter\", cols, \"numbers.\")\n",
    "            return None\n",
    "        matrix.append(row)\n",
    "    return matrix\n",
    "\n",
    "def print_matrix(matrix):\n",
    "    for row in matrix:\n",
    "        print(' '.join(map(str, row)))\n",
    "\n",
    "# Get user input for the first matrix\n",
    "print(\"Enter the first matrix:\")\n",
    "matrix1 = input_matrix()\n",
    "\n",
    "# Get user input for the second matrix\n",
    "print(\"\\nEnter the second matrix:\")\n",
    "matrix2 = input_matrix()\n",
    "\n",
    "if matrix1 is not None and matrix2 is not None:\n",
    "    result = multiply_matrices(matrix1, matrix2)\n",
    "    if result is not None:\n",
    "        print(\"\\nMatrix Multiplication:\")\n",
    "        print_matrix(result)\n"
   ]
  },
  {
   "cell_type": "markdown",
   "id": "e593e146-bbc7-44b3-9434-0c78151dd346",
   "metadata": {},
   "source": [
    "## 35. Create a program that simulates a basic text-based tic-tac-toe game against the computer"
   ]
  },
  {
   "cell_type": "code",
   "execution_count": 2,
   "id": "60d3dd89-b524-44ca-b81d-deb102500c7c",
   "metadata": {},
   "outputs": [
    {
     "name": "stdout",
     "output_type": "stream",
     "text": [
      "  |   |  \n",
      "-----\n",
      "  |   |  \n",
      "-----\n",
      "  |   |  \n",
      "-----\n"
     ]
    },
    {
     "name": "stdin",
     "output_type": "stream",
     "text": [
      "Enter row (0-2) for X:  1\n",
      "Enter column (0-2) for X:  1\n"
     ]
    },
    {
     "name": "stdout",
     "output_type": "stream",
     "text": [
      "  |   |  \n",
      "-----\n",
      "  | X |  \n",
      "-----\n",
      "  |   |  \n",
      "-----\n",
      "Computer's turn (O): \n",
      "  | O |  \n",
      "-----\n",
      "  | X |  \n",
      "-----\n",
      "  |   |  \n",
      "-----\n"
     ]
    },
    {
     "name": "stdin",
     "output_type": "stream",
     "text": [
      "Enter row (0-2) for X:  0\n",
      "Enter column (0-2) for X:  0\n"
     ]
    },
    {
     "name": "stdout",
     "output_type": "stream",
     "text": [
      "X | O |  \n",
      "-----\n",
      "  | X |  \n",
      "-----\n",
      "  |   |  \n",
      "-----\n",
      "Computer's turn (O): \n",
      "X | O | O\n",
      "-----\n",
      "  | X |  \n",
      "-----\n",
      "  |   |  \n",
      "-----\n"
     ]
    },
    {
     "name": "stdin",
     "output_type": "stream",
     "text": [
      "Enter row (0-2) for X:  2\n",
      "Enter column (0-2) for X:  2\n"
     ]
    },
    {
     "name": "stdout",
     "output_type": "stream",
     "text": [
      "X | O | O\n",
      "-----\n",
      "  | X |  \n",
      "-----\n",
      "  |   | X\n",
      "-----\n",
      "Congratulations! You win!\n"
     ]
    }
   ],
   "source": [
    "import random\n",
    "\n",
    "def print_board(board):\n",
    "    for row in board:\n",
    "        print(' | '.join(row))\n",
    "        print('-' * 5)\n",
    "\n",
    "def check_winner(board, player):\n",
    "    for row in board:\n",
    "        if row.count(player) == 3:\n",
    "            return True\n",
    "\n",
    "    for col in range(3):\n",
    "        if [board[row][col] for row in range(3)].count(player) == 3:\n",
    "            return True\n",
    "\n",
    "    if [board[i][i] for i in range(3)].count(player) == 3 or [board[i][2-i] for i in range(3)].count(player) == 3:\n",
    "        return True\n",
    "\n",
    "    return False\n",
    "\n",
    "def get_available_moves(board):\n",
    "    return [(i, j) for i in range(3) for j in range(3) if board[i][j] == ' ']\n",
    "\n",
    "def computer_move(board):\n",
    "    available_moves = get_available_moves(board)\n",
    "    return random.choice(available_moves)\n",
    "\n",
    "def play_tic_tac_toe():\n",
    "    board = [[' ' for _ in range(3)] for _ in range(3)]\n",
    "    player = 'X'\n",
    "    computer = 'O'\n",
    "\n",
    "    while True:\n",
    "        print_board(board)\n",
    "\n",
    "        if player == 'X':\n",
    "            row = int(input(f'Enter row (0-2) for {player}: '))\n",
    "            col = int(input(f'Enter column (0-2) for {player}: '))\n",
    "        else:\n",
    "            print(f\"Computer's turn ({computer}): \")\n",
    "            row, col = computer_move(board)\n",
    "\n",
    "        if board[row][col] == ' ':\n",
    "            board[row][col] = player\n",
    "\n",
    "            if check_winner(board, player):\n",
    "                print_board(board)\n",
    "                if player == 'X':\n",
    "                    print('Congratulations! You win!')\n",
    "                else:\n",
    "                    print('Computer wins!')\n",
    "                break\n",
    "\n",
    "            if len(get_available_moves(board)) == 0:\n",
    "                print_board(board)\n",
    "                print('It\\'s a draw!')\n",
    "                break\n",
    "\n",
    "            player = 'O' if player == 'X' else 'X'\n",
    "        else:\n",
    "            print('Invalid move! Try again.')\n",
    "\n",
    "play_tic_tac_toe()\n"
   ]
  },
  {
   "cell_type": "code",
   "execution_count": null,
   "id": "16714e96-6325-473a-bc4a-35fb8590b664",
   "metadata": {},
   "outputs": [],
   "source": []
  },
  {
   "cell_type": "markdown",
   "id": "db532835-2655-4cce-8fe4-25aff333a743",
   "metadata": {},
   "source": [
    "## 36. Write a program that generates Fibonacci numbers up to a specified term using iterative methods.\n"
   ]
  },
  {
   "cell_type": "code",
   "execution_count": 56,
   "id": "1c4ee275-07bf-4513-b4c8-88cd7f55c216",
   "metadata": {},
   "outputs": [
    {
     "name": "stdin",
     "output_type": "stream",
     "text": [
      "Enter the number of Fibonacci numbers to generate:  25\n"
     ]
    },
    {
     "name": "stdout",
     "output_type": "stream",
     "text": [
      "The first 25 Fibonacci numbers are: [0, 1, 1, 2, 3, 5, 8, 13, 21, 34, 55, 89, 144, 233, 377, 610, 987, 1597, 2584, 4181, 6765, 10946, 17711, 28657, 46368]\n"
     ]
    }
   ],
   "source": [
    "def generate_fibonacci(n):\n",
    "    fibonacci_sequence = [0, 1]\n",
    "\n",
    "    for i in range(2, n):\n",
    "        next_fibonacci = fibonacci_sequence[-1] + fibonacci_sequence[-2]\n",
    "        fibonacci_sequence.append(next_fibonacci)\n",
    "\n",
    "    return fibonacci_sequence\n",
    "\n",
    "# Get user input for the number of Fibonacci numbers to generate\n",
    "n = int(input(\"Enter the number of Fibonacci numbers to generate: \"))\n",
    "\n",
    "# Generate and display the Fibonacci numbers\n",
    "fibonacci_numbers = generate_fibonacci(n)\n",
    "print(f\"The first {n} Fibonacci numbers are:\", fibonacci_numbers)\n"
   ]
  },
  {
   "cell_type": "code",
   "execution_count": null,
   "id": "e1b88e85-074e-47a6-9c1e-46a1ee3870fe",
   "metadata": {},
   "outputs": [],
   "source": []
  },
  {
   "cell_type": "markdown",
   "id": "b0ceeadf-452c-480a-afeb-d459816e82ed",
   "metadata": {},
   "source": [
    "## 37. Develop a program that calculates the nth term of the Fibonacci sequence using memoization."
   ]
  },
  {
   "cell_type": "code",
   "execution_count": 55,
   "id": "650454b2-b3d0-4451-9984-5172caa35b7e",
   "metadata": {},
   "outputs": [
    {
     "name": "stdout",
     "output_type": "stream",
     "text": [
      "20 th Fibonacci Number: \n",
      "6765\n"
     ]
    }
   ],
   "source": [
    "# Fibonacci series using recursion\n",
    "def fibonacci(n):\n",
    "\tif n <= 1:\n",
    "\t\treturn n\n",
    "\treturn fibonacci(n-1) + fibonacci(n-2)\n",
    "\n",
    "\n",
    "if __name__ == \"__main__\":\n",
    "\tn = 20\n",
    "\tprint(n, \"th Fibonacci Number: \")\n",
    "\tprint(fibonacci(n))\n",
    "\n",
    "# This code is contributed by Manan Tyagi.\n"
   ]
  },
  {
   "cell_type": "markdown",
   "id": "900cb16e-ac40-45ca-9ed6-e15b9121a671",
   "metadata": {},
   "source": [
    "## 38. Create a program that generates a calendar for a given month and year using conditional statements."
   ]
  },
  {
   "cell_type": "code",
   "execution_count": 73,
   "id": "98813cee-a16e-4996-ba42-bc6e7233e7f9",
   "metadata": {},
   "outputs": [
    {
     "name": "stdin",
     "output_type": "stream",
     "text": [
      "Please enter the Year:  2020\n",
      "Please enter the month:  7\n"
     ]
    },
    {
     "name": "stdout",
     "output_type": "stream",
     "text": [
      "\n",
      "\n",
      "The Calendar of:       July 2020\n",
      "Mo Tu We Th Fr Sa Su\n",
      "       1  2  3  4  5\n",
      " 6  7  8  9 10 11 12\n",
      "13 14 15 16 17 18 19\n",
      "20 21 22 23 24 25 26\n",
      "27 28 29 30 31\n",
      "\n"
     ]
    }
   ],
   "source": [
    "import calendar\n",
    "\n",
    "year = int(input (\"Please enter the Year: \"))\n",
    "\n",
    "month = int(input (\"Please enter the month: \"))\n",
    "\n",
    "if year < 0 or month < 1 or month > 12:\n",
    "    print(\"Invalid input. Please enter a valid year and month.\")\n",
    "    \n",
    "else:\n",
    "    print(\"\\n\")\n",
    "    \n",
    "    print(\"The Calendar of: \",calendar.month(year,month))\n",
    "\n",
    "# Print(\"The Calendar of: \", calendar. month(year, month))"
   ]
  },
  {
   "cell_type": "code",
   "execution_count": null,
   "id": "40059797-af01-4043-a2d5-e15376db5df1",
   "metadata": {},
   "outputs": [],
   "source": []
  },
  {
   "cell_type": "markdown",
   "id": "d235ad48-970b-42d1-af61-e69f6aa5f2c0",
   "metadata": {},
   "source": [
    "## 40. Write a program that generates the prime factors of a given number using trial division."
   ]
  },
  {
   "cell_type": "code",
   "execution_count": 1,
   "id": "c1a2aaaa-bcaf-443e-902b-507bb38b67fd",
   "metadata": {},
   "outputs": [
    {
     "name": "stdin",
     "output_type": "stream",
     "text": [
      "Enter a positive integer:  56\n"
     ]
    },
    {
     "name": "stdout",
     "output_type": "stream",
     "text": [
      "The prime factors of 56 are: [2, 2, 2, 7]\n"
     ]
    }
   ],
   "source": [
    "def generate_prime_factors(n):\n",
    "    factors = []\n",
    "    divisor = 2\n",
    "\n",
    "    while n > 1:\n",
    "        while n % divisor == 0:\n",
    "            factors.append(divisor)\n",
    "            # n //= divisor performs an integer division of n by divisor and assigns the result back to n. In other words, \n",
    "            #it divides n by divisor and updates n with the quotient.\n",
    "\n",
    "            #For example, if n is initially 10 and divisor is 2, n //= divisor would result in n being updated to 5, \n",
    "            #because 10 divided by 2 is 5.\n",
    "            n //= divisor\n",
    "        divisor += 1\n",
    "\n",
    "    return factors\n",
    "\n",
    "# Get user input for the number\n",
    "num = int(input(\"Enter a positive integer: \"))\n",
    "\n",
    "# Validate the input\n",
    "if num <= 1:\n",
    "    print(\"Please enter a positive integer greater than 1.\")\n",
    "else:\n",
    "    # Generate and display the prime factors\n",
    "    prime_factors = generate_prime_factors(num)\n",
    "    print(f\"The prime factors of {num} are:\", prime_factors)\n"
   ]
  }
 ],
 "metadata": {
  "kernelspec": {
   "display_name": "Python 3 (ipykernel)",
   "language": "python",
   "name": "python3"
  },
  "language_info": {
   "codemirror_mode": {
    "name": "ipython",
    "version": 3
   },
   "file_extension": ".py",
   "mimetype": "text/x-python",
   "name": "python",
   "nbconvert_exporter": "python",
   "pygments_lexer": "ipython3",
   "version": "3.10.8"
  }
 },
 "nbformat": 4,
 "nbformat_minor": 5
}
