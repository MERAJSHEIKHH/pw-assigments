{
 "cells": [
  {
   "cell_type": "markdown",
   "id": "c596810f-23ae-4e4e-be3c-2ff275160fab",
   "metadata": {},
   "source": [
    "## 1. Write a Python program to print the numbers from 1 to 10 using a `for` loop."
   ]
  },
  {
   "cell_type": "code",
   "execution_count": 114,
   "id": "8e1a1817-9caa-431c-92e4-759419447a9b",
   "metadata": {},
   "outputs": [
    {
     "name": "stdout",
     "output_type": "stream",
     "text": [
      "1 2 3 4 5 6 7 8 9 10 "
     ]
    }
   ],
   "source": [
    "for a in range(1,11):\n",
    "    print(a,end=\" \")"
   ]
  },
  {
   "cell_type": "markdown",
   "id": "72861297-f19f-4c94-9197-1a34862a6b0d",
   "metadata": {},
   "source": [
    "## 2. Create a program that calculates the sum of all numbers in a list using a `for` loop."
   ]
  },
  {
   "cell_type": "code",
   "execution_count": 134,
   "id": "c1da45fc-ea49-4ed8-ba88-a243c8d4d973",
   "metadata": {},
   "outputs": [
    {
     "name": "stdout",
     "output_type": "stream",
     "text": [
      "150\n"
     ]
    }
   ],
   "source": [
    "def calculate_average(num):\n",
    "    count=0\n",
    "    for number in num:\n",
    "        count+=number\n",
    "    print(count)\n",
    "    \n",
    "calculate_average(num)   \n",
    "        \n",
    "num = (10, 20, 30, 40, 50)      "
   ]
  },
  {
   "cell_type": "markdown",
   "id": "27078e6c-1612-48d8-abc5-7cf0c50286ff",
   "metadata": {},
   "source": [
    "## 3. Write a program to print the characters of a string in reverse order using a `for` loop."
   ]
  },
  {
   "cell_type": "code",
   "execution_count": 113,
   "id": "849cfdca-46a8-4ca3-ac5f-10268b1db31f",
   "metadata": {},
   "outputs": [
    {
     "name": "stdout",
     "output_type": "stream",
     "text": [
      "dlrow olleh\n"
     ]
    }
   ],
   "source": [
    "string=\"hello world\"\n",
    "b=string[::-1]\n",
    "print(b)\n",
    "    "
   ]
  },
  {
   "cell_type": "markdown",
   "id": "ba9df671-4200-4465-859c-13c911f93ee9",
   "metadata": {},
   "source": [
    "## 4. Develop a program that finds the factorial of a given number using a `for` loop."
   ]
  },
  {
   "cell_type": "code",
   "execution_count": 94,
   "id": "8fd6725c-1e7b-4b8f-9286-f28c3b6f0ae4",
   "metadata": {},
   "outputs": [],
   "source": [
    "def factorial(n):\n",
    "    result = 1\n",
    "    for i in range(1, n + 1):\n",
    "        result *= i\n",
    "    return result\n",
    "\n",
    "\n"
   ]
  },
  {
   "cell_type": "code",
   "execution_count": 95,
   "id": "59309f2e-aa1f-4334-8263-6a7031b2e1a3",
   "metadata": {},
   "outputs": [
    {
     "data": {
      "text/plain": [
       "120"
      ]
     },
     "execution_count": 95,
     "metadata": {},
     "output_type": "execute_result"
    }
   ],
   "source": [
    "factorial(5)"
   ]
  },
  {
   "cell_type": "code",
   "execution_count": null,
   "id": "0bf86fff-abeb-4dd8-bb6e-c2a05580282a",
   "metadata": {},
   "outputs": [],
   "source": []
  },
  {
   "cell_type": "code",
   "execution_count": null,
   "id": "9950316e-3b20-4274-a486-564ca1c75af2",
   "metadata": {},
   "outputs": [],
   "source": []
  },
  {
   "cell_type": "code",
   "execution_count": null,
   "id": "4fca5f7f-d195-4f43-9347-3ad486baaaa6",
   "metadata": {},
   "outputs": [],
   "source": []
  },
  {
   "cell_type": "markdown",
   "id": "c09ab4d8-cbc4-4b10-81c2-d739e319d4a7",
   "metadata": {},
   "source": [
    "## 5. Create a program to print the multiplication table of a given number using a `for` loop."
   ]
  },
  {
   "cell_type": "code",
   "execution_count": 82,
   "id": "6195d96a-2150-42e3-ac91-4ab4197c0796",
   "metadata": {},
   "outputs": [
    {
     "name": "stdout",
     "output_type": "stream",
     "text": [
      "8 x 1 = 8\n",
      "8 x 2 = 16\n",
      "8 x 3 = 24\n",
      "8 x 4 = 32\n",
      "8 x 5 = 40\n",
      "8 x 6 = 48\n",
      "8 x 7 = 56\n",
      "8 x 8 = 64\n",
      "8 x 9 = 72\n",
      "8 x 10 = 80\n"
     ]
    }
   ],
   "source": [
    "i=8\n",
    " \n",
    "for j in range(1, 11): \n",
    "    result = i * j\n",
    "    print(f\"{i} x {j} = {result}\")\n",
    "    \n",
    "   \n",
    "\n",
    "\n"
   ]
  },
  {
   "cell_type": "code",
   "execution_count": null,
   "id": "ebfeb240-d478-4d3b-86a9-b2827c0c5c4a",
   "metadata": {},
   "outputs": [],
   "source": []
  },
  {
   "cell_type": "code",
   "execution_count": null,
   "id": "b0aa91b4-f30f-4684-b7ef-15f78a14740a",
   "metadata": {},
   "outputs": [],
   "source": []
  },
  {
   "cell_type": "markdown",
   "id": "663544d3-a647-4366-bae9-238d0e67d15e",
   "metadata": {},
   "source": [
    "## 6. Write a program that counts the number of even and odd numbers in a list using a `for` loop."
   ]
  },
  {
   "cell_type": "code",
   "execution_count": 122,
   "id": "f2152d47-8973-4686-8534-29849adb5a79",
   "metadata": {},
   "outputs": [
    {
     "name": "stdout",
     "output_type": "stream",
     "text": [
      "even_no_count: 3\n",
      "odd no count: 4\n"
     ]
    }
   ],
   "source": [
    "l1=[2,2,2,3,3,3,3]\n",
    "count=0\n",
    "for even_no in l1:\n",
    "    if even_no%2==0:\n",
    "        count=count+1\n",
    "print(\"even_no_count:\", count)    \n",
    "\n",
    "count=0\n",
    "for odd_no in l1:\n",
    "    if odd_no%2!=0:\n",
    "        count=count+1\n",
    "print(\"odd no count:\",count)"
   ]
  },
  {
   "cell_type": "markdown",
   "id": "550122c2-ef61-498e-bdec-addff40dd5a7",
   "metadata": {},
   "source": [
    "## 7. Develop a program that prints the squares of numbers from 1 to 5 using a `for` loop."
   ]
  },
  {
   "cell_type": "code",
   "execution_count": 10,
   "id": "4aae67d1-d339-47d2-b897-7fc6f5301479",
   "metadata": {},
   "outputs": [
    {
     "name": "stdout",
     "output_type": "stream",
     "text": [
      "1 4 9 16 25 "
     ]
    }
   ],
   "source": [
    "def print_square(num):\n",
    "    for a in num:\n",
    "        square=a*a\n",
    "        print(square,end=\" \")\n",
    "num=(1,2,3,4,5)        \n",
    "print_square(num)        \n",
    "   \n"
   ]
  },
  {
   "cell_type": "code",
   "execution_count": null,
   "id": "44310a5d-e372-45f6-ae2f-9571af31a6a2",
   "metadata": {},
   "outputs": [],
   "source": []
  },
  {
   "cell_type": "markdown",
   "id": "7f12416f-fac5-4d6e-a8e0-7a00b67d5db6",
   "metadata": {},
   "source": [
    "## 8. Create a program to find the length of a string without using the `len()` function."
   ]
  },
  {
   "cell_type": "code",
   "execution_count": 124,
   "id": "ee2517ca-7089-43df-b49f-49a5243491fd",
   "metadata": {},
   "outputs": [
    {
     "name": "stdout",
     "output_type": "stream",
     "text": [
      "11\n"
     ]
    }
   ],
   "source": [
    "def variable_len(num):\n",
    "    count=0\n",
    "    for _ in num:\n",
    "        count+=1\n",
    "    print( count)\n",
    "a=\"hello world\"\n",
    "\n",
    "variable_len(a)\n",
    "        \n"
   ]
  },
  {
   "cell_type": "markdown",
   "id": "28bca22d-6608-4914-92c1-969b4a09cdf5",
   "metadata": {},
   "source": [
    "## 9. Write a program that calculates the average of a list of numbers using a `for` loop"
   ]
  },
  {
   "cell_type": "code",
   "execution_count": 136,
   "id": "4904cc28-c8d5-449f-98b6-e45a43f6d605",
   "metadata": {},
   "outputs": [
    {
     "name": "stdout",
     "output_type": "stream",
     "text": [
      "30.0\n"
     ]
    }
   ],
   "source": [
    "def calculate_average(num):\n",
    "    count=0\n",
    "    for number in num:\n",
    "        count+=number\n",
    "    average=count/len(num)\n",
    "    print(average)\n",
    "    \n",
    "calculate_average(num)   \n",
    "        \n",
    "num = (10, 20, 30, 40, 50)      "
   ]
  },
  {
   "cell_type": "markdown",
   "id": "8b9d549a-4320-4ac6-922f-f8a426287cd4",
   "metadata": {},
   "source": [
    "## 10. Develop a program that prints the first `n` Fibonacci numbers using a `for` loop."
   ]
  },
  {
   "cell_type": "code",
   "execution_count": null,
   "id": "4e1a5b9d-4ef1-41ec-bccc-1732a8faa14d",
   "metadata": {},
   "outputs": [],
   "source": []
  },
  {
   "cell_type": "code",
   "execution_count": 7,
   "id": "d77fdd87-e887-44ee-8a69-ba969cd91211",
   "metadata": {},
   "outputs": [
    {
     "name": "stdout",
     "output_type": "stream",
     "text": [
      "[0, 1, 1, 2, 3, 5, 8, 13, 21, 34]\n",
      "None\n"
     ]
    }
   ],
   "source": [
    "def fibonacci(n):\n",
    "    fib_sequence = [0, 1]\n",
    "    for i in range(2, n):\n",
    "        fib_sequence.append(fib_sequence[-1] + fib_sequence[-2])\n",
    "    print( fib_sequence)\n",
    "\n",
    "\n",
    "n = 10\n",
    "fib_numbers = fibonacci(n)\n",
    "print(fib_numbers)\n"
   ]
  },
  {
   "cell_type": "markdown",
   "id": "080001f6-4d74-4386-b39f-218809a5ed2f",
   "metadata": {},
   "source": [
    "## 11. Write a program to check if a given list contains any duplicates using a `for` loop."
   ]
  },
  {
   "cell_type": "code",
   "execution_count": 22,
   "id": "fc4c8627-c757-49f7-9f12-07539ee53667",
   "metadata": {},
   "outputs": [
    {
     "name": "stdout",
     "output_type": "stream",
     "text": [
      "contains dublicates\n"
     ]
    }
   ],
   "source": [
    "my_list=(1,2,3,4,5,6,5)\n",
    "has_dublicates=False\n",
    "\n",
    "for i in my_list:\n",
    "    for j in my_list:\n",
    "        \n",
    "        if i==j:\n",
    "            \n",
    "            \n",
    "            has_dublicates=True\n",
    "    break\n",
    "if has_dublicates:\n",
    "    print(\"contains dublicates\")\n",
    "else:\n",
    "    print(\"no dublicates\")\n"
   ]
  },
  {
   "cell_type": "markdown",
   "id": "312e6b1f-12a3-406a-934e-9ce61170759c",
   "metadata": {},
   "source": [
    "## 12. Create a program that prints the prime numbers in a given range using a `for` loop"
   ]
  },
  {
   "cell_type": "code",
   "execution_count": 26,
   "id": "6fcff66f-46c5-4989-8e97-868ca5c312a5",
   "metadata": {},
   "outputs": [
    {
     "name": "stdout",
     "output_type": "stream",
     "text": [
      "The prime numbers between 1 and 50 are:\n",
      "2 3 5 7 11 13 17 19 23 29 31 37 41 43 47 "
     ]
    }
   ],
   "source": [
    "start_range = 1\n",
    "end_range = 50\n",
    "\n",
    "print(f\"The prime numbers between {start_range} and {end_range} are:\")\n",
    "\n",
    "for num in range(start_range, end_range + 1):\n",
    "    if num > 1:\n",
    "        for i in range(2, int(num**0.5) + 1):\n",
    "            if (num % i) == 0:\n",
    "                break\n",
    "        else:\n",
    "            print(num,end=\" \")\n"
   ]
  },
  {
   "cell_type": "markdown",
   "id": "4cd1a563-e51a-4732-8208-77913e59929e",
   "metadata": {},
   "source": [
    "## 13. Develop a program that counts the number of vowels in a string using a `for` loop.\n"
   ]
  },
  {
   "cell_type": "code",
   "execution_count": 29,
   "id": "06b8a2a3-c63d-4c02-a7ef-13f17c929e03",
   "metadata": {},
   "outputs": [
    {
     "name": "stdout",
     "output_type": "stream",
     "text": [
      "The number of vowels in the string is: 3\n"
     ]
    }
   ],
   "source": [
    "string = \"Hello, World!\"\n",
    "vowel =\"aeiou\"\n",
    "vowel_count=0\n",
    "for char in string:\n",
    "    if char in vowel:\n",
    "        \n",
    "        vowel_count+=1\n",
    "\n",
    "\n",
    "\n",
    "\n",
    "print(f\"The number of vowels in the string is: {vowel_count}\")\n"
   ]
  },
  {
   "cell_type": "markdown",
   "id": "e7601858-20ca-41e4-8d35-4d78f4ac0fd2",
   "metadata": {},
   "source": [
    "## 4. Write a program to find the maximum element in a 2D list using a nested `for` loop. "
   ]
  },
  {
   "cell_type": "code",
   "execution_count": null,
   "id": "9a52a2bc-fc7b-4d09-b496-02e2bb07e614",
   "metadata": {},
   "outputs": [],
   "source": []
  },
  {
   "cell_type": "code",
   "execution_count": 34,
   "id": "9c0d5e25-3402-4724-a5f0-92a388d719a3",
   "metadata": {},
   "outputs": [
    {
     "name": "stdout",
     "output_type": "stream",
     "text": [
      "The maximum element in the 2D list is: 9\n"
     ]
    }
   ],
   "source": [
    "matrix = [\n",
    "    [1, 2, 3],\n",
    "    [4, 5, 6],\n",
    "    [7, 8, 9]]\n",
    "\n",
    "\n",
    "max_element = matrix[0][0]\n",
    "\n",
    "for row in matrix:\n",
    "    for element in row:\n",
    "        if element > max_element:\n",
    "            max_element = element\n",
    "\n",
    "print(f\"The maximum element in the 2D list is: {max_element}\")\n"
   ]
  },
  {
   "cell_type": "markdown",
   "id": "6217497c-f1da-4b27-855b-3d24ea0b0285",
   "metadata": {},
   "source": [
    "## 15. Create a program that removes all occurrences of a specific element from a list using a `for` loop."
   ]
  },
  {
   "cell_type": "code",
   "execution_count": 36,
   "id": "765da936-6ab1-4ba9-b307-61062595638c",
   "metadata": {},
   "outputs": [
    {
     "name": "stdout",
     "output_type": "stream",
     "text": [
      "The original list: [1, 2, 3, 2, 4, 2, 5]\n",
      "The list after removing 2: [1, 3, 4, 5]\n"
     ]
    }
   ],
   "source": [
    "def remove_element(input_list, element_to_remove):\n",
    "    result_list = []\n",
    "    for item in input_list:\n",
    "        if item != element_to_remove:\n",
    "            result_list.append(item)\n",
    "    return result_list\n",
    "\n"
   ]
  },
  {
   "cell_type": "code",
   "execution_count": 48,
   "id": "934ba817-815f-4959-94e0-2283ec740e0f",
   "metadata": {},
   "outputs": [
    {
     "data": {
      "text/plain": [
       "[1, 2, 3, 5, 5, 5]"
      ]
     },
     "execution_count": 48,
     "metadata": {},
     "output_type": "execute_result"
    }
   ],
   "source": [
    "list1=[1,2,3,4,5,5,5,4,4]\n",
    "elements_to_remove=(4)\n",
    "remove_element(list1,elements_to_remove)"
   ]
  },
  {
   "cell_type": "markdown",
   "id": "fbe1cfb3-5255-4768-b7ff-9358716af8c4",
   "metadata": {},
   "source": [
    "## 16. Develop a program that generates a multiplication table for numbers from 1 to 5 using a nested `for` loop"
   ]
  },
  {
   "cell_type": "code",
   "execution_count": 81,
   "id": "52f26c73-7499-4196-89b6-00eb05e32fb2",
   "metadata": {},
   "outputs": [
    {
     "name": "stdout",
     "output_type": "stream",
     "text": [
      "1 x 1 = 1\n",
      "1 x 2 = 2\n",
      "1 x 3 = 3\n",
      "1 x 4 = 4\n",
      "1 x 5 = 5\n",
      "1 x 6 = 6\n",
      "1 x 7 = 7\n",
      "1 x 8 = 8\n",
      "1 x 9 = 9\n",
      "1 x 10 = 10\n",
      "\n",
      "2 x 1 = 2\n",
      "2 x 2 = 4\n",
      "2 x 3 = 6\n",
      "2 x 4 = 8\n",
      "2 x 5 = 10\n",
      "2 x 6 = 12\n",
      "2 x 7 = 14\n",
      "2 x 8 = 16\n",
      "2 x 9 = 18\n",
      "2 x 10 = 20\n",
      "\n",
      "3 x 1 = 3\n",
      "3 x 2 = 6\n",
      "3 x 3 = 9\n",
      "3 x 4 = 12\n",
      "3 x 5 = 15\n",
      "3 x 6 = 18\n",
      "3 x 7 = 21\n",
      "3 x 8 = 24\n",
      "3 x 9 = 27\n",
      "3 x 10 = 30\n",
      "\n",
      "4 x 1 = 4\n",
      "4 x 2 = 8\n",
      "4 x 3 = 12\n",
      "4 x 4 = 16\n",
      "4 x 5 = 20\n",
      "4 x 6 = 24\n",
      "4 x 7 = 28\n",
      "4 x 8 = 32\n",
      "4 x 9 = 36\n",
      "4 x 10 = 40\n",
      "\n",
      "5 x 1 = 5\n",
      "5 x 2 = 10\n",
      "5 x 3 = 15\n",
      "5 x 4 = 20\n",
      "5 x 5 = 25\n",
      "5 x 6 = 30\n",
      "5 x 7 = 35\n",
      "5 x 8 = 40\n",
      "5 x 9 = 45\n",
      "5 x 10 = 50\n",
      "\n"
     ]
    }
   ],
   "source": [
    "for i in range(1, 6): \n",
    " \n",
    "    for j in range(1, 11): \n",
    "        result = i * j\n",
    "        print(f\"{i} x {j} = {result}\")\n",
    "   \n",
    "    print()"
   ]
  },
  {
   "cell_type": "markdown",
   "id": "d9f0c1c9-6f35-4193-aba6-e4e662680e4a",
   "metadata": {},
   "source": [
    "## 17. Write a program that converts a list of Fahrenheit temperatures to Celsius using a `for` loop.\n"
   ]
  },
  {
   "cell_type": "code",
   "execution_count": 61,
   "id": "f6d3e16e-69a7-42dc-b64a-f5c92820e031",
   "metadata": {},
   "outputs": [
    {
     "name": "stdout",
     "output_type": "stream",
     "text": [
      "Equivalent Celsius Temperatures: [37.0, 22.5, 40.5, 0.0, 20.166666666666668]\n"
     ]
    }
   ],
   "source": [
    "fahrenheit_temperatures = [98.6, 72.5, 104.9, 32.0, 68.3]\n",
    "celsius_temperatures = []\n",
    "\n",
    "for fahrenheit in fahrenheit_temperatures:\n",
    "    celsius = (fahrenheit - 32) * 5/9\n",
    "    celsius_temperatures.append(celsius)\n",
    "\n",
    "\n",
    "print(\"Equivalent Celsius Temperatures:\" ,celsius_temperatures)\n"
   ]
  },
  {
   "cell_type": "markdown",
   "id": "a3b4cf58-4cdf-44d9-8959-3266f6e0a4c7",
   "metadata": {},
   "source": [
    "## 18. Create a program to print the common elements from two lists using a `for` loop"
   ]
  },
  {
   "cell_type": "code",
   "execution_count": 63,
   "id": "ebd779f3-3d91-4022-b7eb-20c9f86dff9b",
   "metadata": {},
   "outputs": [
    {
     "name": "stdout",
     "output_type": "stream",
     "text": [
      "[4, 5]\n"
     ]
    }
   ],
   "source": [
    "list1 = [1, 2, 3, 4, 5]\n",
    "list2 = [4, 5, 6, 7, 8]\n",
    "\n",
    "common_elements = []\n",
    "\n",
    "for element in list1:\n",
    "    if element in list2:\n",
    "        common_elements.append(element)\n",
    "\n",
    "print(common_elements)\n"
   ]
  },
  {
   "cell_type": "markdown",
   "id": "e2d60ea4-d45b-4984-8bae-5904cd69a1ab",
   "metadata": {},
   "source": [
    "## 19. Develop a program that prints the pattern of right-angled triangles using a `for` loop. Use ‘*’ to draw the \n",
    "pattern"
   ]
  },
  {
   "cell_type": "code",
   "execution_count": 75,
   "id": "e2519f47-0d77-4877-a5fc-ff96ea457632",
   "metadata": {},
   "outputs": [
    {
     "name": "stdout",
     "output_type": "stream",
     "text": [
      "\n",
      " x \n",
      " x  x \n",
      " x  x  x \n",
      " x  x  x  x \n",
      " x  x  x  x  x \n",
      " x  x  x  x  x  x \n",
      " x  x  x  x  x  x  x \n",
      " x  x  x  x  x  x  x  x \n",
      " x  x  x  x  x  x  x  x  x \n"
     ]
    }
   ],
   "source": [
    "\n",
    "\n",
    "for i in range(0,10):\n",
    "    print(\" x \"*i)\n",
    "    \n",
    "    \n",
    "   \n",
    "      \n"
   ]
  },
  {
   "cell_type": "markdown",
   "id": "bb26bdcf-ae3c-44ee-9ed0-08da2c107b10",
   "metadata": {},
   "source": [
    "## 20. Write a program to find the greatest common divisor (GCD) of two numbers using a `for` loop"
   ]
  },
  {
   "cell_type": "code",
   "execution_count": 78,
   "id": "5fdf30df-eda3-4a88-ad7e-644aa2e59e63",
   "metadata": {},
   "outputs": [
    {
     "name": "stdout",
     "output_type": "stream",
     "text": [
      "The GCD of 48 and 18 is: 6\n"
     ]
    }
   ],
   "source": [
    "num1 = 48\n",
    "num2 = 18\n",
    "\n",
    "smaller = min(num1, num2)\n",
    "gcd = 1\n",
    "\n",
    "for i in range(1, smaller + 1):\n",
    "    if num1 % i == 0 and num2 % i == 0:\n",
    "        gcd = i\n",
    "\n",
    "print(f\"The GCD of {num1} and {num2} is: {gcd}\")\n"
   ]
  },
  {
   "cell_type": "markdown",
   "id": "fa097d62-b9b8-4ff9-8cf1-86bd1489141e",
   "metadata": {},
   "source": [
    "## 21. Create a program that calculates the sum of the digits of numbers in a list using a list comprehension"
   ]
  },
  {
   "cell_type": "code",
   "execution_count": 85,
   "id": "33021985-a4ff-4798-b405-17a5bc3b68e6",
   "metadata": {},
   "outputs": [
    {
     "name": "stdout",
     "output_type": "stream",
     "text": [
      "The sum of digits in the numbers is: [6, 15, 24]\n"
     ]
    }
   ],
   "source": [
    "\n",
    "numbers = [123, 456, 789]\n",
    "\n",
    "\n",
    "digit_sums = [sum(int(digit) for digit in str(num)) for num in numbers]\n",
    "\n",
    "print(f\"The sum of digits in the numbers is: {digit_sums}\")\n"
   ]
  },
  {
   "cell_type": "markdown",
   "id": "fbe8b21f-241b-46b9-a6b7-a46a43df3f64",
   "metadata": {},
   "source": [
    "## 22. Write a program to find the prime factors of a given number using a `for` loop and list comprehension\n"
   ]
  },
  {
   "cell_type": "code",
   "execution_count": 87,
   "id": "3451f4b2-a2d7-493d-b77c-66f27e120aa4",
   "metadata": {},
   "outputs": [
    {
     "name": "stdout",
     "output_type": "stream",
     "text": [
      "The prime factors of 56 are: [2, 7]\n"
     ]
    }
   ],
   "source": [
    "def find_prime_factors(n):\n",
    "    factors = [x for x in range(2, n+1) if n % x == 0]\n",
    "    prime_factors = [x for x in factors if all(x % i != 0 for i in range(2, int(x**0.5) + 1))]\n",
    "    return prime_factors\n",
    "\n",
    "\n",
    "number = 56\n",
    "prime_factors = find_prime_factors(number)\n",
    "\n",
    "print(f\"The prime factors of {number} are: {prime_factors}\")\n"
   ]
  },
  {
   "cell_type": "markdown",
   "id": "df4a41bf-4b96-41bf-9820-09de7a546474",
   "metadata": {},
   "source": [
    "## 23. Develop a program that extracts unique elements from a list and stores them in a new list using a list \n",
    "## comprehension"
   ]
  },
  {
   "cell_type": "code",
   "execution_count": 89,
   "id": "6dbafd7f-4819-40c6-a5b6-d59f28cb68b4",
   "metadata": {},
   "outputs": [
    {
     "name": "stdout",
     "output_type": "stream",
     "text": [
      "[1, 2, 3, 4, 5, 6, 7]\n"
     ]
    }
   ],
   "source": [
    "original_list = [1, 2, 3, 2, 4, 1, 5, 6, 4, 7]\n",
    "unique_list= list(set(original_list))\n",
    "\n",
    "print(unique_list)\n"
   ]
  },
  {
   "cell_type": "markdown",
   "id": "af1b805c-428f-4a2e-bb48-d892b2e042f1",
   "metadata": {},
   "source": [
    "## 24. Create a program that generates a list of all palindromic numbers up to a specified limit using a list \n",
    "comprehension."
   ]
  },
  {
   "cell_type": "code",
   "execution_count": 107,
   "id": "9e011ab8-ddee-4c33-84ff-8e6c8bbe0549",
   "metadata": {},
   "outputs": [
    {
     "name": "stdout",
     "output_type": "stream",
     "text": [
      "[1, 2, 3, 4, 5, 6, 7, 8, 9, 11, 22, 33, 44, 55, 66, 77, 88, 99, 101, 111, 121, 131, 141, 151, 161, 171, 181, 191, 202, 212, 222, 232, 242, 252, 262, 272, 282, 292, 303, 313, 323, 333, 343, 353, 363, 373, 383, 393, 404, 414, 424, 434, 444, 454, 464, 474, 484, 494, 505]\n"
     ]
    }
   ],
   "source": [
    "def is_palindrome(num):\n",
    "    if str(num) == str(num)[::-1]:\n",
    "        return num\n",
    "\n",
    "limit = 510\n",
    "\n",
    "\n",
    "palindromic_numbers = [num for num in range(limit) if is_palindrome(num)]\n",
    "\n",
    "print(palindromic_numbers)\n"
   ]
  },
  {
   "cell_type": "markdown",
   "id": "5bd04b2e-34e0-478c-8fc7-bd271e1b89e5",
   "metadata": {},
   "source": [
    "## 25. Write a program to flatten a nested list using list comprehension"
   ]
  },
  {
   "cell_type": "code",
   "execution_count": 110,
   "id": "96257b5e-83ac-4c54-a653-f62214060910",
   "metadata": {},
   "outputs": [
    {
     "name": "stdout",
     "output_type": "stream",
     "text": [
      "The flattened list is: [1, 2, 3, 4, 5, 6, 7, 8, 9]\n"
     ]
    }
   ],
   "source": [
    "nested_list = [[1, 2], [3, 4, 5], [6], [7, 8, 9]]\n",
    "\n",
    "flattened_list = [item for sublist in nested_list for item in sublist]\n",
    "\n",
    "print(f\"The flattened list is: {flattened_list}\")\n"
   ]
  },
  {
   "cell_type": "markdown",
   "id": "d3b9b326-36b7-490a-a871-a1ead9ff8704",
   "metadata": {},
   "source": [
    "## 26. Develop a program that computes the sum of even and odd numbers in a list separately using list \n",
    "## comprehension"
   ]
  },
  {
   "cell_type": "code",
   "execution_count": 27,
   "id": "16be81b7-a551-42e8-8768-2c2c1f49ed2e",
   "metadata": {},
   "outputs": [
    {
     "name": "stdout",
     "output_type": "stream",
     "text": [
      "sum of even no: 4\n",
      "sum of odd no: 9\n"
     ]
    }
   ],
   "source": [
    "l1=(2,2,3,3,3)\n",
    "sum_even_no=sum(x for x in l1  if x%2==0)\n",
    "sum_odd_no=sum(x for x in l1 if x%2!=0)\n",
    "print(\"sum of even no:\",sum_even_no)\n",
    "print(\"sum of odd no:\",sum_odd_no)\n",
    "\n"
   ]
  },
  {
   "cell_type": "markdown",
   "id": "8880333d-5f24-4c9d-acfc-d33639c2dfd3",
   "metadata": {},
   "source": [
    "## 27. Create a program that generates a list of squares of odd numbers between 1 and 10 using list comprehension"
   ]
  },
  {
   "cell_type": "code",
   "execution_count": 35,
   "id": "302977af-1c1c-4967-bafa-be5dcdc33f9b",
   "metadata": {},
   "outputs": [
    {
     "name": "stdout",
     "output_type": "stream",
     "text": [
      "[1, 9, 25, 49, 81]\n"
     ]
    }
   ],
   "source": [
    "square_of_odd=[x*x for x in range(1,11) if x%2!=0]\n",
    "print(square_of_odd)"
   ]
  },
  {
   "cell_type": "code",
   "execution_count": 37,
   "id": "aadb7969-5518-450a-b3cd-49f81669253c",
   "metadata": {},
   "outputs": [
    {
     "name": "stdout",
     "output_type": "stream",
     "text": [
      "<generator object <genexpr> at 0x7fe91c73dd20>\n"
     ]
    }
   ],
   "source": [
    "#only for understanding\n",
    "\n",
    "square_of_odd=(x*x for x in range(1,11) if x%2!=0)\n",
    "print(square_of_odd)"
   ]
  },
  {
   "cell_type": "markdown",
   "id": "eb829f9a-ebbc-4b9f-a042-b57a1509c2bf",
   "metadata": {},
   "source": [
    "## 28. Write a program that combines two lists into a dictionary using list comprehension."
   ]
  },
  {
   "cell_type": "code",
   "execution_count": 26,
   "id": "81cd22bd-d37b-46f5-9693-c4abd709abe3",
   "metadata": {},
   "outputs": [
    {
     "ename": "TypeError",
     "evalue": "list indices must be integers or slices, not str",
     "output_type": "error",
     "traceback": [
      "\u001b[0;31m---------------------------------------------------------------------------\u001b[0m",
      "\u001b[0;31mTypeError\u001b[0m                                 Traceback (most recent call last)",
      "Cell \u001b[0;32mIn[26], line 5\u001b[0m\n\u001b[1;32m      2\u001b[0m scores \u001b[38;5;241m=\u001b[39m [\u001b[38;5;241m85\u001b[39m, \u001b[38;5;241m90\u001b[39m, \u001b[38;5;241m78\u001b[39m]\n\u001b[1;32m      4\u001b[0m \u001b[38;5;66;03m# Using list comprehension to create the dictionary\u001b[39;00m\n\u001b[0;32m----> 5\u001b[0m dictionary\u001b[38;5;241m=\u001b[39m{names[i]:score[j] \u001b[38;5;28;01mfor\u001b[39;00m i \u001b[38;5;129;01min\u001b[39;00m names  \u001b[38;5;28;01mfor\u001b[39;00m j \u001b[38;5;129;01min\u001b[39;00m scores}\n\u001b[1;32m      7\u001b[0m \u001b[38;5;28mprint\u001b[39m(dictionary)\n",
      "Cell \u001b[0;32mIn[26], line 5\u001b[0m, in \u001b[0;36m<dictcomp>\u001b[0;34m(.0)\u001b[0m\n\u001b[1;32m      2\u001b[0m scores \u001b[38;5;241m=\u001b[39m [\u001b[38;5;241m85\u001b[39m, \u001b[38;5;241m90\u001b[39m, \u001b[38;5;241m78\u001b[39m]\n\u001b[1;32m      4\u001b[0m \u001b[38;5;66;03m# Using list comprehension to create the dictionary\u001b[39;00m\n\u001b[0;32m----> 5\u001b[0m dictionary\u001b[38;5;241m=\u001b[39m{\u001b[43mnames\u001b[49m\u001b[43m[\u001b[49m\u001b[43mi\u001b[49m\u001b[43m]\u001b[49m:score[j] \u001b[38;5;28;01mfor\u001b[39;00m i \u001b[38;5;129;01min\u001b[39;00m names  \u001b[38;5;28;01mfor\u001b[39;00m j \u001b[38;5;129;01min\u001b[39;00m scores}\n\u001b[1;32m      7\u001b[0m \u001b[38;5;28mprint\u001b[39m(dictionary)\n",
      "\u001b[0;31mTypeError\u001b[0m: list indices must be integers or slices, not str"
     ]
    }
   ],
   "source": [
    "names = ['meraj','rohit','bob']\n",
    "scores = [85, 90, 78]\n",
    "\n",
    "# Using list comprehension to create the dictionary\n",
    "dictionary={names[i]:score[j] for i in names  for j in scores}\n",
    "\n",
    "print(dictionary)\n"
   ]
  },
  {
   "cell_type": "code",
   "execution_count": 19,
   "id": "04ee71e5-64b9-49cc-914b-5ccefd2f6ba3",
   "metadata": {},
   "outputs": [
    {
     "name": "stdout",
     "output_type": "stream",
     "text": [
      "meraj\n",
      "rohit\n",
      "bob\n"
     ]
    }
   ],
   "source": [
    "names = ['meraj','rohit','bob']\n",
    "for i in names:\n",
    "    print(i)"
   ]
  },
  {
   "cell_type": "code",
   "execution_count": 21,
   "id": "1b738edf-654c-4dcd-9ca0-aff436dd61f6",
   "metadata": {},
   "outputs": [
    {
     "name": "stdout",
     "output_type": "stream",
     "text": [
      "0\n",
      "1\n",
      "2\n"
     ]
    }
   ],
   "source": [
    "names = ['meraj','rohit','bob']\n",
    "for i in range(len(names)):\n",
    "    print(i)"
   ]
  },
  {
   "cell_type": "code",
   "execution_count": 27,
   "id": "3eee0c1f-1083-4113-a8f4-e21321028f42",
   "metadata": {},
   "outputs": [
    {
     "name": "stdout",
     "output_type": "stream",
     "text": [
      "{'meraj': 85, 'rohit': 90, 'bob': 78}\n"
     ]
    }
   ],
   "source": [
    "names = ['meraj','rohit','bob']\n",
    "scores = [85, 90, 78]\n",
    "\n",
    "# Using list comprehension to create the dictionary\n",
    "dictionary={names[i]:scores[i] for i in range(len(names)) }\n",
    "\n",
    "print(dictionary)\n"
   ]
  },
  {
   "cell_type": "markdown",
   "id": "e4f5f3bc-38bd-4825-a622-a1d058570977",
   "metadata": {},
   "source": [
    "## 29. Develop a program that extracts the vowels from a string and stores them in a list using list comprehension"
   ]
  },
  {
   "cell_type": "code",
   "execution_count": null,
   "id": "8c5ddf7f-300b-4f6a-99c6-fbcec44f3178",
   "metadata": {},
   "outputs": [],
   "source": []
  },
  {
   "cell_type": "code",
   "execution_count": 37,
   "id": "69a9409f-1420-4069-ac4e-861204262a65",
   "metadata": {},
   "outputs": [
    {
     "name": "stdout",
     "output_type": "stream",
     "text": [
      "['e', 'o', 'o', 'a', 'e', 'o', 'u', 'o', 'a']\n"
     ]
    }
   ],
   "source": [
    "string=\"hello ,how are you today\"\n",
    "vowels=\"aeiou\"\n",
    "vowel_list=[]\n",
    "for char in string:\n",
    "    if char in vowels:\n",
    "        vowel_list.append(char)\n",
    "print(vowel_list)\n",
    "                         "
   ]
  },
  {
   "cell_type": "code",
   "execution_count": null,
   "id": "a1698d7c-f673-41e7-9d54-74df1c6ddcab",
   "metadata": {},
   "outputs": [],
   "source": []
  },
  {
   "cell_type": "markdown",
   "id": "f12b2b41-9204-4bf9-bb25-dccfe4d4c024",
   "metadata": {},
   "source": [
    "## 30. Create a program that removes all non-numeric characters from a list of strings using list comprehension."
   ]
  },
  {
   "cell_type": "code",
   "execution_count": 49,
   "id": "72ffe247-2ab6-40b1-a7c3-7f0fc5937491",
   "metadata": {},
   "outputs": [
    {
     "name": "stdout",
     "output_type": "stream",
     "text": [
      "['123', '456', '789']\n"
     ]
    }
   ],
   "source": [
    "def remove_non_numeric(strings):\n",
    "    return [''.join(filter(str.isdigit, s)) for s in strings]\n",
    "\n",
    "# Example usage\n",
    "input_strings = ['abc123', '456def', '789xyz']\n",
    "\n",
    "numeric_strings = remove_non_numeric(input_strings)\n",
    "\n",
    "print(numeric_strings)\n"
   ]
  },
  {
   "cell_type": "markdown",
   "id": "55556969-e363-4246-bc76-3c195049b2b4",
   "metadata": {},
   "source": [
    "## 31. Write a program to generate a list of prime numbers using the Sieve of Eratosthenes algorithm and list \n",
    "comprehension"
   ]
  },
  {
   "cell_type": "code",
   "execution_count": null,
   "id": "57b73f4d-f9a8-4757-9b9d-951ddb3aa04a",
   "metadata": {},
   "outputs": [],
   "source": []
  },
  {
   "cell_type": "code",
   "execution_count": 50,
   "id": "1394c465-fe20-4eb6-85fd-91ddc9c20dd0",
   "metadata": {},
   "outputs": [
    {
     "name": "stdout",
     "output_type": "stream",
     "text": [
      "[2, 3, 5, 7, 11, 13, 17, 19, 23, 29, 31, 37, 41, 43, 47]\n"
     ]
    }
   ],
   "source": [
    "def sieve_of_eratosthenes(limit):\n",
    "    is_prime = [True] * (limit + 1)\n",
    "    is_prime[0] = is_prime[1] = False\n",
    "\n",
    "    for i in range(2, int(limit**0.5) + 1):\n",
    "        if is_prime[i]:\n",
    "            is_prime[i*i:limit+1:i] = [False] * len(is_prime[i*i:limit+1:i])\n",
    "\n",
    "    return [i for i in range(2, limit + 1) if is_prime[i]]\n",
    "\n",
    "\n",
    "limit = 50\n",
    "prime_numbers = sieve_of_eratosthenes(limit)\n",
    "\n",
    "print(prime_numbers)\n"
   ]
  },
  {
   "cell_type": "markdown",
   "id": "4857264c-fdd8-4dbb-b8f5-4545fa095eab",
   "metadata": {},
   "source": [
    "## 32. Create a program that generates a list of all Pythagorean triplets up to a specified limit using list \n",
    "comprehension."
   ]
  },
  {
   "cell_type": "code",
   "execution_count": 52,
   "id": "ce1f73ff-3dae-4dd1-8777-8513cab31473",
   "metadata": {},
   "outputs": [
    {
     "name": "stdout",
     "output_type": "stream",
     "text": [
      "(3, 4, 5)\n",
      "(5, 12, 13)\n",
      "(6, 8, 10)\n",
      "(8, 15, 17)\n",
      "(9, 12, 15)\n",
      "(12, 16, 20)\n"
     ]
    }
   ],
   "source": [
    "def pythagorean_triplets(limit):\n",
    "    triplets = [(a, b, c) for a in range(1, limit+1) for b in range(a, limit+1) for c in range(b, limit+1) if a**2 + b**2 == c**2]\n",
    "    return triplets\n",
    "\n",
    "# Example usage\n",
    "limit = 20\n",
    "triplets = pythagorean_triplets(limit)\n",
    "\n",
    "for triplet in triplets:\n",
    "    print(triplet)\n"
   ]
  },
  {
   "cell_type": "markdown",
   "id": "db751c6d-8f9b-4723-ac0f-9d71b1f2a078",
   "metadata": {},
   "source": [
    "## 33. Develop a program that generates a list of all possible combinations of two lists using list comprehension."
   ]
  },
  {
   "cell_type": "code",
   "execution_count": 55,
   "id": "912a3da0-786d-4e72-8657-37fc5b794834",
   "metadata": {},
   "outputs": [
    {
     "name": "stdout",
     "output_type": "stream",
     "text": [
      "[(1, 'a'), (1, 'b'), (2, 'a'), (2, 'b'), (3, 'a'), (3, 'b')]\n"
     ]
    }
   ],
   "source": [
    "\n",
    "list1 = [1, 2, 3]\n",
    "list2 = ['a', 'b']\n",
    "\n",
    "\n",
    "possible_combination = [(x, y) for x in list1 for y in list2]\n",
    "\n",
    "print(possible_combination)\n"
   ]
  },
  {
   "cell_type": "markdown",
   "id": "da6a2163-6f32-4110-a595-9262556009e1",
   "metadata": {},
   "source": [
    "## 34. Write a program that calculates the mean, median, and mode of a list of numbers using list \n",
    "comprehension"
   ]
  },
  {
   "cell_type": "code",
   "execution_count": 59,
   "id": "c19796f2-a3c9-410d-bc20-47bea4b44907",
   "metadata": {},
   "outputs": [
    {
     "name": "stdout",
     "output_type": "stream",
     "text": [
      "Mean: 5.7272727272727275\n",
      "Median: 6\n",
      "Mode: 9\n"
     ]
    }
   ],
   "source": [
    "import statistics\n",
    "\n",
    "\n",
    "list1 = [1, 2, 3, 4, 5, 6, 7, 8, 9, 9, 9]\n",
    "\n",
    "\n",
    "mean = statistics.mean(list1)\n",
    "\n",
    "\n",
    "median = statistics.median(list1)\n",
    "\n",
    "\n",
    "mode = statistics.mode(list1)\n",
    "\n",
    "print(f\"Mean: {mean}\")\n",
    "print(f\"Median: {median}\")\n",
    "print(f\"Mode: {mode}\")\n"
   ]
  },
  {
   "cell_type": "markdown",
   "id": "ed2001cd-e276-4374-b601-5db9782f70bc",
   "metadata": {},
   "source": [
    "## 35. Create a program that generates Pascal's triangle up to a specified number of rows using list \n",
    "comprehension."
   ]
  },
  {
   "cell_type": "code",
   "execution_count": 3,
   "id": "952b7b14-b514-46cf-862f-c3eade26fe53",
   "metadata": {},
   "outputs": [
    {
     "name": "stdin",
     "output_type": "stream",
     "text": [
      "Enter the number of rows for Pascal's triangle:  5\n"
     ]
    },
    {
     "name": "stdout",
     "output_type": "stream",
     "text": [
      "       1       \n",
      "      1 1      \n",
      "     1 2 1     \n",
      "    1 3 3 1    \n",
      "   1 4 6 4 1   \n"
     ]
    }
   ],
   "source": [
    "def generate_pascals_triangle(rows):\n",
    "    triangle = [[1] * (n + 1) for n in range(rows)]\n",
    "    for i in range(2, rows):\n",
    "        for j in range(1, i):\n",
    "            triangle[i][j] = triangle[i-1][j-1] + triangle[i-1][j]\n",
    "    return triangle\n",
    "\n",
    "def print_pascals_triangle(triangle):\n",
    "    for row in triangle:\n",
    "        print(' '.join(map(str, row)).center(len(triangle[-1]) * 3))\n",
    "\n",
    "\n",
    "num_rows = int(input(\"Enter the number of rows for Pascal's triangle: \"))\n",
    "\n",
    "\n",
    "pascals_triangle = generate_pascals_triangle(num_rows)\n",
    "print_pascals_triangle(pascals_triangle)\n"
   ]
  },
  {
   "cell_type": "markdown",
   "id": "fd853044-2faa-4c99-a313-5a8d6f441524",
   "metadata": {},
   "source": [
    "## 36. Develop a program that calculates the sum of the digits of a factorial of numbers from 1 to 5 using list \n",
    "comprehension"
   ]
  },
  {
   "cell_type": "code",
   "execution_count": 4,
   "id": "e74d2518-1eaf-493d-93c4-5c881f61987f",
   "metadata": {},
   "outputs": [
    {
     "name": "stdout",
     "output_type": "stream",
     "text": [
      "The sum of digits of 1! is 1\n",
      "The sum of digits of 2! is 2\n",
      "The sum of digits of 3! is 6\n",
      "The sum of digits of 4! is 6\n",
      "The sum of digits of 5! is 3\n"
     ]
    }
   ],
   "source": [
    "\n",
    "def factorial(n):\n",
    "    result = 1\n",
    "    for i in range(1, n + 1):\n",
    "        result *= i\n",
    "    return result\n",
    "\n",
    "\n",
    "results = [(n, sum(int(digit) for digit in str(factorial(n)))) for n in range(1, 6)]\n",
    "\n",
    "\n",
    "for n, digit_sum in results:\n",
    "    print(f\"The sum of digits of {n}! is {digit_sum}\")\n"
   ]
  },
  {
   "cell_type": "markdown",
   "id": "e17b21a7-b6cd-4a82-9cae-e1576796fbc4",
   "metadata": {},
   "source": [
    "## 37. Write a program that finds the longest word in a sentence using list comprehension."
   ]
  },
  {
   "cell_type": "code",
   "execution_count": 12,
   "id": "9870c16a-6f2f-45b2-8e4a-b7f5589347fb",
   "metadata": {},
   "outputs": [
    {
     "name": "stdout",
     "output_type": "stream",
     "text": [
      "meraj\n"
     ]
    }
   ],
   "source": [
    "a=\"my name is meraj \"\n",
    "words=a.split()\n",
    "longestword=max(words,key=len)\n",
    "print(longestword)"
   ]
  },
  {
   "cell_type": "markdown",
   "id": "1c69a178-4224-480f-9d80-b35c7d4dceb5",
   "metadata": {},
   "source": [
    "## 38. Create a program that filters a list of strings to include only those with more than three vowels using list \n",
    "comprehension"
   ]
  },
  {
   "cell_type": "code",
   "execution_count": 20,
   "id": "b113b000-d353-48a1-bf5b-dda19c3e5093",
   "metadata": {},
   "outputs": [
    {
     "name": "stdout",
     "output_type": "stream",
     "text": [
      "Strings with more than three vowels:\n",
      "[]\n"
     ]
    }
   ],
   "source": [
    "\n",
    "def count_vowels(word):\n",
    "    vowels = 'aeiouAEIOU'\n",
    "    return sum(1 for char in word if char in vowels)\n",
    "\n",
    "string_list = [\"hello\", \"world\", \"programming\", \"python\", \"aardvark\"]\n",
    "\n",
    "filtered_strings = [word for word in string_list if count_vowels(word) > 3]\n",
    "\n",
    "print(\"Strings with more than three vowels:\")\n",
    "print(filtered_strings)\n"
   ]
  },
  {
   "cell_type": "code",
   "execution_count": 26,
   "id": "17276fdb-642b-4d78-8e7a-3d6dc7a92637",
   "metadata": {},
   "outputs": [
    {
     "name": "stdout",
     "output_type": "stream",
     "text": [
      "Strings with more than three vowels:\n",
      "[]\n"
     ]
    }
   ],
   "source": [
    "# Define a function to count vowels in a string\n",
    "def count_vowels(word):\n",
    "    vowels = 'aeiouAEIOU'\n",
    "    return sum(1 for char in word if char in vowels)\n",
    "\n",
    "# Define a list of strings\n",
    "string_list = [\"hello\", \"world\", \"programming\", \"python\", \"aardvark\"]\n",
    "\n",
    "# Filter strings with more than three vowels using list comprehension\n",
    "filtered_strings = [word for word in string_list if count_vowels(word) > 3]\n",
    "\n",
    "# Print the filtered strings\n",
    "print(\"Strings with more than three vowels:\")\n",
    "print(filtered_strings)\n"
   ]
  },
  {
   "cell_type": "markdown",
   "id": "15af3b55-5a26-453d-a988-b34a8e580170",
   "metadata": {},
   "source": [
    "## 39. Develop a program that calculates the sum of the digits of numbers from 1 to 1000 using list \n",
    "comprehension."
   ]
  },
  {
   "cell_type": "code",
   "execution_count": 59,
   "id": "7e329708-f834-414d-a0e9-95ef6f4bbb1b",
   "metadata": {},
   "outputs": [
    {
     "data": {
      "text/plain": [
       "500500"
      ]
     },
     "execution_count": 59,
     "metadata": {},
     "output_type": "execute_result"
    }
   ],
   "source": [
    "def sum_of_digits(num):\n",
    "    return sum(range(num+1))\n",
    "\n",
    "sum_of_digits(1000)\n"
   ]
  },
  {
   "cell_type": "markdown",
   "id": "5f9f2165-4825-4099-ac8a-d03ca82a810f",
   "metadata": {},
   "source": [
    "## 40. Write a program that generates a list of prime palindromic numbers using list comprehension"
   ]
  },
  {
   "cell_type": "code",
   "execution_count": 69,
   "id": "f1125b79-3838-422d-9b30-8e57672c33ef",
   "metadata": {},
   "outputs": [
    {
     "name": "stdout",
     "output_type": "stream",
     "text": [
      "Prime numbers between  0  & 50  are:\n",
      "\n",
      "2, 3, 5, 7, 11, 13, 17, 19, 23, 29, 31, 37, 41, 43, 47, "
     ]
    }
   ],
   "source": [
    "a=0\n",
    "b=50\n",
    "print(\"Prime numbers between \",a,\" &\",b,\" are:\\n\")\n",
    "for i in range(a,b+1):\n",
    "    count=0\n",
    "    for j in range(1,i+1):\n",
    "        if i%j==0:\n",
    "            count+=1\n",
    "    if count==2:\n",
    "        print(i,end=\", \")"
   ]
  }
 ],
 "metadata": {
  "kernelspec": {
   "display_name": "Python 3 (ipykernel)",
   "language": "python",
   "name": "python3"
  },
  "language_info": {
   "codemirror_mode": {
    "name": "ipython",
    "version": 3
   },
   "file_extension": ".py",
   "mimetype": "text/x-python",
   "name": "python",
   "nbconvert_exporter": "python",
   "pygments_lexer": "ipython3",
   "version": "3.10.8"
  }
 },
 "nbformat": 4,
 "nbformat_minor": 5
}
