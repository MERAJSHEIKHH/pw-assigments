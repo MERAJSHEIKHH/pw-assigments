{
 "cells": [
  {
   "cell_type": "markdown",
   "metadata": {},
   "source": [
    "# 1. What is a Python library? Why do we use Python libraries?"
   ]
  },
  {
   "cell_type": "markdown",
   "metadata": {},
   "source": [
    "A Python library is a collection of pre-written code that you can use to perform common tasks, operations, or functionalities without having to write the code from scratch. Libraries bundle together functions, classes, and modules that perform specific actions, making it easier for developers to build applications, analyze data, manipulate files, and much more.\n",
    "\n",
    "Libraries can be thought of as tools or packages that extend Python’s capabilities, allowing you to accomplish tasks with less effort and time.\n",
    "\n",
    "\n",
    "\n",
    "\n",
    "we use python libraries because of the following benefits\n",
    "\n",
    "\n",
    "1. Code Reusability\n",
    "\n",
    ": Libraries provide reusable code that can be utilized across multiple projects, reducing redundancy and saving time. For example, if you need to perform mathematical operations, you can use the math library instead of writing your own functions.\n",
    "\n",
    "2. Simplify Complex Tasks:\n",
    "\n",
    " Python libraries encapsulate complex logic and algorithms, making it easier to perform advanced tasks. For instance, the NumPy library simplifies numerical computations, and Pandas makes data manipulation straightforward.\n",
    "\n",
    "3. Improve Productivity:\n",
    "\n",
    " By using libraries, developers can focus on solving their specific problems without worrying about the underlying implementation of common tasks. This boosts productivity and accelerates development.\n",
    "\n",
    "4. Community Support:\n",
    "\n",
    " Many Python libraries are developed and maintained by a community of developers. They are often well-documented, tested, and optimized, making them reliable and efficient to use.\n",
    "\n",
    "\n",
    "\n",
    " examples of python libraries are\n",
    "\n",
    "\n",
    "NumPy:              Used for numerical computations and working with arrays.\n",
    "Pandas:             Used for data manipulation and analysis.\n",
    "Matplotlib:         Used for creating static, animated, and interactive visualizations in Python.\n",
    "Flask:              A lightweight web framework for building web applications.\n",
    "SciPy:              Used for scientific and technical computing.\n",
    "TensorFlow:         Used for machine learning and deep learning applications.\n"
   ]
  },
  {
   "cell_type": "markdown",
   "metadata": {},
   "source": [
    "#  2. What is the difference between Numpy array and List?"
   ]
  },
  {
   "cell_type": "markdown",
   "metadata": {},
   "source": [
    "1. Data Structure:\n",
    "NumPy Array:\n",
    "\n",
    "A NumPy array is a grid of values, all of the same type, and is indexed by a tuple of non-negative integers.\n",
    "It can be multi-dimensional (1D, 2D, 3D, etc.), allowing for more complex data manipulation.\n",
    "\n",
    "Python List:\n",
    "\n",
    "A Python list is a collection of items that can be of different types (integers, strings, floats, etc.).\n",
    "Lists are one-dimensional by default, though they can contain other lists to create nested structures.\n",
    "\n",
    "2. Homogeneity:\n",
    "NumPy Array:\n",
    "\n",
    "All elements in a NumPy array must be of the same data type (e.g., all integers or all floats).\n",
    "This homogeneity makes NumPy arrays more efficient for numerical operations.\n",
    "Python List:\n",
    "\n",
    "\n",
    "Python lists can contain elements of different data types (e.g., integers, strings, and floats in the same list).\n",
    "This flexibility makes lists more versatile but less efficient for numerical computations.\n",
    "\n",
    "\n",
    "\n",
    "3. Performance:\n",
    "NumPy Array:\n",
    "\n",
    "NumPy arrays are optimized for performance, especially with large datasets.\n",
    "NumPy takes advantage of vectorization, allowing you to perform operations on entire arrays without the need for explicit loops.\n",
    "Python List:\n",
    "\n",
    "Python lists are slower than NumPy arrays when it comes to numerical operations, particularly with large datasets.\n",
    "Lists require more overhead since they are dynamically typed and have to handle elements of varying types.\n",
    "\n",
    "\n",
    "\n",
    "4. Memory Efficiency:\n",
    "NumPy Array:\n",
    "\n",
    "NumPy arrays are more memory-efficient because they store elements in contiguous blocks of memory.\n",
    "This allows for better cache utilization and reduced memory overhead.\n",
    "Python List:\n",
    "\n",
    "Python lists use more memory because each element is an object with its own memory overhead.\n",
    "Lists store references to objects, which can lead to increased memory usage.\n",
    "\n",
    "\n",
    "\n",
    "5. Functionality:\n",
    "NumPy Array:\n",
    "\n",
    "NumPy arrays offer a wide range of mathematical operations, including element-wise operations, matrix operations, and broadcasting.\n",
    "They support advanced functions such as linear algebra operations, Fourier transforms, and random sampling.\n",
    "NumPy arrays can be reshaped, sliced, and indexed in ways that are not possible with Python lists.\n",
    "\n",
    "\n",
    "Python List:\n",
    "\n",
    "Lists support basic operations like addition, multiplication, slicing, and indexing, but they lack the advanced mathematical functions provided by NumPy.\n",
    "Python lists are more flexible when it comes to holding and manipulating different types of data.\n",
    "\n",
    "\n",
    "6. Usability:\n",
    "NumPy Array:\n",
    "\n",
    "NumPy is ideal for tasks that involve large-scale numerical data processing, such as scientific computing, data analysis, and machine learning.\n",
    "NumPy requires importing the library (import numpy as np).\n",
    "Python List:\n",
    "\n",
    "Python lists are better suited for general-purpose programming tasks, where the data is heterogeneous or where complex numerical operations are not required.\n",
    "Lists are built into Python and do not require any additional libraries."
   ]
  },
  {
   "cell_type": "markdown",
   "metadata": {},
   "source": [
    "#  3. Find the shape, size and dimension of the following array?\n",
    "*  [[1, 2, 3, 4]\n",
    " * [5, 6, 7, 8],\n",
    " * [9, 10, 11, 12]]"
   ]
  },
  {
   "cell_type": "code",
   "execution_count": 236,
   "metadata": {},
   "outputs": [
    {
     "name": "stdout",
     "output_type": "stream",
     "text": [
      "Shape: (3, 4)\n",
      "Size: 12\n",
      "Dimension: 2\n"
     ]
    }
   ],
   "source": [
    "import numpy as np\n",
    "\n",
    "array = np.array([[1, 2, 3, 4],\n",
    "                  [5, 6, 7, 8],\n",
    "                  [9, 10, 11, 12]])\n",
    "\n",
    "\n",
    "shape = array.shape\n",
    "\n",
    "\n",
    "size = array.size\n",
    "\n",
    "dimension = array.ndim\n",
    "\n",
    "print(f\"Shape: {shape}\")\n",
    "print(f\"Size: {size}\")\n",
    "print(f\"Dimension: {dimension}\")\n"
   ]
  },
  {
   "cell_type": "markdown",
   "metadata": {},
   "source": [
    "# 4. Write python code to access the first row of the following array?\n",
    "* [[1, 2, 3, 4]\n",
    "* [5, 6, 7, 8],\n",
    "* [9, 10, 11, 12]]"
   ]
  },
  {
   "cell_type": "code",
   "execution_count": 237,
   "metadata": {},
   "outputs": [
    {
     "name": "stdout",
     "output_type": "stream",
     "text": [
      "first row in the given array is:   [1 2 3 4]\n"
     ]
    }
   ],
   "source": [
    "import numpy as np\n",
    "\n",
    "arr=np.array([[1, 2, 3, 4],\n",
    "            [5, 6, 7, 8],\n",
    "            [9, 10, 11, 12]])\n",
    "\n",
    "\n",
    "# code to access the first row of the following array\n",
    "\n",
    "first_row=arr[0]\n",
    "\n",
    "print(f\"first row in the given array is:   {first_row}\")"
   ]
  },
  {
   "cell_type": "markdown",
   "metadata": {},
   "source": [
    "#  5. How do you access the element at the third row and fourth column from the given numpy array?\n",
    "* [[1, 2, 3, 4]\n",
    "* [5, 6, 7, 8],\n",
    "* [9, 10, 11, 12]]"
   ]
  },
  {
   "cell_type": "code",
   "execution_count": 238,
   "metadata": {},
   "outputs": [
    {
     "name": "stdout",
     "output_type": "stream",
     "text": [
      " element at the third row and fourth column is:          12\n"
     ]
    }
   ],
   "source": [
    "import numpy as np\n",
    "\n",
    "arr=np.array([[1, 2, 3, 4],\n",
    "            [5, 6, 7, 8],\n",
    "            [9, 10, 11, 12]])\n",
    "\n",
    "element= arr[2,3]\n",
    "\n",
    "print(f\" element at the third row and fourth column is:          {element}\")\n"
   ]
  },
  {
   "cell_type": "markdown",
   "metadata": {},
   "source": [
    "#  6. Write code to extract all odd-indexed elements from the given numpy array?\n",
    "* [[1, 2, 3, 4]\n",
    "* [5, 6, 7, 8],\n",
    "* [9, 10, 11, 12]]"
   ]
  },
  {
   "cell_type": "code",
   "execution_count": 240,
   "metadata": {},
   "outputs": [
    {
     "name": "stdout",
     "output_type": "stream",
     "text": [
      "Odd-indexed rows:\n",
      " [[5 6 7 8]]\n",
      "Odd-indexed columns:\n",
      " [[ 2  4]\n",
      " [ 6  8]\n",
      " [10 12]]\n"
     ]
    }
   ],
   "source": [
    "# we can do this in two ways \n",
    "\n",
    "# 1 \n",
    "\n",
    "\n",
    "import numpy as np\n",
    "\n",
    "# Define the array\n",
    "array = np.array([[1, 2, 3, 4],\n",
    "                  [5, 6, 7, 8],\n",
    "                  [9, 10, 11, 12]])\n",
    "\n",
    "# Extract elements at odd indices\n",
    "# For rows\n",
    "odd_indexed_rows = array[1::2, :]  # Skip by 2 to get rows with odd indices\n",
    "# For columns\n",
    "odd_indexed_columns = array[:, 1::2]  # Skip by 2 to get columns with odd indices\n",
    "\n",
    "print(\"Odd-indexed rows:\\n\", odd_indexed_rows)\n",
    "print(\"Odd-indexed columns:\\n\", odd_indexed_columns)\n"
   ]
  },
  {
   "cell_type": "code",
   "execution_count": 241,
   "metadata": {},
   "outputs": [
    {
     "name": "stdout",
     "output_type": "stream",
     "text": [
      "Odd-indexed elements: [ 2  4  6  8 10 12]\n"
     ]
    }
   ],
   "source": [
    "# 2nd\n",
    "\n",
    "import numpy as np\n",
    "\n",
    "# Define the array\n",
    "array = np.array([[1, 2, 3, 4],\n",
    "                  [5, 6, 7, 8],\n",
    "                  [9, 10, 11, 12]])\n",
    "\n",
    "# Flatten the array to treat it as 1D\n",
    "flattened_array = array.flatten()\n",
    "\n",
    "# Extract elements at odd indices\n",
    "odd_indexed_elements = flattened_array[1::2]\n",
    "\n",
    "print(\"Odd-indexed elements:\", odd_indexed_elements)\n"
   ]
  },
  {
   "cell_type": "markdown",
   "metadata": {},
   "source": [
    "# 7. How can you generate a random 3x3 matrix with values between 0 and 1?"
   ]
  },
  {
   "cell_type": "code",
   "execution_count": 242,
   "metadata": {},
   "outputs": [
    {
     "name": "stdout",
     "output_type": "stream",
     "text": [
      "[[0.60526405 0.22631954 0.92802547]\n",
      " [0.62970904 0.72453669 0.03810994]\n",
      " [0.6705685  0.07477366 0.93674302]]\n"
     ]
    }
   ],
   "source": [
    "import numpy as np \n",
    "\n",
    "arr=np.random.rand(3,3)\n",
    "print(arr)"
   ]
  },
  {
   "cell_type": "markdown",
   "metadata": {},
   "source": [
    "#  8. Describe the difference between np.random.rand and np.random.randn?"
   ]
  },
  {
   "cell_type": "markdown",
   "metadata": {},
   "source": [
    "np.random.rand\n",
    "\n",
    "np.random.rand Generates random numbers from a uniform distribution over the interval [0, 1) \n",
    "All numbers in this range are equally likely to occur\n",
    "\n",
    "\n",
    "\n",
    "np.random.randn\n",
    "\n",
    "\n",
    "Generates random numbers from a standard normal distribution (mean 0 and standard deviation 1).\n",
    "The distribution is bell-shaped, with most numbers clustered around the mean (0), and fewer numbers as you move away from the mean.\n",
    "\n",
    "\n",
    "\n",
    "np.random.rand: When you need uniformly distributed random numbers in the range [0, 1).\n",
    "\n",
    "np.random.randn: When you need normally distributed random numbers (e.g., for statistical modeling or simulations).\n",
    "\n",
    "\n",
    "\n"
   ]
  },
  {
   "cell_type": "markdown",
   "metadata": {},
   "source": [
    "# 9. Write code to increase the dimension of the following array?\n",
    "* [[1, 2, 3, 4]\n",
    "* [5, 6, 7, 8],\n",
    "* [9, 10, 11, 12]]"
   ]
  },
  {
   "cell_type": "code",
   "execution_count": 243,
   "metadata": {},
   "outputs": [
    {
     "name": "stdout",
     "output_type": "stream",
     "text": [
      "dimesion of this array is:    2\n"
     ]
    }
   ],
   "source": [
    "import numpy as np \n",
    "\n",
    "arr=np.array([[1, 2, 3, 4],\n",
    "        [5, 6, 7, 8],\n",
    "        [9, 10, 11, 12]])\n",
    "\n",
    "print(f\"dimesion of this array is:    {arr.ndim}\")"
   ]
  },
  {
   "cell_type": "code",
   "execution_count": 244,
   "metadata": {},
   "outputs": [
    {
     "name": "stdout",
     "output_type": "stream",
     "text": [
      "dimesion of this array is:    3\n"
     ]
    }
   ],
   "source": [
    "# to increase dimention just put extra square breacket\n",
    "\n",
    "import numpy as np \n",
    "\n",
    "arr1=np.array([[[1, 2, 3, 4],\n",
    "        [5, 6, 7, 8],\n",
    "        [9, 10, 11, 12]]])\n",
    "\n",
    "print(f\"dimesion of this array is:    {arr1.ndim}\")"
   ]
  },
  {
   "cell_type": "markdown",
   "metadata": {},
   "source": [
    "# 10. How to transpose the following array in NumPy?\n",
    "* [[1, 2, 3, 4]\n",
    "* [5, 6, 7, 8],\n",
    "* [9, 10, 11, 12]]"
   ]
  },
  {
   "cell_type": "code",
   "execution_count": 245,
   "metadata": {},
   "outputs": [],
   "source": [
    "import numpy as np \n",
    "\n",
    "arr=np.array ([[1, 2, 3, 4],\n",
    "                [5, 6, 7, 8],\n",
    "                [9, 10, 11, 12]])\n"
   ]
  },
  {
   "cell_type": "code",
   "execution_count": 246,
   "metadata": {},
   "outputs": [
    {
     "data": {
      "text/plain": [
       "array([[ 1,  5,  9],\n",
       "       [ 2,  6, 10],\n",
       "       [ 3,  7, 11],\n",
       "       [ 4,  8, 12]])"
      ]
     },
     "execution_count": 246,
     "metadata": {},
     "output_type": "execute_result"
    }
   ],
   "source": [
    "arr.T"
   ]
  },
  {
   "cell_type": "code",
   "execution_count": 247,
   "metadata": {},
   "outputs": [
    {
     "data": {
      "text/plain": [
       "array([[ 1,  5,  9],\n",
       "       [ 2,  6, 10],\n",
       "       [ 3,  7, 11],\n",
       "       [ 4,  8, 12]])"
      ]
     },
     "execution_count": 247,
     "metadata": {},
     "output_type": "execute_result"
    }
   ],
   "source": [
    "np.transpose(arr)"
   ]
  },
  {
   "cell_type": "markdown",
   "metadata": {},
   "source": [
    "# 11. Consider the following matrix:\n",
    "* Matrix A: [[1, 2, 3, 4] [5, 6, 7, 8],[9, 10, 11, 12]]\n",
    "* Matrix B: [[1, 2, 3, 4] [5, 6, 7, 8],[9, 10, 11, 12]]\n",
    "\n",
    "\n",
    "\n",
    "* Perform the following operation using Python\n",
    " * Index wise multiplicatio\n",
    "* Matrix multiplicatio\n",
    "* Add both the matric\n",
    "* Subtract matrix B from \n",
    "* Divide Matrix B by A"
   ]
  },
  {
   "cell_type": "code",
   "execution_count": 248,
   "metadata": {},
   "outputs": [
    {
     "name": "stdout",
     "output_type": "stream",
     "text": [
      "metrix 1:\n",
      "\n",
      " [[ 1  2  3  4]\n",
      " [ 5  6  7  8]\n",
      " [ 9 10 11 12]]\n",
      " -------------------------\n",
      " metrix 2: \n",
      "\n",
      "  [[ 1  2  3  4]\n",
      " [ 5  6  7  8]\n",
      " [ 9 10 11 12]]\n",
      "--------------------------\n",
      "multiplication of both the metrix is: \n",
      "\n",
      "    [[  1   4   9  16]\n",
      " [ 25  36  49  64]\n",
      " [ 81 100 121 144]]\n",
      "---------------------------\n"
     ]
    }
   ],
   "source": [
    " \n",
    " #Index wise multiplication\n",
    " \n",
    " \n",
    "import numpy as np \n",
    "\n",
    "met1= np.array([[1, 2, 3, 4], [5, 6, 7, 8],[9, 10, 11, 12]])\n",
    "met2= np.array([[1, 2, 3, 4] ,[5, 6, 7, 8],[9, 10, 11, 12]])\n",
    "\n",
    "\n",
    "# Add both the matric\n",
    "result=met1*met2\n",
    "print(F\"metrix 1:\\n\\n {met1}\\n -------------------------\\n metrix 2: \\n\\n  {met2}\\n--------------------------\")\n",
    "print(f\"multiplication of both the metrix is: \\n\\n    {result}\\n---------------------------\")\n",
    "\n",
    "\n",
    "\n",
    " \n",
    " "
   ]
  },
  {
   "cell_type": "code",
   "execution_count": 249,
   "metadata": {},
   "outputs": [
    {
     "name": "stdout",
     "output_type": "stream",
     "text": [
      "metrix 1:\n",
      "\n",
      " [[ 1  2  3  4]\n",
      " [ 5  6  7  8]\n",
      " [ 9 10 11 12]]\n",
      " -------------------------\n",
      " metrix 2: \n",
      "\n",
      "  [[ 1  2  3  4]\n",
      " [ 5  6  7  8]\n",
      " [ 9 10 11 12]]\n",
      "--------------------------\n",
      "here we can not able to do metrix multiplication  in this metrix because\n",
      " metrix rule is m*n = n*p  so we have to reshape accordingly \n",
      "\n",
      "new metrix 1:\n",
      "\n",
      " [[ 1  2  3  4]\n",
      " [ 5  6  7  8]\n",
      " [ 9 10 11 12]]\n",
      " -------------------------\n",
      " new metrix 2: \n",
      "\n",
      "  [[1 2]\n",
      " [3 4]\n",
      " [5 6]\n",
      " [7 8]]\n",
      "--------------------------\n",
      "metrix multication of metrix one and two is: \n",
      " [[ 50  60]\n",
      " [114 140]\n",
      " [178 220]]\n"
     ]
    }
   ],
   "source": [
    "#Matrix multiplication\n",
    "\n",
    "\n",
    "\n",
    "\n",
    "import numpy as np \n",
    "\n",
    "met1= np.array([[1, 2, 3, 4], [5, 6, 7, 8],[9, 10, 11, 12]])\n",
    "met2= np.array([[1, 2, 3, 4] ,[5, 6, 7, 8],[9, 10, 11, 12]])\n",
    "\n",
    "\n",
    "met3= np.array([[1, 2, 3, 4],\n",
    "                [5, 6, 7, 8],\n",
    "                [9, 10, 11, 12]])\n",
    "\n",
    "met4= np.array([[1, 2],\n",
    "                 [3, 4],\n",
    "                 [5, 6],\n",
    "                 [7, 8]])\n",
    "\n",
    "result=met3 @ met4\n",
    "\n",
    "print(F\"metrix 1:\\n\\n {met1}\\n -------------------------\\n metrix 2: \\n\\n  {met2}\\n--------------------------\")\n",
    "\n",
    "\n",
    "\n",
    "\n",
    "\n",
    "#print(f\"metrix multiplication of both the metrix is: \\n\\n    {result}\\n---------------------------\")\n",
    "print(f\"here we can not able to do metrix multiplication  in this metrix because\\n metrix rule is m*n = n*p  so we have to reshape accordingly \\n\")\n",
    "\n",
    "print(F\"new metrix 1:\\n\\n {met3}\\n -------------------------\\n new metrix 2: \\n\\n  {met4}\\n--------------------------\")\n",
    "\n",
    "print(f\"metrix multication of metrix one and two is: \\n {result}\")"
   ]
  },
  {
   "cell_type": "code",
   "execution_count": 250,
   "metadata": {},
   "outputs": [
    {
     "name": "stdout",
     "output_type": "stream",
     "text": [
      "metrix 1:\n",
      "\n",
      " [[ 1  2  3  4]\n",
      " [ 5  6  7  8]\n",
      " [ 9 10 11 12]]\n",
      " -------------------------\n",
      " metrix 2: \n",
      "\n",
      "  [[ 1  2  3  4]\n",
      " [ 5  6  7  8]\n",
      " [ 9 10 11 12]]\n",
      "--------------------------\n",
      "added of both the metrix is: \n",
      "\n",
      "    [[ 2  4  6  8]\n",
      " [10 12 14 16]\n",
      " [18 20 22 24]]\n",
      "---------------------------\n"
     ]
    }
   ],
   "source": [
    "# addition of metrix\n",
    "\n",
    "\n",
    "import numpy as np \n",
    "\n",
    "met1= np.array([[1, 2, 3, 4], [5, 6, 7, 8],[9, 10, 11, 12]])\n",
    "met2= np.array([[1, 2, 3, 4] ,[5, 6, 7, 8],[9, 10, 11, 12]])\n",
    "\n",
    "\n",
    "\n",
    "added_met=met1+met2\n",
    "print(F\"metrix 1:\\n\\n {met1}\\n -------------------------\\n metrix 2: \\n\\n  {met2}\\n--------------------------\")\n",
    "print(f\"added of both the metrix is: \\n\\n    {added_met}\\n---------------------------\")\n",
    "\n",
    "\n"
   ]
  },
  {
   "cell_type": "code",
   "execution_count": 251,
   "metadata": {},
   "outputs": [
    {
     "name": "stdout",
     "output_type": "stream",
     "text": [
      "metrix 1:\n",
      "\n",
      " [[ 1  2  3  4]\n",
      " [ 5  6  7  8]\n",
      " [ 9 10 11 12]]\n",
      " -------------------------\n",
      " metrix 2: \n",
      "\n",
      "  [[ 1  2  3  4]\n",
      " [ 5  6  7  8]\n",
      " [ 9 10 11 12]]\n",
      "--------------------------\n",
      "multiplication of both the metrix is: \n",
      "\n",
      "    [[0 0 0 0]\n",
      " [0 0 0 0]\n",
      " [0 0 0 0]]\n",
      "---------------------------\n"
     ]
    }
   ],
   "source": [
    "# Subtract matrix B from a\n",
    "\n",
    "\n",
    "\n",
    " \n",
    " \n",
    "import numpy as np \n",
    "\n",
    "met1= np.array([[1, 2, 3, 4], [5, 6, 7, 8],[9, 10, 11, 12]])\n",
    "met2= np.array([[1, 2, 3, 4] ,[5, 6, 7, 8],[9, 10, 11, 12]])\n",
    "\n",
    "\n",
    "result=met1 - met2\n",
    "print(F\"metrix 1:\\n\\n {met1}\\n -------------------------\\n metrix 2: \\n\\n  {met2}\\n--------------------------\")\n",
    "print(f\"multiplication of both the metrix is: \\n\\n    {result}\\n---------------------------\")\n",
    "\n",
    "\n",
    "\n",
    " \n",
    " "
   ]
  },
  {
   "cell_type": "code",
   "execution_count": 252,
   "metadata": {},
   "outputs": [
    {
     "name": "stdout",
     "output_type": "stream",
     "text": [
      "metrix 1:\n",
      "\n",
      " [[ 1  2  3  4]\n",
      " [ 5  6  7  8]\n",
      " [ 9 10 11 12]]\n",
      " -------------------------\n",
      " metrix 2: \n",
      "\n",
      "  [[ 1  2  3  4]\n",
      " [ 5  6  7  8]\n",
      " [ 9 10 11 12]]\n",
      "--------------------------\n",
      "multiplication of both the metrix is: \n",
      "\n",
      "    [[1. 1. 1. 1.]\n",
      " [1. 1. 1. 1.]\n",
      " [1. 1. 1. 1.]]\n",
      "---------------------------\n"
     ]
    }
   ],
   "source": [
    "# Divide Matrix B by A \n",
    "\n",
    "\n",
    "\n",
    "\n",
    " \n",
    " #Index wise multiplication\n",
    " \n",
    " \n",
    "import numpy as np \n",
    "\n",
    "met1= np.array([[1, 2, 3, 4], [5, 6, 7, 8],[9, 10, 11, 12]])\n",
    "met2= np.array([[1, 2, 3, 4] ,[5, 6, 7, 8],[9, 10, 11, 12]])\n",
    "\n",
    "\n",
    "result=met1/met2\n",
    "print(F\"metrix 1:\\n\\n {met1}\\n -------------------------\\n metrix 2: \\n\\n  {met2}\\n--------------------------\")\n",
    "print(f\"multiplication of both the metrix is: \\n\\n    {result}\\n---------------------------\")\n",
    "\n",
    "\n",
    "\n",
    " \n",
    " "
   ]
  },
  {
   "cell_type": "markdown",
   "metadata": {},
   "source": [
    "# 12.  Which function in Numpy can be used to swap the byte order of an array?"
   ]
  },
  {
   "cell_type": "code",
   "execution_count": 253,
   "metadata": {},
   "outputs": [
    {
     "name": "stdout",
     "output_type": "stream",
     "text": [
      "Original array: [  1 256   0]\n",
      "Original byte order (hex): 010000010000\n",
      "Swapped array: [256   1   0]\n",
      "Swapped byte order (hex): 000101000000\n"
     ]
    },
    {
     "name": "stderr",
     "output_type": "stream",
     "text": [
      "C:\\Users\\MERAJ UL ARFIN\\AppData\\Local\\Temp\\ipykernel_197176\\1688016387.py:7: DeprecationWarning: NumPy will stop allowing conversion of out-of-bound Python integers to integer arrays.  The conversion of 65536 to int16 will fail in the future.\n",
      "For the old behavior, usually:\n",
      "    np.array(value).astype(dtype)\n",
      "will give the desired result (the cast overflows).\n",
      "  array = np.array([1, 256, 65536], dtype=np.int16)\n"
     ]
    }
   ],
   "source": [
    "# Certainly! To swap the byte order of an array in NumPy, you use the .byteswap() method. Here’s a straightforward example:\n",
    "\n",
    "\n",
    "import numpy as np\n",
    "\n",
    "# Create an array with a specific data type (e.g., int16)\n",
    "array = np.array([1, 256, 65536], dtype=np.int16)\n",
    "\n",
    "# Display the original array\n",
    "print(\"Original array:\", array)\n",
    "\n",
    "# Display the original byte order (for demonstration)\n",
    "print(\"Original byte order (hex):\", array.tobytes().hex() )\n",
    "\n",
    "# Swap the byte order\n",
    "swapped_array = array.byteswap()\n",
    "\n",
    "# Display the swapped array\n",
    "print(\"Swapped array:\", swapped_array)\n",
    "\n",
    "# Display the swapped byte order (for demonstration)\n",
    "print(\"Swapped byte order (hex):\", swapped_array.tobytes().hex())\n"
   ]
  },
  {
   "cell_type": "code",
   "execution_count": null,
   "metadata": {},
   "outputs": [],
   "source": []
  },
  {
   "cell_type": "markdown",
   "metadata": {},
   "source": [
    "#  13.  What is the significance of the np.linalg.inv function?"
   ]
  },
  {
   "cell_type": "code",
   "execution_count": 254,
   "metadata": {},
   "outputs": [
    {
     "name": "stdout",
     "output_type": "stream",
     "text": [
      "Inverse Matrix:\n",
      "[[-2.   1. ]\n",
      " [ 1.5 -0.5]]\n"
     ]
    }
   ],
   "source": [
    "\n",
    "\"\"\"The np.linalg.inv function in NumPy computes the inverse of a square matrix.\n",
    "\n",
    "Significance:\n",
    "Inverse of a Matrix: If you have a matrix A, np.linalg.inv(A) gives you the matrix 𝐴−¹ such that A*A-¹ where I is the identity matrix.\n",
    "\"\"\"\n",
    "\n",
    "\n",
    "import numpy as np\n",
    "\n",
    "# Define a 2x2 matrix\n",
    "matrix = np.array([[1, 2],\n",
    "                   [3, 4]])\n",
    "\n",
    "# Compute its inverse\n",
    "inverse_matrix = np.linalg.inv(matrix)\n",
    "\n",
    "print(\"Inverse Matrix:\")\n",
    "print(inverse_matrix)\n",
    "\n"
   ]
  },
  {
   "cell_type": "markdown",
   "metadata": {},
   "source": [
    "# 14. What does the np.reshape function do, and how is it used?"
   ]
  },
  {
   "cell_type": "code",
   "execution_count": 255,
   "metadata": {},
   "outputs": [
    {
     "name": "stdout",
     "output_type": "stream",
     "text": [
      "[[1 2]\n",
      " [3 4]\n",
      " [5 6]]\n"
     ]
    }
   ],
   "source": [
    "\n",
    "\"\"\"The np.reshape function in NumPy changes the shape of an array without altering its data. This function is used to create a new view of the original array with a different shape, as long as the total number of elements remains the same.\n",
    "\n",
    "\"\"\"\n",
    "\n",
    "import numpy as np\n",
    "\n",
    "# Original 1D array\n",
    "array = np.array([1, 2, 3, 4, 5, 6])\n",
    "\n",
    "# Reshape it into a 2D array with 3 rows and 2 columns\n",
    "reshaped_array = np.reshape(array, (3, 2))\n",
    "\n",
    "print(reshaped_array)\n"
   ]
  },
  {
   "cell_type": "markdown",
   "metadata": {},
   "source": [
    "#  15. What is broadcasting in Numpy?"
   ]
  },
  {
   "cell_type": "code",
   "execution_count": 256,
   "metadata": {},
   "outputs": [
    {
     "name": "stdout",
     "output_type": "stream",
     "text": [
      "[[ 2  2  4  4]\n",
      " [ 6  6  8  8]\n",
      " [10 10 12 12]]\n"
     ]
    }
   ],
   "source": [
    "\n",
    "\"\"\"Broadcasting in NumPy is a feature that allows you to perform operations on arrays of different shapes without explicitly reshaping them.\n",
    "\n",
    "How It Works:\n",
    "Alignment: NumPy automatically aligns arrays of different shapes so that they can be operated on together.\n",
    "Stretching: If one array is smaller, NumPy \"stretches\" it to match the shape of the larger array.\"\"\"\n",
    "\n",
    "# for example\n",
    "\n",
    "\n",
    "import numpy as np\n",
    "\n",
    "# 2D array\n",
    "array_2d = np.array([[1, 2, 3, 4], [5, 6, 7, 8], [9, 10, 11, 12]])\n",
    "\n",
    "# 1D array\n",
    "array_1d = np.array([1, 0, 1, 0])\n",
    "\n",
    "# Broadcasting adds the 1D array to each row of the 2D array\n",
    "result = array_2d + array_1d\n",
    "\n",
    "print(result)\n"
   ]
  },
  {
   "cell_type": "code",
   "execution_count": null,
   "metadata": {},
   "outputs": [],
   "source": []
  },
  {
   "cell_type": "code",
   "execution_count": null,
   "metadata": {},
   "outputs": [],
   "source": []
  },
  {
   "cell_type": "code",
   "execution_count": null,
   "metadata": {},
   "outputs": [],
   "source": []
  },
  {
   "cell_type": "code",
   "execution_count": null,
   "metadata": {},
   "outputs": [],
   "source": [
    "\n"
   ]
  },
  {
   "cell_type": "code",
   "execution_count": null,
   "metadata": {},
   "outputs": [],
   "source": []
  },
  {
   "cell_type": "code",
   "execution_count": null,
   "metadata": {},
   "outputs": [],
   "source": []
  }
 ],
 "metadata": {
  "kernelspec": {
   "display_name": "Python 3",
   "language": "python",
   "name": "python3"
  },
  "language_info": {
   "codemirror_mode": {
    "name": "ipython",
    "version": 3
   },
   "file_extension": ".py",
   "mimetype": "text/x-python",
   "name": "python",
   "nbconvert_exporter": "python",
   "pygments_lexer": "ipython3",
   "version": "3.11.5"
  }
 },
 "nbformat": 4,
 "nbformat_minor": 2
}
