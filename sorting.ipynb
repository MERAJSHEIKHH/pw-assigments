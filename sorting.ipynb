{
 "cells": [
  {
   "cell_type": "markdown",
   "metadata": {},
   "source": [
    "#  Problem 1. Given an array of n numbers, give an algorithm which gives the element appearing maximum number of times?"
   ]
  },
  {
   "cell_type": "code",
   "execution_count": 2,
   "metadata": {},
   "outputs": [
    {
     "name": "stdout",
     "output_type": "stream",
     "text": [
      "3\n"
     ]
    }
   ],
   "source": [
    "def find_most_frequent_element(array):\n",
    "    if not array:\n",
    "        return None\n",
    "\n",
    "    # Step 1: Sort the array\n",
    "    array.sort()\n",
    "\n",
    "    # Step 2: Find the most frequent element\n",
    "    max_element = None\n",
    "    max_count = 0\n",
    "    current_count = 1\n",
    "    current_element = array[0]\n",
    "\n",
    "    for i in range(1, len(array)):\n",
    "        if array[i] == current_element:\n",
    "            current_count += 1\n",
    "        else:\n",
    "            if current_count > max_count:\n",
    "                max_count = current_count\n",
    "                max_element = current_element\n",
    "            current_element = array[i]\n",
    "            current_count = 1\n",
    "\n",
    "    # Check the last element\n",
    "    if current_count > max_count:\n",
    "        max_count = current_count\n",
    "        max_element = current_element\n",
    "\n",
    "    return max_element\n",
    "\n",
    "# Example usage\n",
    "array = [1, 3, 2, 3, 5, 3, 1, 2, 3]\n",
    "print(find_most_frequent_element(array))  \n"
   ]
  },
  {
   "cell_type": "markdown",
   "metadata": {},
   "source": []
  },
  {
   "cell_type": "markdown",
   "metadata": {},
   "source": [
    "###  Problem 2 : We are given a list of n-1 integers and these integers are in the range of 1 to n . There are no duplicates in the list. One of the integers is missing in the list. Give an algorithm to find that element Ex: [1,2,4,6,3,7,8] 5 is the missing num."
   ]
  },
  {
   "cell_type": "code",
   "execution_count": 5,
   "metadata": {},
   "outputs": [
    {
     "name": "stdout",
     "output_type": "stream",
     "text": [
      "5\n"
     ]
    }
   ],
   "source": [
    "def find_missing_number(array, n):\n",
    "    # Step 1: Calculate the expected sum of numbers from 1 to n\n",
    "    sum_expected = n * (n + 1) // 2\n",
    "\n",
    "    # Step 2: Calculate the sum of numbers in the given array\n",
    "    sum_actual = sum(array)\n",
    "\n",
    "    # Step 3: Find the missing number\n",
    "    missing_number = sum_expected - sum_actual\n",
    "\n",
    "    return missing_number\n",
    "\n",
    "# Example usage\n",
    "array = [1, 2, 4,6, 3, 7, 8]\n",
    "n = 8\n",
    "print(find_missing_number(array, n))  # Output: 5\n"
   ]
  },
  {
   "cell_type": "markdown",
   "metadata": {},
   "source": []
  },
  {
   "cell_type": "markdown",
   "metadata": {},
   "source": [
    "## Problem 3 : Given an array of n positive numbers. All numbers occurs even number of times except 1 which occurs odd number of times. Find that number in O(n) time and O(1) space. Ex: [1,2,3,2,3,1,3]. 3 is repeats odd times."
   ]
  },
  {
   "cell_type": "code",
   "execution_count": 12,
   "metadata": {},
   "outputs": [
    {
     "name": "stdout",
     "output_type": "stream",
     "text": [
      "3\n"
     ]
    }
   ],
   "source": [
    "def find_odd_occurrence(array):\n",
    "    result = 0\n",
    "    for number in array:\n",
    "        result ^= number\n",
    "    return result\n",
    "\n",
    "# Example usage\n",
    "array = [1, 2, 3, 2, 3, 1, 3]\n",
    "print(find_odd_occurrence(array))  \n"
   ]
  },
  {
   "cell_type": "markdown",
   "metadata": {},
   "source": []
  },
  {
   "cell_type": "markdown",
   "metadata": {},
   "source": [
    "##  Problem 4 : Given an array of n elements. Find two elements in the array such that their sum is equal to given element K."
   ]
  },
  {
   "cell_type": "code",
   "execution_count": 13,
   "metadata": {},
   "outputs": [
    {
     "name": "stdout",
     "output_type": "stream",
     "text": [
      "(10, 7)\n"
     ]
    }
   ],
   "source": [
    "def find_pair_with_sum(array, K):\n",
    "    hash_map = {}\n",
    "    \n",
    "    for element in array:\n",
    "        complement = K - element\n",
    "        if complement in hash_map:\n",
    "            return (complement, element)\n",
    "        hash_map[element] = True\n",
    "\n",
    "    return None\n",
    "\n",
    "# Example usage\n",
    "array = [10, 15, 3, 7]\n",
    "K = 17\n",
    "print(find_pair_with_sum(array, K))  \n"
   ]
  },
  {
   "cell_type": "markdown",
   "metadata": {},
   "source": []
  },
  {
   "cell_type": "markdown",
   "metadata": {},
   "source": [
    "### Problem 5 : Given an array of both positive and negative numbers, find two numbers such that their sum is closest to 0. Ex: [ 1 ,60 ,-10, 70, -80,85]. Ans : -80,85."
   ]
  },
  {
   "cell_type": "code",
   "execution_count": 15,
   "metadata": {},
   "outputs": [
    {
     "name": "stdout",
     "output_type": "stream",
     "text": [
      "(-80, 85)\n"
     ]
    }
   ],
   "source": [
    "def find_closest_pair(array):\n",
    "    array.sort()\n",
    "    left = 0\n",
    "    right = len(array) - 1\n",
    "    min_diff = float('inf')\n",
    "    closest_pair = (None, None)\n",
    "\n",
    "    while left < right:\n",
    "        current_sum = array[left] + array[right]\n",
    "        current_diff = abs(current_sum)\n",
    "\n",
    "        if current_diff < min_diff:\n",
    "            min_diff = current_diff\n",
    "            closest_pair = (array[left], array[right])\n",
    "\n",
    "        if current_sum < 0:\n",
    "            left += 1\n",
    "        elif current_sum > 0:\n",
    "            right -= 1\n",
    "        else:\n",
    "            break\n",
    "\n",
    "    return closest_pair\n",
    "\n",
    "# Example usage\n",
    "array = [1, 60, -10, 70, -80, 85]\n",
    "print(find_closest_pair(array))  \n"
   ]
  },
  {
   "cell_type": "markdown",
   "metadata": {},
   "source": [
    "##  Problem 6 : Given an array of n elements . Find three elements such that their sum is equal to the given number."
   ]
  },
  {
   "cell_type": "code",
   "execution_count": 16,
   "metadata": {},
   "outputs": [
    {
     "name": "stdout",
     "output_type": "stream",
     "text": [
      "(1, 5, 6)\n"
     ]
    }
   ],
   "source": [
    "def find_triplet_with_sum(array, K):\n",
    "    array.sort()\n",
    "    n = len(array)\n",
    "\n",
    "    for i in range(n - 2):\n",
    "        left = i + 1\n",
    "        right = n - 1\n",
    "\n",
    "        while left < right:\n",
    "            current_sum = array[i] + array[left] + array[right]\n",
    "            if current_sum == K:\n",
    "                return (array[i], array[left], array[right])\n",
    "            elif current_sum < K:\n",
    "                left += 1\n",
    "            else:\n",
    "                right -= 1\n",
    "\n",
    "    return None\n",
    "\n",
    "# Example usage\n",
    "array = [1, 4, 2, 3, 5, 6]\n",
    "K = 12\n",
    "print(find_triplet_with_sum(array, K)) \n"
   ]
  },
  {
   "cell_type": "markdown",
   "metadata": {},
   "source": [
    "## Problem 7 : Given an array of n elements . Find three elements i, j, k in the array such that i * i + j * j = k*k."
   ]
  },
  {
   "cell_type": "code",
   "execution_count": 17,
   "metadata": {},
   "outputs": [
    {
     "name": "stdout",
     "output_type": "stream",
     "text": [
      "(3, 4, 5)\n"
     ]
    }
   ],
   "source": [
    "import math\n",
    "\n",
    "def find_pythagorean_triplet(array):\n",
    "    squares = set(x * x for x in array)\n",
    "    \n",
    "    for i in array:\n",
    "        for j in array:\n",
    "            if i != j:\n",
    "                sum_squares = i * i + j * j\n",
    "                if sum_squares in squares:\n",
    "                    k = int(math.sqrt(sum_squares))\n",
    "                    if k * k == sum_squares and k in array:\n",
    "                        return (i, j, k)\n",
    "    \n",
    "    return None\n",
    "\n",
    "# Example usage\n",
    "array = [3, 4, 5, 6, 8, 10]\n",
    "print(find_pythagorean_triplet(array))  \n"
   ]
  },
  {
   "cell_type": "markdown",
   "metadata": {},
   "source": [
    "## Problem 8 : An element is a majority if it appears more than n/2 times. Give an algorithm takes an array of n element as argument and identifies a majority (if it exists)."
   ]
  },
  {
   "cell_type": "code",
   "execution_count": 18,
   "metadata": {},
   "outputs": [
    {
     "name": "stdout",
     "output_type": "stream",
     "text": [
      "4\n"
     ]
    }
   ],
   "source": [
    "def find_majority_element(array):\n",
    "    candidate = None\n",
    "    count = 0\n",
    "    \n",
    "    # First pass: Find candidate\n",
    "    for element in array:\n",
    "        if count == 0:\n",
    "            candidate = element\n",
    "            count = 1\n",
    "        elif element == candidate:\n",
    "            count += 1\n",
    "        else:\n",
    "            count -= 1\n",
    "    \n",
    "    # Second pass: Verify candidate\n",
    "    count = 0\n",
    "    for element in array:\n",
    "        if element == candidate:\n",
    "            count += 1\n",
    "    \n",
    "    if count > len(array) // 2:\n",
    "        return candidate\n",
    "    else:\n",
    "        return None\n",
    "\n",
    "# Example usage\n",
    "array = [3, 3, 4, 2, 4, 4, 2, 4, 4]\n",
    "print(find_majority_element(array)) \n"
   ]
  },
  {
   "cell_type": "markdown",
   "metadata": {},
   "source": [
    "##  Problem 9 : Given n × n matrix, and in each row all 1’s are followed by 0’s. Find the row with the maximum number of 0’s."
   ]
  },
  {
   "cell_type": "code",
   "execution_count": 19,
   "metadata": {},
   "outputs": [
    {
     "name": "stdout",
     "output_type": "stream",
     "text": [
      "3\n"
     ]
    }
   ],
   "source": [
    "def find_row_with_max_zeros(matrix):\n",
    "    n = len(matrix)\n",
    "    max_zeros = -1\n",
    "    row_index = -1\n",
    "    col = n - 1  # Start from the last column\n",
    "\n",
    "    for row in range(n):\n",
    "        # Move leftward from the last column to find the first 0\n",
    "        while col >= 0 and matrix[row][col] == 0:\n",
    "            col -= 1\n",
    "\n",
    "        # Number of 0s in the current row\n",
    "        num_zeros = n - (col + 1)\n",
    "        \n",
    "        # Update if this row has more 0s than previously recorded\n",
    "        if num_zeros > max_zeros:\n",
    "            max_zeros = num_zeros\n",
    "            row_index = row\n",
    "\n",
    "    return row_index\n",
    "\n",
    "# Example usage\n",
    "matrix = [\n",
    "    [1, 1, 1, 0, 0],\n",
    "    [1, 1, 0, 0, 0],\n",
    "    [1, 0, 0, 0, 0],\n",
    "    [0, 0, 0, 0, 0]\n",
    "]\n",
    "print(find_row_with_max_zeros(matrix))  \n"
   ]
  },
  {
   "cell_type": "markdown",
   "metadata": {},
   "source": [
    "### Problem 10 : Sort an array of 0’s, 1’s and 2’s [or R’s, G’s and B’s]: Given an array A[] consisting of 0’s, 1’s and 2’s, give an algorithm for sorting A[].The algorithm should put all 0’s first, then all 1’s and finally all 2’s at the end. Example Input = {0,1,1,0,1,2,1,2,0,0,0,1}, Output = {0,0,0,0,0,1,1,1,1,1,2,2}"
   ]
  },
  {
   "cell_type": "code",
   "execution_count": 21,
   "metadata": {},
   "outputs": [
    {
     "name": "stdout",
     "output_type": "stream",
     "text": [
      "[0, 0, 0, 0, 0, 1, 1, 1, 1, 1, 2, 2]\n"
     ]
    }
   ],
   "source": [
    "def sort_012(array):\n",
    "    low = 0\n",
    "    mid = 0\n",
    "    high = len(array) - 1\n",
    "\n",
    "    while mid <= high:\n",
    "        if array[mid] == 0:\n",
    "            array[low], array[mid] = array[mid], array[low]\n",
    "            low += 1\n",
    "            mid += 1\n",
    "        elif array[mid] == 1:\n",
    "            mid += 1\n",
    "        else:  # array[mid] == 2\n",
    "            array[high], array[mid] = array[mid], array[high]\n",
    "            high -= 1\n",
    "\n",
    "# Example usage\n",
    "array = [0, 1, 1, 0, 1, 2, 1, 2, 0, 0, 0, 1]\n",
    "sort_012(array)\n",
    "print(array)  \n"
   ]
  }
 ],
 "metadata": {
  "kernelspec": {
   "display_name": "Python 3",
   "language": "python",
   "name": "python3"
  },
  "language_info": {
   "codemirror_mode": {
    "name": "ipython",
    "version": 3
   },
   "file_extension": ".py",
   "mimetype": "text/x-python",
   "name": "python",
   "nbconvert_exporter": "python",
   "pygments_lexer": "ipython3",
   "version": "3.11.5"
  }
 },
 "nbformat": 4,
 "nbformat_minor": 2
}
