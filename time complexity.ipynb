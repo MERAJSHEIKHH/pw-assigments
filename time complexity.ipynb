{
 "cells": [
  {
   "cell_type": "markdown",
   "metadata": {
    "vscode": {
     "languageId": "raw"
    }
   },
   "source": [
    "#  Problem 1 :\n"
   ]
  },
  {
   "cell_type": "raw",
   "metadata": {},
   "source": [
    "\n",
    "\n",
    "\n",
    " def quicksort(arr):\n",
    " if len(arr) <= 1:\n",
    " return arr\n",
    " pivot = arr[len(arr) // 2]\n",
    " left = [x for x in arr if x < pivot]\n",
    " middle = [x for x in arr if x == pivot]\n",
    " right = [x for x in arr if x > pivot]\n",
    " return quicksort(left) + middle + quicksort(right)\n",
    " "
   ]
  },
  {
   "cell_type": "markdown",
   "metadata": {},
   "source": [
    "Best and Average Case:\n",
    "When the pivot splits the list into two nearly equal halves, the time complexity is \n",
    "𝑂(𝑛log⁡𝑛)\n",
    "O(nlogn). This occurs when the pivot is close to the median of the array.\n",
    "\n",
    "Each level of recursion processes all elements once (hence \n",
    "\n",
    "O(n)).\n",
    "The depth of recursion (number of levels) is \n",
    "O(logn).\n",
    "\n",
    "Overall time complexity:\n",
    "\n",
    "𝑂(𝑛log𝑛)\n",
    "\n",
    "Worst Case:\n",
    "The worst-case scenario occurs when the pivot is always the smallest or largest element, resulting in unbalanced partitions (one part is empty, and the other has almost all the elements). This leads to \n",
    "𝑛 recursive calls, each processing n−1 elements. The time complexity in this case is  O(n^2).\n",
    "\n",
    "Worst case happens when the input array is already sorted (in ascending or descending order).\n",
    "\n",
    "Overall time complexity:\n",
    "\n",
    "O(n^2)\n",
    "\n",
    "\n",
    "Best Case Time Complexity: \n",
    "\n",
    "O(nlogn)\n",
    "\n",
    "Average Case Time Complexity: \n",
    "\n",
    "O(nlogn)\n",
    "\n",
    "Worst Case Time Complexity: \n",
    "\n",
    "O(n^2)"
   ]
  },
  {
   "cell_type": "markdown",
   "metadata": {},
   "source": [
    "#  Problem 2 :"
   ]
  },
  {
   "cell_type": "raw",
   "metadata": {},
   "source": [
    "\n",
    " def nested_loop_example(matrix):\n",
    " rows, cols = len(matrix), len(matrix[0])\n",
    " total = 0\n",
    " for i in range(rows):\n",
    " for j in range(cols):\n",
    " total += matrix[i][j]\n",
    " return total"
   ]
  },
  {
   "cell_type": "markdown",
   "metadata": {},
   "source": [
    "The time complexity of the nested_loop_example function is \n",
    "\n",
    "O(r×c), where 𝑟 is the number of rows and c is the number of columns in the matrix. This can also be simplified as O(n), where n is the total number of elements in the matrx"
   ]
  },
  {
   "cell_type": "markdown",
   "metadata": {},
   "source": [
    "# problem 3 :"
   ]
  },
  {
   "cell_type": "raw",
   "metadata": {
    "vscode": {
     "languageId": "raw"
    }
   },
   "source": [
    "\n",
    " def example_function(arr):\n",
    " result = 0\n",
    " for element in arr:\n",
    " result += element\n",
    " return result"
   ]
  },
  {
   "cell_type": "markdown",
   "metadata": {},
   "source": [
    "Key Observations:\n",
    "\n",
    "Initialization:\n",
    "\n",
    "result = 0 is a simple initialization, which takes constant time: O(1).\n",
    "\n",
    "For Loop:\n",
    "\n",
    "The for loop iterates over each element in the array arr.\n",
    "\n",
    "If the array has n elements, the loop will execute n times.\n",
    "\n",
    "Each iteration involves a constant-time operation: result += element, which performs an addition and assignment, both of which are \n",
    "\n",
    "O(1) operations.\n",
    "\n",
    "The time complexity of the example_function is O(n), where n is the length of the input array arr.\n"
   ]
  },
  {
   "cell_type": "markdown",
   "metadata": {},
   "source": [
    "#  Problem 4 :\n"
   ]
  },
  {
   "cell_type": "raw",
   "metadata": {},
   "source": [
    " Problem 4 :\n",
    " def longest_increasing_subsequence(nums):\n",
    " n = len(nums)\n",
    " lis = [1] * n\n",
    " for i in range(1, n):\n",
    " for j in range(0, i):\n",
    " if nums[i] > nums[j] and lis[i] < lis[j] + 1:\n",
    " lis[i] = lis[j] + 1\n",
    " return max(lis)"
   ]
  },
  {
   "cell_type": "markdown",
   "metadata": {},
   "source": [
    "Overall Time Complexity:\n",
    "Initialization of lis: \n",
    "\n",
    "O(n)\n",
    "\n",
    "Outer loop: \n",
    "\n",
    "O(n)\n",
    "\n",
    "Inner loop: \n",
    "\n",
    "O(n^2)\n",
    "\n",
    "Final step (finding the max): \n",
    "\n",
    "O(n)\n",
    "\n",
    "The time complexity of the longest_increasing_subsequence function is O(n^2), where \n",
    "n is the length of the input array nums"
   ]
  },
  {
   "cell_type": "markdown",
   "metadata": {},
   "source": [
    "#  Problem 5 :\n"
   ]
  },
  {
   "cell_type": "raw",
   "metadata": {},
   "source": [
    "\n",
    " def mysterious_function(arr):\n",
    " n = len(arr)\n",
    " result = 0\n",
    " for i in range(n):\n",
    " for j in range(i, n):\n",
    " result += arr[i] * arr[j]\n",
    " return result"
   ]
  },
  {
   "cell_type": "markdown",
   "metadata": {
    "vscode": {
     "languageId": "raw"
    }
   },
   "source": [
    "Initialization of n and result: \n",
    "\n",
    "O(1)\n",
    "The outer loop runs n times, and the inner loop runs a total of O(n^2) times.\n",
    "Since the inner loop dominates the time complexity, the overall time complexity of the function is:\n",
    "O(n^2)\n",
    "\n",
    "orverall time complexity is o(n^2)"
   ]
  },
  {
   "cell_type": "markdown",
   "metadata": {},
   "source": [
    "# problem 6"
   ]
  },
  {
   "cell_type": "raw",
   "metadata": {},
   "source": [
    "\n",
    " Write a recursive function to calculate the sum of digits of a given positive integer.\n",
    " sum_of_digits(123) -> 6"
   ]
  },
  {
   "cell_type": "code",
   "execution_count": 3,
   "metadata": {},
   "outputs": [
    {
     "data": {
      "text/plain": [
       "19"
      ]
     },
     "execution_count": 3,
     "metadata": {},
     "output_type": "execute_result"
    }
   ],
   "source": [
    "def sum_of_digits(n):\n",
    "    # Base case: when n becomes a single digit\n",
    "    if n == 0:\n",
    "        return 0\n",
    "    else:\n",
    "        # Recursive case: add the last digit to the sum of the remaining digits\n",
    "        return n % 10 + sum_of_digits(n // 10)\n",
    "\n",
    "\n",
    "sum_of_digits(1235233)"
   ]
  },
  {
   "cell_type": "markdown",
   "metadata": {},
   "source": [
    "# # problem 7"
   ]
  },
  {
   "cell_type": "raw",
   "metadata": {},
   "source": [
    "\n",
    " Write a recursive function to generate the first n numbers of the Fibonacci series.\n",
    " fibonacci_series(6) -> [0, 1, 1, 2, 3, 5]"
   ]
  },
  {
   "cell_type": "code",
   "execution_count": 7,
   "metadata": {},
   "outputs": [
    {
     "data": {
      "text/plain": [
       "[0, 1, 1, 2, 3]"
      ]
     },
     "execution_count": 7,
     "metadata": {},
     "output_type": "execute_result"
    }
   ],
   "source": [
    "def fibonacci_series(n):\n",
    "    # Helper function to calculate the nth Fibonacci number recursively\n",
    "    def fibonacci(num):\n",
    "        if num == 0:\n",
    "            return 0\n",
    "        elif num == 1:\n",
    "            return 1\n",
    "        else:\n",
    "            return fibonacci(num - 1) + fibonacci(num - 2)\n",
    "\n",
    "    # Generate the first n Fibonacci numbers using the helper function\n",
    "    series = [fibonacci(i) for i in range(n)]\n",
    "    return series\n",
    "\n",
    "fibonacci_series(5)"
   ]
  },
  {
   "cell_type": "markdown",
   "metadata": {
    "vscode": {
     "languageId": "raw"
    }
   },
   "source": [
    "# problem 8"
   ]
  },
  {
   "cell_type": "raw",
   "metadata": {},
   "source": [
    "\n",
    " Given a set of positive integers and a target sum, write a recursive function to determine if there exists a subset \n",
    "of the integers that adds up to the target sum.\n",
    " subset_sum([3, 34, 4, 12, 5, 2], 9) -> True"
   ]
  },
  {
   "cell_type": "code",
   "execution_count": 11,
   "metadata": {},
   "outputs": [
    {
     "name": "stdout",
     "output_type": "stream",
     "text": [
      "True\n"
     ]
    }
   ],
   "source": [
    "def subset_sum(arr, target_sum):\n",
    "    # Base cases\n",
    "    if target_sum == 0:\n",
    "        return True\n",
    "    if not arr:\n",
    "        return False\n",
    "\n",
    "    # Take the last element\n",
    "    last = arr[-1]\n",
    "    remaining = arr[:-1]\n",
    "\n",
    "    # Recursive case: check if target_sum can be achieved by including or excluding the last element\n",
    "    return (target_sum >= last and subset_sum(remaining, target_sum - last)) or subset_sum(remaining, target_sum)\n",
    "\n",
    "# Test the function\n",
    "print(subset_sum([3, 34, 4, 12, 5, 2], 9))  \n"
   ]
  },
  {
   "cell_type": "markdown",
   "metadata": {},
   "source": [
    "# problem 9 "
   ]
  },
  {
   "cell_type": "raw",
   "metadata": {
    "vscode": {
     "languageId": "raw"
    }
   },
   "source": [
    "\n",
    " Given a non-empty string and a dictionary of words, write a recursive function to determine if the string can be \n",
    "segmented into a space-separated sequence of dictionary words.\n",
    " word_break(\"leetcode\", [\"leet\", \"code\"]) -> True"
   ]
  },
  {
   "cell_type": "code",
   "execution_count": 14,
   "metadata": {},
   "outputs": [
    {
     "name": "stdout",
     "output_type": "stream",
     "text": [
      "True\n"
     ]
    }
   ],
   "source": [
    "def word_break(s, word_dict):\n",
    "    def can_break(start):\n",
    "        # Base case: if we've reached the end of the string, return True\n",
    "        if start == len(s):\n",
    "            return True\n",
    "\n",
    "        # Try to match each substring starting from `start`\n",
    "        for end in range(start + 1, len(s) + 1):\n",
    "            if s[start:end] in word_dict:\n",
    "                # If substring is in the dictionary, recursively check the rest of the string\n",
    "                if can_break(end):\n",
    "                    return True\n",
    "\n",
    "        # If no valid segmentation found, return False\n",
    "        return False\n",
    "\n",
    "    # Initialize the recursive check\n",
    "    return can_break(0)\n",
    "\n",
    "# Test the function\n",
    "print(word_break(\"leetcode\", [\"leet\", \"code\"]))  "
   ]
  },
  {
   "cell_type": "markdown",
   "metadata": {
    "vscode": {
     "languageId": "raw"
    }
   },
   "source": [
    "# problem 10"
   ]
  },
  {
   "cell_type": "markdown",
   "metadata": {},
   "source": [
    "\n",
    " Implement a recursive function to solve the N-Queens problem, where you have to place N queens on an N×N \n",
    "chessboard in such a way that no two queens threaten each other.\n",
    " n_queens(4)\n",
    " [\n",
    " [\".Q..\",\n",
    " \"...Q\",\n",
    " \"Q...\",\n",
    " \"..Q.\"],\n",
    " [\"..Q.\",\n",
    " \"Q...\",\n",
    " \"...Q\",\n",
    " \".Q..\"]\n",
    " ]"
   ]
  },
  {
   "cell_type": "code",
   "execution_count": 16,
   "metadata": {},
   "outputs": [
    {
     "name": "stdout",
     "output_type": "stream",
     "text": [
      ".Q.....QQ.....Q.\n",
      "\n",
      "..Q.Q......Q.Q..\n",
      "\n"
     ]
    }
   ],
   "source": [
    "def n_queens(n):\n",
    "    def is_valid(board, row, col):\n",
    "        # Check if a queen can be placed at board[row][col]\n",
    "        for i in range(row):\n",
    "            if board[i] == col or \\\n",
    "               board[i] - i == col - row or \\\n",
    "               board[i] + i == col + row:\n",
    "                return False\n",
    "        return True\n",
    "\n",
    "    def solve(board, row):\n",
    "        if row == n:\n",
    "            result.append([\"\".join(\".\" * col + \"Q\" + \".\" * (n - col - 1) for col in board)])\n",
    "            return\n",
    "        \n",
    "        for col in range(n):\n",
    "            if is_valid(board, row, col):\n",
    "                board[row] = col\n",
    "                solve(board, row + 1)\n",
    "                # Backtrack\n",
    "                board[row] = -1\n",
    "\n",
    "    result = []\n",
    "    board = [-1] * n\n",
    "    solve(board, 0)\n",
    "    return result\n",
    "\n",
    "# Test the function\n",
    "solutions = n_queens(4)\n",
    "for solution in solutions:\n",
    "    for line in solution:\n",
    "        print(line)\n",
    "    print()\n"
   ]
  },
  {
   "cell_type": "markdown",
   "metadata": {
    "vscode": {
     "languageId": "raw"
    }
   },
   "source": []
  }
 ],
 "metadata": {
  "kernelspec": {
   "display_name": "Python 3",
   "language": "python",
   "name": "python3"
  },
  "language_info": {
   "codemirror_mode": {
    "name": "ipython",
    "version": 3
   },
   "file_extension": ".py",
   "mimetype": "text/x-python",
   "name": "python",
   "nbconvert_exporter": "python",
   "pygments_lexer": "ipython3",
   "version": "3.11.5"
  }
 },
 "nbformat": 4,
 "nbformat_minor": 2
}
