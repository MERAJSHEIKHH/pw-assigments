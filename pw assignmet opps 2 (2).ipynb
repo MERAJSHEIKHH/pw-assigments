{
 "cells": [
  {
   "cell_type": "markdown",
   "id": "e741c40a-4b51-4529-a870-ddc9a998128d",
   "metadata": {},
   "source": [
    "# Constructor"
   ]
  },
  {
   "cell_type": "markdown",
   "id": "32a7f9e0",
   "metadata": {},
   "source": []
  },
  {
   "cell_type": "markdown",
   "id": "b4c7904d",
   "metadata": {},
   "source": [
    "\n",
    "\n",
    "\n",
    "\n",
    "# 1 What is a constructor in Python? Explain its purpose and usage."
   ]
  },
  {
   "cell_type": "markdown",
   "id": "7e440e33-17de-4783-82e3-59112c90b636",
   "metadata": {},
   "source": [
    "\n",
    "In Python, a constructor is a special method that is automatically called when an object is created from a class. It is named __init__ and is used to initialize the attributes of the object. The purpose of a constructor is to set up the initial state of the object by assigning values to its attributes or performing any other necessary setup tasks."
   ]
  },
  {
   "cell_type": "code",
   "execution_count": 1,
   "id": "c51bdb80-6b3f-4101-ab48-f7cffa712b4a",
   "metadata": {},
   "outputs": [
    {
     "name": "stdout",
     "output_type": "stream",
     "text": [
      "My car is a 2022 Toyota Camry.\n",
      "The 2022 Toyota Camry's engine is now running.\n"
     ]
    }
   ],
   "source": [
    "class Car:\n",
    "    def __init__(self, make, model, year):\n",
    "        self.make = make\n",
    "        self.model = model\n",
    "        self.year = year\n",
    "        self.is_running = False\n",
    "\n",
    "    def info(self):\n",
    "        print(f\"The {self.year} {self.make} {self.model}'s engine is now running.\")\n",
    "        self.is_running = True\n",
    "\n",
    "# Creating an instance of the Car class and calling the constructor\n",
    "my_car = Car(\"Toyota\", \"Camry\", 2022)\n",
    "\n",
    "# Accessing attributes set by the constructor\n",
    "print(f\"My car is a {my_car.year} {my_car.make} {my_car.model}.\")  # Output: My car is a 2022 Toyota Camry.\n",
    "\n",
    "# Calling a method on the object\n",
    "my_car.info()\n"
   ]
  },
  {
   "cell_type": "markdown",
   "id": "da3a6412-76e6-499d-afe7-ad84da76f94b",
   "metadata": {},
   "source": [
    "In this example, the __init__ method takes four parameters (self, make, model, and year). The self parameter refers to the instance of the class, and the other parameters are used to initialize the attributes of the object (make, model, year, and is_running). When an instance of the Car class is created (e.g., my_car = Car(\"Toyota\", \"Camry\", 2022)), the __init__ method is automatically called, setting up the initial state of the object."
   ]
  },
  {
   "cell_type": "markdown",
   "id": "91ad67f1-c3bb-4f32-9e98-4072468ea8bd",
   "metadata": {},
   "source": [
    "# 2 Differentiate between a parameterless constructor and a parameterized constructor in Python."
   ]
  },
  {
   "cell_type": "markdown",
   "id": "1bdbb5a7-e6ed-4b6c-ae51-8ec3cc5f5682",
   "metadata": {},
   "source": [
    "Parameterless Constructor:\n",
    "\n",
    "A parameterless constructor, also known as a default constructor, does not take any parameters other than the default self parameter.\n",
    "\n",
    "It is defined with the __init__ method, but without any additional parameters.\n",
    "\n",
    "This type of constructor is automatically called when an object of the class is created.\n",
    "\n",
    "Example:\n",
    "\n",
    "python\n",
    "Copy code\n",
    "class MyClass:\n",
    "    def __init__(self):\n",
    "        # Initialization code here\n",
    "        pass\n",
    "Parameterized Constructor:\n",
    "\n",
    "A parameterized constructor accepts parameters in addition to the default self parameter.\n",
    "\n",
    "It is defined with the __init__ method, and you specify the parameters that you want to initialize when creating an object.\n",
    "\n",
    "The parameters passed during object creation are used to set the initial state of the object.\n",
    "\n",
    "Example:\n",
    "\n",
    "python\n",
    "Copy code\n",
    "class MyClass:\n",
    "    def __init__(self, param1, param2):\n",
    "        self.param1 = param1\n",
    "        self.param2 = param2\n",
    "When you create an instance of MyClass with a parameterized constructor, you provide values for param1 and param2:\n",
    "\n",
    "python\n",
    "Copy code\n",
    "my_object = MyClass(value1, value2)\n",
    "The values passed (e.g., value1 and value2) are used to initialize the corresponding attributes of the object."
   ]
  },
  {
   "cell_type": "markdown",
   "id": "612bd798-84ae-4a38-a1ea-7b0020d4d1d5",
   "metadata": {},
   "source": [
    "# 3 How do you define a constructor in a Python class? Provide an example."
   ]
  },
  {
   "cell_type": "code",
   "execution_count": 2,
   "id": "a1d9e7e8-feb8-4852-bc9c-3275b095a97a",
   "metadata": {},
   "outputs": [
    {
     "name": "stdout",
     "output_type": "stream",
     "text": [
      "meraj is a developer\n",
      "raghu is a developer\n"
     ]
    }
   ],
   "source": [
    "class myclass:\n",
    "    def __init__(self,name,occupation):\n",
    "        \n",
    "        self.name=name\n",
    "        self.occupation=occupation\n",
    "        \n",
    "    def info(self):\n",
    "        print(f\"{self.name} is a {self.occupation}\")\n",
    "        \n",
    "my_obj1= myclass(\"meraj\",\"developer\") \n",
    "my_obj2= myclass(\"raghu\" ,\"developer\") \n",
    "\n",
    "my_obj1.info()\n",
    "my_obj2.info()"
   ]
  },
  {
   "cell_type": "markdown",
   "id": "3dc0bbf3-94b5-4d77-af92-da5fc286325e",
   "metadata": {},
   "source": [
    "# 4. Explain the `__init__` method in Python and its role in constructors."
   ]
  },
  {
   "cell_type": "raw",
   "id": "1caedbe7-20e3-4e24-91a9-0848f4ad0e2b",
   "metadata": {},
   "source": [
    "he __init__ method in Python is a special method used in class definitions. It is also known as the constructor, and its primary role is to initialize the attributes of an object when an instance of the class is created. The __init__ method is automatically called when an object is instantiated, and it allows you to perform any necessary setup or initialization tasks.\n",
    "\n",
    "Here are key points about the __init__ method and its role in constructors:\n",
    "\n",
    "Method Name:\n",
    "\n",
    "The __init__ method has a specific name and double underscores (__) before and after \"init.\"\n",
    "Parameters:\n",
    "\n",
    "The first parameter of the __init__ method is always self, which refers to the instance of the class being created.\n",
    "Additional parameters can be included to allow the constructor to accept values that are used to initialize the object's attributes.\n",
    "Initialization:\n",
    "\n",
    "Inside the __init__ method, you can write code to initialize the attributes of the object. This is where you set the initial state of the object.\n",
    "Automatic Invocation:\n",
    "\n",
    "The __init__ method is automatically called when an object of the class is created. You don't need to explicitly call it; Python takes care of that during object instantiation.\n",
    "Role in Constructors:\n",
    "\n",
    "The __init__ method is a fundamental part of the constructor, which is responsible for setting up the initial state of an object.\n",
    "It allows you to define how object attributes should be initialized based on the arguments provided during object creation.\n",
    "Here's a simple example illustrating the use of the __init__ method:\n",
    "\n",
    "\n"
   ]
  },
  {
   "cell_type": "code",
   "execution_count": 3,
   "id": "f32b7113-d7a0-411c-ae38-0e0c20f360b0",
   "metadata": {},
   "outputs": [
    {
     "name": "stdout",
     "output_type": "stream",
     "text": [
      "my name is meraj sheikh\n"
     ]
    }
   ],
   "source": [
    "# example  \n",
    "\n",
    "\n",
    "class MyClass:\n",
    "    def __init__(self, first_name , sir_name) :\n",
    "        \n",
    "        self.first_name = first_name\n",
    "        self.sir_name = sir_name\n",
    "        \n",
    "    def display_name(self):\n",
    "        print(f\"my name is {self.first_name} {self.sir_name}\")\n",
    "\n",
    "my_object = MyClass(\"meraj\", \"sheikh\")\n",
    "\n",
    "my_object.display_name()"
   ]
  },
  {
   "cell_type": "markdown",
   "id": "1d4d382d-8fc7-46e8-a768-88c7a580b537",
   "metadata": {},
   "source": [
    "# 5. In a class named `Person`, create a constructor that initializes the `name` and `age` attributes. Provide an example of creating an object of this class."
   ]
  },
  {
   "cell_type": "code",
   "execution_count": 4,
   "id": "d09a87e6-17ed-4443-afe4-f42e6e634109",
   "metadata": {},
   "outputs": [
    {
     "name": "stdout",
     "output_type": "stream",
     "text": [
      "my name is meraj and my age is 20\n"
     ]
    }
   ],
   "source": [
    "class person :\n",
    "    def __init__(self,name,age):\n",
    "        self.name= name\n",
    "        self.age= age\n",
    "        \n",
    "    def info(self):\n",
    "        print(f\"my name is {self.name} and my age is {self.age}\")\n",
    "        \n",
    "        \n",
    "obj1= person(\"meraj\",20)\n",
    "\n",
    "obj1.info()\n",
    "        "
   ]
  },
  {
   "cell_type": "markdown",
   "id": "1ea2bf76-180f-41ef-9e00-8c8115930105",
   "metadata": {},
   "source": [
    "# 6. How can you call a constructor explicitly in Python? Give an example."
   ]
  },
  {
   "cell_type": "code",
   "execution_count": 5,
   "id": "011a6d4c-eba5-48f3-ac2c-2b73984e8cc2",
   "metadata": {},
   "outputs": [
    {
     "name": "stdout",
     "output_type": "stream",
     "text": [
      "param1: value1, param2: value2\n",
      "param1: new_value1, param2: new_value2\n"
     ]
    }
   ],
   "source": [
    "'''  if you want to perform some initialization logicseparately from the object creation,\n",
    "you can create a separate method and call that method explicitly\n",
    "\n",
    "In this example, the explicit_initialization method is created to allow for explicit initialization of attributes. \n",
    "This method is called separately from the object creation process. It takes new values as parameters and updates the attributes accordingly'''\n",
    "\n",
    "\n",
    "\n",
    "class MyClass:\n",
    "    def __init__(self, param1, param2):\n",
    "        # Initialize attributes with the values passed as parameters\n",
    "        self.param1 = param1\n",
    "        self.param2 = param2\n",
    "\n",
    "    def display_params(self):\n",
    "        # Display the values of attributes\n",
    "        print(f\"param1: {self.param1}, param2: {self.param2}\")\n",
    "\n",
    "    def explicit_initialization(self, new_param1, new_param2):\n",
    "        # Explicitly initialize attributes with new values\n",
    "        self.param1 = new_param1\n",
    "        self.param2 = new_param2\n",
    "\n",
    "# Creating an instance of MyClass without explicit constructor call\n",
    "my_object = MyClass(\"value1\", \"value2\")\n",
    "\n",
    "# Calling a method on the object to display attribute values\n",
    "my_object.display_params()\n",
    "\n",
    "# Explicitly calling a method to perform explicit initialization\n",
    "my_object.explicit_initialization(\"new_value1\", \"new_value2\")\n",
    "\n",
    "# Calling the display_params method again to show the updated values\n",
    "my_object.display_params()\n"
   ]
  },
  {
   "cell_type": "code",
   "execution_count": null,
   "id": "56f96057-80c5-4777-a48a-fa910d338231",
   "metadata": {},
   "outputs": [],
   "source": []
  },
  {
   "cell_type": "markdown",
   "id": "1ba2e69c-02e9-4291-bd03-0237c98e85e6",
   "metadata": {},
   "source": [
    "# 7. What is the significance of the `self` parameter in Python constructors? Explain with an example."
   ]
  },
  {
   "cell_type": "code",
   "execution_count": 6,
   "id": "7131ecfa-2d6e-4203-9811-ceaa6e9b4155",
   "metadata": {},
   "outputs": [
    {
     "name": "stdout",
     "output_type": "stream",
     "text": [
      "Buddy is 3 years old.\n",
      "Buddy says: Woof!\n",
      "Max is 5 years old.\n",
      "Max says: Woof!\n"
     ]
    },
    {
     "data": {
      "text/plain": [
       "'\\nThe Dog class has a constructor (__init__ method) that takes three parameters: self, name, and age. The self parameter represents \\nthe instance being created, and name and age are used to initialize the attributes of the instance (name and age).\\n\\nInside the constructor, self.name and self.age are used to set the attributes of the instance to the values passed as parameters.\\n\\nThe bark method is defined to demonstrate the use of self within a method. The method uses self.name to access the name attribute \\nof the instance and prints a message indicating that the dog is barking.\\n\\nInstances of the Dog class (dog1 and dog2) are created with specific names and ages.\\n\\nAttributes and methods of the instances are accessed using dot notation (dog1.name, dog1.age, dog1.bark()), and the self parameter\\nallows these methods to operate on the specific instance.\\n\\nThe self parameter is crucial for distinguishing instance variables from local variables within a class. It ensures that attributes\\nand methods are associated with the correct instance of the class.'"
      ]
     },
     "execution_count": 6,
     "metadata": {},
     "output_type": "execute_result"
    }
   ],
   "source": [
    "'''the self parameter in constructors and methods of a class is a reference to the instance of the class. \n",
    "It is a convention (not a keyword) to name the first parameter of instance methods as self. This parameter allows you to access\n",
    "and modify attributes of the instance within the method. In the context of constructors, self is used to refer to the instance \n",
    "being created and initialize its attributes.'''\n",
    "\n",
    "\n",
    "class Dog:\n",
    "    def __init__(self, name, age):\n",
    "        # Initialize attributes with the values passed as parameters\n",
    "        self.name = name\n",
    "        self.age = age\n",
    "\n",
    "    def bark(self):\n",
    "        print(f\"{self.name} says: Woof!\")\n",
    "\n",
    "# Creating instances of the Dog class\n",
    "dog1 = Dog(\"Buddy\", 3)\n",
    "dog2 = Dog(\"Max\", 5)\n",
    "\n",
    "# Accessing attributes and calling methods using instances\n",
    "print(f\"{dog1.name} is {dog1.age} years old.\")\n",
    "dog1.bark()\n",
    "\n",
    "print(f\"{dog2.name} is {dog2.age} years old.\")\n",
    "dog2.bark()\n",
    "\n",
    "\n",
    "\n",
    "\n",
    "\"\"\"\n",
    "The Dog class has a constructor (__init__ method) that takes three parameters: self, name, and age. The self parameter represents \n",
    "the instance being created, and name and age are used to initialize the attributes of the instance (name and age).\n",
    "\n",
    "Inside the constructor, self.name and self.age are used to set the attributes of the instance to the values passed as parameters.\n",
    "\n",
    "The bark method is defined to demonstrate the use of self within a method. The method uses self.name to access the name attribute \n",
    "of the instance and prints a message indicating that the dog is barking.\n",
    "\n",
    "Instances of the Dog class (dog1 and dog2) are created with specific names and ages.\n",
    "\n",
    "Attributes and methods of the instances are accessed using dot notation (dog1.name, dog1.age, dog1.bark()), and the self parameter\n",
    "allows these methods to operate on the specific instance.\n",
    "\n",
    "The self parameter is crucial for distinguishing instance variables from local variables within a class. It ensures that attributes\n",
    "and methods are associated with the correct instance of the class.\"\"\"\n",
    "\n"
   ]
  },
  {
   "cell_type": "markdown",
   "id": "671c07a4-1642-4f48-b9e6-76fb9e132e8b",
   "metadata": {},
   "source": [
    "# 8. Discuss the concept of default constructors in Python. When are they used?"
   ]
  },
  {
   "cell_type": "code",
   "execution_count": 7,
   "id": "69df3cd3-815a-4acc-a0b1-1edbc4773778",
   "metadata": {},
   "outputs": [
    {
     "name": "stdout",
     "output_type": "stream",
     "text": [
      "This is a method in MyClass.\n"
     ]
    },
    {
     "data": {
      "text/plain": [
       "\" Default constructors are used when:\\n\\nNo Constructor is Defined:\\n\\nIf a class doesn't have an explicitly defined constructor, Python provides a default constructor that takes only the self parameter.\\nThe default constructor does not perform any attribute initialization.\\nImplicit Initialization:\\n\\nIf you don't need to perform any specific initialization when an object is created, you can rely on the default constructor\\nto handle the default behavior.\\n\""
      ]
     },
     "execution_count": 7,
     "metadata": {},
     "output_type": "execute_result"
    }
   ],
   "source": [
    "\n",
    "\"\"\"In Python, a default constructor refers to a constructor that doesn't take any additional parameters other than the default self parameter.\n",
    "The default constructor is created automatically if a class doesn't have an explicitly defined __init__ method. In other words, \n",
    "if you don't define a constructor in your class, Python provides a default constructor\"\"\"\n",
    "\n",
    "\n",
    "class MyClass:\n",
    "    def some_method(self):\n",
    "        print(\"This is a method in MyClass.\")\n",
    "\n",
    "# Creating an instance of MyClass without an explicit constructor\n",
    "my_object = MyClass()\n",
    "\n",
    "# Calling a method on the object\n",
    "my_object.some_method()\n",
    "\n",
    "\n",
    "\n",
    "\"\"\" Default constructors are used when:\n",
    "\n",
    "No Constructor is Defined:\n",
    "\n",
    "If a class doesn't have an explicitly defined constructor, Python provides a default constructor that takes only the self parameter.\n",
    "The default constructor does not perform any attribute initialization.\n",
    "Implicit Initialization:\n",
    "\n",
    "If you don't need to perform any specific initialization when an object is created, you can rely on the default constructor\n",
    "to handle the default behavior.\n",
    "\"\"\"\n",
    "\n",
    "\n",
    "\n",
    "\n"
   ]
  },
  {
   "cell_type": "markdown",
   "id": "68fec4ad-90c5-40d4-a160-561d9f4e022a",
   "metadata": {},
   "source": [
    "# 9. Create a Python class called `Rectangle` with a constructor that initializes the `width` and `height`  attributes. Provide a method to calculate the area of the rectangle."
   ]
  },
  {
   "cell_type": "code",
   "execution_count": 8,
   "id": "a838638a-32c1-4e4b-8f81-74b8d14e07fb",
   "metadata": {},
   "outputs": [
    {
     "name": "stdout",
     "output_type": "stream",
     "text": [
      "the area od rectangle is of width 20 and height 10  is :   200\n",
      "the area od rectangle is of width 100 and height 10  is :   1000\n"
     ]
    }
   ],
   "source": [
    "class rectangle :\n",
    "    def __init__(self,height,width):\n",
    "        self.height=height\n",
    "        self.width=width\n",
    "        \n",
    "    def area_calculator(self):\n",
    "        print(F\"the area od rectangle is of width {self.width} and height {self.height}  is :   {self.width*self.height}\")\n",
    "        \n",
    "        \n",
    "obj1=rectangle(10,20)\n",
    "obj2=rectangle(10,100)\n",
    "\n",
    "obj1.area_calculator()\n",
    "obj2.area_calculator()\n",
    "                "
   ]
  },
  {
   "cell_type": "markdown",
   "id": "6a95a6ff-dbfe-4175-9008-d3baf84fa86d",
   "metadata": {},
   "source": [
    "# 10. How can you have multiple constructors in a Python class? Explain with an example."
   ]
  },
  {
   "cell_type": "code",
   "execution_count": 9,
   "id": "58e9aad2-f6d1-4582-905d-d5c82203c16f",
   "metadata": {},
   "outputs": [
    {
     "name": "stdout",
     "output_type": "stream",
     "text": [
      "my name is meraj and my age is 20\n",
      "my name is meraj and my age is default\n",
      "my name is default name  and my age is default age \n"
     ]
    }
   ],
   "source": [
    "# method 1  \n",
    "\n",
    "class myclass:\n",
    "    def __init__(self,name=None,age=None):\n",
    "        if name is not None and age is not None:\n",
    "            # two parameters is given \n",
    "            self.name=name\n",
    "            self.age=age\n",
    "        elif name is not None :\n",
    "            # one parameter ig given \n",
    "            self.name=name\n",
    "            self.age= \"default\"\n",
    "            \n",
    "        else:\n",
    "            # no parameter is given \n",
    "            self.name=\"default name \"\n",
    "            self.age=\"default age \"\n",
    "    def info(self):\n",
    "        print(f\"my name is {self.name} and my age is {self.age}\")\n",
    "            \n",
    "    \n",
    "obj1= myclass(\"meraj\",20)    \n",
    "obj2= myclass(\"meraj\") \n",
    "obj3= myclass() \n",
    "\n",
    "obj1.info()\n",
    "\n",
    "obj2.info()\n",
    "\n",
    "obj3.info()"
   ]
  },
  {
   "cell_type": "code",
   "execution_count": 10,
   "id": "a8d19106-d782-4050-9784-a23b41730880",
   "metadata": {},
   "outputs": [],
   "source": [
    "# method 2 \n",
    "\n",
    "class Person:\n",
    "    def __init__(self, name, age=0, gender=\"Male\"):\n",
    "        self.name = name\n",
    "        self.age = age\n",
    "        self.gender = gender\n",
    "\n",
    "\n",
    "person1 = Person(\"meraj\") \n",
    "person2 = Person(\"rahul\", 25) \n",
    "person3 = Person(\"raghu\", 30, \"Female\") \n"
   ]
  },
  {
   "cell_type": "markdown",
   "id": "9fd08b2e-81c4-4074-9d83-42d16ca8e8f6",
   "metadata": {},
   "source": [
    "# 11. What is method overloading, and how is it related to constructors in Python?"
   ]
  },
  {
   "cell_type": "raw",
   "id": "fb21b36d-19e0-4468-b53d-95ab5212cf49",
   "metadata": {},
   "source": [
    "\n",
    "Method overloading refers to the ability to define multiple methods with the same name in a class, but with different parameters or different types of parameters. This allows a class to provide multiple implementations of a method based on the number or types of arguments it receives. Method overloading can improve code readability and flexibility.\n",
    "\n",
    "In Python, method overloading is achieved through function or method definitions with default values for some parameters. Unlike some other programming languages, Python does not support traditional method overloading where you can define multiple methods with the same name but different parameter lists.\n",
    "\n",
    "However, when it comes to constructors in Python, you can achieve a form of method overloading by using default values for parameters. In Python, a constructor is a special method called __init__. Here's an example of using default parameter values to achieve constructor overloading:"
   ]
  },
  {
   "cell_type": "code",
   "execution_count": 11,
   "id": "b90d8b33-7053-41fe-88d0-02c2adc5e2cf",
   "metadata": {},
   "outputs": [
    {
     "name": "stdout",
     "output_type": "stream",
     "text": [
      "10 0\n",
      "20 30\n"
     ]
    },
    {
     "data": {
      "text/plain": [
       "'this example, the __init__ method is overloaded with two different parameter lists. The second parameter, param2, has a default value \\nof 0. When you create an object of the class MyClass with one or two arguments, the constructor behaves accordingly.'"
      ]
     },
     "execution_count": 11,
     "metadata": {},
     "output_type": "execute_result"
    }
   ],
   "source": [
    "class MyClass:\n",
    "    def __init__(self, param1, param2=0):\n",
    "        self.param1 = param1\n",
    "        self.param2 = param2\n",
    "\n",
    "# Creating objects using different constructor variations\n",
    "obj1 = MyClass(10)\n",
    "obj2 = MyClass(20, 30)\n",
    "\n",
    "# Accessing object attributes\n",
    "print(obj1.param1, obj1.param2)  # Output: 10 0\n",
    "print(obj2.param1, obj2.param2)  # Output: 20 30\n",
    "\n",
    "\n",
    "\"\"\"this example, the __init__ method is overloaded with two different parameter lists. The second parameter, param2, has a default value \n",
    "of 0. When you create an object of the class MyClass with one or two arguments, the constructor behaves accordingly.\"\"\"\n"
   ]
  },
  {
   "cell_type": "markdown",
   "id": "d7711b92-a5d1-4f19-ba9e-37699f6eeb0a",
   "metadata": {},
   "source": [
    "# 12. Explain the use of the `super()` function in Python constructors. Provide an example."
   ]
  },
  {
   "cell_type": "code",
   "execution_count": null,
   "id": "62935ea6-a48a-497d-b786-1fb386424890",
   "metadata": {},
   "outputs": [],
   "source": []
  },
  {
   "cell_type": "code",
   "execution_count": null,
   "id": "a3a0157d-fbb4-4b0c-92cd-f157fdd52630",
   "metadata": {},
   "outputs": [],
   "source": []
  },
  {
   "cell_type": "code",
   "execution_count": 12,
   "id": "d2950129-6c63-4ab4-b90d-25c8d10d46f7",
   "metadata": {},
   "outputs": [
    {
     "name": "stdout",
     "output_type": "stream",
     "text": [
      "Animal 'Buddy' created.\n",
      "Dog 'Buddy' of breed 'Golden Retriever' created.\n"
     ]
    }
   ],
   "source": [
    "class Animal:\n",
    "    def __init__(self, name):\n",
    "        self.name = name\n",
    "        print(f\"Animal '{self.name}' created.\")\n",
    "\n",
    "class Dog(Animal):\n",
    "    def __init__(self, name, breed):\n",
    "        self.breed = breed\n",
    "        super().__init__(name) # Calls the constructor of the superclass 'Animal'\n",
    "        print(f\"Dog '{self.name}' of breed '{self.breed}' created.\")\n",
    "\n",
    "dog = Dog(\"Buddy\", \"Golden Retriever\")\n"
   ]
  },
  {
   "cell_type": "code",
   "execution_count": null,
   "id": "01ac418f-d369-4b20-b468-f613849b2326",
   "metadata": {},
   "outputs": [],
   "source": [
    "\n"
   ]
  },
  {
   "cell_type": "markdown",
   "id": "2f320f03-3fdc-4dab-b530-b6a65346076a",
   "metadata": {},
   "source": [
    "# 13. Create a class called `Book` with a constructor that initializes the `title`, `author`, and `published_year` attributes. Provide a method to display book details."
   ]
  },
  {
   "cell_type": "code",
   "execution_count": 13,
   "id": "0b7b01d6-a1eb-4989-a3b8-80a39a56bfb9",
   "metadata": {},
   "outputs": [
    {
     "name": "stdout",
     "output_type": "stream",
     "text": [
      "the title of the book is ghost \n",
      " the author of the book is ram\n",
      "this book is published in 2017 \n",
      "\n",
      "the title of the book is big bull \n",
      " the author of the book is harshat mahta\n",
      "this book is published in 1990 \n",
      "\n"
     ]
    }
   ],
   "source": [
    "class book:\n",
    "    def __init__(self,title,author,publish_year):\n",
    "        self.title=title\n",
    "        self.author=author\n",
    "        self.publish_year=publish_year\n",
    "        \n",
    "    def info(self):\n",
    "        print(f\"the title of the book is {self.title} \")\n",
    "        \n",
    "        print(f\" the author of the book is {self.author}\")\n",
    "        print(f\"this book is published in {self.publish_year} \\n\")\n",
    "        \n",
    "        \n",
    "obj1=book(\"ghost\", \"ram\",2017)\n",
    "obj2=book(\"big bull\",\"harshat mahta\",1990)\n",
    "\n",
    "obj1.info()\n",
    "\n",
    "obj2.info()"
   ]
  },
  {
   "cell_type": "markdown",
   "id": "418a638d-3740-4f48-a710-5ecb35972e2e",
   "metadata": {},
   "source": [
    "# 14. Discuss the differences between constructors and regular methods in Python classes."
   ]
  },
  {
   "cell_type": "raw",
   "id": "0dabc5c4-50bc-4157-af49-31d5979b2624",
   "metadata": {},
   "source": [
    "Constructors and regular methods are both types of methods within Python classes, but they serve different purposes and have some key differences. Here are the main distinctions between constructors and regular methods:\n",
    "\n",
    "Purpose:\n",
    "\n",
    "Constructor: The primary purpose of a constructor is to initialize the attributes of an object when an instance of the class is created. In Python, the constructor method is named __init__. It is automatically called when you create an object of the class.\n",
    "Regular Method: Regular methods perform various operations or actions on the class's attributes or provide some functionality. They are called explicitly on an instance of the class.\n",
    "Name:\n",
    "\n",
    "Constructor: In Python, the constructor is named __init__. It initializes the object's attributes and is automatically invoked when an instance is created.\n",
    "Regular Method: Regular methods can have any valid method name. They are called explicitly on an instance of the class.\n",
    "Invocation:\n",
    "\n",
    "Constructor: The constructor is automatically invoked when an object is created. It's responsible for initializing the object's attributes.\n",
    "Regular Method: Regular methods need to be explicitly called on an instance of the class using the dot notation (object.method()).\n",
    "Return Value:\n",
    "\n",
    "Constructor: The __init__ constructor typically does not return any value explicitly. It focuses on initializing the object.\n",
    "Regular Method: Regular methods can return values or perform various actions. The return type is not restricted.\n",
    "Instance Variables:\n",
    "\n",
    "Constructor: The constructor is often used to create and initialize instance variables (attributes) for an object.\n",
    "Regular Method: Regular methods can also access and modify instance variables, but they are not limited to initialization.\n",
    "Usage:\n",
    "\n",
    "Constructor: Used for initializing object attributes, setting default values, and performing any setup necessary for the object.\n",
    "Regular Method: Used for providing specific functionality, performing operations on object attributes, and implementing various behaviors."
   ]
  },
  {
   "cell_type": "code",
   "execution_count": 14,
   "id": "e30cdecb-1c0f-47d2-976c-1038ca1d9293",
   "metadata": {},
   "outputs": [
    {
     "name": "stdout",
     "output_type": "stream",
     "text": [
      "3\n",
      "10\n"
     ]
    },
    {
     "data": {
      "text/plain": [
       "\"In this example, the __init__ method serves as the constructor, initializing the x and y attributes. \\nThe calculate_sum method is a regular method that performs a specific operation on the object's attributes\""
      ]
     },
     "execution_count": 14,
     "metadata": {},
     "output_type": "execute_result"
    }
   ],
   "source": [
    "class MyClass:\n",
    "    def __init__(self, x, y):\n",
    "        self.x = x\n",
    "        self.y = y\n",
    "\n",
    "    def calculate_sum(self):\n",
    "        return self.x + self.y\n",
    "\n",
    "# Creating an instance and using the constructor\n",
    "obj = MyClass(3, 7)\n",
    "\n",
    "# Accessing attributes and using a regular method\n",
    "print(obj.x)               # Output: 3\n",
    "print(obj.calculate_sum())  # Output: 10\n",
    "\n",
    "\n",
    "\n",
    "\"\"\"In this example, the __init__ method serves as the constructor, initializing the x and y attributes. \n",
    "The calculate_sum method is a regular method that performs a specific operation on the object's attributes\"\"\"\n"
   ]
  },
  {
   "cell_type": "markdown",
   "id": "d0641c9d-1405-4f41-95f3-968022e35d40",
   "metadata": {},
   "source": [
    "# 15. Explain the role of the `self` parameter in instance variable initialization within a constructor."
   ]
  },
  {
   "cell_type": "raw",
   "id": "a2ab44ee-a5d4-4191-acbe-62d99392ea55",
   "metadata": {},
   "source": [
    "the key points regarding the role of the self parameter in instance variable initialization within a constructor:\n",
    "\n",
    "Reference to the Instance:\n",
    "\n",
    "The self parameter refers to the instance of the class that is being created or operated on.\n",
    "It allows you to access and manipulate the attributes (instance variables) of the object within the class methods, including the constructor.\n",
    "Attribute Initialization:\n",
    "\n",
    "Inside the constructor (__init__ method), the self parameter is used to initialize instance variables (attributes) with values passed as arguments during object creation.\n",
    "It is a convention to use self as the prefix when defining and accessing instance variables within the class.\n",
    "Instance Scope:\n",
    "\n",
    "The self parameter ensures that the instance variables are scoped to the particular instance of the class, making them unique to each object created from the class.\n",
    "Instance variables defined with self are accessible throughout the class, allowing you to reference and modify them in other methods.\n",
    "Accessing Instance Variables:\n",
    "\n",
    "To access an instance variable within the class, you use the self keyword followed by the variable name (e.g., self.variable_name).\n",
    "When creating an instance of the class, Python automatically passes the instance itself as the first argument to the constructor, and this instance is captured by the self parameter."
   ]
  },
  {
   "cell_type": "markdown",
   "id": "1c2dfd11-db94-4e96-b4e9-4321366b5879",
   "metadata": {},
   "source": [
    "# 16. How do you prevent a class from having multiple instances by using constructors in Python? Provide an example."
   ]
  },
  {
   "cell_type": "code",
   "execution_count": 15,
   "id": "87e78c3a-779c-493e-b594-34456da47566",
   "metadata": {},
   "outputs": [
    {
     "name": "stdout",
     "output_type": "stream",
     "text": [
      "True\n",
      "Modified value\n"
     ]
    },
    {
     "data": {
      "text/plain": [
       "\"The __new__ method is responsible for creating a new instance if one doesn't already exist. It returns the existing instance if it does.\\n\\nThe __init__ method is used for initialization. However, because __new__ ensures that only one instance is created, \\nthe initialization code is executed only for the first instance.\\n\\nThe class variable _instance holds the single instance of the class.\""
      ]
     },
     "execution_count": 15,
     "metadata": {},
     "output_type": "execute_result"
    }
   ],
   "source": [
    "\"\"\"To prevent a class from having multiple instances, you can use a design pattern called the Singleton Pattern. The Singleton Pattern ensures that a\n",
    "class has only one instance and provides a global point of access to that instance.\n",
    "\n",
    "In Python, you can implement the Singleton Pattern by using a class variable to store the instance and a class method to create\n",
    "or return the single instance. Here's an example:\"\"\"\n",
    "\n",
    "\n",
    "class Singleton:\n",
    "    _instance = None\n",
    "\n",
    "    def __new__(cls, *args, **kwargs):\n",
    "        if not cls._instance:\n",
    "            cls._instance = super().__new__(cls, *args, **kwargs)\n",
    "        return cls._instance\n",
    "\n",
    "    def __init__(self):\n",
    "        self.value = \"Hello, World!\"\n",
    "\n",
    "# Create the first instance of the Singleton class\n",
    "instance1 = Singleton()\n",
    "\n",
    "# Create the second instance of the Singleton class\n",
    "instance2 = Singleton()\n",
    "\n",
    "# Check if both instances are the same\n",
    "print(instance1 is instance2) # True\n",
    "\n",
    "# Modify the value of the first instance\n",
    "instance1.value = \"Modified value\"\n",
    "\n",
    "# Check if the value of the second instance has also been modified\n",
    "print(instance2.value) # Modified value\n",
    "\n",
    "\n",
    "\n",
    "\"\"\"The __new__ method is responsible for creating a new instance if one doesn't already exist. It returns the existing instance if it does.\n",
    "\n",
    "The __init__ method is used for initialization. However, because __new__ ensures that only one instance is created, \n",
    "the initialization code is executed only for the first instance.\n",
    "\n",
    "The class variable _instance holds the single instance of the class.\"\"\""
   ]
  },
  {
   "cell_type": "markdown",
   "id": "0431401f-9253-4c18-825c-3ec7abcf4fe0",
   "metadata": {},
   "source": [
    "# 17. Create a Python class called `Student` with a constructor that takes a list of subjects as a parameter and initializes the `subjects` attribute."
   ]
  },
  {
   "cell_type": "code",
   "execution_count": 16,
   "id": "370b1582-f9aa-4d8b-a64d-46bff6703ef6",
   "metadata": {},
   "outputs": [
    {
     "name": "stdout",
     "output_type": "stream",
     "text": [
      "['Math', 'English', 'Science']\n"
     ]
    }
   ],
   "source": [
    "class Student:\n",
    "    def __init__(self, subjects):\n",
    "        self.subjects = subjects\n",
    "\n",
    "# Creating an instance of the Student class with a list of subjects\n",
    "student1 = Student([\"Math\", \"English\", \"Science\"])\n",
    "\n",
    "# Accessing the subjects attribute\n",
    "print(student1.subjects)  # Output: ['Math', 'English', 'Science']\n"
   ]
  },
  {
   "cell_type": "markdown",
   "id": "00147634-c667-447d-ac19-0ab118225485",
   "metadata": {},
   "source": [
    "# 18. What is the purpose of the `__del__` method in Python classes, and how does it relate to constructors?"
   ]
  },
  {
   "cell_type": "code",
   "execution_count": 17,
   "id": "04cbf7a8-30f9-40ce-8628-64d597e5e4ee",
   "metadata": {},
   "outputs": [
    {
     "name": "stdout",
     "output_type": "stream",
     "text": [
      "Object created\n"
     ]
    },
    {
     "data": {
      "text/plain": [
       "'In this example, the __init__ method is responsible for printing a message when an object is created, and the __del__ method \\nprints a message when the object is destroyed. When the object goes out of scope or is explicitly deleted, the __del__ method is called. \\nKeep in mind that relying on __del__ for critical cleanup tasks is not recommended, and using context managers (with statement) \\nor explicitly closing resources is often a \\nbetter practice.'"
      ]
     },
     "execution_count": 17,
     "metadata": {},
     "output_type": "execute_result"
    }
   ],
   "source": [
    "\"\"\"The __del__ method in Python is a special method that serves as the destructor for a class. It is called when an object is about to\n",
    "be destroyed or deallocated, i.e., when there are no more references to the object. The purpose of the __del__ method is to perform any \n",
    "cleanup or resource deallocation before the object is removed from memory.\n",
    "\n",
    "Here's a brief overview of the purpose of the __del__ method and its relationship to constructors:\n",
    "\n",
    "Purpose of __del__ Method:\n",
    "\n",
    "The __del__ method allows you to define custom cleanup actions for an object when it is no longer needed.\n",
    "It is used to release resources, close files, or perform any other necessary cleanup tasks before the object is removed from memory.\n",
    "Execution Timing:\n",
    "\n",
    "The __del__ method is automatically called by the Python interpreter when the reference count of an object drops to zero, indicating that \n",
    "the object is no longer accessible.\n",
    "It is not guaranteed to be executed immediately when an object goes out of scope or when the del statement is used. Python's garbage \n",
    "collector is responsible for calling the __del__ method when it determines that the object is no longer reachable.\n",
    "Relationship with Constructors:\n",
    "\n",
    "While the __init__ method (constructor) is responsible for initializing an object's attributes when the object is created, the\n",
    "__del__ method is called when the object is being finalized or about to be destroyed.\n",
    "The __del__ method complements the __init__ method, allowing you to define both the setup and cleanup procedures for your objects.\"\"\"\n",
    "\n",
    "\n",
    "\n",
    "\n",
    "class MyClass:\n",
    "    def __init__(self, name):\n",
    "        self.name = name\n",
    "        print(f\"{self.name} created\")\n",
    "\n",
    "    def __del__(self):\n",
    "        print(f\"{self.name} destroyed\")\n",
    "\n",
    "# Creating an instance of MyClass\n",
    "obj = MyClass(\"Object\")\n",
    "\n",
    "# The object goes out of scope or is explicitly deleted\n",
    "# The __del__ method will be called when the object is being destroyed\n",
    "\n",
    "\n",
    "\n",
    "\n",
    "\n",
    "\"\"\"In this example, the __init__ method is responsible for printing a message when an object is created, and the __del__ method \n",
    "prints a message when the object is destroyed. When the object goes out of scope or is explicitly deleted, the __del__ method is called. \n",
    "Keep in mind that relying on __del__ for critical cleanup tasks is not recommended, and using context managers (with statement) \n",
    "or explicitly closing resources is often a \n",
    "better practice.\"\"\""
   ]
  },
  {
   "cell_type": "code",
   "execution_count": 18,
   "id": "6bdebfa7-4a6d-4403-974a-7b9338c4e096",
   "metadata": {},
   "outputs": [
    {
     "name": "stdout",
     "output_type": "stream",
     "text": [
      "Object created\n",
      "Object destroyed\n"
     ]
    }
   ],
   "source": [
    "class MyClass:\n",
    "    def __init__(self, name):\n",
    "        self.name = name\n",
    "        print(f\"{self.name} created\")\n",
    "\n",
    "    def __del__(self):\n",
    "        print(f\"{self.name} destroyed\")\n",
    "\n",
    "# Creating an instance of MyClass\n",
    "obj = MyClass(\"Object\")\n",
    "\n"
   ]
  },
  {
   "cell_type": "markdown",
   "id": "1ef287a6-40e8-46f5-916b-3df21f90f4e6",
   "metadata": {},
   "source": [
    "# 19. Explain the use of constructor chaining in Python. Provide a practical example."
   ]
  },
  {
   "cell_type": "code",
   "execution_count": 19,
   "id": "6d7bfa35-3968-4dc0-b049-9c67fe06551c",
   "metadata": {},
   "outputs": [
    {
     "name": "stdout",
     "output_type": "stream",
     "text": [
      "Person constructor called\n",
      "Employee constructor called\n",
      "Name: John Doe, Age: 30\n",
      "Employee ID: E12345\n"
     ]
    }
   ],
   "source": [
    "\"\"\"Constructor chaining in Python refers to the ability to call one constructor from another within the same class or between related classes\n",
    "in an inheritance hierarchy. This allows you to reuse code from one constructor in another, avoiding duplication and promoting code \n",
    "modularity.\"\"\"\n",
    "\n",
    "\n",
    "class Person:\n",
    "    def __init__(self, name, age):\n",
    "        self.name = name\n",
    "        self.age = age\n",
    "        print(\"Person constructor called\")\n",
    "\n",
    "    def display_info(self):\n",
    "        print(f\"Name: {self.name}, Age: {self.age}\")\n",
    "\n",
    "class Employee(Person):\n",
    "    def __init__(self, name, age, employee_id):\n",
    "        # Calling the constructor of the base class (Person) using super()\n",
    "        super().__init__(name, age)\n",
    "        self.employee_id = employee_id\n",
    "        print(\"Employee constructor called\")\n",
    "\n",
    "    def display_employee_info(self):\n",
    "        print(f\"Employee ID: {self.employee_id}\")\n",
    "\n",
    "# Creating an instance of the Employee class\n",
    "employee = Employee(\"John Doe\", 30, \"E12345\")\n",
    "\n",
    "# Accessing attributes and methods from both Person and Employee classes\n",
    "employee.display_info()\n",
    "employee.display_employee_info()\n",
    "\n",
    "\n"
   ]
  },
  {
   "cell_type": "markdown",
   "id": "7d654be0-d0c9-4802-af08-6a9e9369b43e",
   "metadata": {},
   "source": [
    "\"\"\"The Person class has a constructor __init__ that initializes the name and age attributes. It also has a method display_info to display \n",
    "information about a person.\n",
    "The Employee class is a subclass of Person. It has its own constructor __init__, which takes additional parameters (employee_id). \n",
    "To reuse the initialization code of the Person class, it calls the constructor of the base class using super().__init__(name, age).\n",
    "The Employee class also has a method display_employee_info to display additional information specific to employees.\n",
    "When you create an instance of the Employee class, the constructor chaining ensures that both the __init__ method of the Person class \n",
    "and the __init__ method of the Employee class are called in the correct order. This allows you to initialize attributes\n",
    "from both the base class and the derived class without duplicating code."
   ]
  },
  {
   "cell_type": "markdown",
   "id": "1a650bce-75af-4b1c-93b9-90b2c2529d3c",
   "metadata": {},
   "source": [
    "# 20. Create a Python class called `Car` with a default constructor that initializes the `make` and `model` attributes. Provide a method to display car information."
   ]
  },
  {
   "cell_type": "code",
   "execution_count": 20,
   "id": "24464794-8ae6-4742-837a-b517ac7ca225",
   "metadata": {},
   "outputs": [
    {
     "name": "stdout",
     "output_type": "stream",
     "text": [
      "Make: Unknown\n",
      "Model: Unknown \n",
      "\n",
      "Make: tpoyota\n",
      "Model: camry \n",
      "\n"
     ]
    }
   ],
   "source": [
    "class car:\n",
    "    def __init__(self, make=\"Unknown\", model=\"Unknown\"):\n",
    "        self.make = make\n",
    "        self.model = model\n",
    "\n",
    "    def display_info(self):\n",
    "        \n",
    "        print(f\"Make: {self.make}\")\n",
    "        print(f\"Model: {self.model} \\n\")\n",
    "\n",
    "# Creating an instance of the Car class with default values\n",
    "my_car = car()\n",
    "my_car1=car(\"tpoyota\",\"camry\")\n",
    "# Accessing and displaying car information\n",
    "my_car.display_info()\n",
    "my_car1.display_info()"
   ]
  },
  {
   "cell_type": "code",
   "execution_count": null,
   "id": "d93f5306-741e-440e-94fd-ba48dcb85d09",
   "metadata": {},
   "outputs": [],
   "source": []
  },
  {
   "cell_type": "code",
   "execution_count": null,
   "id": "88dae66c-b0b4-4daf-a2ac-1aa003413671",
   "metadata": {},
   "outputs": [],
   "source": []
  },
  {
   "cell_type": "markdown",
   "id": "0e820daf-df00-48d8-9440-cb3b8010dac2",
   "metadata": {},
   "source": [
    "# inheritence \n"
   ]
  },
  {
   "cell_type": "markdown",
   "id": "efe2e647-5cef-4cd6-a9e2-c6c5e0fe2d28",
   "metadata": {},
   "source": [
    "# 1. What is inheritance in Python? Explain its significance in object-oriented programming."
   ]
  },
  {
   "cell_type": "code",
   "execution_count": 21,
   "id": "e0631962-9d27-4d67-90dd-cc88a7869f2c",
   "metadata": {},
   "outputs": [
    {
     "name": "stdout",
     "output_type": "stream",
     "text": [
      "Buddy is eating.\n",
      "Buddy is sleeping.\n",
      "Buddy is barking.\n"
     ]
    }
   ],
   "source": [
    "\"\"\"inheritance in Python is a mechanism that allows you to create a new class using the properties and behaviors of an existing class.\n",
    "This promotes code reusability and the DRY (Don't Repeat Yourself) principle.\n",
    "\n",
    "The class that is inherited from is called the superclass or the parent class, and the class that inherits from the superclass is called the\n",
    "subclass or the child class.\"\"\"\n",
    "                                            \n",
    "class Animal:\n",
    "    def __init__(self, name):\n",
    "        self.name = name\n",
    "\n",
    "    def eat(self):\n",
    "        print(f\"{self.name} is eating.\")\n",
    "\n",
    "    def sleep(self):\n",
    "        print(f\"{self.name} is sleeping.\")\n",
    "\n",
    "\n",
    "class Dog(Animal):\n",
    "    def bark(self):\n",
    "        print(f\"{self.name} is barking.\")\n",
    "\n",
    "\n",
    "dog = Dog(\"Buddy\")\n",
    "dog.eat() # Buddy is eating.\n",
    "dog.sleep() # Buddy is sleeping.\n",
    "dog.bark() # Buddy is barking."
   ]
  },
  {
   "cell_type": "markdown",
   "id": "d6faf5f9-4a40-4989-acb8-9645276fa536",
   "metadata": {},
   "source": [
    "# 2. Differentiate between single inheritance and multiple inheritance in Python. Provide examples for each."
   ]
  },
  {
   "cell_type": "code",
   "execution_count": 22,
   "id": "469c5569-9491-4c4c-a100-5c27b9835223",
   "metadata": {},
   "outputs": [
    {
     "name": "stdout",
     "output_type": "stream",
     "text": [
      "Object destroyed\n",
      "Parent method\n",
      "Child method\n"
     ]
    }
   ],
   "source": [
    "\"\"\"Single Inheritance:\n",
    "In single inheritance, a class can inherit from only one parent class. The syntax for single inheritance is as follows:\n",
    "    \"\"\"\n",
    "\n",
    "class Parent:\n",
    "    def parent_method(self):\n",
    "        print(\"Parent method\")\n",
    "\n",
    "class Child(Parent):\n",
    "    def child_method(self):\n",
    "        print(\"Child method\")\n",
    "\n",
    "# Example usage\n",
    "obj = Child()\n",
    "obj.parent_method()  # Calls parent method\n",
    "obj.child_method()   # Calls child method\n"
   ]
  },
  {
   "cell_type": "code",
   "execution_count": 23,
   "id": "b40cc5ac-4bb3-42f9-9eb0-46c4ed2d6efa",
   "metadata": {},
   "outputs": [
    {
     "name": "stdout",
     "output_type": "stream",
     "text": [
      "Parent 1 method\n",
      "Parent 2 method\n",
      "Child method\n"
     ]
    }
   ],
   "source": [
    "\"\"\" Multiple Inheritance:\n",
    "In multiple inheritance, a class can inherit from more than one parent class. The syntax for multiple inheritance is as follows\"\"\"\n",
    "\n",
    "class Parent1:\n",
    "    def parent1_method(self):\n",
    "        print(\"Parent 1 method\")\n",
    "\n",
    "class Parent2:\n",
    "    def parent2_method(self):\n",
    "        print(\"Parent 2 method\")\n",
    "\n",
    "class Child(Parent1, Parent2):\n",
    "    def child_method(self):\n",
    "        print(\"Child method\")\n",
    "\n",
    "# Example usage\n",
    "obj = Child()\n",
    "obj.parent1_method()  # Calls parent 1 method\n",
    "obj.parent2_method()  # Calls parent 2 method\n",
    "obj.child_method()    # Calls child method\n"
   ]
  },
  {
   "cell_type": "markdown",
   "id": "33f6b2b0-5af7-4289-a532-f9562cc31aaf",
   "metadata": {},
   "source": [
    "# 3. Create a Python class called `Vehicle` with attributes `color` and `speed`. Then, create a child class called `Car` that inherits from `Vehicle` and adds a `brand` attribute. Provide an example of creating a `Car` object."
   ]
  },
  {
   "cell_type": "code",
   "execution_count": 24,
   "id": "922c4158-14b0-43ca-9445-f69a8d049500",
   "metadata": {},
   "outputs": [
    {
     "name": "stdout",
     "output_type": "stream",
     "text": [
      "Color: red\n",
      "Speed: 50\n",
      "Brand: brand\n"
     ]
    }
   ],
   "source": [
    "class vehicle:\n",
    "    def __init__(self,color,speed):\n",
    "        self.color=color\n",
    "        self.speed=speed\n",
    "        \n",
    "class car(vehicle):\n",
    "#class car:\n",
    "    \n",
    "    def __init__(self,color,speed,brand):\n",
    "        super().__init__(color,speed)\n",
    "        self.brand=brand\n",
    "        \n",
    "        \n",
    "car_obj=car(\"red\",50,\"brand\")    \n",
    "    \n",
    "\n",
    "print(f\"Color: {car_obj.color}\")\n",
    "print(f\"Speed: {car_obj.speed}\")\n",
    "print(f\"Brand: {car_obj.brand}\")    "
   ]
  },
  {
   "cell_type": "code",
   "execution_count": null,
   "id": "bfd8f7fd-23b4-47df-a059-a3edb2f26694",
   "metadata": {},
   "outputs": [],
   "source": []
  },
  {
   "cell_type": "code",
   "execution_count": null,
   "id": "c466d46a-de28-4c25-aeb7-29a7950eecd8",
   "metadata": {},
   "outputs": [],
   "source": []
  },
  {
   "cell_type": "markdown",
   "id": "ea60b27f-ed0f-4dda-a1bb-f3094810c5b7",
   "metadata": {},
   "source": [
    "# 4. Explain the concept of method overriding in inheritance. Provide a practical example."
   ]
  },
  {
   "cell_type": "code",
   "execution_count": 25,
   "id": "3729a2bd-99a7-44d2-892c-a73f7beca3f9",
   "metadata": {},
   "outputs": [
    {
     "name": "stdout",
     "output_type": "stream",
     "text": [
      "Woof! Woof!\n",
      "Meow!\n"
     ]
    }
   ],
   "source": [
    "\"\"\"\n",
    "Method overriding is a concept in object-oriented programming (OOP) where a subclass provides a specific implementation for a method that is already defined in its superclass. The overridden method in the subclass has the same signature (name and parameters) as the method in the superclass. When an object of the subclass calls this method, the overridden version in the subclass is executed instead of the one in the superclass.\n",
    "\n",
    "Key points about method overriding:\n",
    "\n",
    "The method in the subclass must have the same name, return type, and parameters as the method in the superclass.\n",
    "The purpose is to provide a specialized implementation in the subclass that is more appropriate for the subclass context.\"\"\"\n",
    "\n",
    "\n",
    "\n",
    "class Animal:\n",
    "    def make_sound(self):\n",
    "        print(\"Generic animal sound\")\n",
    "\n",
    "class Dog(Animal):\n",
    "    def make_sound(self):\n",
    "        print(\"Woof! Woof!\")\n",
    "\n",
    "class Cat(Animal):\n",
    "    def make_sound(self):\n",
    "        print(\"Meow!\")\n",
    "\n",
    "# Example usage\n",
    "dog = Dog()\n",
    "dog.make_sound()  # Calls the overridden method in Dog class\n",
    "\n",
    "cat = Cat()\n",
    "cat.make_sound()  # Calls the overridden method in Cat class\n"
   ]
  },
  {
   "cell_type": "markdown",
   "id": "86627f1a-e2ac-4057-adad-1050f174e0ab",
   "metadata": {},
   "source": [
    "# 5. How can you access the methods and attributes of a parent class from a child class in Python? Give an example."
   ]
  },
  {
   "cell_type": "code",
   "execution_count": 26,
   "id": "259a01cc-3e7a-4e15-a7af-ee7f7f60d789",
   "metadata": {},
   "outputs": [
    {
     "name": "stdout",
     "output_type": "stream",
     "text": [
      "Parent class - Name: John\n",
      "Child class - Additional Info: Likes playing video games\n"
     ]
    },
    {
     "data": {
      "text/plain": [
       "'n this example, the Child class inherits from the Parent class. The Child class has its own constructor (__init__) and an overridden display_info \\nmethod. Inside the __init__ method of the Child class, super().__init__(name) is used to call the constructor of the parent class (Parent). \\nIn the display_info method of the Child class, super().display_info() is used to call the overridden display_info method in the parent class.'"
      ]
     },
     "execution_count": 26,
     "metadata": {},
     "output_type": "execute_result"
    }
   ],
   "source": [
    "\"\"\"\n",
    "In Python, you can access the methods and attributes of a parent class from a child class using the super() function. The super()\n",
    "function is used to refer to the parent class and allows you to call its methods or access its attributes within the child class. \n",
    "This is particularly useful when you override a method in the child class and still want to use the functionality provided by the parent class.\"\"\"\n",
    "\n",
    "\n",
    "\n",
    "class Parent:\n",
    "    def __init__(self, name):\n",
    "        self.name = name\n",
    "\n",
    "    def display_info(self):\n",
    "        print(f\"Parent class - Name: {self.name}\")\n",
    "\n",
    "class Child(Parent):\n",
    "    def __init__(self, name, additional_info):\n",
    "        # Call the constructor of the parent class using super()\n",
    "        super().__init__(name)\n",
    "        self.additional_info = additional_info\n",
    "\n",
    "    def display_info(self):\n",
    "        # Call the overridden method of the parent class using super()\n",
    "        super().display_info()\n",
    "        print(f\"Child class - Additional Info: {self.additional_info}\")\n",
    "\n",
    "# Example usage\n",
    "child_obj = Child(name=\"John\", additional_info=\"Likes playing video games\")\n",
    "child_obj.display_info()\n",
    "\n",
    "\n",
    "\"\"\"n this example, the Child class inherits from the Parent class. The Child class has its own constructor (__init__) and an overridden display_info \n",
    "method. Inside the __init__ method of the Child class, super().__init__(name) is used to call the constructor of the parent class (Parent). \n",
    "In the display_info method of the Child class, super().display_info() is used to call the overridden display_info method in the parent class.\"\"\""
   ]
  },
  {
   "cell_type": "markdown",
   "id": "6bafa923-fd4f-45e4-84b5-c9e0b8a7ecd5",
   "metadata": {},
   "source": [
    "# 6. Discuss the use of the `super()` function in Python inheritance. When and why is it used? Provide an example."
   ]
  },
  {
   "cell_type": "code",
   "execution_count": 27,
   "id": "01e204e3-bebb-412f-b8b9-9bcfb3e1f8b2",
   "metadata": {},
   "outputs": [
    {
     "name": "stdout",
     "output_type": "stream",
     "text": [
      "Species: Canine\n",
      "Breed: Labrador\n",
      "Woof! Woof!\n"
     ]
    }
   ],
   "source": [
    "\"\"\" The super() function in Python is used in the context of inheritance to refer to the parent class and invoke its methods or access its attributes. It is particularly useful when you are working with class hierarchies, and a subclass wants to extend or override the behavior of its parent class.\n",
    "\n",
    "The primary use cases for super() are:\n",
    "\n",
    "Calling the Constructor of the Parent Class:\n",
    "In a subclass, you can use super().__init__() to call the constructor of the parent class. This ensures that the initialization logic of the parent class is executed before the subclass-specific initialization.\n",
    "\n",
    "Calling Methods of the Parent Class:\n",
    "You can use super().method() to call a method from the parent class. This is helpful when you want to extend the functionality of the method in the subclass while still using the implementation from the parent class.\n",
    "\n",
    "\"\"\"\n",
    "\n",
    "class Animal:\n",
    "    def __init__(self, species):\n",
    "        self.species = species\n",
    "\n",
    "    def make_sound(self):\n",
    "        print(\"Generic animal sound\")\n",
    "\n",
    "class Dog(Animal):\n",
    "    def __init__(self, species, breed):\n",
    "        # Call the constructor of the parent class using super()\n",
    "        super().__init__(species)\n",
    "        self.breed = breed\n",
    "\n",
    "    def make_sound(self):\n",
    "        # Call the overridden method of the parent class using super()\n",
    "     #   super().make_sound()\n",
    "        print(\"Woof! Woof!\")\n",
    "\n",
    "# Example usage\n",
    "dog = Dog(species=\"Canine\", breed=\"Labrador\")\n",
    "print(f\"Species: {dog.species}\")\n",
    "print(f\"Breed: {dog.breed}\")\n",
    "dog.make_sound()\n"
   ]
  },
  {
   "cell_type": "markdown",
   "id": "5383040c-fd9b-4a0b-aba2-d8ca6f74b62e",
   "metadata": {},
   "source": [
    "# 7. Create a Python class called `Animal` with a method `speak()`. Then, create child classes `Dog` and `Cat` that inherit from `Animal` and override the `speak()` method. Provide an example of using these classes.\n"
   ]
  },
  {
   "cell_type": "code",
   "execution_count": 28,
   "id": "12fca7e9-a920-4db7-9219-c57d7a300201",
   "metadata": {},
   "outputs": [
    {
     "name": "stdout",
     "output_type": "stream",
     "text": [
      " dog - woo woo\n",
      "cat-- meao\n",
      "genric sond \n"
     ]
    }
   ],
   "source": [
    "class animal:  \n",
    "    def  make_sound(self):\n",
    "        print(f\"genric sond \")    \n",
    "class dog(animal):  \n",
    "    def make_sound(self):\n",
    "        print(f\" dog - woo woo\")\n",
    "        \n",
    "class cat(animal):\n",
    "    def make_sound(self):\n",
    "        print(f\"cat-- meao\")\n",
    "        \n",
    "\n",
    "a=dog()\n",
    "b=cat()\n",
    "c=animal()\n",
    "a.make_sound()\n",
    "b.make_sound()\n",
    "c.make_sound()\n",
    "\n"
   ]
  },
  {
   "cell_type": "code",
   "execution_count": 29,
   "id": "4e27cc6f-1d22-4bce-a6bf-7d26725a1f8a",
   "metadata": {},
   "outputs": [
    {
     "name": "stdout",
     "output_type": "stream",
     "text": [
      "Woof!\n",
      "Meow!\n"
     ]
    }
   ],
   "source": [
    "#method 2 \n",
    "\n",
    "class Animal:\n",
    "    def speak(self):\n",
    "        pass\n",
    "\n",
    "class Dog(Animal):\n",
    "    def speak(self):\n",
    "        return \"Woof!\"\n",
    "\n",
    "class Cat(Animal):\n",
    "    def speak(self):\n",
    "        return \"Meow!\"\n",
    "\n",
    "animals = [Dog(), Cat()]\n",
    "\n",
    "for animal in animals:\n",
    "    print(animal.speak())"
   ]
  },
  {
   "cell_type": "markdown",
   "id": "a150cd99-a59a-4eba-a7e4-c8102cde3054",
   "metadata": {},
   "source": [
    "# 8. Explain the role of the `isinstance()` function in Python and how it relates to inheritance."
   ]
  },
  {
   "cell_type": "raw",
   "id": "86bf2bb2-87d0-4e99-9c1c-d49e2d7037fa",
   "metadata": {},
   "source": [
    "\"\"\"The isinstance() function in Python is used to check if an object is an instance of a particular class or a tuple of classes. \n",
    "It returns True if the object is an instance of the specified class or any of the specified classes in the tuple; otherwise, it returns \"\"\"\n",
    "\n",
    "\n",
    "\n",
    "isinstance(object, classinfo)\n",
    "\n",
    "\n",
    "object: The object that you want to check.\n",
    "classinfo: A class or a tuple of classes.\n",
    "\n"
   ]
  },
  {
   "cell_type": "code",
   "execution_count": 30,
   "id": "09a8509b-1fb1-4eb2-9910-ef1be6e298d8",
   "metadata": {},
   "outputs": [
    {
     "name": "stdout",
     "output_type": "stream",
     "text": [
      "True\n",
      "True\n",
      "True\n",
      "False\n",
      "True\n",
      "False\n"
     ]
    }
   ],
   "source": [
    "class Animal:\n",
    "    pass\n",
    "\n",
    "class Dog(Animal):\n",
    "    pass\n",
    "\n",
    "class Cat(Animal):\n",
    "    pass\n",
    "\n",
    "# Creating instances\n",
    "animal_instance = Animal()\n",
    "dog_instance = Dog()\n",
    "cat_instance = Cat()\n",
    "\n",
    "# Using isinstance() to check the type\n",
    "print(isinstance(animal_instance, Animal)) \n",
    "print(isinstance(dog_instance, Animal))   \n",
    "print(isinstance(cat_instance, Animal))  \n",
    "\n",
    "print(isinstance(animal_instance, Dog))   \n",
    "print(isinstance(dog_instance, Dog))   \n",
    "print(isinstance(cat_instance, Dog))        \n",
    "\n"
   ]
  },
  {
   "cell_type": "markdown",
   "id": "22990359-abfc-42d1-afb7-bd26f9872dc6",
   "metadata": {},
   "source": [
    "# 9. What is the purpose of the `issubclass()` function in Python? Provide an example."
   ]
  },
  {
   "cell_type": "code",
   "execution_count": 31,
   "id": "6aeb8bc8-7a5d-48d6-818a-df24741a2f8b",
   "metadata": {},
   "outputs": [
    {
     "name": "stdout",
     "output_type": "stream",
     "text": [
      "True\n",
      "True\n",
      "True\n",
      "True\n",
      "False\n",
      "True\n"
     ]
    },
    {
     "data": {
      "text/plain": [
       "'In this example:\\n\\nMammal is a subclass of Animal.\\nDog is a subclass of both Mammal and Animal.\\nBird is a subclass of Animal but not of Mammal.'"
      ]
     },
     "execution_count": 31,
     "metadata": {},
     "output_type": "execute_result"
    }
   ],
   "source": [
    "\n",
    "\"\"\"The issubclass() function in Python is used to check whether a class is a subclass of another class. It returns True if the first class\n",
    "is a subclass of the second class, or if they are the same class, and False otherwise.\"\"\"\n",
    "\n",
    "\n",
    "class Animal:\n",
    "    pass\n",
    "\n",
    "class Mammal(Animal):\n",
    "    pass\n",
    "\n",
    "class Dog(Mammal):\n",
    "    pass\n",
    "\n",
    "class Bird(Animal):\n",
    "    pass\n",
    "\n",
    "# Using issubclass() to check if a class is a subclass\n",
    "print(issubclass(Mammal, Animal))  \n",
    "print(issubclass(Dog, Animal))      \n",
    "print(issubclass(Dog, Mammal))     \n",
    "\n",
    "print(issubclass(Bird, Animal))    \n",
    "print(issubclass(Bird, Mammal))    \n",
    "print(issubclass(Bird, (Animal, Mammal)))  \n",
    "\n",
    "\n",
    "\"\"\"In this example:\n",
    "\n",
    "Mammal is a subclass of Animal.\n",
    "Dog is a subclass of both Mammal and Animal.\n",
    "Bird is a subclass of Animal but not of Mammal.\"\"\"\n"
   ]
  },
  {
   "cell_type": "markdown",
   "id": "f8485343-b68b-455c-8364-6d511e37063c",
   "metadata": {},
   "source": [
    "# 10. Discuss the concept of constructor inheritance in Python. How are constructors inherited in child classes?"
   ]
  },
  {
   "cell_type": "code",
   "execution_count": 32,
   "id": "29aef36b-3258-4e47-9a3f-721653b28d09",
   "metadata": {},
   "outputs": [
    {
     "name": "stdout",
     "output_type": "stream",
     "text": [
      "Hello\n"
     ]
    }
   ],
   "source": [
    "\n",
    "\"\"\"In Python, constructor inheritance refers to the ability of a child class to inherit and use the constructor of its parent class.\n",
    "The constructor is a special method in Python classes, typically named __init__, and it is automatically called when an object of the \n",
    "class is created. When a child class is created, it can inherit the constructor of its parent class, and optionally extend or override it.\n",
    "\n",
    "\n",
    "Implicit Inheritance:\n",
    "\n",
    "When you create a child class without defining its own constructor, it automatically inherits the constructor of the parent class.\n",
    "The child class's constructor implicitly calls the constructor of the parent class using the super() function.\n",
    "\"\"\"\n",
    "\n",
    "class Parent:\n",
    "    def __init__(self, parent_param):\n",
    "        self.parent_param = parent_param\n",
    "\n",
    "class Child(Parent):\n",
    "    pass\n",
    "\n",
    "# Creating an instance of Child implicitly calls the constructor of Parent\n",
    "child_instance = Child(\"Hello\")\n",
    "print(child_instance.parent_param)  # Output: Hello\n",
    "\n",
    "\n"
   ]
  },
  {
   "cell_type": "code",
   "execution_count": 33,
   "id": "e19ea1fa-7486-4f82-a783-ef41b2080f1d",
   "metadata": {},
   "outputs": [
    {
     "name": "stdout",
     "output_type": "stream",
     "text": [
      "Hello\n",
      "World\n"
     ]
    }
   ],
   "source": [
    "\"\"\"Explicit Inheritance:\n",
    "\n",
    "If the child class defines its own constructor, it can explicitly call the constructor of the parent class using super().__init__(args)\n",
    "within its own constructor.\n",
    "This allows the child class to extend or override the behavior of the parent class's \n",
    "\"\"\"\n",
    "\n",
    "class Parent:\n",
    "    def __init__(self, parent_param):\n",
    "        self.parent_param = parent_param\n",
    "\n",
    "class Child(Parent):\n",
    "    def __init__(self, parent_param, child_param):\n",
    "        super().__init__(parent_param)\n",
    "        self.child_param = child_param\n",
    "\n",
    "# Creating an instance of Child calls the constructor of both Parent and Child\n",
    "child_instance = Child(\"Hello\", \"World\")\n",
    "print(child_instance.parent_param)  # Output: Hello\n",
    "print(child_instance.child_param)   # Output: World\n"
   ]
  },
  {
   "cell_type": "markdown",
   "id": "e4198914-4db1-4510-90d2-d3a39b499895",
   "metadata": {},
   "source": [
    "# 11. Create a Python class called `Shape` with a method `area()` that calculates the area of a shape. Then, create child classes `Circle` and `Rectangle` that inherit from `Shape` and implement the `area()` method accordingly. Provide an example."
   ]
  },
  {
   "cell_type": "code",
   "execution_count": 34,
   "id": "0d2da87b-a50a-4217-a063-233e108ab46b",
   "metadata": {},
   "outputs": [
    {
     "name": "stdout",
     "output_type": "stream",
     "text": [
      "area oof circle is 78.57142857142857\n",
      "area of ractangle is 20\n"
     ]
    }
   ],
   "source": [
    "class shape:\n",
    "    def area(self):\n",
    "        pass\n",
    "    \n",
    "class circle(shape):\n",
    "    \n",
    "    def __init__(self,r):\n",
    "        self.r=r\n",
    "        \n",
    "    def area(self):\n",
    "        print(f\"area oof circle is {22/7*(self.r*self.r)}\")\n",
    "    \n",
    "class rectangle(shape):\n",
    "    def __init__(self,length,breadth):\n",
    "        self.length=length\n",
    "        self.breadth=breadth\n",
    "        \n",
    "    def area(self):\n",
    "        print(f\"area of ractangle is {self.length*self.breadth}\")\n",
    "        \n",
    "a=circle(r=5)\n",
    "b=rectangle(4,5)\n",
    "    \n",
    "a.area()\n",
    "b.area()"
   ]
  },
  {
   "cell_type": "code",
   "execution_count": null,
   "id": "e646636f-839f-4246-8588-0f6043ec8d99",
   "metadata": {},
   "outputs": [],
   "source": []
  },
  {
   "cell_type": "markdown",
   "id": "ffd5c794-681a-4d61-888c-5295d61855b8",
   "metadata": {},
   "source": [
    "# 12. Explain the use of abstract base classes (ABCs) in Python and how they relate to inheritance. Provide an example using the `abc` module."
   ]
  },
  {
   "cell_type": "code",
   "execution_count": 35,
   "id": "7c420e7c-fec9-426c-8775-8e995bd90a54",
   "metadata": {},
   "outputs": [
    {
     "name": "stdout",
     "output_type": "stream",
     "text": [
      "Circle Area: 78.5\n",
      "Circle Perimeter: 31.400000000000002\n",
      "Square Area: 16\n",
      "Square Perimeter: 16\n"
     ]
    },
    {
     "data": {
      "text/plain": [
       "'Shape is an abstract base class with two abstract methods: area and perimeter. Any concrete subclass of Shape must provide implementations for these methods.\\n\\nCircle and Square are concrete subclasses of Shape that provide implementations for the abstract methods area and perimeter.\\n\\nThe Circle and Square classes can be instantiated and used to calculate the area and perimeter of specific instances.\\n'"
      ]
     },
     "execution_count": 35,
     "metadata": {},
     "output_type": "execute_result"
    }
   ],
   "source": [
    "\n",
    "\"\"\"Abstract Base Classes (ABCs) in Python provide a way to define a common interface for a group of related classes. An abstract class cannot be instantiated on its own and is meant to be subclassed by concrete classes. ABCs often include abstract methods, which are methods declared in the abstract class but left without an implementation. Concrete subclasses are then required to provide implementations for these abstract methods.\n",
    "\n",
    "The abc module in Python provides the tools to work with abstract base classes. The ABC class in the abc module is used as a metaclass to define abstract classes, and the abstractmethod decorator is used to declare abstract methods.\n",
    "\n",
    "\"\"\"\n",
    "\n",
    "from abc import ABC, abstractmethod\n",
    "# Define an abstract base class (ABC)\n",
    "class Shape(ABC):\n",
    "    @abstractmethod\n",
    "    def area(self):\n",
    "        pass\n",
    "\n",
    "    @abstractmethod\n",
    "    def perimeter(self):\n",
    "        pass\n",
    "\n",
    "# Concrete class Circle that inherits from Shape\n",
    "class Circle(Shape):\n",
    "    def __init__(self, radius):\n",
    "        self.radius = radius\n",
    "\n",
    "    def area(self):\n",
    "        return 3.14 * self.radius**2\n",
    "\n",
    "    def perimeter(self):\n",
    "        return 2 * 3.14 * self.radius\n",
    "\n",
    "# Concrete class Square that inherits from Shape\n",
    "class Square(Shape):\n",
    "    def __init__(self, side_length):\n",
    "        self.side_length = side_length\n",
    "\n",
    "    def area(self):\n",
    "        return self.side_length**2\n",
    "\n",
    "    def perimeter(self):\n",
    "        return 4 * self.side_length\n",
    "\n",
    "# Usage example\n",
    "circle_instance = Circle(radius=5)\n",
    "square_instance = Square(side_length=4)\n",
    "\n",
    "print(\"Circle Area:\", circle_instance.area())\n",
    "print(\"Circle Perimeter:\", circle_instance.perimeter())\n",
    "\n",
    "print(\"Square Area:\", square_instance.area())\n",
    "print(\"Square Perimeter:\", square_instance.perimeter())\n",
    "\n",
    "\n",
    "\n",
    "\"\"\"Shape is an abstract base class with two abstract methods: area and perimeter. Any concrete subclass of Shape must provide implementations for these methods.\n",
    "\n",
    "Circle and Square are concrete subclasses of Shape that provide implementations for the abstract methods area and perimeter.\n",
    "\n",
    "The Circle and Square classes can be instantiated and used to calculate the area and perimeter of specific instances.\n",
    "\"\"\"\n"
   ]
  },
  {
   "cell_type": "markdown",
   "id": "839bca5c-ff64-450f-a24e-aa8e7eed7215",
   "metadata": {},
   "source": [
    "# 13. How can you prevent a child class from modifying certain attributes or methods inherited from a parent class in Python?"
   ]
  },
  {
   "cell_type": "code",
   "execution_count": 36,
   "id": "0c31f1ce-6c38-415d-9daa-c61b3db12a57",
   "metadata": {},
   "outputs": [
    {
     "name": "stdout",
     "output_type": "stream",
     "text": [
      "I'm protected!\n",
      "This is a protected method.\n",
      "I'm private!\n",
      "Modified!\n",
      "This is a protected method.\n"
     ]
    },
    {
     "data": {
      "text/plain": [
       "'In this example, the parent class (Parent) has a protected attribute (_protected_attribute) and a private attribute\\n(__private_attribute). It also has a protected method (_protected_method). The child class (Child) can modify the protected attribute \\nbut cannot directly modify the private attribute due to name mangling. Accessing the protected method from the parent class is allowed\\nin the child class.\\n'"
      ]
     },
     "execution_count": 36,
     "metadata": {},
     "output_type": "execute_result"
    }
   ],
   "source": [
    "\n",
    "\"\"\"In Python, you can prevent a child class from modifying certain attributes or methods inherited from a parent class by using\n",
    "encapsulation and access modifiers. Python uses naming conventions to indicate the visibility of attributes and methods. The conventions \n",
    "are:\n",
    "\n",
    "Single Underscore Prefix (_): By convention, a single leading underscore indicates that an attribute or method is intended for internal use.\n",
    "It's a hint to other developers that they should not modify or access it directly, but it doesn't prevent them from doing so.\n",
    "\n",
    "Double Underscore Prefix ( __ ): A double leading underscore invokes name mangling. It changes the name of the attribute or method to\n",
    "include the name of the class, making it harder for subclasses to accidentally override the parent class's attributes or methods.\n",
    "\"\"\"\n",
    "\n",
    "class Parent:\n",
    "    def __init__(self):\n",
    "        self._protected_attribute = \"I'm protected!\"\n",
    "        self.__private_attribute = \"I'm private!\"\n",
    "\n",
    "    def get_private_attribute(self):\n",
    "        return self.__private_attribute\n",
    "\n",
    "    def _protected_method(self):\n",
    "        print(\"This is a protected method.\")\n",
    "\n",
    "class Child(Parent):\n",
    "    def modify_attributes(self):\n",
    "        # Modifying the protected attribute is allowed\n",
    "        self._protected_attribute = \"Modified!\"\n",
    "\n",
    "        # Attempting to modify the private attribute will not work directly\n",
    "        # Uncommenting the next line will result in an AttributeError\n",
    "        # self.__private_attribute = \"Try to modify me!\"\n",
    "\n",
    "    def access_protected_method(self):\n",
    "        # Accessing the protected method is allowed\n",
    "        self._protected_method()\n",
    "\n",
    "# Example usage\n",
    "parent_instance = Parent()\n",
    "child_instance = Child()\n",
    "\n",
    "# Accessing protected attribute and method from the parent\n",
    "print(parent_instance._protected_attribute)  # Output: I'm protected!\n",
    "parent_instance._protected_method()           # Output: This is a protected method.\n",
    "\n",
    "# Attempting to access private attribute directly will result in an AttributeError\n",
    "# Uncommenting the next line will result in an AttributeError\n",
    "# print(parent_instance.__private_attribute)\n",
    "\n",
    "# Accessing private attribute using a getter method\n",
    "print(parent_instance.get_private_attribute())  # Output: I'm private!\n",
    "\n",
    "# Modifying attributes in the child class\n",
    "child_instance.modify_attributes()\n",
    "\n",
    "# Checking the modified attribute in the child class\n",
    "print(child_instance._protected_attribute)  # Output: Modified!\n",
    "\n",
    "# Accessing the protected method in the child class\n",
    "child_instance.access_protected_method()  # Output: This is a protected method.\n",
    "\n",
    "\n",
    "\n",
    "\"\"\"In this example, the parent class (Parent) has a protected attribute (_protected_attribute) and a private attribute\n",
    "(__private_attribute). It also has a protected method (_protected_method). The child class (Child) can modify the protected attribute \n",
    "but cannot directly modify the private attribute due to name mangling. Accessing the protected method from the parent class is allowed\n",
    "in the child class.\n",
    "\"\"\"\n"
   ]
  },
  {
   "cell_type": "markdown",
   "id": "af152536-1f2f-4ff4-a82b-234babb4c8e5",
   "metadata": {},
   "source": [
    "# 14. Create a Python class called `Employee` with attributes `name` and `salary`. Then, create a child class `Manager` that inherits from `Employee` and adds an attribute `department`. Provide an example.\n",
    "\n"
   ]
  },
  {
   "cell_type": "code",
   "execution_count": 37,
   "id": "7e6c184b-ccbc-47cb-8463-e3d3828af76c",
   "metadata": {},
   "outputs": [
    {
     "name": "stdout",
     "output_type": "stream",
     "text": [
      "employe info \n",
      "name raghu , salary 30000\n",
      " \n",
      " manager info \n",
      "name rahul , salary 50000 , department IT\n"
     ]
    }
   ],
   "source": [
    "class employee:\n",
    "    def __init__(self,name,salary):\n",
    "        self.name=name\n",
    "        self.salary=salary\n",
    "        \n",
    "    def info(self):\n",
    "        print(f\"name {self.name} , salary {self.salary}\")\n",
    "        \n",
    "class manager(employee):\n",
    "    \n",
    "    def __init__(self,name,salary,department):\n",
    "        super().__init__(name,salary)\n",
    "        self.department=department\n",
    "        \n",
    "    def info(self):\n",
    "        print(f\"name {self.name} , salary {self.salary} , department {self.department}\")\n",
    "        \n",
    "        \n",
    "a=employee(\"raghu\", 30000)\n",
    "b=manager(\"rahul\",50000,\"IT\")\n",
    "\n",
    "print(\"employe info \")\n",
    "a.info()\n",
    "\n",
    "print(\" \\n manager info \")\n",
    "b.info()"
   ]
  },
  {
   "cell_type": "markdown",
   "id": "e2898cc2-d444-4c96-8088-191db0f71167",
   "metadata": {},
   "source": [
    "# 15. Discuss the concept of method overloading in Python inheritance. How does it differ from method overriding?"
   ]
  },
  {
   "cell_type": "code",
   "execution_count": 38,
   "id": "007f387b-9a7e-44f5-803a-4ae6f7f3cfc6",
   "metadata": {},
   "outputs": [
    {
     "name": "stdout",
     "output_type": "stream",
     "text": [
      "1\n",
      "3\n",
      "6\n",
      "Generic animal sound\n",
      "Woof, woof!\n"
     ]
    },
    {
     "data": {
      "text/plain": [
       "'\\nIn this example, the Dog class inherits from the Animal class, and it overrides the make_sound method with its own implementation. \\nThe dog.make_sound() call invokes the overridden method in the Dog class\\n'"
      ]
     },
     "execution_count": 38,
     "metadata": {},
     "output_type": "execute_result"
    }
   ],
   "source": [
    "\"\"\"In Python, method overloading refers to the ability to define multiple methods with the same name in a class, but with a different\n",
    "number or type of parameters. However, Python does not support traditional method overloading, as is seen in some other programming\n",
    "languages (like Java or C++), where you can have multiple methods with the same name but different parameter lists.\n",
    "\n",
    "Instead, in Python, you can achieve a form of method overloading by using default values for parameters and allowing a method to handle\n",
    "different situations based on the number or type of arguments provided. Python's flexibility in handling different argument types and \n",
    "numbers allows for a dynamic approach to method overloading.\n",
    "\n",
    "Here's an example of method overloading in Python:\n",
    "\"\"\"\n",
    "\n",
    "class Calculator:\n",
    "    def add(self, a, b=None, c=None):\n",
    "        if b is not None and c is not None:\n",
    "            return a + b + c\n",
    "        elif b is not None:\n",
    "            return a + b\n",
    "        else:\n",
    "            return a\n",
    "\n",
    "# Example usage:\n",
    "calculator = Calculator()\n",
    "\n",
    "print(calculator.add(1))           # Output: 1\n",
    "print(calculator.add(1, 2))        # Output: 3\n",
    "print(calculator.add(1, 2, 3))     # Output: 6\n",
    "\n",
    "\n",
    "\"\"\"\n",
    "Method overriding, on the other hand, is a concept in object-oriented programming where a subclass provides a specific implementation \n",
    "for a method that is already defined in its superclass. The overridden method in the subclass has the same signature (name and parameters) \n",
    "as the method in the superclass.\n",
    "\"\"\"\n",
    "\n",
    "class Animal:\n",
    "    def make_sound(self):\n",
    "        print(\"Generic animal sound\")\n",
    "\n",
    "class Dog(Animal):\n",
    "    def make_sound(self):\n",
    "        print(\"Woof, woof!\")\n",
    "\n",
    "# Example usage:\n",
    "animal = Animal()\n",
    "dog = Dog()\n",
    "\n",
    "animal.make_sound()  # Output: Generic animal sound\n",
    "dog.make_sound()     # Output: Woof, woof!\n",
    "\n",
    "\n",
    "\"\"\"\n",
    "In this example, the Dog class inherits from the Animal class, and it overrides the make_sound method with its own implementation. \n",
    "The dog.make_sound() call invokes the overridden method in the Dog class\n",
    "\"\"\""
   ]
  },
  {
   "cell_type": "markdown",
   "id": "3434cb64-9667-4cd7-9f89-64b288319aed",
   "metadata": {},
   "source": [
    "# 16. Explain the purpose of the `__init__()` method in Python inheritance and how it is utilized in child classes."
   ]
  },
  {
   "cell_type": "code",
   "execution_count": 39,
   "id": "9cf26cac-48cc-41f7-95d7-602ee9373272",
   "metadata": {},
   "outputs": [
    {
     "name": "stdout",
     "output_type": "stream",
     "text": [
      "I am an animal of species Unknown\n",
      "I am an animal of species Canine\n",
      "I am a dog of breed Labrador\n"
     ]
    }
   ],
   "source": [
    "\n",
    "\"\"\"In Python, the __init__() method is a special method, also known as the constructor, which is automatically called when an object\n",
    "is created from a class. The purpose of the __init__() method is to initialize the attributes of an object with specified values or to \n",
    "perform any setup actions that are necessary for the object to function properly.\n",
    "\n",
    "When it comes to inheritance, the __init__() method is often used in both the parent class and its child classes. The child class can\n",
    "utilize the __init__() method to extend or override the initialization process of the parent class.\n",
    "\"\"\"\n",
    "\n",
    "class Animal:\n",
    "    def __init__(self, species):\n",
    "        self.species = species\n",
    "\n",
    "    def display_info(self):\n",
    "        print(f\"I am an animal of species {self.species}\")\n",
    "\n",
    "class Dog(Animal):\n",
    "    def __init__(self, species, breed):\n",
    "        # Call the constructor of the parent class (Animal)\n",
    "        super().__init__(species)\n",
    "        self.breed = breed\n",
    "\n",
    "    def display_info(self):\n",
    "        # Override the display_info method to include breed information\n",
    "        super().display_info()\n",
    "        print(f\"I am a dog of breed {self.breed}\")\n",
    "\n",
    "# Example usage:\n",
    "animal_instance = Animal(species=\"Unknown\")\n",
    "dog_instance = Dog(species=\"Canine\", breed=\"Labrador\")\n",
    "\n",
    "animal_instance.display_info()  # Output: I am an animal of species Unknown\n",
    "dog_instance.display_info()     # Output: I am an animal of species Canine\n",
    "                                #         I am a dog of breed Labrador\n",
    "\n",
    "    "
   ]
  },
  {
   "cell_type": "markdown",
   "id": "3386099b-0fed-47f9-a6c6-2f028a74a546",
   "metadata": {},
   "source": [
    "# 17. Create a Python class called `Bird` with a method `fly()`. Then, create child classes `Eagle` and `Sparrow` that inherit from `Bird` and implement the `fly()` method differently. Provide an example of using these classes."
   ]
  },
  {
   "cell_type": "code",
   "execution_count": 40,
   "id": "7f7a186c-cb7e-48bd-b4af-ecb23a2c2a31",
   "metadata": {},
   "outputs": [
    {
     "name": "stdout",
     "output_type": "stream",
     "text": [
      "eagle flyies\n",
      "sparrow flies\n"
     ]
    }
   ],
   "source": [
    "class bird:\n",
    "    def fly(self):\n",
    "        pass\n",
    "    \n",
    "class eagle(bird):\n",
    "    \n",
    "    def fly(self):\n",
    "        print(\"eagle flyies\")\n",
    "class sparrow(bird):       \n",
    "    def fly(self):\n",
    "        print(\"sparrow flies\")\n",
    "\n",
    "a= eagle()\n",
    "b=sparrow()\n",
    "a.fly()\n",
    "b.fly()"
   ]
  },
  {
   "cell_type": "markdown",
   "id": "f56e7332-b107-4f86-9c0f-3d7d26a31261",
   "metadata": {},
   "source": [
    "# 18. What is the \"diamond problem\" in multiple inheritance, and how does Python address it?"
   ]
  },
  {
   "cell_type": "code",
   "execution_count": 41,
   "id": "acb84e32-db33-4d64-a3b6-5a13c6d01d1c",
   "metadata": {},
   "outputs": [
    {
     "name": "stdout",
     "output_type": "stream",
     "text": [
      "Method in class C\n"
     ]
    },
    {
     "data": {
      "text/plain": [
       "'\\nIn this example:\\n\\nA is the base class with a method method.\\nB and C inherit from A.\\nD inherits from both B and C.\\nWhen d_instance.method() is called, Python uses the C3 linearization algorithm to determine the method resolution order (MRO). In this\\ncase, the MRO for class D is [D, B, C, A], indicating that it searches for methods first in D, then in B, then in C, and finally in A.\\nTherefore, it finds and uses the method from class C\\n'"
      ]
     },
     "execution_count": 41,
     "metadata": {},
     "output_type": "execute_result"
    }
   ],
   "source": [
    "\n",
    "\"\"\"The \"diamond problem\" is a challenge that arises in programming languages that support multiple inheritance, where a class inherits\n",
    "from two or more classes that have a common ancestor. This common ancestor creates ambiguity when a method or attribute is called on the\n",
    "derived class because it might be unclear which version of the method or attribute should be used.\n",
    "\n",
    "     A\n",
    "    / \\\n",
    "   B   C\n",
    "    \\ /\n",
    "     D\n",
    "\n",
    "        Here, classes B and C both inherit from A, and class D inherits from both B and C. If there is a method or attribute defined in\n",
    "        class A, it may be unclear which version of that method or attribute should be inherited by class D.\n",
    "\n",
    "Python addresses the diamond problem through a mechanism called \"C3 linearization\" or \"C3 superclass linearization.\" The linearization \n",
    "algorithm determines the order in which base classes are considered when searching for a method or attribute. This order is based on the \n",
    "class hierarchy and respects the \"depth-first, left-to-right\" rule.\n",
    "\"\"\"\n",
    "class A:\n",
    "    def method(self):\n",
    "        print(\"Method in class A\")\n",
    "\n",
    "class B(A):\n",
    "    pass\n",
    "\n",
    "class C(A):\n",
    "    def method(self):\n",
    "        print(\"Method in class C\")\n",
    "\n",
    "class D(B, C):\n",
    "    pass\n",
    "\n",
    "# Example usage:\n",
    "d_instance = D()\n",
    "d_instance.method()  # Output: Method in class C\n",
    "\n",
    "\n",
    "\"\"\"\n",
    "In this example:\n",
    "\n",
    "A is the base class with a method method.\n",
    "B and C inherit from A.\n",
    "D inherits from both B and C.\n",
    "When d_instance.method() is called, Python uses the C3 linearization algorithm to determine the method resolution order (MRO). In this\n",
    "case, the MRO for class D is [D, B, C, A], indicating that it searches for methods first in D, then in B, then in C, and finally in A.\n",
    "Therefore, it finds and uses the method from class C\n",
    "\"\"\""
   ]
  },
  {
   "cell_type": "markdown",
   "id": "2727c13b-cba8-444a-91ab-aa7cc90b594f",
   "metadata": {},
   "source": [
    "# 19. Discuss the concept of \"is-a\" and \"has-a\" relationships in inheritance, and provide examples of each."
   ]
  },
  {
   "cell_type": "code",
   "execution_count": 42,
   "id": "2fbe6055-8168-4bb0-bc1a-ca76101d96e3",
   "metadata": {},
   "outputs": [
    {
     "data": {
      "text/plain": [
       "'\\nIn this example, the Car class has a member variable engine, which is an instance of the Engine class. The Car \"has-a\" relationship \\nwith Engine, indicating that a Car contains an Engine'"
      ]
     },
     "execution_count": 42,
     "metadata": {},
     "output_type": "execute_result"
    }
   ],
   "source": [
    "\"\"\"In object-oriented programming, \"is-a\" and \"has-a\" relationships are two types of relationships between classes that are often used \n",
    "in the context of inheritance and composition.\n",
    "\n",
    "\"Is-a\" Relationship (Inheritance):\n",
    "\n",
    "An \"is-a\" relationship represents a relationship between a more general class (superclass or base class) and a more specialized class \n",
    "(subclass or derived class).\n",
    "The subclass \"is-a\" type of the superclass, indicating a hierarchical relationship.\n",
    "Inheritance is commonly used to model \"is-a\" relationships.\"\"\"\n",
    "\n",
    "\n",
    "class Animal:\n",
    "    def speak(self):\n",
    "        print(\"Generic animal sound\")\n",
    "\n",
    "class Dog(Animal):\n",
    "    def bark(self):\n",
    "        print(\"Woof, woof!\")\n",
    "\n",
    "# Dog is a type of Animal, representing an \"is-a\" relationship\n",
    "\n",
    "\"\"\"\n",
    "In this example, Dog inherits from Animal, indicating that a Dog \"is-a\" type of Animal. The Dog class inherits the speak method from the \n",
    "Animal class.\n",
    "\"\"\"\n",
    "\n",
    "\"\"\"\n",
    "\n",
    "\"Has-a\" Relationship (Composition):\n",
    "\n",
    "\n",
    "A \"has-a\" relationship represents a relationship where one class contains an instance of another class as a member.\n",
    "Composition is used to model \"has-a\" relationships.\n",
    "\"\"\"\n",
    "\n",
    "class Engine:\n",
    "    def start(self):\n",
    "        print(\"Engine started\")\n",
    "\n",
    "class Car:\n",
    "    def __init__(self):\n",
    "        self.engine = Engine()\n",
    "\n",
    "    def drive(self):\n",
    "        print(\"Car is moving\")\n",
    "\n",
    "# Car has an Engine, representing a \"has-a\" relationship\n",
    "\n",
    "\"\"\"\n",
    "In this example, the Car class has a member variable engine, which is an instance of the Engine class. The Car \"has-a\" relationship \n",
    "with Engine, indicating that a Car contains an Engine\"\"\"\n"
   ]
  },
  {
   "cell_type": "code",
   "execution_count": null,
   "id": "1b5e03a7-4f36-41df-bb97-0d5173597028",
   "metadata": {},
   "outputs": [],
   "source": []
  },
  {
   "cell_type": "markdown",
   "id": "f72f7988-21a0-4099-8fb6-d6007648845b",
   "metadata": {},
   "source": [
    "# 20. Create a Python class hierarchy for a university system. Start with a base class `Person` and create child classes `Student` and `Professor`, each with their own attributes and methods. Provide an example of using these classes in a university context."
   ]
  },
  {
   "cell_type": "code",
   "execution_count": 43,
   "id": "0bf296f8-10f7-4294-9e19-44663f706974",
   "metadata": {},
   "outputs": [
    {
     "name": "stdout",
     "output_type": "stream",
     "text": [
      "\n",
      "student information:\n",
      "name  raju,  age 25, \n",
      "student_id 3453434\n",
      "raju is studying\n",
      "\n",
      "employee information:\n",
      "name raghul, age 45, \n",
      "employee _id 45645\n",
      "raghul is teaching\n"
     ]
    }
   ],
   "source": [
    "class person:\n",
    "    def __init__(self,name,age):\n",
    "        self.name=name\n",
    "        self.age=age\n",
    "    def info(self):\n",
    "        print(f\"name  {self.name} age  {self.age}\")\n",
    "        \n",
    "        \n",
    "class students(person):\n",
    "    \n",
    "    def __init__(self,name,age,student_id):\n",
    "        super().__init__(name,age)\n",
    "        self.student_id=student_id\n",
    "        \n",
    "        \n",
    "    def info(self):\n",
    "        print(f\"name  { self.name },  age {self.age}, \\nstudent_id {self.student_id}\")\n",
    "        \n",
    "        \n",
    "    def study(self):\n",
    "        print(f\"{self.name} is studying\")\n",
    "        \n",
    "class professors(person):\n",
    "    \n",
    "    def __init__(self,name,age,employee_id):\n",
    "        \n",
    "        super().__init__(name,age)\n",
    "        self.employee_id=employee_id\n",
    "        \n",
    "        \n",
    "    def info(self):\n",
    "        print(f\"name { self.name }, age {self.age}, \\nemployee _id {self.employee_id}\")\n",
    "        \n",
    "    def teach(self):\n",
    "        print(f\"{self.name} is teaching\")\n",
    "        \n",
    "a=person(\"meraj\",20)\n",
    "b=students(\"raju\",25,3453434)\n",
    "c=professors(\"raghul\",45,45645)\n",
    "\n",
    "#a.info()\n",
    "print(\"\\nstudent information:\")\n",
    "b.info()\n",
    "b.study()\n",
    "print(\"\\nemployee information:\")\n",
    "c.info()\n",
    "c.teach()"
   ]
  },
  {
   "cell_type": "markdown",
   "id": "525655a1-1e71-4e0e-ab79-b6af0f904e44",
   "metadata": {},
   "source": [
    "# Encapsulation:"
   ]
  },
  {
   "cell_type": "code",
   "execution_count": null,
   "id": "a1b6d082-2564-42a0-be77-05b500c7fcf6",
   "metadata": {},
   "outputs": [],
   "source": []
  },
  {
   "cell_type": "markdown",
   "id": "627e41df-3fff-45ce-8658-371c53c8d8ba",
   "metadata": {},
   "source": [
    "# 1. Explain the concept of encapsulation in Python. What is its role in object-oriented programming?\n"
   ]
  },
  {
   "cell_type": "code",
   "execution_count": 44,
   "id": "832dad4a-00de-4ed8-9dff-a085c2bd67b2",
   "metadata": {},
   "outputs": [],
   "source": [
    "\"\"\"in Python, encapsulation is a fundamental concept of object-oriented programming (OOP) that involves bundling data \n",
    "(attributes or properties) and the methods (functions or procedures) that operate on the data into a single unit called a class.\n",
    "The primary purpose of encapsulation is to hide the implementation details of a class from the external world and to control \n",
    "access to the internal members of the class.\n",
    "\n",
    "Access Control:\n",
    "\n",
    "Access control in Python is achieved through the use of access modifiers. Python provides three access modifiers: public, \n",
    "private, and protected.\n",
    "\n",
    "Public members are accessible from outside the class. They can be accessed and modified directly.\n",
    "\"\"\"\n",
    "\n",
    "class MyClass:\n",
    "    def __init__(self, public_attribute):\n",
    "        self.public_attribute = public_attribute\n",
    "\n",
    "\"\"\"Private members are denoted by a double underscore __ prefix. They are not directly accessible from outside the class\"\"\"\n",
    "\n",
    "class MyClass:\n",
    "    def __init__(self, private_attribute):\n",
    "        self.__private_attribute = private_attribute\n",
    "\n",
    "\"\"\"Protected members are denoted by a single underscore _ prefix. They have limited access, similar to private members, \n",
    "but can be accessed in derived classes\n",
    "\"\"\"\n",
    "\n",
    "class MyClass:\n",
    "    def __init__(self, _protected_attribute):\n",
    "        self._protected_attribute = _protected_attribute\n",
    "\n",
    "        \"\"\"\n",
    "Methods for Controlled Access:\n",
    "\n",
    "Access to private members is often controlled through methods known as getters and setters. Getters are used to\n",
    "retrieve the values of private attributes, and setters are used to modify them.\n",
    "\"\"\"\n",
    "        \n",
    "        \n",
    "class MyClass:\n",
    "    def __init__(self, private_attribute):\n",
    "        self.__private_attribute = private_attribute\n",
    "\n",
    "    def get_private_attribute(self):\n",
    "            return self.__private_attribute\n",
    "\n",
    "    def set_private_attribute(self, new_value):\n",
    "        self.__private_attribute = new_value\n"
   ]
  },
  {
   "cell_type": "markdown",
   "id": "63fe468f-cf1a-4091-aad8-d961aa809700",
   "metadata": {},
   "source": [
    "# 2. Describe the key principles of encapsulation, including access control and data hiding.\n",
    "\n",
    "\n"
   ]
  },
  {
   "cell_type": "markdown",
   "id": "9d092b30-b1d8-453d-af84-4eaf80e41ae8",
   "metadata": {},
   "source": [
    "Encapsulation is one of the fundamental principles of object-oriented programming (OOP) and is crucial for building modular and maintainable software.\n",
    "It involves bundling the data (attributes or properties) and the methods (functions or procedures) that operate on the data into a single unit known\n",
    "as a class. The key principles of encapsulation include access control and data hiding.\n",
    "\n",
    "Access Control:\n",
    "\n",
    "Public Access (Public Members): Members (attributes and methods) marked as public are accessible from outside the class. This means\n",
    "that they can be \n",
    "accessed and modified directly by objects of the class.\n",
    "\n",
    "Private Access (Private Members): Members marked as private are not accessible from outside the class. They can only be accessed \n",
    "and modified by methods within the same class. This provides a level of security and prevents external code from directly \n",
    "manipulating the internal state of the object.\n",
    "\n",
    "Protected Access (Protected Members): Members marked as protected are similar to private members but have limited access to \n",
    "derived classes (subclasses). They are not accessible from outside the class or its derived classes.\n",
    "\n",
    "Accessors (Getters) and Mutators (Setters): To control access to private members, classes often provide accessor methods (getters)\n",
    "to retrieve the values and mutator methods (setters) to modify the values. This allows controlled and validated access to the internal state of an object.\n",
    "\n",
    "Data Hiding:\n",
    "\n",
    "Private Implementation Details: Encapsulation allows the hiding of the internal details of a class from the external world. \n",
    "The private members are not directly accessible, providing a level of abstraction and preventing external code from relying on the internal implementation.\n",
    "\n",
    "Modularity: By encapsulating the data and methods within a class, changes to the internal implementation can be made without affecting the external code that uses the class. This promotes modularity and allows for easier maintenance and updates.\n",
    "\n",
    "Reduced Complexity: Encapsulation reduces complexity by exposing only what is necessary and relevant to the outside world. \n",
    "Users of a class do not need to know the intricate details of its implementation; they interact with the class through its\n",
    "public interface."
   ]
  },
  {
   "cell_type": "code",
   "execution_count": null,
   "id": "e71d8073-edaa-4ca2-9bd4-98c8aae8393d",
   "metadata": {},
   "outputs": [],
   "source": []
  },
  {
   "cell_type": "markdown",
   "id": "fd12917d-c2e9-4c7d-bbb2-5de6c87bf6e7",
   "metadata": {},
   "source": [
    "# 3. How can you achieve encapsulation in Python classes? Provide an example.\n"
   ]
  },
  {
   "cell_type": "code",
   "execution_count": 45,
   "id": "805ee71b-06a5-465e-9479-75e03ebe1689",
   "metadata": {},
   "outputs": [
    {
     "name": "stdout",
     "output_type": "stream",
     "text": [
      "rahul\n",
      "30\n"
     ]
    }
   ],
   "source": [
    "# public\n",
    "class person:\n",
    "    def __init__(self,name,age):\n",
    "        self.name=name\n",
    "        self.age=age\n",
    "a=person(\"rahul\",30) \n",
    "\n",
    "print(a.name)\n",
    "print(a.age)     # here we r able to get name and age from outside the clss\n",
    "\n",
    "\n"
   ]
  },
  {
   "cell_type": "code",
   "execution_count": 46,
   "id": "472e2cb7-42c7-43ab-901a-7e841d6524db",
   "metadata": {},
   "outputs": [
    {
     "name": "stdout",
     "output_type": "stream",
     "text": [
      "name and age is private variable \n"
     ]
    }
   ],
   "source": [
    "# prvate \n",
    "try:\n",
    "    class person:\n",
    "        def __init__(self,name,age):\n",
    "            self.__name=name\n",
    "            self.__age=age\n",
    "    a=person(\"rahul\",30) \n",
    "\n",
    "    print(a.name)\n",
    "    print(a.age) \n",
    "except:\n",
    "    print(\"name and age is private variable \")\n",
    "\n",
    "    \n",
    "    # here we can see this we could not able to find name ang age from outside the clss "
   ]
  },
  {
   "cell_type": "code",
   "execution_count": 47,
   "id": "79089fd3-8148-40b6-9b04-639aeb0854a6",
   "metadata": {},
   "outputs": [
    {
     "name": "stdout",
     "output_type": "stream",
     "text": [
      "John\n",
      "25\n",
      "Name: John, Age: 30\n",
      "Invalid age\n",
      "Name: John, Age: 30\n"
     ]
    }
   ],
   "source": [
    "class Person:\n",
    "    def __init__(self, name, age):\n",
    "        self.name = name            # Public attribute\n",
    "        self.__age = age            # Private attribute\n",
    "\n",
    "    def get_age(self):\n",
    "        return self.__age          # Getter method for private attribute\n",
    "\n",
    "    def set_age(self, new_age):\n",
    "        if 0 < new_age < 120:       # Validation before setting the new age\n",
    "            self.__age = new_age\n",
    "        else:\n",
    "            print(\"Invalid age\")\n",
    "\n",
    "    def display_info(self):\n",
    "        print(f\"Name: {self.name}, Age: {self.__age}\")\n",
    "\n",
    "\n",
    "# Creating an instance of the Person class\n",
    "person1 = Person(\"John\", 25)\n",
    "\n",
    "# Accessing public attribute directly\n",
    "print(person1.name)               # Output: John\n",
    "\n",
    "# Accessing private attribute using getter method\n",
    "print(person1.get_age())           # Output: 25\n",
    "\n",
    "# Attempting to access private attribute directly (will result in an error)\n",
    "# print(person1.__age)             # This line would result in an AttributeError\n",
    "\n",
    "# Modifying private attribute using setter method\n",
    "person1.set_age(30)\n",
    "person1.display_info()             # Output: Name: John, Age: 30\n",
    "\n",
    "# Attempting to set an invalid age\n",
    "person1.set_age(150)               # Output: Invalid age\n",
    "person1.display_info()             # Output: Name: John, Age: 30 (unchanged due to invalid age)\n"
   ]
  },
  {
   "cell_type": "markdown",
   "id": "aa62738c-3d53-4f96-876a-31ca79085c00",
   "metadata": {},
   "source": [
    "# 4. Discuss the difference between public, private, and protected access modifiers in Python."
   ]
  },
  {
   "cell_type": "code",
   "execution_count": 48,
   "id": "a5e8f0b3-238c-44bd-8802-b384c1c12b00",
   "metadata": {},
   "outputs": [
    {
     "name": "stdout",
     "output_type": "stream",
     "text": [
      "20\n",
      "this is private no \n"
     ]
    }
   ],
   "source": [
    "#Public members are accessible from outside the class. They can be accessed and modified directly.\n",
    "\n",
    "\"\"\"public variable can be accss from outside the class thet can  also be modified \n",
    "there is no special syntax for public variable \"\"\"\n",
    "\n",
    "class MyClass:\n",
    "    def __init__(self):\n",
    "        self.public_number = 20\n",
    "\n",
    "obj = MyClass()\n",
    "\n",
    "print(obj.public_number)\n",
    "\"\"\"\n",
    "Private members are denoted by a double underscore (__) prefix before the member name.\n",
    "\n",
    " Private members are not directly accessible from outside the class. They can only be accessed and modified\n",
    "within the class itself.\"\"\"\n",
    "\n",
    "class MyClass:\n",
    "    def __init__(self):\n",
    "        self.__private_number = 20\n",
    "\n",
    "obj = MyClass()\n",
    "# Attempting to access a private member directly results in an AttributeError\n",
    "try:\n",
    "    print(obj.__private_number)\n",
    "except:\n",
    "    print(\"this is private no \")\n",
    "    \n",
    "    "
   ]
  },
  {
   "cell_type": "code",
   "execution_count": 49,
   "id": "7bc157ca-9aeb-4cbc-9956-3bc4c339b331",
   "metadata": {},
   "outputs": [
    {
     "name": "stdout",
     "output_type": "stream",
     "text": [
      "30\n"
     ]
    }
   ],
   "source": [
    "# protected \n",
    "\n",
    "class MyClass:\n",
    "    def __init__(self):\n",
    "        self._protected_member = 30\n",
    "\n",
    "class DerivedClass(MyClass):\n",
    "    def display_protected_member(self):\n",
    "        # Protected member can be accessed in a derived class\n",
    "        print(self._protected_member)\n",
    "\n",
    "obj = MyClass()\n",
    "derived_obj = DerivedClass()\n",
    "# Attempting to access a protected member directly from outside the class results in an AttributeError\n",
    "# print(obj._protected_member)\n",
    "derived_obj.display_protected_member()  # Accessing a protected member in a derived class\n"
   ]
  },
  {
   "cell_type": "markdown",
   "id": "ad49b9a9-3eff-4c3a-b9d2-f968314bbe39",
   "metadata": {},
   "source": [
    "# 5. Create a Python class called `Person` with a private attribute `__name`. Provide methods to get and set the name attribute."
   ]
  },
  {
   "cell_type": "code",
   "execution_count": 50,
   "id": "12b4d4fe-e5af-4f3b-8e21-b560a78e69dd",
   "metadata": {},
   "outputs": [
    {
     "name": "stdout",
     "output_type": "stream",
     "text": [
      "name before meraj\n",
      "set name to rahul None\n",
      "name after  rahul\n"
     ]
    }
   ],
   "source": [
    "class person:\n",
    "    def __init__(self,name):\n",
    "        self.__name=name\n",
    "        \n",
    "    def get_name(self):\n",
    "        return self.__name\n",
    "        \n",
    "    def set_name(self,value):\n",
    "         self.__name=value\n",
    "            \n",
    "a=person(\"meraj\") \n",
    "print(\"name before\",a.get_name())\n",
    "print(\"set name to rahul\",a.set_name(\"rahul\"))\n",
    "print(\"name after \",a.get_name())"
   ]
  },
  {
   "cell_type": "markdown",
   "id": "531ff74b-25fd-4ab2-afb2-c53f52039598",
   "metadata": {},
   "source": [
    "# 6. Explain the purpose of getter and setter methods in encapsulation. Provide examples."
   ]
  },
  {
   "cell_type": "code",
   "execution_count": 51,
   "id": "26103717-27b5-4a70-9be9-30d0af0b65c1",
   "metadata": {},
   "outputs": [
    {
     "name": "stdout",
     "output_type": "stream",
     "text": [
      "Name: meraj\n",
      "Age: 20\n"
     ]
    }
   ],
   "source": [
    "\"\"\"Getter and setter methods play a crucial role in encapsulation by providing controlled access to the private attributes of a class.\n",
    "They allow indirect access to the internal state of an object, enabling validation, manipulation, and encapsulation of the \n",
    "implementation details. Here's an explanation of the purpose of getter and setter methods along with examples:\n",
    "\n",
    "Purpose of Getter Methods:\n",
    "Accessing Private Attributes: Getter methods are used to retrieve the values of private attributes. Since private attributes \n",
    "cannot be accessed directly from outside the class, getter methods act as a means to access them indirectly.\n",
    "\n",
    "Encapsulation: By using getter methods, the internal details of the class can remain hidden, and the implementation can be \n",
    "modified without affecting external code that relies on the public interface.\"\"\"\n",
    "\n",
    "\n",
    "class Student:\n",
    "    def __init__(self, name, age):\n",
    "        self.__name = name  # Private attribute\n",
    "        self.__age = age    # Private attribute\n",
    "\n",
    "    def get_name(self):\n",
    "        return self.__name\n",
    "\n",
    "    def get_age(self):\n",
    "        return self.__age\n",
    "\n",
    "# Creating an instance of the Student class\n",
    "student1 = Student(\"meraj\", 20)\n",
    "\n",
    "# Accessing private attributes using getter methods\n",
    "print(\"Name:\", student1.get_name())  # Output: Name: Alice\n",
    "print(\"Age:\", student1.get_age())    # Output: Age: 20\n"
   ]
  },
  {
   "cell_type": "markdown",
   "id": "e4a612d8-0be5-4848-97c4-18058dc5f3d2",
   "metadata": {},
   "source": [
    "# 7. What is name mangling in Python, and how does it affect encapsulation?"
   ]
  },
  {
   "cell_type": "code",
   "execution_count": 52,
   "id": "9f3b0d3c-fdf5-4b7c-ba50-700ab5bc3f16",
   "metadata": {},
   "outputs": [
    {
     "name": "stdout",
     "output_type": "stream",
     "text": [
      "Private attribute value: 42\n",
      "Private attribute value from subclass: 42\n",
      "Private attribute value from subclass: 42\n"
     ]
    }
   ],
   "source": [
    "\"\"\"Name mangling in Python is a mechanism that adds a prefix to the names of attributes in a class to make them less likely to \n",
    "accidentally conflict with names in subclasses. This is achieved by adding a double underscore (__) as a prefix to attribute \n",
    "names within a class. The purpose of name mangling is to make it more challenging to access or override these attributes from \n",
    "outside the class, even in subclasses.\n",
    "\n",
    "When you declare an attribute in a class with a double underscore prefix, Python internally changes the name of the attribute to \n",
    "include the name of the class. This process is called name mangling. The format of the mangled name is _classname__attribute.\n",
    "\"\"\"\n",
    "\n",
    "class MyClass:\n",
    "    def __init__(self):\n",
    "        self.__private_attribute = 42\n",
    "\n",
    "    def get_private_attribute(self):\n",
    "        return self.__private_attribute\n",
    "\n",
    "class MySubclass(MyClass):\n",
    "    def modify_private_attribute(self, new_value):\n",
    "        # Attempting to modify the private attribute from a subclass\n",
    "        self.__private_attribute = new_value\n",
    "\n",
    "# Creating an instance of MyClass\n",
    "obj = MyClass()\n",
    "\n",
    "# Accessing the private attribute using a getter method\n",
    "print(\"Private attribute value:\", obj.get_private_attribute())  # Output: Private attribute value: 42\n",
    "\n",
    "# Attempting to access the private attribute directly from outside the class\n",
    "# This will result in an AttributeError since the name is mangled\n",
    "# print(obj.__private_attribute)\n",
    "\n",
    "# Creating an instance of MySubclass\n",
    "sub_obj = MySubclass()\n",
    "\n",
    "# Attempting to modify the private attribute from a subclass\n",
    "# This will create a new attribute in the subclass, not modifying the one in the superclass\n",
    "sub_obj.modify_private_attribute(100)\n",
    "\n",
    "# Accessing the private attribute using the getter method from the subclass\n",
    "# This will still access the private attribute in the superclass\n",
    "print(\"Private attribute value from subclass:\", sub_obj.get_private_attribute())\n",
    "print(\"Private attribute value from subclass:\", sub_obj.get_private_attribute())\n",
    "# Output: Private attribute value from subclass: 42\n",
    "\n"
   ]
  },
  {
   "cell_type": "markdown",
   "id": "0b452933-8468-4f32-98d2-f21622cd6cc9",
   "metadata": {},
   "source": [
    "# 8. Create a Python class called `BankAccount` with private attributes for the account balance (`__balance`) and account number  (`__account_number`). Provide methods for depositing and withdrawing money.\n"
   ]
  },
  {
   "cell_type": "code",
   "execution_count": 53,
   "id": "e4599cca-a591-463f-b4e8-c29be1660592",
   "metadata": {},
   "outputs": [
    {
     "name": "stdout",
     "output_type": "stream",
     "text": [
      "bal before deposite 5000\n",
      "2000 deposited. New balance: 7000\n",
      "bal after deposite 7000\n",
      "amount withdraw : 5000\n",
      "new balance 2000\n"
     ]
    }
   ],
   "source": [
    "class bankaccount:\n",
    "    def __init__(self,account_no,account_bal):\n",
    "        self.__account_no=account_no\n",
    "        self.__account_bal= account_bal\n",
    "        \n",
    "    def deposite(self,amount):\n",
    "        self.__account_bal=self.__account_bal+amount\n",
    "        return  self.__account_bal\n",
    "    \n",
    "    def withdraw (self,amount):\n",
    "        if amount<=self.__account_bal:\n",
    "            self.__account_bal -= amount\n",
    "         #  self.__account_bal=self.__account_bal-amount\n",
    "        \n",
    "           \n",
    "        else:\n",
    "            print(\"insufficient bal\")\n",
    "            \n",
    "    def get_bal(self):\n",
    "        return self.__account_bal\n",
    "            \n",
    "        \n",
    "        \n",
    "a=bankaccount(1123456,5000)        \n",
    "print(\"bal before deposite\",a.get_bal())    \n",
    "print(\"2000 deposited. New balance:\", a.deposite(2000))\n",
    "print(\"bal after deposite\",a.get_bal())\n",
    "\n",
    "print(\"amount withdraw : 5000\")\n",
    "a.withdraw(5000)\n",
    "print(\"new balance\",a.get_bal())"
   ]
  },
  {
   "cell_type": "markdown",
   "id": "0755cf61-7e35-4a29-b63c-1aed870abb88",
   "metadata": {},
   "source": [
    "# 9. Discuss the advantages of encapsulation in terms of code maintainability and security."
   ]
  },
  {
   "cell_type": "markdown",
   "id": "f01e33ab-fa6f-40c8-ae19-74950f782dcc",
   "metadata": {},
   "source": [
    "Code Maintainability:\n",
    "\n",
    "Modularity: Encapsulation allows you to bundle data (attributes) and methods (functions) that operate on that data into a single unit, known as a class. This promotes modularity, making it easier to manage and organize code. Each class becomes a self-contained module with a well-defined interface.\n",
    "\n",
    "Ease of Modification: The internal implementation details of a class can be changed without affecting the external code that uses the class. This is because external code interacts with the class through its public interface, and the encapsulated details remain hidden.\n",
    "\n",
    "Readability and Understandability: By encapsulating data and methods, the code becomes more readable and understandable. Classes provide a clear structure, making it easier for developers to comprehend and work with the codebase.\n",
    "\n",
    "Security:\n",
    "\n",
    "Access Control: Encapsulation allows you to control access to the internal members of a class. By marking certain members as private or protected, you limit direct access from outside the class. This helps prevent unintended interference with the internal state of objects, reducing the risk of bugs and unexpected behavior.\n",
    "\n",
    "Data Hiding: Encapsulation enables data hiding, where the internal details of a class are kept hidden from external code. Private attributes can only be accessed and modified through controlled methods (getters and setters), allowing for validation and maintaining the integrity of the data.\n",
    "\n",
    "Abstraction: Encapsulation provides a level of abstraction by exposing only the essential features of a class and hiding the implementation details. This abstraction reduces complexity and allows developers to focus on using the class without being concerned about its internal workings.\n",
    "\n",
    "Flexibility and Extensibility:\n",
    "\n",
    "Encapsulation in Inheritance: Inheritance, another OOP concept, often works well with encapsulation. Derived classes (subclasses) can inherit the encapsulated features of a base class, providing a mechanism for code reuse and extension. The base class can evolve independently, and changes in the base class don't necessarily impact derived classes.\n",
    "\n",
    "Encapsulation in Composition: Encapsulation supports composition, where objects of one class can be used as components in another class. This promotes a flexible and modular design, allowing for the creation of complex systems through the composition of simpler, encapsulated components."
   ]
  },
  {
   "cell_type": "markdown",
   "id": "dc0845b8-e08a-478e-813a-9795c969a1bb",
   "metadata": {},
   "source": [
    "# 10. How can you access private attributes in Python? Provide an example demonstrating the use of name mangling."
   ]
  },
  {
   "cell_type": "code",
   "execution_count": 54,
   "id": "c3420f61-3c9a-4d65-acf8-33ac435d5d23",
   "metadata": {},
   "outputs": [
    {
     "name": "stdout",
     "output_type": "stream",
     "text": [
      "Direct access to private attribute: 42\n",
      "Accessing private attribute using a getter: 42\n"
     ]
    }
   ],
   "source": [
    "\"\"\"\n",
    "In Python, private attributes are denoted by a double underscore (__) prefix. While it is generally not recommended to directly access private attributes from outside the class, it is still possible to do so using a technique called name mangling. Name mangling involves modifying the names of private attributes to make them less accessible.\n",
    "In Python, private attributes are denoted by a double underscore (__) prefix. While it is generally not recommended to directly access private attributes from outside the class, it is still possible to do so using a technique called name mangling. Name mangling involves modifying the names of private attributes to make them less accessible.\n",
    "\n",
    "\n",
    "\"\"\"\n",
    "\n",
    "class MyClass:\n",
    "    def __init__(self):\n",
    "        self.__private_attribute = 42\n",
    "\n",
    "# Creating an instance of MyClass\n",
    "obj = MyClass()\n",
    "\n",
    "# Accessing the private attribute directly (not recommended)(name mangling )\n",
    "print(\"Direct access to private attribute:\", obj._MyClass__private_attribute)\n",
    "\n",
    "\n",
    "\"\"\"the better way is this\"\"\"\n",
    "    \n",
    "class MyClass:\n",
    "    def __init__(self):\n",
    "        self.__private_attribute = 42\n",
    "\n",
    "    def get_private_attribute(self):\n",
    "        return self.__private_attribute\n",
    "\n",
    "# Creating an instance of MyClass\n",
    "obj = MyClass()\n",
    "\n",
    "# Accessing the private attribute using a getter method\n",
    "print(\"Accessing private attribute using a getter:\", obj.get_private_attribute())\n"
   ]
  },
  {
   "cell_type": "markdown",
   "id": "e61e91dc-d7fe-46bb-a953-f646b9778360",
   "metadata": {},
   "source": [
    "# 11. Create a Python class hierarchy for a school system, including classes for students, teachers, and courses, and implement encapsulation principles to protect sensitive information."
   ]
  },
  {
   "cell_type": "code",
   "execution_count": 55,
   "id": "a2e706d4-a063-47e0-b371-4307b86cd330",
   "metadata": {},
   "outputs": [
    {
     "name": "stdout",
     "output_type": "stream",
     "text": [
      "student name :  meraj\n",
      "teacher name :  tanya\n",
      "course name :  Mathematics\n",
      "course teacher :  tanya\n",
      "course student :  [<__main__.student object at 0x0000019BA0CB6C10>]\n",
      "Course Students: ['meraj']\n",
      "\n",
      "modified student_id : 321\n",
      "modified teacher id : 543\n",
      "modified course name : math\n"
     ]
    }
   ],
   "source": [
    "class person:\n",
    "    def __init__(self,name,age):\n",
    "        self.__name=name\n",
    "        self.__age=age\n",
    "\n",
    "    def get_name(self):\n",
    "        return self.__name\n",
    "    def get_age(self):\n",
    "        return self.__age\n",
    "    \n",
    "class student(person):\n",
    "    def __init__(self,name,age,student_id):\n",
    "        super().__init__(name,age)\n",
    "        self.__student_id=student_id\n",
    "        \n",
    "    def get_student_id(self):\n",
    "        return  self.__student_id\n",
    "    \n",
    "    def set_student_id(self,value):\n",
    "          self.__student_id= value\n",
    "                    \n",
    "class teacher(person):\n",
    "    def __init__(self,name,age,employee_id):\n",
    "        super().__init__(name,age)\n",
    "        self.__employee_id=employee_id\n",
    "        \n",
    "    def get_employee_id(self):\n",
    "        return  self.__employee_id\n",
    "    \n",
    "    def set_employee_id(self,value):\n",
    "         self.__employee_id= value\n",
    "\n",
    "            \n",
    "class course:\n",
    "    def __init__(self, course_name, course_code):\n",
    "        self.__course_name=course_name\n",
    "        self.__course_code=course_code\n",
    "        self.__students=[]\n",
    "        self.teachers= None\n",
    "        \n",
    "    def get_course_name(self):\n",
    "        return  self.__course_name\n",
    "    \n",
    "    def set_course_name(self,new_name):        \n",
    "        self.__course_name= new_name\n",
    "        \n",
    "    def get_course_code(self):\n",
    "        return self.__course_code\n",
    "    \n",
    "    def set_course_code(self,new_course_code):\n",
    "         self.__course_code=new_course_code\n",
    "        \n",
    "    def get_students(self):\n",
    "        return self.__students\n",
    "\n",
    "    def add_student(self, student):\n",
    "        self.__students.append(student)\n",
    "\n",
    "    def get_teacher(self):\n",
    "        return self.__teacher\n",
    "\n",
    "    def set_teacher(self, teacher):\n",
    "        self.__teacher = teacher  \n",
    " # creating obj\n",
    "student1=student(\"meraj\",20,12234)\n",
    "#student1 = Student(\"meraj\", 18, \"S123\")\n",
    "teacher1 = teacher(\"tanya\", 35,\"T456\")\n",
    "course1 = course(\"Mathematics\", \"science\")\n",
    "\n",
    "# addiing student\n",
    "course1.add_student(student1)\n",
    "course1.set_teacher(teacher1)\n",
    "\n",
    "        \n",
    "# printing        \n",
    "print(\"student name : \",student1.get_name())\n",
    "print(\"teacher name : \",teacher1.get_name())\n",
    "print(\"course name : \",course1.get_course_name())\n",
    "print(\"course teacher : \", course1.get_teacher().get_name())\n",
    "# not working\n",
    "print(\"course student : \" ,course1.get_students())\n",
    "\n",
    "# important\n",
    "print(\"Course Students:\", [student.get_name() for student in course1.get_students()])\n",
    "\n",
    "# modifying \n",
    "\n",
    "student1.set_student_id(321)\n",
    "teacher1.set_employee_id(543)\n",
    "course1.set_course_name(\"math\")\n",
    "\n",
    "# printng modified value\n",
    "\n",
    "print(\"\\nmodified student_id :\",student1.get_student_id())\n",
    "print(\"modified teacher id :\",teacher1.get_employee_id())\n",
    "print(\"modified course name :\",course1.get_course_name())\n"
   ]
  },
  {
   "cell_type": "markdown",
   "id": "eeb05016-f990-4a40-a48e-66336ad67d0e",
   "metadata": {},
   "source": [
    "# 12. Explain the concept of property decorators in Python and how they relate to encapsulation."
   ]
  },
  {
   "cell_type": "code",
   "execution_count": 56,
   "id": "27fe2f75-9f12-4e03-83dd-b453036a98e4",
   "metadata": {},
   "outputs": [
    {
     "name": "stdout",
     "output_type": "stream",
     "text": [
      "0\n",
      "Deleting my_variable\n"
     ]
    }
   ],
   "source": [
    "\"\"\"In Python, property decorators are a way to define getter, setter, and deleter methods for class attributes. They provide a convenient way to implement the concept of encapsulation by allowing you to control access to the attributes of a class. The @property, @<attribute>.setter, and @<attribute>.deleter decorators are used for this purpose.\n",
    "\n",
    "\n",
    "@property:\n",
    "\n",
    "The @property decorator is used to define a getter method for an attribute.\n",
    "It allows you to access the attribute as if it were an attribute of the class rather than calling a method explicitly.\n",
    "This helps in encapsulating the internal details of how the attribute is retrieved.\"\"\"\n",
    "\n",
    "class MyClass:\n",
    "    def __init__(self):\n",
    "        self._my_variable = 0  # Private attribute with a single underscore\n",
    "\n",
    "    @property\n",
    "    def my_variable(self):\n",
    "        return self._my_variable\n",
    "\n",
    "obj = MyClass()\n",
    "print(obj.my_variable)  # Accessing as if it were an attribute\n",
    "\n",
    "\n",
    "\"\"\"@<attribute>.setter:\n",
    "\n",
    "The @<attribute>.setter decorator is used to define a setter method for an attribute.\n",
    "It allows you to control how the attribute is modified when assigned a new value.\n",
    "This helps in encapsulating the internal details of how the attribute is updated\"\"\"\n",
    "\n",
    "class MyClass:\n",
    "    def __init__(self):\n",
    "        self._my_variable = 0  # Private attribute with a single underscore\n",
    "\n",
    "    @property\n",
    "    \n",
    "    def my_variable(self):\n",
    "        return self._my_variable\n",
    "\n",
    "    @my_variable.setter\n",
    "    def my_variable(self, value):\n",
    "        if value >= 0:\n",
    "            self._my_variable = value\n",
    "\n",
    "obj = MyClass()\n",
    "obj.my_variable = 42  # Setting the attribute using the setter method\n",
    "\n",
    "\n",
    "\"\"\"@<attribute>.deleter:\n",
    "\n",
    "The @<attribute>.deleter decorator is used to define a deleter method for an attribute.\n",
    "It allows you to control the actions that need to be performed when an attribute is deleted using the del statement.\n",
    "This helps in encapsulating the internal details of how the attribute is cleaned up.\"\"\"\n",
    "\n",
    "class MyClass:\n",
    "    def __init__(self):\n",
    "        self._my_variable = 0  # Private attribute with a single underscore\n",
    "\n",
    "    @property\n",
    "    def my_variable(self):\n",
    "        return self._my_variable\n",
    "\n",
    "    @my_variable.deleter\n",
    "    def my_variable(self):\n",
    "        print(\"Deleting my_variable\")\n",
    "        del self._my_variable\n",
    "\n",
    "obj = MyClass()\n",
    "del obj.my_variable  # Deleting the attribute using the deleter method\n",
    "\n",
    "\n"
   ]
  },
  {
   "cell_type": "markdown",
   "id": "b04f5d78-a8d9-46c3-b9cb-44d134821063",
   "metadata": {},
   "source": [
    "# 13. What is data hiding, and why is it important in encapsulation? Provide examples."
   ]
  },
  {
   "cell_type": "code",
   "execution_count": 57,
   "id": "2dc5a499-9c1a-4244-8b0e-fdddeb1bc224",
   "metadata": {},
   "outputs": [
    {
     "name": "stdout",
     "output_type": "stream",
     "text": [
      "1000\n",
      "1500\n",
      "1300\n"
     ]
    },
    {
     "data": {
      "text/plain": [
       "'In this example, the _balance attribute is marked as protected using a single underscore, and external code can only \\naccess it through the get_balance method. The internal details of how deposits and withdrawals are processed are hidden \\nfrom the external code,\\n'"
      ]
     },
     "execution_count": 57,
     "metadata": {},
     "output_type": "execute_result"
    }
   ],
   "source": [
    "\"\"\"Data hiding is a concept in programming and object-oriented design that refers to the practice of restricting the access\n",
    "to certain details or implementation details of an object and exposing only what is necessary for the outside world to\n",
    "interact with the object. In other words, it involves hiding the internal state of an object and requiring all interactions \n",
    "to occur through an object's well-defined interface.\n",
    "\n",
    "Encapsulation, on the other hand, is the bundling of data and the methods that operate on the data into a single unit or \n",
    "class. Data hiding is a key aspect of encapsulation, and it helps in achieving the following benefits:\n",
    "\n",
    "Security: By hiding the internal details of an object, you prevent unauthorized access to sensitive information. This helps\n",
    "in enhancing the security of your application.\n",
    "\n",
    "Modularity: Data hiding allows you to modify the internal implementation of an object without affecting the code that uses \n",
    "the object. This promotes modularity and makes it easier to maintain and update your code.\n",
    "\n",
    "Abstraction: Data hiding allows you to provide a simplified view of an object's functionality. Users of the object only need \n",
    "to know the essential information and don't have to be concerned with the intricacies of its internal implementation.\n",
    "\n",
    "Flexibility: With data hiding, you have the flexibility to change the internal representation of an object without affecting \n",
    "the code that uses the object. This promotes code flexibility and adaptability to changes\n",
    "\"\"\"\n",
    "\n",
    "# Example in Python\n",
    "\n",
    "class BankAccount:\n",
    "    def __init__(self, balance):\n",
    "        self._balance = balance  # Using a single underscore to indicate a protected attribute\n",
    "\n",
    "    def get_balance(self):\n",
    "        # External code can access the balance only through this method\n",
    "        return self._balance\n",
    "\n",
    "    def deposit(self, amount):\n",
    "        # Perform deposit operation while hiding the internal details\n",
    "        self._balance += amount\n",
    "\n",
    "    def withdraw(self, amount):\n",
    "        # Perform withdrawal operation while hiding the internal details\n",
    "        if amount <= self._balance:\n",
    "            self._balance -= amount\n",
    "        else:\n",
    "            print(\"Insufficient funds\")\n",
    "\n",
    "# External code interacts with the BankAccount class through its interface\n",
    "account = BankAccount(1000)\n",
    "print(account.get_balance())  # Accessing balance through the method\n",
    "account.deposit(500)\n",
    "print(account.get_balance())\n",
    "account.withdraw(200)\n",
    "print(account.get_balance())\n",
    "\n",
    "\n",
    "\"\"\"In this example, the _balance attribute is marked as protected using a single underscore, and external code can only \n",
    "access it through the get_balance method. The internal details of how deposits and withdrawals are processed are hidden \n",
    "from the external code,\n",
    "\"\"\"\n"
   ]
  },
  {
   "cell_type": "code",
   "execution_count": null,
   "id": "89c4edb0-d210-411c-9fd6-f4c497ac3c8b",
   "metadata": {},
   "outputs": [],
   "source": []
  },
  {
   "cell_type": "markdown",
   "id": "e6a9c21f-45fa-40e3-99c8-8d54478257a6",
   "metadata": {},
   "source": [
    "# 14. Create a Python class called `Employee` with private attributes for salary (`__salary`) and employee ID (`__employee_id`). Provide a method to calculate yearly bonuses."
   ]
  },
  {
   "cell_type": "code",
   "execution_count": 58,
   "id": "b70651ce-d8b3-4a5c-ad0d-297d4f56bbea",
   "metadata": {},
   "outputs": [
    {
     "name": "stdout",
     "output_type": "stream",
     "text": [
      "total salary : 40000\n",
      "employe bonus : 4000.0\n"
     ]
    }
   ],
   "source": [
    "class employee:\n",
    "    def __init__(self,salary,employee_id):\n",
    "        self.__salary=salary\n",
    "        self.__employee_id=employee_id\n",
    "        \n",
    "    def calculate_yearly_bonus(self,bonus_percentage):\n",
    "        self.__bonus_percentage= bonus_percentage\n",
    "        if bonus_percentage<0 :\n",
    "            print(\"invalid\")\n",
    "        else:\n",
    "            \n",
    "             yearly_bonus = (self.__salary * bonus_percentage) / 100\n",
    "        return yearly_bonus\n",
    "    \n",
    "    def get_employee_id(self):\n",
    "        return self.__employee_id\n",
    "\n",
    "    def get_employe_salary(self):\n",
    "        return self.__salary\n",
    "    \n",
    "    \n",
    "    \n",
    "employee1=employee(40000,123) \n",
    "print(\"total salary :\", employee1.get_employe_salary())\n",
    "print(\"employe bonus :\",employee1.calculate_yearly_bonus(10))"
   ]
  },
  {
   "cell_type": "markdown",
   "id": "cf8bf729-b10b-4527-b4cb-e00a19a207cc",
   "metadata": {},
   "source": [
    "# 15. Discuss the use of accessors and mutators in encapsulation. How do they help maintain control over attribute access?"
   ]
  },
  {
   "cell_type": "code",
   "execution_count": 59,
   "id": "84b333bc-440d-4e54-925c-c807fbd4ee54",
   "metadata": {},
   "outputs": [
    {
     "name": "stdout",
     "output_type": "stream",
     "text": [
      "Toyota\n"
     ]
    }
   ],
   "source": [
    "\"\"\"Accessors and mutators, also known as getters and setters respectively, are methods used in object-oriented programming languages like Java, Python, and others to implement encapsulation. Encapsulation is the concept of bundling data (attributes) and methods (functions) that operate on the data into a single unit, typically called a class. Accessors and mutators play a crucial role in encapsulation by controlling how attributes are accessed and modified from outside the class.\n",
    "\n",
    "\n",
    "Accessors (Getters):\n",
    "Accessors are methods used to retrieve the values of private attributes from an object. They provide controlled read-only access to the attributes. Accessors typically have the following characteristics:\n",
    "\n",
    "They are public methods.\n",
    "They do not modify the state of the object.\n",
    "They return the value of the attribute.\n",
    "\"\"\"\n",
    "\n",
    "class Car:\n",
    "    def __init__(self, brand):\n",
    "        self.__brand = brand\n",
    "\n",
    "    def get_brand(self):\n",
    "        return self.__brand\n",
    "\n",
    "# Usage:\n",
    "my_car = Car(\"Toyota\")\n",
    "print(my_car.get_brand())  # Output: Toyota\n",
    "\n",
    "\n",
    "\n"
   ]
  },
  {
   "cell_type": "code",
   "execution_count": 60,
   "id": "6b040c3e-6421-4f94-b0b3-152c94d30412",
   "metadata": {},
   "outputs": [
    {
     "name": "stdout",
     "output_type": "stream",
     "text": [
      "Ford\n"
     ]
    },
    {
     "data": {
      "text/plain": [
       "'Accessors and mutators help maintain control over attribute access by encapsulating the internal state of an object and providing controlled interfaces for interacting with that state. They ensure that:\\n\\nEncapsulation: Access to attributes is controlled through accessor and mutator methods, allowing the internal state of the object to remain hidden from external code, thus promoting encapsulation.\\nValidation: Mutators can enforce validation rules before modifying attribute values, ensuring that only valid data is accepted, which helps maintain data integrity.\\nAbstraction: Accessors and mutators abstract the details of how attributes are implemented internally, allowing the class designer to change the implementation without affecting the external interface, promoting loose coupling.\\nSecurity: By controlling access to attributes through methods, accessors and mutators allow for additional security measures to be implemented, such as access control or logging.'"
      ]
     },
     "execution_count": 60,
     "metadata": {},
     "output_type": "execute_result"
    }
   ],
   "source": [
    "\"\"\"\n",
    "Mutators (Setters):\n",
    "Mutators are methods used to modify the values of private attributes of an object. They provide controlled write-only access to the attributes, allowing validation and manipulation of the data before modification. Mutators typically have the following characteristics:\n",
    "\n",
    "They are public methods.\n",
    "They modify the state of the object.\n",
    "They receive a value as input and assign it to the attribute.\n",
    "Here's an example of a mutator method in Python:\"\"\"\n",
    "\n",
    "class Car:\n",
    "    def __init__(self, brand):\n",
    "        self.__brand = brand\n",
    "\n",
    "    def set_brand(self, new_brand):\n",
    "        if new_brand != \"\":\n",
    "            self.__brand = new_brand\n",
    "            \n",
    "    def get_brand(self):\n",
    "        return self.__brand\n",
    "\n",
    "# Usage:\n",
    "my_car = Car(\"Toyota\")\n",
    "my_car.set_brand(\"Ford\")\n",
    "print(my_car.get_brand())  # Output: Ford\n",
    "\n",
    "\n",
    "\"\"\"Accessors and mutators help maintain control over attribute access by encapsulating the internal state of an object and providing controlled interfaces for interacting with that state. They ensure that:\n",
    "\n",
    "Encapsulation: Access to attributes is controlled through accessor and mutator methods, allowing the internal state of the object to remain hidden from external code, thus promoting encapsulation.\n",
    "Validation: Mutators can enforce validation rules before modifying attribute values, ensuring that only valid data is accepted, which helps maintain data integrity.\n",
    "Abstraction: Accessors and mutators abstract the details of how attributes are implemented internally, allowing the class designer to change the implementation without affecting the external interface, promoting loose coupling.\n",
    "Security: By controlling access to attributes through methods, accessors and mutators allow for additional security measures to be implemented, such as access control or logging.\"\"\"\n"
   ]
  },
  {
   "cell_type": "markdown",
   "id": "24869dc9-b848-4b39-bf4d-7ae655e8940d",
   "metadata": {},
   "source": [
    "# 16. What are the potential drawbacks or disadvantages of using encapsulation in Python?"
   ]
  },
  {
   "cell_type": "markdown",
   "id": "ffd463b2-5708-4e8a-bc60-3eac43b4e96b",
   "metadata": {},
   "source": [
    "\n",
    "Encapsulation is a core principle in object-oriented programming, including Python. However, like any programming concept, it has its drawbacks. Here are some potential disadvantages of using encapsulation in Python:\n",
    "\n",
    "Increased Complexity: Encapsulation can introduce additional layers of abstraction, leading to increased complexity, especially in larger codebases. This complexity can make code harder to understand and maintain, particularly for developers who are not familiar with the implementation details.\n",
    "\n",
    "Performance Overhead: In Python, accessing attributes through getter and setter methods (encapsulation) can incur a slight performance overhead compared to direct attribute access. While Python's performance overhead is generally minimal, it can become a concern in performance-sensitive applications.\n",
    "\n",
    "Boilerplate Code: Implementing getter and setter methods for every attribute in a class can result in the generation of boilerplate code, making the codebase more verbose and harder to read. This can lead to decreased developer productivity and increased potential for errors.\n",
    "\n",
    "Limited Flexibility: Strict encapsulation can limit the flexibility of a class, particularly if access controls are overly restrictive. Developers may find it challenging to access or modify internal attributes directly when necessary, leading to workarounds or suboptimal solutions.\n",
    "\n",
    "Difficulty in Testing: Encapsulation can make unit testing more challenging, especially if the internal state of objects cannot be easily inspected or modified from outside the class. This can require the use of mock objects or other testing techniques to effectively test encapsulated code.\n",
    "\n",
    "Potential Misuse: While encapsulation is intended to enforce data integrity and abstraction, it can be misused. Developers may inadvertently expose sensitive internal details of a class through getter or setter methods, violating the principle of information hiding.\n",
    "\n",
    "Debugging Complexity: Debugging encapsulated code can be more complex than debugging code with exposed internal state. Developers may need to rely on debugging tools or logging to inspect the behavior of encapsulated objects effectively.\n",
    "\n",
    "Resistance to Change: Encapsulation can make it more challenging to modify the internal implementation of a class without affecting its external interface. This can lead to resistance to change and make the codebase less adaptable to evolving requirements."
   ]
  },
  {
   "cell_type": "markdown",
   "id": "cfdce186-99da-4449-9f79-f05de88ef86f",
   "metadata": {},
   "source": [
    "# 17. Create a Python class for a library system that encapsulates book information, including titles, authors, and availability status."
   ]
  },
  {
   "cell_type": "code",
   "execution_count": 61,
   "id": "dd75be4a-2cf9-4d36-9c8f-bf5a98fedb2e",
   "metadata": {},
   "outputs": [
    {
     "name": "stdout",
     "output_type": "stream",
     "text": [
      "library cataloge\n",
      "Title: To Kill a Mockingbird\n",
      "Author: Harper Lee\n",
      "Available: Yes\n",
      "************************************************************\n",
      "Title: The Great Gatsby\n",
      "Author: F. Scott Fitzgerald\n",
      "Available: Yes\n",
      "************************************************************\n",
      "Title: Pride and Prejudice\n",
      "Author: Jane Austen\n",
      "Available: Yes\n",
      "************************************************************\n",
      "found 1 books with title 'to kill a mockingbird' :\n",
      "Title: To Kill a Mockingbird\n",
      "Author: Harper Lee\n",
      "Available: Yes\n",
      "************************************************************\n",
      " book To Kill a Mockingbird by Harper Lee has been borrowed\n",
      " book To Kill a Mockingbird by Harper Lee has been returnd \n",
      "library cataloge\n",
      "Title: To Kill a Mockingbird\n",
      "Author: Harper Lee\n",
      "Available: Yes\n",
      "************************************************************\n",
      "Title: The Great Gatsby\n",
      "Author: F. Scott Fitzgerald\n",
      "Available: Yes\n",
      "************************************************************\n",
      "Title: Pride and Prejudice\n",
      "Author: Jane Austen\n",
      "Available: Yes\n",
      "************************************************************\n"
     ]
    }
   ],
   "source": [
    "class Book:\n",
    "    def __init__(self,title,authors):\n",
    "        self.title=title\n",
    "        self.authors=authors\n",
    "        self.availabe=True\n",
    "        \n",
    "\n",
    "    def __str__(self):\n",
    "        \n",
    "        return f\"Title: {self.title}\\nAuthor: {self.authors}\\nAvailable: {'Yes' if self.availabe else 'No'}\"\n",
    "    \n",
    "        \n",
    "    def borrow(self):\n",
    "        if self.availabe:    # this will use only if self.available is true  or yes \n",
    "            self.availabe=False\n",
    "            print(f\" book {self.title} by {self.authors} has been borrowed\")\n",
    "            \n",
    "        else:\n",
    "            print(f\" book {self.title} by {self.authors} is not avaliable\")\n",
    "            \n",
    "    def return_book(self):\n",
    "        if not self.availabe:\n",
    "            self.availabe=True\n",
    "            print(f\" book {self.title} by {self.authors} has been returnd \")\n",
    "            \n",
    "        else:\n",
    "            print(f\"book {self.title} by {self.authors} is already available\")\n",
    "            \n",
    "        \n",
    "class library:\n",
    "    \n",
    "    def __init__(self):\n",
    "        self.book=[]\n",
    "      \n",
    "    \n",
    "    def add_books(self,book):\n",
    "        self.book.append(book)\n",
    "        \n",
    "        \n",
    "    def display_books(self):\n",
    "        if self.book:                      # means if list is havng a book\n",
    "            print(\"library cataloge\")\n",
    "            for book in self.book:\n",
    "                print(book)                                    #  print krna hai isme\n",
    "                print(\"***\"*20)\n",
    "        else: \n",
    "            print(\"the library is empty\")     \n",
    "        \n",
    "        \n",
    "        \n",
    "    def search_book(self,title):\n",
    "        find=[book for book in self.book if book.title.lower()==title.lower()]\n",
    "        \n",
    "        if find:\n",
    "            print(f\"found {len(find)} books with title '{title}' :\")\n",
    "            for book in find:\n",
    "                print(book)\n",
    "                print(\"***\"*20)\n",
    "            \n",
    "            \n",
    "\n",
    "            \n",
    "            \n",
    "    def borrow_book(self, title):\n",
    "        for book in self.book:\n",
    "            if book.title.lower() == title.lower():\n",
    "                book.borrow()\n",
    "                return\n",
    "        print(f\"Book with title '{title}' not found in the library.\")\n",
    "\n",
    "    def return_book(self, title):\n",
    "        for book in self.book:\n",
    "            if book.title.lower() == title.lower():\n",
    "                book.return_book()\n",
    "                return                                                         # to exit itteration \n",
    "        print(f\"Book with title '{title}' not found in the library.\")\n",
    "        \n",
    "    \n",
    " \n",
    "book1 = Book(\"To Kill a Mockingbird\", \"Harper Lee\")\n",
    "book2 = Book(\"The Great Gatsby\", \"F. Scott Fitzgerald\")\n",
    "book3 = Book(\"Pride and Prejudice\", \"Jane Austen\")\n",
    "\n",
    "# Create a library instance\n",
    "library = library()\n",
    "\n",
    "# Add books to the library\n",
    "\n",
    "library.add_books(book1)\n",
    "library.add_books(book2)\n",
    "library.add_books(book3)\n",
    "\n",
    "# Display library catalog\n",
    "library.display_books()\n",
    "\n",
    "# Search for a book\n",
    "library.search_book(\"to kill a mockingbird\")\n",
    "\n",
    "# Borrow a book\n",
    "library.borrow_book(\"To Kill a Mockingbird\")\n",
    "\n",
    "# Return a book\n",
    "library.return_book(\"To Kill a Mockingbird\")\n",
    "\n",
    "# Display updated library catalog\n",
    "library.display_books()\n"
   ]
  },
  {
   "cell_type": "code",
   "execution_count": null,
   "id": "8ddb66b0-a939-4c5d-a347-b4fb2e49f214",
   "metadata": {},
   "outputs": [],
   "source": []
  },
  {
   "cell_type": "markdown",
   "id": "e40a777a-2651-4169-8344-cc029f568bb9",
   "metadata": {},
   "source": [
    "# 19. Describe the concept of information hiding in encapsulation. Why is it essential in software development?"
   ]
  },
  {
   "cell_type": "markdown",
   "id": "8e081463-247d-4323-abce-7d53353ef802",
   "metadata": {},
   "source": [
    "Information hiding is a fundamental concept in encapsulation that involves concealing the internal details of an object and exposing only the necessary information or functionality to the outside world. It ensures that the implementation details of a class are hidden from external code, thereby protecting the integrity of the data and preventing unintended access or modification.\n",
    "\n",
    "Here's why information hiding is essential in software development:\n",
    "\n",
    "Modularity: Information hiding promotes modularity by allowing the internal implementation of a class to be modified without affecting other parts of the program. This improves code maintainability and facilitates easier updates and modifications.\n",
    "\n",
    "Abstraction: Information hiding enables abstraction by presenting a simplified interface to users of a class, abstracting away the complex implementation details. Users only need to know how to interact with the public interface of the class, rather than understanding its internal workings.\n",
    "\n",
    "Security: Information hiding enhances security by restricting access to sensitive data or functionality. By encapsulating data within a class and providing controlled access through methods, developers can prevent unauthorized access and manipulation of critical information.\n",
    "\n",
    "Reduced Complexity: Information hiding reduces complexity by limiting the exposure of internal details, which simplifies the understanding and usage of a class. Users only need to know how to use the public interface provided by the class, rather than being burdened with unnecessary implementation details.\n",
    "\n",
    "Encapsulation: Information hiding is a key aspect of encapsulation, which is one of the core principles of object-oriented programming. Encapsulation bundles data and methods into a single unit, allowing for better organization, abstraction, and control over access to data.\n",
    "\n",
    "Code Reusability: By hiding implementation details, information hiding promotes code reusability. Classes with well-defined interfaces can be reused in different parts of the program or even in different projects without modifications, as long as the public interface remains consistent."
   ]
  },
  {
   "cell_type": "code",
   "execution_count": null,
   "id": "3043c984-cfa4-4cf6-8e67-1962927524df",
   "metadata": {},
   "outputs": [],
   "source": []
  },
  {
   "cell_type": "markdown",
   "id": "9f5aa119-79d1-46f6-9a35-73f33f56b437",
   "metadata": {},
   "source": [
    "# 20. Create a Python class called `Customer` with private attributes for customer details like name, address, and contact information. Implement encapsulation to ensure data integrity and security."
   ]
  },
  {
   "cell_type": "code",
   "execution_count": 62,
   "id": "baadeb1d-fbb2-4d77-a84c-6689d043192c",
   "metadata": {},
   "outputs": [
    {
     "name": "stdout",
     "output_type": "stream",
     "text": [
      "Customer Name: John Doe\n",
      "Customer Address: 123 Main Street\n",
      "Customer Contact Info: john@example.com\n",
      "\n",
      "Updated Customer Details:\n",
      "Customer Name: John Doe\n",
      "Customer Address: 456 Oak Avenue\n",
      "Customer Contact Info: john.doe@example.com\n"
     ]
    }
   ],
   "source": [
    "class Customer:\n",
    "    def __init__(self, name, address, contact_info):\n",
    "        self.__name = name\n",
    "        self.__address = address\n",
    "        self.__contact_info = contact_info\n",
    "\n",
    "    def get_name(self):\n",
    "        return self.__name\n",
    "\n",
    "    def get_address(self):\n",
    "        return self.__address\n",
    "\n",
    "    def get_contact_info(self):\n",
    "        return self.__contact_info\n",
    "\n",
    "    def set_address(self, new_address):\n",
    "        self.__address = new_address\n",
    "\n",
    "    def set_contact_info(self, new_contact_info):\n",
    "        self.__contact_info = new_contact_info\n",
    "\n",
    "        \n",
    "customer1 = Customer(\"John Doe\", \"123 Main Street\", \"john@example.com\")\n",
    "\n",
    "# Accessing private attributes using accessor methods\n",
    "print(\"Customer Name:\", customer1.get_name())\n",
    "print(\"Customer Address:\", customer1.get_address())\n",
    "print(\"Customer Contact Info:\", customer1.get_contact_info())\n",
    "\n",
    "# Modifying private attributes using mutator methods\n",
    "customer1.set_address(\"456 Oak Avenue\")\n",
    "customer1.set_contact_info(\"john.doe@example.com\")\n",
    "\n",
    "# Display updated customer details\n",
    "print(\"\\nUpdated Customer Details:\")\n",
    "print(\"Customer Name:\", customer1.get_name())\n",
    "print(\"Customer Address:\", customer1.get_address())\n",
    "print(\"Customer Contact Info:\", customer1.get_contact_info())\n"
   ]
  },
  {
   "cell_type": "markdown",
   "id": "ac3213c2-3f70-4dd8-8f8c-a018830c4838",
   "metadata": {},
   "source": [
    "# Polymorphism:"
   ]
  },
  {
   "cell_type": "markdown",
   "id": "9c8fbcbe-28a9-47ad-9425-5f4f54a9b907",
   "metadata": {},
   "source": [
    "# 1. What is polymorphism in Python? Explain how it is related to object-oriented programming."
   ]
  },
  {
   "cell_type": "code",
   "execution_count": 63,
   "id": "e79b37dd-492b-4d9d-9b88-21046f6bfd83",
   "metadata": {},
   "outputs": [
    {
     "name": "stdout",
     "output_type": "stream",
     "text": [
      "Woof!\n",
      "Meow!\n"
     ]
    }
   ],
   "source": [
    "\"\"\"Polymorphism in Python, as in other object-oriented programming languages, refers to the ability of different objects to be \n",
    "treated as instances of a common superclass. This allows different classes to be used interchangeably through a shared interface \n",
    "or base class. Polymorphism enables a single interface to represent general behavior that can be implemented in multiple ways by \n",
    "different classes.\n",
    "\n",
    "In Python, polymorphism is closely related to object-oriented programming (OOP) principles, particularly inheritance and method \n",
    "overriding. Here's how it works within the context of OOP:\n",
    "\n",
    "Inheritance: Polymorphism is often achieved through inheritance. Subclasses inherit attributes and methods from their parent class\n",
    "(superclass). This means that objects of different classes, which inherit from the same superclass, can be treated uniformly \n",
    "through the superclass interface.\n",
    "\n",
    "Method Overriding: Polymorphism allows subclasses to provide their own implementation of methods defined in the superclass.\n",
    "This means that even though different classes may have methods with the same name, they can behave differently based on the \n",
    "specific implementation in each class. When a method is called on an object, the appropriate method for that object's class \n",
    "is invoked, enabling dynamic dispatch.\n",
    "\n",
    "example \n",
    "\"\"\"\n",
    "class Animal:\n",
    "    def speak(self):\n",
    "        return \"Unknown\"\n",
    "\n",
    "class Dog(Animal):\n",
    "    def speak(self):\n",
    "        return \"Woof!\"\n",
    "\n",
    "class Cat(Animal):\n",
    "    def speak(self):\n",
    "        return \"Meow!\"\n",
    "\n",
    "    \n",
    "animals=(Dog(),Cat())\n",
    "\n",
    "for animal in animals:\n",
    "    print(animal.speak())\n"
   ]
  },
  {
   "cell_type": "markdown",
   "id": "5fd62c34-bd46-40b8-a379-e2a27b8a73a8",
   "metadata": {},
   "source": [
    "# 2. Describe the difference between compile-time polymorphism and runtime polymorphism in Python."
   ]
  },
  {
   "cell_type": "code",
   "execution_count": 64,
   "id": "6baadc12-0c4e-4007-9c32-55566769460c",
   "metadata": {},
   "outputs": [
    {
     "name": "stdout",
     "output_type": "stream",
     "text": [
      "5\n",
      "8\n",
      "Woof!\n",
      "Meow!\n",
      "Woof!\n",
      "Meow!\n"
     ]
    },
    {
     "data": {
      "text/plain": [
       "'\\nIn this example, we define a base class Animal with a speak method. We then define two subclasses, Dog and Cat, that inherit from \\nAnimal and override the speak method. We create a list of Dog and Cat objects and call the speak method on each object. Since the \\nspeak method is overridden in the subclasses, the output is different for each object, demonstrating runtime polymorphism.\\n\\nThe main difference between compile-time and runtime polymorphism is when the type of the object is determined. In compile-time \\npolymorphism, the type is determined at compile-time, while in runtime polymorphism, the type is determined at runtime. \\nCompile-time polymorphism is generally faster because the correct method implementation can be determined at compile-time, while \\nruntime polymorphism requires a dynamic dispatch mechanism to determine the correct method implementation at runtime. However, \\nruntime polymorphism provides more flexibility and modularity, as it allows objects of different classes to be treated as if they \\nwere of the same class.\\n\\n'"
      ]
     },
     "execution_count": 64,
     "metadata": {},
     "output_type": "execute_result"
    }
   ],
   "source": [
    "\"\"\"In object-oriented programming, there are two types of polymorphism: compile-time polymorphism and runtime polymorphism.\n",
    "\n",
    "Compile-time polymorphism, also known as static polymorphism, is a type of polymorphism where the type of the object is determined\n",
    "at compile-time, and the correct method implementation is selected based on the static type of the object. In Python, compile-time \n",
    "polymorphism is achieved through method overloading, which is implemented using \"duck typing.\"\n",
    "\n",
    "Method overloading is not explicitly supported in Python, but it can be achieved using default arguments, variable-length arguments\n",
    ", or multiple methods with different names. Here's an example of method overloading using default arguments:\n",
    "\n",
    "Compile-time polymorphism,\n",
    "\n",
    "\"\"\"\n",
    "\n",
    "def add(a, b=0):\n",
    "    return a + b\n",
    "\n",
    "print(add(5))  # Output: 5\n",
    "print(add(5, 3))  # Output: 8\n",
    "\n",
    "\"\"\"\n",
    "In this example, the add function can take either one or two arguments. If only one argument is provided, the second argument \n",
    "defaults to 0. This allows us to use the same function name for two different methods with different numbers of arguments.\n",
    "\n",
    "Runtime polymorphism, also known as dynamic polymorphism, is a type of polymorphism where the type of the object is determined at \n",
    "runtime, and the correct method implementation is selected based on the dynamic type of the object. In Python, runtime \n",
    "polymorphism is achieved through inheritance and method overriding.\n",
    "\n",
    "Here's an example of runtime polymorphism using inheritance and method overriding:\n",
    "\n",
    "Runtime polymorphism\n",
    "\n",
    "\"\"\"\n",
    "\n",
    "class Animal:\n",
    "    def speak(self):\n",
    "        pass\n",
    "\n",
    "class Dog(Animal):\n",
    "    def speak(self):\n",
    "        return \"Woof!\"\n",
    "\n",
    "class Cat(Animal):\n",
    "    def speak(self):\n",
    "        return \"Meow!\"\n",
    "\n",
    "animals = [Dog(), Cat()]\n",
    "\n",
    "for animal in animals:\n",
    "    print(animal.speak())\n",
    "\n",
    "# Output:\n",
    "# Woof!\n",
    "# Meow!class Animal:\n",
    "    def speak(self):\n",
    "        pass\n",
    "\n",
    "class Dog(Animal):\n",
    "    def speak(self):\n",
    "        return \"Woof!\"\n",
    "\n",
    "class Cat(Animal):\n",
    "    def speak(self):\n",
    "        return \"Meow!\"\n",
    "\n",
    "animals = [Dog(), Cat()]\n",
    "\n",
    "for animal in animals:\n",
    "    print(animal.speak())\n",
    "\n",
    "\n",
    "\"\"\"\n",
    "In this example, we define a base class Animal with a speak method. We then define two subclasses, Dog and Cat, that inherit from \n",
    "Animal and override the speak method. We create a list of Dog and Cat objects and call the speak method on each object. Since the \n",
    "speak method is overridden in the subclasses, the output is different for each object, demonstrating runtime polymorphism.\n",
    "\n",
    "The main difference between compile-time and runtime polymorphism is when the type of the object is determined. In compile-time \n",
    "polymorphism, the type is determined at compile-time, while in runtime polymorphism, the type is determined at runtime. \n",
    "Compile-time polymorphism is generally faster because the correct method implementation can be determined at compile-time, while \n",
    "runtime polymorphism requires a dynamic dispatch mechanism to determine the correct method implementation at runtime. However, \n",
    "runtime polymorphism provides more flexibility and modularity, as it allows objects of different classes to be treated as if they \n",
    "were of the same class.\n",
    "\n",
    "\"\"\""
   ]
  },
  {
   "cell_type": "code",
   "execution_count": null,
   "id": "7a7610ff-2db8-44cf-99e4-acfc5a9af4d8",
   "metadata": {},
   "outputs": [],
   "source": []
  },
  {
   "cell_type": "markdown",
   "id": "e496125e-57e8-4b66-9c0c-7cd680fb2925",
   "metadata": {},
   "source": [
    "# 3. Create a Python class hierarchy for shapes (e.g., circle, square, triangle) and demonstrate polymorphismthrough a common method, such as `calculate_area()`."
   ]
  },
  {
   "cell_type": "code",
   "execution_count": 65,
   "id": "d0a54281-423c-4ab4-9000-d9693e202ba7",
   "metadata": {},
   "outputs": [
    {
     "name": "stdout",
     "output_type": "stream",
     "text": [
      "Area of circle: 78.57142857142857\n",
      "Area of square: 16\n",
      "Area of triangle: 9.0\n"
     ]
    }
   ],
   "source": [
    "import math\n",
    "class shapes:\n",
    "    def calulate_rea(self):\n",
    "        pass\n",
    "    \n",
    "class circle(shapes):\n",
    "    def __init__(self,radius):\n",
    "        self.radius=radius\n",
    "        \n",
    "    def calculate_area(self):\n",
    "        return (22/7)* self.radius**2\n",
    "class square(shapes):\n",
    "    def __init__(self,sides):\n",
    "        self.sides=sides\n",
    "        \n",
    "    def calculate_area(self):\n",
    "        return  self.sides**2\n",
    "class triangle(shapes):\n",
    "    def __init__(self,base,height):\n",
    "        self.base=base\n",
    "        self.height=height\n",
    "        \n",
    "    def calculate_area(self):\n",
    "        return 0.5*self.base*self.height\n",
    "    \n",
    "    \n",
    "circle = circle(5)\n",
    "square = square(4)\n",
    "triangle = triangle(3, 6)\n",
    "\n",
    "shapes = [circle, square, triangle]\n",
    "\n",
    "for shape in shapes:\n",
    "    print(f\"Area of {shape.__class__.__name__}: {shape.calculate_area()}\")"
   ]
  },
  {
   "cell_type": "markdown",
   "id": "43ff8aff-8abb-4192-a2fb-7dd13be5a685",
   "metadata": {},
   "source": [
    "# 4. Explain the concept of method overriding in polymorphism. Provide an example.\n"
   ]
  },
  {
   "cell_type": "markdown",
   "id": "2cc76694",
   "metadata": {},
   "source": [
    "Method overriding is a feature of polymorphism that allows a subclass to provide a specific implementation of a method that is already provided by its superclass. This means that a subclass can redefine a method inherited from its superclass with the same name, same parameters, and same return type. The benefit of method overriding is that it allows a subclass to change or extend the behavior of its superclass."
   ]
  },
  {
   "cell_type": "code",
   "execution_count": 66,
   "id": "e48162a5",
   "metadata": {},
   "outputs": [
    {
     "name": "stdout",
     "output_type": "stream",
     "text": [
      "Bark\n"
     ]
    },
    {
     "data": {
      "text/plain": [
       "'In this example, the Animal class has a constructor that takes a name argument and a make_sound method that does nothing. The Dog class\\n inherits from the Animal class and overrides the make_sound method to print \"Bark\". When the make_sound method is called on an instance of the\\n  Animal class, it does nothing. However, when the make_sound method is called on an instance of the Dog class, it prints \"Bark\". This demonstrates\\n   how method overriding allows a subclass to provide a specific implementation of a method that is already provided by its superclass'"
      ]
     },
     "execution_count": 66,
     "metadata": {},
     "output_type": "execute_result"
    }
   ],
   "source": [
    "class Animal:\n",
    "    def __init__(self, name):\n",
    "        self.name = name\n",
    "\n",
    "    def make_sound(self):\n",
    "        pass  # Implement this method in the subclass\n",
    "\n",
    "class Dog(Animal):\n",
    "    def __init__(self, name):\n",
    "        super().__init__(name)\n",
    "\n",
    "    def make_sound(self):\n",
    "        print(\"Bark\")\n",
    "\n",
    "animal = Animal(\"Generic Animal\")\n",
    "animal.make_sound()  # Output: None\n",
    "\n",
    "dog = Dog(\"Doggo\")\n",
    "dog.make_sound() \n",
    "\n",
    "\n",
    "\"\"\"In this example, the Animal class has a constructor that takes a name argument and a make_sound method that does nothing. The Dog class\n",
    " inherits from the Animal class and overrides the make_sound method to print \"Bark\". When the make_sound method is called on an instance of the\n",
    "  Animal class, it does nothing. However, when the make_sound method is called on an instance of the Dog class, it prints \"Bark\". This demonstrates\n",
    "   how method overriding allows a subclass to provide a specific implementation of a method that is already provided by its superclass\"\"\"\n"
   ]
  },
  {
   "cell_type": "markdown",
   "id": "d012a5eb",
   "metadata": {},
   "source": [
    "# 5. How is polymorphism different from method overloading in Python? Provide examples for both."
   ]
  },
  {
   "cell_type": "code",
   "execution_count": 67,
   "id": "a68b2533",
   "metadata": {},
   "outputs": [
    {
     "name": "stdout",
     "output_type": "stream",
     "text": [
      "Woof!\n",
      "Meow!\n"
     ]
    }
   ],
   "source": [
    "\"\"\"Polymorphism and method overloading are both concepts used in object-oriented programming, but they serve different purposes and are implemented differently in Python.\n",
    "\n",
    "Polymorphism:\n",
    "Polymorphism refers to the ability of different objects to respond to the same message (i.e., method call) in different ways. It allows objects of different classes to be treated uniformly if they share a common interface or base class. In Python, polymorphism is achieved through method overriding, where a method in a subclass has the same name and signature as a method in its superclass, effectively replacing or extending the behavior of the superclass method.\n",
    "\n",
    "Example of Polymorphism in Python:\"\"\"       \n",
    "class Animal:\n",
    "    def sound(self):\n",
    "        pass\n",
    "\n",
    "class Dog(Animal):\n",
    "    def sound(self):\n",
    "        return \"Woof!\"\n",
    "\n",
    "class Cat(Animal):\n",
    "    def sound(self):\n",
    "        return \"Meow!\"\n",
    "\n",
    "# Function demonstrating polymorphism\n",
    "def make_sound(animal):\n",
    "    print(animal.sound())\n",
    "\n",
    "# Creating instances of different animals\n",
    "dog = Dog()\n",
    "cat = Cat()\n",
    "\n",
    "# Calling the function with different instances\n",
    "make_sound(dog)  # Output: Woof!\n",
    "make_sound(cat)  # Output: Meow!\n"
   ]
  },
  {
   "cell_type": "code",
   "execution_count": null,
   "id": "c05cf609",
   "metadata": {},
   "outputs": [],
   "source": []
  },
  {
   "cell_type": "code",
   "execution_count": 68,
   "id": "16f4603a",
   "metadata": {},
   "outputs": [
    {
     "name": "stdout",
     "output_type": "stream",
     "text": [
      "9\n"
     ]
    },
    {
     "data": {
      "text/plain": [
       "'      In Python, if you define multiple methods with the same name in a class, only the latest one will be considered. So, attempting to call the first \\nadd method with only two arguments would result in an error because the first method has been overwritten by the second one, which accepts three arguments. \\nThis is different from method overloading in languages like Java or C++.'"
      ]
     },
     "execution_count": 68,
     "metadata": {},
     "output_type": "execute_result"
    }
   ],
   "source": [
    "\"\"\" Method Overloading:\n",
    "Method overloading refers to defining multiple methods with the same name but with different parameters within the same class. However, Python does not\n",
    " support method overloading directly as some other languages do, where the compiler or interpreter selects the appropriate method based on the arguments \n",
    " passed during the function call.\"\"\"      \n",
    "\n",
    "class MathOperations:\n",
    "    def add(self, a, b):\n",
    "        return a + b\n",
    "\n",
    "    def add(self, a, b, c):\n",
    "        return a + b + c\n",
    "\n",
    "# Creating an instance\n",
    "math_ops = MathOperations()\n",
    "\n",
    "# Only the latest defined method is accessible\n",
    "print(math_ops.add(2, 3, 4))  # Output: 9\n",
    "# print(math_ops.add(2, 3))  # This would result in an error because the first add method is overwritten\n",
    "\n",
    "\n",
    "\"\"\"      In Python, if you define multiple methods with the same name in a class, only the latest one will be considered. So, attempting to call the first \n",
    "add method with only two arguments would result in an error because the first method has been overwritten by the second one, which accepts three arguments. \n",
    "This is different from method overloading in languages like Java or C++.\"\"\" \n",
    "\n",
    "\n",
    "\n",
    "\n"
   ]
  },
  {
   "cell_type": "markdown",
   "id": "82661e5d",
   "metadata": {},
   "source": [
    "# 6. Create a Python class called `Animal` with a method `speak()`. Then, create child classes like `Dog`, `Cat`, and `Bird`, each with their own `speak()` method. Demonstrate polymorphism by calling the `speak()` method on objects of different subclasses."
   ]
  },
  {
   "cell_type": "code",
   "execution_count": 69,
   "id": "3cb45e5f",
   "metadata": {},
   "outputs": [
    {
     "name": "stdout",
     "output_type": "stream",
     "text": [
      "bhau\n",
      "meow\n",
      "chirp\n"
     ]
    }
   ],
   "source": [
    "class animal :\n",
    "    def speak(self):\n",
    "        pass\n",
    "class dog(animal):\n",
    "    def speak(self):\n",
    "        return \"bhau\"\n",
    "class cat(animal):\n",
    "    def speak(self):\n",
    "        return \"meow\"\n",
    "class bird(animal):\n",
    "    def speak(self):\n",
    "        return  \"chirp\"\n",
    "\n",
    "# Polymorphic function\n",
    "def animal_speak(animal):\n",
    "    print(animal.speak())\n",
    "\n",
    "# Creating instances\n",
    "dog1 = dog()\n",
    "cat1 = cat()\n",
    "bird1=bird()\n",
    "\n",
    "# Calling the polymorphic function\n",
    "animal_speak(dog1)  \n",
    "animal_speak(cat1)\n",
    "animal_speak(bird1)  "
   ]
  },
  {
   "cell_type": "markdown",
   "id": "18abcbe8",
   "metadata": {},
   "source": [
    "# 7. Discuss the use of abstract methods and classes in achieving polymorphism in Python. Provide an example  using the `abc` module."
   ]
  },
  {
   "cell_type": "code",
   "execution_count": 70,
   "id": "d3aedab2",
   "metadata": {},
   "outputs": [
    {
     "name": "stdout",
     "output_type": "stream",
     "text": [
      "Woof!\n",
      "Meow!\n"
     ]
    },
    {
     "data": {
      "text/plain": [
       "'In this example, we define an abstract class Animal with an abstract method make_sound(). We then define two subclasses Dog and Cat that implement the make_sound() method with their own specific behavior.\\n\\nThe make_animal_sound() function takes an Animal object as an argument and calls its make_sound() method. Since Dog and Cat are subclasses of Animal, they can be passed to the make_animal_sound() function, which demonstrates polymorphism.'"
      ]
     },
     "execution_count": 70,
     "metadata": {},
     "output_type": "execute_result"
    }
   ],
   "source": [
    "\"\"\"Abstract methods and classes in Python are used to achieve polymorphism, which is the ability of an object to take on many forms. Polymorphism allows us to write code that can work with objects of different types and classes, as long as they share a common interface or set of methods.\n",
    "In Python, we can use the abc (Abstract Base Classes) module to define abstract methods and classes. An abstract method is a method that is declared but contains no implementation. An abstract class is a class that contains one or more abstract methods. Abstract classes cannot be instantiated, but they can be subclassed.\n",
    "\n",
    "Here's an example of how to use abstract methods and classes in Python to achieve polymorphism:\"\"\"\n",
    "from abc import ABC, abstractmethod\n",
    "\n",
    "class Animal(ABC):\n",
    "    @abstractmethod\n",
    "    def make_sound(self):\n",
    "        pass\n",
    "\n",
    "class Dog(Animal):\n",
    "    def make_sound(self):\n",
    "        return \"Woof!\"\n",
    "\n",
    "class Cat(Animal):\n",
    "    def make_sound(self):\n",
    "        return \"Meow!\"\n",
    "\n",
    "def make_animal_sound(animal):\n",
    "    print(animal.make_sound())\n",
    "\n",
    "# Polymorphism in action\n",
    "make_animal_sound(Dog())\n",
    "make_animal_sound(Cat())\n",
    "\n",
    "\n",
    "\n",
    "\"\"\"In this example, we define an abstract class Animal with an abstract method make_sound(). We then define two subclasses Dog and Cat that implement the make_sound() method with their own specific behavior.\n",
    "\n",
    "The make_animal_sound() function takes an Animal object as an argument and calls its make_sound() method. Since Dog and Cat are subclasses of Animal, they can be passed to the make_animal_sound() function, which demonstrates polymorphism.\"\"\"      \n"
   ]
  },
  {
   "cell_type": "code",
   "execution_count": null,
   "id": "03c5dddf",
   "metadata": {},
   "outputs": [],
   "source": []
  },
  {
   "cell_type": "markdown",
   "id": "2e02caa7",
   "metadata": {},
   "source": [
    "# 8. Create a Python class hierarchy for a vehicle system (e.g., car, bicycle, boat) and implement a polymorphic `start()` method that prints a message specific to each vehicle type."
   ]
  },
  {
   "cell_type": "code",
   "execution_count": 71,
   "id": "c36d3b96",
   "metadata": {},
   "outputs": [
    {
     "name": "stdout",
     "output_type": "stream",
     "text": [
      "Starting the car Toyota\n",
      "Starting the bicycle Mountain Cycle\n",
      "Starting the engine of the boat Sail Boat\n"
     ]
    }
   ],
   "source": [
    "class Vehicle:\n",
    "    def __init__(self, name):\n",
    "        self.name = name\n",
    "\n",
    "    def start(self):\n",
    "        pass\n",
    "\n",
    "class Car(Vehicle):\n",
    "    def start(self):\n",
    "        return f\"Starting the car {self.name}\"\n",
    "\n",
    "class Bicycle(Vehicle):\n",
    "    def start(self):\n",
    "        return f\"Starting the bicycle {self.name}\"\n",
    "\n",
    "class Boat(Vehicle):\n",
    "    def start(self):\n",
    "        return f\"Starting the engine of the boat {self.name}\"\n",
    "\n",
    "# Create instances of each class\n",
    "car = Car(\"Toyota\")\n",
    "bicycle = Bicycle(\"Mountain Cycle\")\n",
    "boat = Boat(\"Sail Boat\")\n",
    "\n",
    "# Print the start method output\n",
    "print(car.start())\n",
    "print(bicycle.start())\n",
    "print(boat.start())\n"
   ]
  },
  {
   "cell_type": "markdown",
   "id": "7428fdf9",
   "metadata": {},
   "source": [
    "# 9. Explain the significance of the `isinstance()` and `issubclass()` functions in Python polymorphism."
   ]
  },
  {
   "cell_type": "code",
   "execution_count": 72,
   "id": "64102fd7",
   "metadata": {},
   "outputs": [
    {
     "name": "stdout",
     "output_type": "stream",
     "text": [
      "True\n",
      "True\n",
      "False\n"
     ]
    }
   ],
   "source": [
    "# is instance \n",
    "\"\"\"isinstance() function:\n",
    "\n",
    "Significance: The isinstance() function is used to check if an object is an instance of a particular class or any of its subclasses. It's crucial for determining the type of an object dynamically, especially in scenarios where polymorphic behavior is desired.\n",
    "Usage: isinstance(object, class_or_tuple)\"\"\"\n",
    "\n",
    "class Animal:\n",
    "    pass\n",
    "\n",
    "class Dog(Animal):\n",
    "    pass\n",
    "\n",
    "dog = Dog()\n",
    "\n",
    "print(isinstance(dog, Dog))      \n",
    "print(isinstance(dog, Animal))   # (since Dog is a subclass of Animal)\n",
    "print (isinstance(Animal,Dog))\n",
    "\n",
    "\n",
    "\n",
    "\n",
    "\n"
   ]
  },
  {
   "cell_type": "code",
   "execution_count": 73,
   "id": "8ca1585f",
   "metadata": {},
   "outputs": [
    {
     "name": "stdout",
     "output_type": "stream",
     "text": [
      "True\n",
      "True\n",
      "False\n"
     ]
    }
   ],
   "source": [
    "# is subclass \n",
    "\"\"\"\n",
    "issubclass() function:\n",
    "\n",
    "Significance: The issubclass() function is used to check if a class is a subclass of another class. It helps in understanding the class hierarchy and relationships between different classes, which is fundamental for polymorphic behavior.\n",
    "Usage: issubclass(class, classinfo)\"\"\"     \n",
    "\n",
    "\n",
    "class Animal:\n",
    "    pass\n",
    "\n",
    "class Dog(Animal):\n",
    "    pass\n",
    "\n",
    "print(issubclass(Dog, Animal))      # (since Dog is a subclass of Animal)\n",
    "print(issubclass(Animal,object ))  # (since all classes inherit from object)\n",
    "\n",
    "print(issubclass(Animal,Dog)) \n"
   ]
  },
  {
   "cell_type": "markdown",
   "id": "9e53dbe5",
   "metadata": {},
   "source": [
    "# 10. What is the role of the `@abstractmethod` decorator in achieving polymorphism in Python? Provide an example."
   ]
  },
  {
   "cell_type": "code",
   "execution_count": 74,
   "id": "355e80cf",
   "metadata": {},
   "outputs": [
    {
     "name": "stdout",
     "output_type": "stream",
     "text": [
      "Woof!\n",
      "Meow!\n"
     ]
    },
    {
     "data": {
      "text/plain": [
       "'In this example, we define an abstract class Animal with an abstract method make_sound(). We then define two subclasses Dog and Cat that implement \\nthe make_sound() method with their own specific behavior.\\n\\nThe make_animal_sound() function takes an Animal object as an argument and calls its make_sound() method. Since Dog and Cat are subclasses of Animal,\\n they can be passed to the make_animal_sound() function, which demonstrates polymorphism.'"
      ]
     },
     "execution_count": 74,
     "metadata": {},
     "output_type": "execute_result"
    }
   ],
   "source": [
    "\"\"\"The @abstractmethod decorator in Python is used to define abstract methods in abstract classes. Abstract methods are methods that are declared \n",
    "but contain no implementation. They are used to specify a contract or interface that subclasses must implement.\n",
    "In the context of polymorphism, abstract methods and the @abstractmethod decorator play a crucial role. By defining an abstract method in an abstract \n",
    "class, we can ensure that all subclasses implement a specific method with a specific signature. This allows us to write code that can work with objects \n",
    "of different types and classes, as long as they share a common interface or set of methods.\n",
    "\n",
    "Here's an example of how to use the @abstractmethod decorator to achieve polymorphism in Python:\"\"\"\n",
    "\n",
    "from abc import ABC, abstractmethod\n",
    "\n",
    "class Animal(ABC):\n",
    "    @abstractmethod\n",
    "    def make_sound(self):\n",
    "        pass\n",
    "\n",
    "class Dog(Animal):\n",
    "    def make_sound(self):\n",
    "        return \"Woof!\"\n",
    "\n",
    "class Cat(Animal):\n",
    "    def make_sound(self):\n",
    "        return \"Meow!\"\n",
    "\n",
    "def make_animal_sound(animal):\n",
    "    print(animal.make_sound())\n",
    "\n",
    "# Polymorphism in action\n",
    "make_animal_sound(Dog())\n",
    "make_animal_sound(Cat())\n",
    "\n",
    "\n",
    "\"\"\"In this example, we define an abstract class Animal with an abstract method make_sound(). We then define two subclasses Dog and Cat that implement \n",
    "the make_sound() method with their own specific behavior.\n",
    "\n",
    "The make_animal_sound() function takes an Animal object as an argument and calls its make_sound() method. Since Dog and Cat are subclasses of Animal,\n",
    " they can be passed to the make_animal_sound() function, which demonstrates polymorphism.\"\"\"\n"
   ]
  },
  {
   "cell_type": "markdown",
   "id": "8df53b50",
   "metadata": {},
   "source": [
    "# 11. Create a Python class called `Shape` with a polymorphic method `area()` that calculates the area of different shapes (e.g., circle, rectangle, triangle)."
   ]
  },
  {
   "cell_type": "code",
   "execution_count": 75,
   "id": "fce79d23",
   "metadata": {},
   "outputs": [
    {
     "name": "stdout",
     "output_type": "stream",
     "text": [
      "Area of Circle: 78.57142857142857\n",
      "Area of Rectangle: 24\n",
      "Area of Triangle: 6.0\n"
     ]
    }
   ],
   "source": [
    "class shape :\n",
    "    def area(self):\n",
    "        pass\n",
    "\n",
    "class circle(shape):\n",
    "    def __init__(self,r):\n",
    "        self.r=r\n",
    "\n",
    "    def area(self):\n",
    "        return 22/7 * self.r**2\n",
    "\n",
    "class rectangle(shape):\n",
    "    def __init__(self,length,breath):\n",
    "        self.length=length\n",
    "        self.breath=breath\n",
    "    def area(self):\n",
    "        return self.length* self.breath    \n",
    "\n",
    "class triangle(shape):\n",
    "    def __init__(self, base, height):\n",
    "        self.base = base\n",
    "        self.height = height\n",
    "\n",
    "    def area(self):\n",
    "        return 1/2 * self.base * self.height\n",
    "\n",
    "# Test the polymorphic behavior\n",
    "circle = circle(5)\n",
    "rectangle = rectangle(4, 6)\n",
    "triangle = triangle(3, 4)\n",
    "\n",
    "print(\"Area of Circle:\", circle.area())\n",
    "print(\"Area of Rectangle:\", rectangle.area())\n",
    "print(\"Area of Triangle:\", triangle.area())"
   ]
  },
  {
   "cell_type": "code",
   "execution_count": null,
   "metadata": {},
   "outputs": [],
   "source": []
  },
  {
   "cell_type": "markdown",
   "id": "3774c828",
   "metadata": {},
   "source": [
    "# 12. Discuss the benefits of polymorphism in terms of code reusability and flexibility in Python programs."
   ]
  },
  {
   "cell_type": "markdown",
   "id": "232c3f31",
   "metadata": {},
   "source": [
    "Polymorphism in Python offers several benefits in terms of code reusability and flexibility:\n",
    "\n",
    "Reusability: Polymorphism allows you to write code that can work with objects of multiple types, often without needing to know the specific type of each object. This promotes code reuse by enabling the same code to be used with different types of objects that share a common interface. Instead of writing separate code for each specific type, you can write more generic code that can handle a variety of objects.\n",
    "\n",
    "Flexibility: Polymorphism increases the flexibility of your code by allowing it to adapt to different scenarios and requirements. You can define abstract interfaces or base classes that specify common behavior, and then implement this behavior differently in various subclasses. This makes your code more adaptable to changes and makes it easier to extend or modify in the future.\n",
    "\n",
    "Modularity: Polymorphism encourages modular design by promoting the separation of concerns. By defining common interfaces or base classes, you can encapsulate specific behaviors within individual classes. This promotes modularity, making it easier to understand, maintain, and extend your codebase.\n",
    "\n",
    "Easier Maintenance: Polymorphism reduces code duplication and promotes a more streamlined codebase. When you need to make changes or add new functionality, you can often do so by modifying or adding to the existing base classes or interfaces. This minimizes the risk of introducing bugs and makes maintenance tasks more straightforward and less error-prone.\n",
    "\n",
    "Enhanced Readability: Polymorphic code tends to be more readable and understandable because it focuses on what needs to be done rather than how it's done for each specific type. This makes it easier for developers to grasp the overall logic of the code and reduces cognitive load when working with complex systems.\n",
    "\n",
    "Overall, polymorphism enhances code reusability, flexibility, modularity, maintainability, and readability, making it a fundamental concept in object-oriented programming and a valuable tool for building robust and scalable Python programs."
   ]
  },
  {
   "cell_type": "markdown",
   "id": "6414eb87",
   "metadata": {},
   "source": [
    "# 13. Explain the use of the `super()` function in Python polymorphism. How does it help call methods of parent classes?"
   ]
  },
  {
   "cell_type": "code",
   "execution_count": 76,
   "metadata": {},
   "outputs": [
    {
     "name": "stdout",
     "output_type": "stream",
     "text": [
      "Buddy says: Woof!\n",
      "Whiskers says: Meow!\n"
     ]
    },
    {
     "data": {
      "text/plain": [
       "'In this example, we define a parent class Animal with a constructor that takes a name argument. We then define two subclasses Dog and Cat that inherit from Animal and override the make_sound() method.\\n\\nThe Dog and Cat constructors use the super().__init__() method to call the constructor of the parent class Animal. This ensures that the name attribute is set correctly for both Dog and Cat objects.\\n\\nThe make_animal_sound() function takes an Animal object as an argument and calls its make_sound() method. Since Dog and Cat are subclasses of Animal, they can be passed to the make_animal_sound() function, which demonstrates polymorphism.'"
      ]
     },
     "execution_count": 76,
     "metadata": {},
     "output_type": "execute_result"
    }
   ],
   "source": [
    "\"\"\"The super() function in Python is used to call methods of parent classes in a class hierarchy. It is especially useful in the context of polymorphism, where we want to call a method of a parent class that has been overridden in a subclass.\"\"\"\n",
    "class Animal:\n",
    "    def __init__(self, name):\n",
    "        self.name = name\n",
    "\n",
    "    def make_sound(self):\n",
    "        pass\n",
    "\n",
    "class Dog(Animal):\n",
    "    def __init__(self, name, breed):\n",
    "        super().__init__(name)\n",
    "        self.breed = breed\n",
    "\n",
    "    def make_sound(self):\n",
    "        return f\"{self.name} says: Woof!\"\n",
    "\n",
    "class Cat(Animal):\n",
    "    def __init__(self, name, breed):\n",
    "        super().__init__(name)\n",
    "        self.breed = breed\n",
    "\n",
    "    def make_sound(self):\n",
    "        return f\"{self.name} says: Meow!\"\n",
    "\n",
    "def make_animal_sound(animal):\n",
    "    print(animal.make_sound())\n",
    "\n",
    "# Polymorphism in action\n",
    "dog = Dog(\"Buddy\", \"Golden Retriever\")\n",
    "cat = Cat(\"Whiskers\", \"Siamese\")\n",
    "\n",
    "make_animal_sound(dog)\n",
    "make_animal_sound(cat)\n",
    "\n",
    "\"\"\"In this example, we define a parent class Animal with a constructor that takes a name argument. We then define two subclasses Dog and Cat that inherit from Animal and override the make_sound() method.\n",
    "\n",
    "The Dog and Cat constructors use the super().__init__() method to call the constructor of the parent class Animal. This ensures that the name attribute is set correctly for both Dog and Cat objects.\n",
    "\n",
    "The make_animal_sound() function takes an Animal object as an argument and calls its make_sound() method. Since Dog and Cat are subclasses of Animal, they can be passed to the make_animal_sound() function, which demonstrates polymorphism.\"\"\"\n",
    " \n"
   ]
  },
  {
   "cell_type": "markdown",
   "id": "c41158f1",
   "metadata": {},
   "source": [
    "# 14. Create a Python class hierarchy for a banking system with various account types (e.g., savings, checking, credit card) and demonstrate polymorphism by implementing a common `withdraw()` method."
   ]
  },
  {
   "cell_type": "markdown",
   "id": "8bfe5527",
   "metadata": {},
   "source": []
  },
  {
   "cell_type": "code",
   "execution_count": 77,
   "id": "aa62c19e",
   "metadata": {},
   "outputs": [
    {
     "name": "stdout",
     "output_type": "stream",
     "text": [
      "Withdrawing 200 from SavingsAccount\n",
      "New balance: 800\n",
      "Withdrawing 600 from CheckingAccount\n",
      "New balance: -100\n",
      "Withdrawing 300 from CreditCardAccount\n",
      "New balance: -1700\n"
     ]
    }
   ],
   "source": [
    "class Account:\n",
    "    def __init__(self, balance):\n",
    "        self.balance = balance\n",
    "\n",
    "    def withdraw(self, amount):\n",
    "        if amount > self.balance:\n",
    "            raise ValueError(\"Insufficient funds\")\n",
    "        self.balance -= amount\n",
    "        return self.balance\n",
    "\n",
    "class SavingsAccount(Account):\n",
    "    pass\n",
    "\n",
    "class CheckingAccount(Account):\n",
    "    def __init__(self, balance, overdraft_limit=0):\n",
    "        super().__init__(balance)\n",
    "        self.overdraft_limit = overdraft_limit\n",
    "\n",
    "    def withdraw(self, amount):\n",
    "        if amount > (self.balance + self.overdraft_limit):\n",
    "            raise ValueError(\"Insufficient funds\")\n",
    "        self.balance -= amount\n",
    "        return self.balance\n",
    "\n",
    "class CreditCardAccount(Account):\n",
    "    def __init__(self, credit_limit):\n",
    "        self.balance = -credit_limit\n",
    "\n",
    "    def withdraw(self, amount):\n",
    "        if amount > (-self.balance):\n",
    "            raise ValueError(\"Insufficient credit\")\n",
    "        self.balance += amount\n",
    "        return self.balance\n",
    "\n",
    "def withdraw_money(account, amount):\n",
    "    print(f\"Withdrawing {amount} from {account.__class__.__name__}\")\n",
    "    try:\n",
    "        new_balance = account.withdraw(amount)\n",
    "        print(f\"New balance: {new_balance}\")\n",
    "    except ValueError as e:\n",
    "        print(e)\n",
    "\n",
    "# Polymorphism in action\n",
    "savings = SavingsAccount(1000)\n",
    "checking = CheckingAccount(500, 100)\n",
    "credit_card = CreditCardAccount(2000)\n",
    "\n",
    "withdraw_money(savings, 200)\n",
    "withdraw_money(checking, 600)\n",
    "withdraw_money(credit_card, 300)"
   ]
  },
  {
   "cell_type": "code",
   "execution_count": null,
   "id": "9edc4b63",
   "metadata": {},
   "outputs": [],
   "source": []
  },
  {
   "cell_type": "markdown",
   "id": "5e60727e",
   "metadata": {},
   "source": [
    "# 15. Describe the concept of operator overloading in Python and how it relates to polymorphism. Provide examples using operators like `+` and `*`."
   ]
  },
  {
   "cell_type": "code",
   "execution_count": null,
   "id": "a80e09c7",
   "metadata": {},
   "outputs": [],
   "source": []
  },
  {
   "cell_type": "markdown",
   "id": "792bff14",
   "metadata": {},
   "source": [
    "# 16. What is dynamic polymorphism, and how is it achieved in Python?"
   ]
  },
  {
   "cell_type": "markdown",
   "id": "dc7c9283",
   "metadata": {},
   "source": [
    "Dynamic polymorphism, also known as runtime polymorphism, refers to the ability of a function, method, or object to behave differently depending on the context at runtime. In object-oriented programming (OOP), this typically involves calling the appropriate method of a subclass based on the object instance, even when the method is invoked through a reference of a parent class.\n",
    "\n",
    "Achieving Dynamic Polymorphism in Python\n",
    "In Python, dynamic polymorphism is achieved using:\n",
    "\n",
    "Method Overriding\n",
    "Inheritance\n",
    "1. Method Overriding\n",
    "When a subclass provides a specific implementation of a method that is already defined in its superclass, the subclass overrides the method. Python will invoke the subclass method when the method is called on an instance of the subclass.\n",
    "\n",
    "Example of Method Overriding:"
   ]
  },
  {
   "cell_type": "code",
   "execution_count": 78,
   "id": "d5f985b2",
   "metadata": {},
   "outputs": [
    {
     "name": "stdout",
     "output_type": "stream",
     "text": [
      "Dog barks\n",
      "Cat meows\n"
     ]
    }
   ],
   "source": [
    "class Animal:\n",
    "    def speak(self):\n",
    "        print(\"Animal makes a sound\")\n",
    "\n",
    "class Dog(Animal):\n",
    "    def speak(self):\n",
    "        print(\"Dog barks\")\n",
    "\n",
    "class Cat(Animal):\n",
    "    def speak(self):\n",
    "        print(\"Cat meows\")\n",
    "\n",
    "# Polymorphism in action\n",
    "def animal_sound(animal):\n",
    "    animal.speak()\n",
    "\n",
    "# Instances of different animals\n",
    "dog = Dog()\n",
    "cat = Cat()\n",
    "\n",
    "# Invokes the overridden method based on the object type at runtime\n",
    "animal_sound(dog) \n",
    "animal_sound(cat)  \n"
   ]
  },
  {
   "cell_type": "markdown",
   "id": "aaac849d",
   "metadata": {},
   "source": [
    "# 17. Create a Python class hierarchy for employees in a company (e.g., manager, developer, designer) and implement polymorphysm through a common calculate_salary()method"
   ]
  },
  {
   "cell_type": "code",
   "execution_count": 79,
   "id": "12bec6f8",
   "metadata": {},
   "outputs": [
    {
     "name": "stdout",
     "output_type": "stream",
     "text": [
      "Alice's salary: 85000\n",
      "Bob's salary: 90000\n",
      "Charlie's salary: 65000\n"
     ]
    }
   ],
   "source": [
    "class Employee:\n",
    "    def __init__(self, name, base_salary):\n",
    "        self.name = name\n",
    "        self.base_salary = base_salary\n",
    "\n",
    "    def calculate_salary(self):\n",
    "        return self.base_salary\n",
    "\n",
    "class Manager(Employee):\n",
    "    def __init__(self, name, base_salary, bonus):\n",
    "        super().__init__(name, base_salary)\n",
    "        self.bonus = bonus\n",
    "\n",
    "    def calculate_salary(self):\n",
    "        # Manager salary is base salary + bonus\n",
    "        return self.base_salary + self.bonus\n",
    "\n",
    "class Developer(Employee):\n",
    "    def __init__(self, name, base_salary, project_allowance):\n",
    "        super().__init__(name, base_salary)\n",
    "        self.project_allowance = project_allowance\n",
    "\n",
    "    def calculate_salary(self):\n",
    "        # Developer salary is base salary + project allowance\n",
    "        return self.base_salary + self.project_allowance\n",
    "\n",
    "class Designer(Employee):\n",
    "    def __init__(self, name, base_salary, design_bonus):\n",
    "        super().__init__(name, base_salary)\n",
    "        self.design_bonus = design_bonus\n",
    "\n",
    "    def calculate_salary(self):\n",
    "        # Designer salary is base salary + design bonus\n",
    "        return self.base_salary + self.design_bonus\n",
    "\n",
    "# Polymorphism in action\n",
    "def show_salary(employee):\n",
    "    print(f\"{employee.name}'s salary: {employee.calculate_salary()}\")\n",
    "\n",
    "# Create instances of each employee type\n",
    "manager = Manager(\"Alice\", 70000, 15000)\n",
    "developer = Developer(\"Bob\", 80000, 10000)\n",
    "designer = Designer(\"Charlie\", 60000, 5000)\n",
    "\n",
    "# Display salaries using the same method\n",
    "show_salary(manager)   \n",
    "show_salary(developer)  \n",
    "show_salary(designer)  \n"
   ]
  },
  {
   "cell_type": "markdown",
   "id": "402e8995",
   "metadata": {},
   "source": [
    "# 18. Discuss the concept of function pointers and how they can be used to achieve polymorphism in Python."
   ]
  },
  {
   "cell_type": "markdown",
   "id": "68bec4a9",
   "metadata": {},
   "source": [
    "Python doesn’t have \"function pointers\" in the same way as lower-level languages like C, but the concept is similar in that functions are first-class objects. This means you can pass functions as arguments to other functions, store them in data structures, and return them from functions.\n",
    "\n",
    "By passing or assigning functions dynamically, you can achieve a form of polymorphism in Python.\n",
    "\n",
    "Example of Function Pointers in Python:\n",
    "You can use function pointers (or function references) to simulate polymorphism by associating specific functions with certain behaviors dynamically"
   ]
  },
  {
   "cell_type": "code",
   "execution_count": 80,
   "id": "0d3a90ee",
   "metadata": {},
   "outputs": [
    {
     "name": "stdout",
     "output_type": "stream",
     "text": [
      "15\n",
      "5\n",
      "50\n"
     ]
    }
   ],
   "source": [
    "# Define multiple functions\n",
    "def add(a, b):\n",
    "    return a + b\n",
    "\n",
    "def subtract(a, b):\n",
    "    return a - b\n",
    "\n",
    "def multiply(a, b):\n",
    "    return a * b\n",
    "\n",
    "# Polymorphism through function pointers (function references)\n",
    "def operate(func, a, b):\n",
    "    return func(a, b)\n",
    "\n",
    "# Use different functions as arguments\n",
    "result1 = operate(add, 10, 5)       \n",
    "result2 = operate(subtract, 10, 5)  \n",
    "result3 = operate(multiply, 10, 5)  \n",
    "\n",
    "print(result1)  \n",
    "print(result2)  \n",
    "print(result3)  \n"
   ]
  },
  {
   "cell_type": "markdown",
   "id": "a0253cb3",
   "metadata": {},
   "source": []
  },
  {
   "cell_type": "markdown",
   "id": "eaf36480",
   "metadata": {},
   "source": [
    "# 19. Explain the role of interfaces and abstract classes in polymorphism, drawing comparisons between them."
   ]
  },
  {
   "cell_type": "markdown",
   "id": "0a9449a2",
   "metadata": {},
   "source": [
    "Both interfaces and abstract classes play a crucial role in achieving polymorphism in object-oriented programming. They allow objects of different types to be used interchangeably as long as they adhere to a common interface or inherit from an abstract class. This promotes flexibility and maintainability in code by decoupling the implementation details from the usage.\n",
    "\n",
    "Let's break down the concepts and compare them in the context of polymorphism:\n",
    "\n",
    "1. Abstract Classes:\n",
    "An abstract class is a class that cannot be instantiated on its own and typically includes one or more abstract methods (methods without implementation) that must be overridden by its subclasses. It provides a blueprint for other classes and can contain both abstract methods and concrete (implemented) methods.\n",
    "\n",
    "Key Features:\n",
    "Defines common behavior for subclasses.\n",
    "Can have both abstract methods (which must be implemented by subclasses) and concrete methods (which can be inherited directly).\n",
    "Enforces a partial implementation and allows subclasses to extend it."
   ]
  },
  {
   "cell_type": "code",
   "execution_count": 81,
   "id": "bc7a1f69",
   "metadata": {},
   "outputs": [
    {
     "name": "stdout",
     "output_type": "stream",
     "text": [
      "Developer salary calculated.\n",
      "Designer salary calculated.\n"
     ]
    }
   ],
   "source": [
    "from abc import ABC, abstractmethod\n",
    "\n",
    "# Abstract class\n",
    "class Employee(ABC):\n",
    "    \n",
    "    @abstractmethod\n",
    "    def calculate_salary(self):\n",
    "        pass\n",
    "\n",
    "# Subclass implementing the abstract method\n",
    "class Developer(Employee):\n",
    "    def calculate_salary(self):\n",
    "        return \"Developer salary calculated.\"\n",
    "\n",
    "class Designer(Employee):\n",
    "    def calculate_salary(self):\n",
    "        return \"Designer salary calculated.\"\n",
    "\n",
    "# Polymorphism using abstract class\n",
    "employees = [Developer(), Designer()]\n",
    "\n",
    "for employee in employees:\n",
    "    print(employee.calculate_salary())\n"
   ]
  },
  {
   "cell_type": "markdown",
   "id": "76e1ab0c",
   "metadata": {},
   "source": [
    "2. Interfaces:\n",
    "An interface defines a contract or a set of methods that a class must implement. Python doesn’t have a direct concept of interfaces (as in Java or C#), but abstract classes with only abstract methods can act like interfaces.\n",
    "\n",
    "Key Features:\n",
    "Purely defines what a class should do, not how it should be done.\n",
    "All methods are abstract, meaning they must be implemented by any class that implements the interface.\n",
    "Ensures complete separation of interface and implementation."
   ]
  },
  {
   "cell_type": "code",
   "execution_count": 82,
   "id": "46a62260",
   "metadata": {},
   "outputs": [
    {
     "name": "stdout",
     "output_type": "stream",
     "text": [
      "Processing PayPal payment for 100.\n",
      "Processing Stripe payment for 100.\n"
     ]
    }
   ],
   "source": [
    "from abc import ABC, abstractmethod\n",
    "\n",
    "# Interface-like abstract class\n",
    "class PaymentProcessor(ABC):\n",
    "    \n",
    "    @abstractmethod\n",
    "    def process_payment(self, amount):\n",
    "        pass\n",
    "\n",
    "# Subclass implementing the interface\n",
    "class PayPal(PaymentProcessor):\n",
    "    def process_payment(self, amount):\n",
    "        return f\"Processing PayPal payment for {amount}.\"\n",
    "\n",
    "class Stripe(PaymentProcessor):\n",
    "    def process_payment(self, amount):\n",
    "        return f\"Processing Stripe payment for {amount}.\"\n",
    "\n",
    "# Polymorphism using the interface\n",
    "payment_methods = [PayPal(), Stripe()]\n",
    "\n",
    "for method in payment_methods:\n",
    "    print(method.process_payment(100))\n"
   ]
  },
  {
   "cell_type": "markdown",
   "id": "eaed0b87",
   "metadata": {},
   "source": [
    "Polymorphism in Both:\n",
    "In both cases, polymorphism is achieved by writing code that operates on a common interface or abstract base class. The concrete behavior is provided by the subclasses or implementing classes. The following example demonstrates polymorphism with both abstract classes and interfaces in Python"
   ]
  },
  {
   "cell_type": "code",
   "execution_count": 83,
   "id": "d92e3491",
   "metadata": {},
   "outputs": [
    {
     "name": "stdout",
     "output_type": "stream",
     "text": [
      "Developer salary calculated.\n",
      "Designer salary calculated.\n"
     ]
    }
   ],
   "source": [
    "def process_salary(employee: Employee):\n",
    "    print(employee.calculate_salary())\n",
    "\n",
    "# Polymorphic behavior\n",
    "process_salary(Developer())  \n",
    "process_salary(Designer())  \n"
   ]
  },
  {
   "cell_type": "markdown",
   "id": "c0fda634",
   "metadata": {},
   "source": [
    "# 20. Create a Python class for a zoo simulation, demonstrating polymorphism with different animal types(eg mammals,birds,reptiles) and thier behaviour (eg eating ,sleeping,making sounds )"
   ]
  },
  {
   "cell_type": "code",
   "execution_count": 84,
   "id": "f751f0de",
   "metadata": {},
   "outputs": [
    {
     "name": "stdout",
     "output_type": "stream",
     "text": [
      "\n",
      "Lion:\n",
      "This animal is eating.\n",
      "This animal is sleeping.\n",
      "Lion roars!\n",
      "\n",
      "Parrot:\n",
      "This animal is eating.\n",
      "This animal is sleeping.\n",
      "Parrot squawks!\n",
      "\n",
      "Snake:\n",
      "This animal is eating.\n",
      "This animal is sleeping.\n",
      "Snake hisses!\n"
     ]
    }
   ],
   "source": [
    "# Base class for all animals\n",
    "class Animal:\n",
    "    def eat(self):\n",
    "        return \"This animal is eating.\"\n",
    "\n",
    "    def sleep(self):\n",
    "        return \"This animal is sleeping.\"\n",
    "\n",
    "    def make_sound(self):\n",
    "        return \"This animal makes a sound.\"\n",
    "\n",
    "# Mammal subclass\n",
    "class Mammal(Animal):\n",
    "    def make_sound(self):\n",
    "        return \"Mammal makes a sound.\"\n",
    "\n",
    "# Bird subclass\n",
    "class Bird(Animal):\n",
    "    def make_sound(self):\n",
    "        return \"Bird chirps.\"\n",
    "\n",
    "# Reptile subclass\n",
    "class Reptile(Animal):\n",
    "    def make_sound(self):\n",
    "        return \"Reptile hisses.\"\n",
    "\n",
    "# Specific animals\n",
    "class Lion(Mammal):\n",
    "    def make_sound(self):\n",
    "        return \"Lion roars!\"\n",
    "\n",
    "class Parrot(Bird):\n",
    "    def make_sound(self):\n",
    "        return \"Parrot squawks!\"\n",
    "\n",
    "class Snake(Reptile):\n",
    "    def make_sound(self):\n",
    "        return \"Snake hisses!\"\n",
    "\n",
    "# Function to demonstrate polymorphism\n",
    "def show_animal_behavior(animal):\n",
    "    print(animal.eat())\n",
    "    print(animal.sleep())\n",
    "    print(animal.make_sound())\n",
    "\n",
    "# Create instances of different animals\n",
    "lion = Lion()\n",
    "parrot = Parrot()\n",
    "snake = Snake()\n",
    "\n",
    "# Call the behavior for each animal\n",
    "animals = [lion, parrot, snake]\n",
    "for animal in animals:\n",
    "    print(f\"\\n{animal.__class__.__name__}:\")\n",
    "    show_animal_behavior(animal)\n"
   ]
  },
  {
   "cell_type": "markdown",
   "id": "b597b7b8",
   "metadata": {},
   "source": [
    "# abstraction "
   ]
  },
  {
   "cell_type": "markdown",
   "id": "50eb7dc7",
   "metadata": {},
   "source": [
    "# 1. What is abstraction in Python, and how does it relate to object-oriented programming?"
   ]
  },
  {
   "cell_type": "markdown",
   "id": "ced368f9",
   "metadata": {},
   "source": [
    "Abstraction is one of the key principles of Object-Oriented Programming (OOP). It refers to the concept of hiding the internal details and showing only the essential information to the user. In Python, abstraction allows us to focus on what an object does, rather than how it does it\n",
    "\n",
    "Key Concepts of Abstraction:\n",
    "Hiding Complexity: Abstraction hides the complexity of the system and provides a simple interface. For example, when you drive a car, you don't need to understand how the engine works; you only need to know how to drive.\n",
    "\n",
    "Essential Features: In abstraction, only the essential features of an object are exposed, and unnecessary implementation details are hidden.\n",
    "\n",
    "Abstraction in Classes: In Python, you can achieve abstraction using classes and methods. You can define abstract methods that must be implemented by subclasses. This forces the subclass to implement specific functionalities while keeping the internal working hidden.\n",
    "\n",
    "\n",
    "\n",
    "\n",
    "Relation to Object-Oriented Programming (OOP):\n",
    "Encapsulation: Abstraction complements encapsulation. While encapsulation restricts access to internal data, abstraction focuses on exposing only the necessary information.\n",
    "\n",
    "Polymorphism: Abstraction can be closely related to polymorphism. Using abstract methods, different classes can implement the same method in different ways."
   ]
  },
  {
   "cell_type": "code",
   "execution_count": 85,
   "id": "6df44fcf",
   "metadata": {},
   "outputs": [
    {
     "name": "stdout",
     "output_type": "stream",
     "text": [
      "Dog barks.\n",
      "Cat meows.\n"
     ]
    }
   ],
   "source": [
    "from abc import ABC, abstractmethod\n",
    "\n",
    "# Abstract class\n",
    "class Animal1(ABC):\n",
    "    # Abstract method\n",
    "    @abstractmethod\n",
    "    def sound(self):\n",
    "        pass\n",
    "    \n",
    "    # Regular method\n",
    "    def sleep(self):\n",
    "        return \"This animal is sleeping.\"\n",
    "\n",
    "# Subclass inheriting from Animal\n",
    "class Dog(Animal1):\n",
    "    def sound(self):\n",
    "        return \"Dog barks.\"\n",
    "\n",
    "class Cat(Animal1):\n",
    "    def sound(self):\n",
    "        return \"Cat meows.\"\n",
    "\n",
    "# Creating objects of the subclasses\n",
    "dog = Dog()\n",
    "cat = Cat()\n",
    "\n",
    "# Using the abstracted method\n",
    "print(dog.sound())  \n",
    "print(cat.sound())  \n"
   ]
  },
  {
   "cell_type": "markdown",
   "id": "073c5c1e",
   "metadata": {},
   "source": [
    "# 2. Describe the benefits of abstraction in terms of code organization and complexity reduction."
   ]
  },
  {
   "cell_type": "markdown",
   "id": "1edfef82",
   "metadata": {},
   "source": [
    "Abstraction in programming provides several key benefits, particularly in terms of code organization and reducing complexity:\n",
    "\n",
    "Simplifies complex systems: Abstraction hides unnecessary implementation details, allowing developers to focus on high-level functionality without getting bogged down by lower-level details. This makes systems easier to understand and maintain.\n",
    "\n",
    "Improves code organization: By grouping related operations into well-defined modules, classes, or functions, abstraction helps structure the code in a more logical way. This makes it easier to navigate and work on specific parts of the system.\n",
    "\n",
    "Enhances reusability: Abstract components can often be reused across different parts of an application or even in different projects. For example, a well-abstracted function or class can be adapted to various use cases without modification.\n",
    "\n",
    "Promotes modularity: Abstraction allows developers to break the system into smaller, manageable pieces. Each component can be developed and tested independently, leading to fewer dependencies and easier debugging.\n",
    "\n",
    "Reduces code duplication: By encapsulating repeated patterns or logic into abstract components, you can avoid writing the same code multiple times. This not only reduces the size of the codebase but also makes it easier to update or fix bugs.\n",
    "\n",
    "Eases maintenance and scalability: As the system evolves, abstract components are easier to modify without affecting other parts of the code. This ensures that changes can be made in a single place, making the code more scalable and maintainable over time"
   ]
  },
  {
   "cell_type": "markdown",
   "id": "f079933c",
   "metadata": {},
   "source": [
    "# 3. Create a Python class called `Shape` with an abstract method `calculate_area()`. Then, create child classes (e.g., `Circle`, `Rectangle`) that implement the `calculate_area()` method. Provide an example of using these classes."
   ]
  },
  {
   "cell_type": "code",
   "execution_count": 86,
   "id": "9533ea88",
   "metadata": {},
   "outputs": [
    {
     "name": "stdout",
     "output_type": "stream",
     "text": [
      "Area of the circle: 78.54\n",
      "Area of the rectangle: 24\n"
     ]
    }
   ],
   "source": [
    "from abc import ABC, abstractmethod\n",
    "import math\n",
    "\n",
    "# Abstract base class\n",
    "class Shape1(ABC):\n",
    "    @abstractmethod\n",
    "    def calculate_area(self):\n",
    "        pass\n",
    "\n",
    "# Child class for Circle\n",
    "class Circle(Shape1):\n",
    "    def __init__(self, radius):\n",
    "        self.radius = radius\n",
    "    \n",
    "    def calculate_area(self):\n",
    "        return math.pi * (self.radius ** 2)\n",
    "\n",
    "# Child class for Rectangle\n",
    "class Rectangle(Shape1):\n",
    "    def __init__(self, width, height):\n",
    "        self.width = width\n",
    "        self.height = height\n",
    "    \n",
    "    def calculate_area(self):\n",
    "        return self.width * self.height\n",
    "\n",
    "# Example usage\n",
    "circle = Circle(5)\n",
    "rectangle = Rectangle(4, 6)\n",
    "\n",
    "\n",
    "print(f\"Area of the circle: {circle.calculate_area():.2f}\")\n",
    "print(f\"Area of the rectangle: {rectangle.calculate_area()}\")\n"
   ]
  },
  {
   "cell_type": "code",
   "execution_count": 87,
   "id": "1bc221d8",
   "metadata": {},
   "outputs": [
    {
     "name": "stdout",
     "output_type": "stream",
     "text": [
      "Can't instantiate abstract class Shape1 with abstract method calculate_area\n"
     ]
    }
   ],
   "source": [
    "try: \n",
    "    Shape1()\n",
    "except:\n",
    "    print(\"Can't instantiate abstract class Shape1 with abstract method calculate_area\")"
   ]
  },
  {
   "cell_type": "markdown",
   "id": "16cf5834",
   "metadata": {},
   "source": [
    "# 4. Explain the concept of abstract classes in Python and how they are defined using the `abc` module. Provide an example."
   ]
  },
  {
   "cell_type": "markdown",
   "id": "53181081",
   "metadata": {},
   "source": [
    "An abstract class in Python is a class that cannot be instantiated on its own and is meant to serve as a blueprint for other classes. It typically contains abstract methods—methods that are declared but have no implementation. These abstract methods must be implemented by any subclass that inherits from the abstract class.\n",
    "\n",
    "Abstract classes help enforce a common interface for multiple classes, ensuring that all subclasses implement certain methods, making the code more consistent and organized.\n",
    "\n",
    "To define abstract classes in Python, the abc (Abstract Base Classes) module is used. The ABC class is inherited to define an abstract class, and methods that should be abstract are decorated with @abstractmethod.\n",
    "\n",
    "Defining Abstract Classes Using abc Module\n",
    "To create an abstract class:\n",
    "\n",
    "Import ABC and abstractmethod from the abc module.\n",
    "Inherit the class from ABC.\n",
    "Define abstract methods using the @abstractmethod decorator."
   ]
  },
  {
   "cell_type": "code",
   "execution_count": 88,
   "id": "5fd8f72e",
   "metadata": {},
   "outputs": [
    {
     "name": "stdout",
     "output_type": "stream",
     "text": [
      "Circle area: 78.5\n",
      "Rectangle area: 24\n"
     ]
    }
   ],
   "source": [
    "from abc import ABC, abstractmethod\n",
    "\n",
    "# Abstract class using ABC\n",
    "class Shape(ABC):\n",
    "    \n",
    "    @abstractmethod\n",
    "    def calculate_area(self):\n",
    "        \"\"\"Abstract method to calculate area\"\"\"\n",
    "        pass\n",
    "\n",
    "# Subclass Circle implementing the abstract method\n",
    "class Circle(Shape):\n",
    "    def __init__(self, radius):\n",
    "        self.radius = radius\n",
    "    \n",
    "    def calculate_area(self):\n",
    "        return 3.14 * (self.radius ** 2)\n",
    "\n",
    "# Subclass Rectangle implementing the abstract method\n",
    "class Rectangle(Shape):\n",
    "    def __init__(self, width, height):\n",
    "        self.width = width\n",
    "        self.height = height\n",
    "    \n",
    "    def calculate_area(self):\n",
    "        return self.width * self.height\n",
    "\n",
    "# Example usage\n",
    "circle = Circle(5)\n",
    "rectangle = Rectangle(4, 6)\n",
    "\n",
    "print(f\"Circle area: {circle.calculate_area()}\")    # Circle area: 78.5\n",
    "print(f\"Rectangle area: {rectangle.calculate_area()}\")  # Rectangle area: 24\n"
   ]
  },
  {
   "cell_type": "markdown",
   "id": "1af893e7",
   "metadata": {},
   "source": [
    "# 5. How do abstract classes differ from regular classes in Python? Discuss their use cases."
   ]
  },
  {
   "cell_type": "markdown",
   "id": "e5e36016",
   "metadata": {},
   "source": [
    ". What Are They?\n",
    "Abstract Classes:\n",
    "A \"blueprint\" for other classes.\n",
    "You cannot create objects from abstract classes directly.\n",
    "Abstract classes have methods that must be implemented in the child classes.\n",
    "Regular Classes:\n",
    "Normal classes where you can create objects directly.\n",
    "All methods are fully defined and ready to use.\n",
    "2. Abstract Methods\n",
    "Abstract Classes:\n",
    "Contain abstract methods, which are like placeholders. The child class must fill in the details of how these methods work.\n",
    "Regular Classes:\n",
    "All methods are fully implemented. There are no placeholders or \"must-do\" methods for the child classes.\n",
    "3. Use Cases\n",
    "Abstract Classes:\n",
    "\n",
    "Useful when you want to make sure all child classes have certain methods.\n",
    "Example: If you have a Shape class, every shape (like a Circle or Rectangle) should be able to calculate its area. You make sure of that by defining an abstract method called calculate_area() in the Shape class.\n",
    "Regular Classes:\n",
    "\n",
    "Use regular classes for creating objects directly with all the methods already implemented.\n",
    "Example: A Dog class can have a method called bark(), and every Dog object will have this method without needing a blueprint"
   ]
  },
  {
   "cell_type": "markdown",
   "id": "cff0d9e4",
   "metadata": {},
   "source": [
    "# 6. Create a Python class for a bank account and demonstrate abstraction by hiding the account balance and providing methods to deposit and withdraw funds."
   ]
  },
  {
   "cell_type": "code",
   "execution_count": 89,
   "id": "98d84fc7",
   "metadata": {},
   "outputs": [
    {
     "name": "stdout",
     "output_type": "stream",
     "text": [
      "Deposited 500. New balance is 1500.\n",
      "Withdrew 300. New balance is 1200.\n",
      "Final balance: 1200\n"
     ]
    }
   ],
   "source": [
    "class BankAccount:\n",
    "    def __init__(self, owner, balance=0):\n",
    "        self.owner = owner\n",
    "        self.__balance = balance  # Private attribute for the account balance\n",
    "    \n",
    "    def deposit(self, amount):\n",
    "        if amount > 0:\n",
    "            self.__balance += amount\n",
    "            print(f\"Deposited {amount}. New balance is {self.__balance}.\")\n",
    "        else:\n",
    "            print(\"Deposit amount must be positive.\")\n",
    "    \n",
    "    def withdraw(self, amount):\n",
    "        if amount > 0 and amount <= self.__balance:\n",
    "            self.__balance -= amount\n",
    "            print(f\"Withdrew {amount}. New balance is {self.__balance}.\")\n",
    "        elif amount > self.__balance:\n",
    "            print(\"Insufficient balance.\")\n",
    "        else:\n",
    "            print(\"Withdrawal amount must be positive.\")\n",
    "    \n",
    "    def get_balance(self):\n",
    "        return self.__balance  # Public method to access the private balance attribute\n",
    "\n",
    "# Example usage:\n",
    "account = BankAccount(\"John Doe\", 1000)\n",
    "account.deposit(500)\n",
    "account.withdraw(300)\n",
    "print(f\"Final balance: {account.get_balance()}\")\n"
   ]
  },
  {
   "cell_type": "markdown",
   "id": "81195f3a",
   "metadata": {},
   "source": [
    "# 7. Discuss the concept of interface classes in Python and their role in achieving abstraction."
   ]
  },
  {
   "cell_type": "markdown",
   "id": "f02eab10",
   "metadata": {},
   "source": [
    "In Python, an interface is a blueprint for classes, defining methods that a class must implement but without providing the implementation. Although Python doesn't have built-in interface support like some other languages (e.g., Java), abstract base classes (ABC) can be used to create interface-like behavior. This concept helps in achieving abstraction by forcing subclasses to implement certain methods.\n",
    "\n",
    "Key Concepts of Interface Classes:\n",
    "Abstract Base Class (ABC): An abstract class can have one or more abstract methods, which are methods declared but not implemented. Subclasses inheriting from this class must implement these abstract methods.\n",
    "\n",
    "Achieving Abstraction: Interface classes define a set of behaviors (methods) without specifying how they are performed. This hides the implementation details from the user, who only interacts with the interface methods.\n",
    "\n",
    "Enforcing Method Implementation: By using an abstract base class, you ensure that any subclass implementing the interface must provide concrete definitions for all the abstract methods, promoting a consistent interface across various implementations.\n",
    "\n",
    "\n",
    "\n",
    "\n",
    "\n",
    "\n",
    "Role of Interface Classes in Abstraction:\n",
    "Hides Implementation Details: The user of a class only knows the method signatures (pay() and refund() in this case) but not how they are implemented.\n",
    "Promotes Code Flexibility: It allows the use of different subclasses (like CreditCardPayment or PayPalPayment) interchangeably, as long as they implement the same interface.\n",
    "Encourages Consistency: All subclasses must implement the interface methods, ensuring that they behave in a uniform way."
   ]
  },
  {
   "cell_type": "markdown",
   "id": "b3c7b8ab",
   "metadata": {},
   "source": [
    "# 8. Create a Python class hierarchy for animals and implement abstraction by defining common methods eg eat(),sleep() in an abstraction base class"
   ]
  },
  {
   "cell_type": "code",
   "execution_count": 90,
   "id": "8d7b1541",
   "metadata": {},
   "outputs": [
    {
     "name": "stdout",
     "output_type": "stream",
     "text": [
      "Dog: Sound - Bark, Movement - Run\n",
      "Bird: Sound - Chirp, Movement - Fly\n",
      "Fish: Sound - Blub, Movement - Swim\n",
      "Snake: Sound - Hiss, Movement - Slither\n"
     ]
    }
   ],
   "source": [
    "from abc import ABC, abstractmethod\n",
    "\n",
    "# Abstract base class (Interface for all animals)\n",
    "class Animal(ABC):\n",
    "    \n",
    "    @abstractmethod\n",
    "    def sound(self):\n",
    "        pass  # Abstract method to define the sound the animal makes\n",
    "    \n",
    "    @abstractmethod\n",
    "    def move(self):\n",
    "        pass  # Abstract method to define how the animal moves\n",
    "\n",
    "# Subclass for Dog implementing the Animal interface\n",
    "class Dog(Animal):\n",
    "    def sound(self):\n",
    "        return \"Bark\"\n",
    "    \n",
    "    def move(self):\n",
    "        return \"Run\"\n",
    "\n",
    "# Subclass for Bird implementing the Animal interface\n",
    "class Bird(Animal):\n",
    "    def sound(self):\n",
    "        return \"Chirp\"\n",
    "    \n",
    "    def move(self):\n",
    "        return \"Fly\"\n",
    "\n",
    "# Subclass for Fish implementing the Animal interface\n",
    "class Fish(Animal):\n",
    "    def sound(self):\n",
    "        return \"Blub\"\n",
    "    \n",
    "    def move(self):\n",
    "        return \"Swim\"\n",
    "\n",
    "# Subclass for Snake implementing the Animal interface\n",
    "class Snake(Animal):\n",
    "    def sound(self):\n",
    "        return \"Hiss\"\n",
    "    \n",
    "    def move(self):\n",
    "        return \"Slither\"\n",
    "\n",
    "# Example usage:\n",
    "animals = [Dog(), Bird(), Fish(), Snake()]\n",
    "\n",
    "for animal in animals:\n",
    "    print(f\"{animal.__class__.__name__}: Sound - {animal.sound()}, Movement - {animal.move()}\")\n"
   ]
  },
  {
   "cell_type": "markdown",
   "id": "987dd42a",
   "metadata": {},
   "source": [
    "# 9. Explain the significance of encapsulation in achieving abstraction. Provide examples."
   ]
  },
  {
   "cell_type": "markdown",
   "id": "5d457265",
   "metadata": {},
   "source": [
    "Encapsulation and abstraction are closely related concepts in object-oriented programming (OOP). Encapsulation refers to bundling data (attributes) and methods (functions) within a class and restricting direct access to some components, usually by marking them as private or protected. This is crucial for achieving abstraction, as encapsulation hides the internal details and only exposes necessary functionality to the user, allowing them to interact with an object without knowing how it is implemented.\n",
    "\n",
    "Abstraction is about simplifying complexity by showing only the essential details and hiding the inner workings, and encapsulation helps achieve this by providing a controlled interface while keeping the internal state hidden.\n",
    "\n",
    "\n",
    "\n",
    "\n",
    "Encapsulation: The balance (__balance) is a private attribute, meaning it cannot be directly accessed from outside the class. Access is only allowed via public methods such as deposit(), withdraw(), and get_balance().\n",
    "Abstraction: The user doesn’t need to know how the balance is internally stored or updated. They only interact with methods that allow deposits, withdrawals, and checking the balance."
   ]
  },
  {
   "cell_type": "code",
   "execution_count": 91,
   "id": "c6a3f63d",
   "metadata": {},
   "outputs": [
    {
     "name": "stdout",
     "output_type": "stream",
     "text": [
      "Deposited 500. New balance is 1500.\n",
      "Withdrew 300. New balance is 1200.\n",
      "Final balance: 1200\n"
     ]
    }
   ],
   "source": [
    "class BankAccount:\n",
    "    def __init__(self, owner, balance=0):\n",
    "        self.owner = owner\n",
    "        self.__balance = balance  # Private attribute\n",
    "    \n",
    "    def deposit(self, amount):\n",
    "        if amount > 0:\n",
    "            self.__balance += amount\n",
    "            print(f\"Deposited {amount}. New balance is {self.__balance}.\")\n",
    "        else:\n",
    "            print(\"Deposit amount must be positive.\")\n",
    "    \n",
    "    def withdraw(self, amount):\n",
    "        if 0 < amount <= self.__balance:\n",
    "            self.__balance -= amount\n",
    "            print(f\"Withdrew {amount}. New balance is {self.__balance}.\")\n",
    "        else:\n",
    "            print(\"Insufficient funds or invalid withdrawal amount.\")\n",
    "    \n",
    "    def get_balance(self):\n",
    "        return self.__balance  # Public method to access the private balance\n",
    "\n",
    "# Example usage\n",
    "account = BankAccount(\"John Doe\", 1000)\n",
    "account.deposit(500)\n",
    "account.withdraw(300)\n",
    "print(f\"Final balance: {account.get_balance()}\")\n"
   ]
  },
  {
   "cell_type": "markdown",
   "id": "e666701d",
   "metadata": {},
   "source": [
    "# 10. What is the purpose of abstract methods, and how do they enforce abstraction in Python classes?"
   ]
  },
  {
   "cell_type": "markdown",
   "id": "9b2808af",
   "metadata": {},
   "source": [
    "Abstract methods in Python are methods that are declared in an abstract base class but contain no implementation. They are meant to be overridden by subclasses, forcing them to provide their own implementations for these methods. The key purpose of abstract methods is to create a blueprint for subclasses, ensuring that all subclasses implement specific behaviors.\n",
    "\n",
    "Abstract methods are a part of abstract base classes (ABC), which can be defined using the abc module. These methods play a crucial role in enforcing abstraction by allowing you to define a consistent interface that must be followed by any class inheriting from the abstract base clas"
   ]
  },
  {
   "cell_type": "code",
   "execution_count": 92,
   "id": "2a457b4d",
   "metadata": {},
   "outputs": [
    {
     "name": "stdout",
     "output_type": "stream",
     "text": [
      "Dog: Sound - Bark, Movement - Run\n",
      "Bird: Sound - Chirp, Movement - Fly\n"
     ]
    }
   ],
   "source": [
    "from abc import ABC, abstractmethod\n",
    "\n",
    "# Abstract base class with abstract methods\n",
    "class Animal(ABC):\n",
    "    \n",
    "    @abstractmethod\n",
    "    def sound(self):\n",
    "        pass  # No implementation, must be overridden\n",
    "    \n",
    "    @abstractmethod\n",
    "    def move(self):\n",
    "        pass  # No implementation, must be overridden\n",
    "\n",
    "# Subclass must implement the abstract methods\n",
    "class Dog(Animal):\n",
    "    def sound(self):\n",
    "        return \"Bark\"\n",
    "    \n",
    "    def move(self):\n",
    "        return \"Run\"\n",
    "\n",
    "# Another subclass implementing the abstract methods\n",
    "class Bird(Animal):\n",
    "    def sound(self):\n",
    "        return \"Chirp\"\n",
    "    \n",
    "    def move(self):\n",
    "        return \"Fly\"\n",
    "\n",
    "# Example usage\n",
    "animals = [Dog(), Bird()]\n",
    "\n",
    "for animal in animals:\n",
    "    print(f\"{animal.__class__.__name__}: Sound - {animal.sound()}, Movement - {animal.move()}\")\n"
   ]
  },
  {
   "cell_type": "markdown",
   "id": "b03c61a0",
   "metadata": {},
   "source": [
    "# 11. Create a Python class for a vehicle system and demonstrate abstraction by defining common methods eg start(), stop() in an abstraction base class"
   ]
  },
  {
   "cell_type": "code",
   "execution_count": 93,
   "id": "91c817a6",
   "metadata": {},
   "outputs": [
    {
     "name": "stdout",
     "output_type": "stream",
     "text": [
      "Car:\n",
      "  Start Engine: Car engine started.\n",
      "  Stop Engine: Car engine stopped.\n",
      "  Move: Car is driving.\n",
      "\n",
      "Motorcycle:\n",
      "  Start Engine: Motorcycle engine started.\n",
      "  Stop Engine: Motorcycle engine stopped.\n",
      "  Move: Motorcycle is riding.\n",
      "\n",
      "Boat:\n",
      "  Start Engine: Boat engine started.\n",
      "  Stop Engine: Boat engine stopped.\n",
      "  Move: Boat is sailing.\n",
      "\n"
     ]
    }
   ],
   "source": [
    "from abc import ABC, abstractmethod\n",
    "\n",
    "# Abstract base class (Vehicle) defining common methods\n",
    "class Vehicle(ABC):\n",
    "    \n",
    "    @abstractmethod\n",
    "    def start_engine(self):\n",
    "        \"\"\"Start the vehicle's engine.\"\"\"\n",
    "        pass\n",
    "    \n",
    "    @abstractmethod\n",
    "    def stop_engine(self):\n",
    "        \"\"\"Stop the vehicle's engine.\"\"\"\n",
    "        pass\n",
    "    \n",
    "    @abstractmethod\n",
    "    def move(self):\n",
    "        \"\"\"Move the vehicle.\"\"\"\n",
    "        pass\n",
    "\n",
    "# Subclass for Car implementing the Vehicle interface\n",
    "class Car(Vehicle):\n",
    "    def start_engine(self):\n",
    "        return \"Car engine started.\"\n",
    "    \n",
    "    def stop_engine(self):\n",
    "        return \"Car engine stopped.\"\n",
    "    \n",
    "    def move(self):\n",
    "        return \"Car is driving.\"\n",
    "\n",
    "# Subclass for Motorcycle implementing the Vehicle interface\n",
    "class Motorcycle(Vehicle):\n",
    "    def start_engine(self):\n",
    "        return \"Motorcycle engine started.\"\n",
    "    \n",
    "    def stop_engine(self):\n",
    "        return \"Motorcycle engine stopped.\"\n",
    "    \n",
    "    def move(self):\n",
    "        return \"Motorcycle is riding.\"\n",
    "\n",
    "# Subclass for Boat implementing the Vehicle interface\n",
    "class Boat(Vehicle):\n",
    "    def start_engine(self):\n",
    "        return \"Boat engine started.\"\n",
    "    \n",
    "    def stop_engine(self):\n",
    "        return \"Boat engine stopped.\"\n",
    "    \n",
    "    def move(self):\n",
    "        return \"Boat is sailing.\"\n",
    "\n",
    "# Example usage\n",
    "vehicles = [Car(), Motorcycle(), Boat()]\n",
    "\n",
    "for vehicle in vehicles:\n",
    "    print(f\"{vehicle.__class__.__name__}:\")\n",
    "    print(f\"  Start Engine: {vehicle.start_engine()}\")\n",
    "    print(f\"  Stop Engine: {vehicle.stop_engine()}\")\n",
    "    print(f\"  Move: {vehicle.move()}\")\n",
    "    print()\n"
   ]
  },
  {
   "cell_type": "markdown",
   "id": "3db04317",
   "metadata": {},
   "source": [
    "# 12. Describe the use of abstract properties in Python and how they can be employed in abstract classes."
   ]
  },
  {
   "cell_type": "markdown",
   "id": "b7d287d8",
   "metadata": {},
   "source": [
    "Abstract properties in Python allow you to define a property that must be implemented by any subclass of an abstract base class. They ensure that a specific attribute exists in all subclasses but do not provide an implementation for the property itself in the abstract base class. This is useful for creating a common interface for attributes that subclasses must follow.\n",
    "\n",
    "How to Define and Use Abstract Properties:\n",
    "Define Abstract Properties:\n",
    "\n",
    "Use the @property decorator to define a property in an abstract base class.\n",
    "Combine it with the @abstractmethod decorator to make it an abstract property.\n",
    "Implement Abstract Properties in Subclasses:\n",
    "\n",
    "Subclasses must provide concrete implementations for the abstract properties. Failure to do so will result in a TypeError if you try to instantiate the subclass"
   ]
  },
  {
   "cell_type": "code",
   "execution_count": 94,
   "id": "2e9f840b",
   "metadata": {},
   "outputs": [
    {
     "name": "stdout",
     "output_type": "stream",
     "text": [
      "Circle:\n",
      "  Area: 78.5\n",
      "  Perimeter: 31.400000000000002\n",
      "\n",
      "Rectangle:\n",
      "  Area: 24\n",
      "  Perimeter: 20\n",
      "\n"
     ]
    }
   ],
   "source": [
    "from abc import ABC, abstractmethod\n",
    "\n",
    "# Abstract base class with abstract properties\n",
    "class Shape(ABC):\n",
    "    \n",
    "    @property\n",
    "    @abstractmethod\n",
    "    def area(self):\n",
    "        \"\"\"Abstract property to get the area of the shape.\"\"\"\n",
    "        pass\n",
    "    \n",
    "    @property\n",
    "    @abstractmethod\n",
    "    def perimeter(self):\n",
    "        \"\"\"Abstract property to get the perimeter of the shape.\"\"\"\n",
    "        pass\n",
    "\n",
    "# Subclass for Circle implementing the abstract properties\n",
    "class Circle(Shape):\n",
    "    def __init__(self, radius):\n",
    "        self.radius = radius\n",
    "    \n",
    "    @property\n",
    "    def area(self):\n",
    "        return 3.14 * self.radius ** 2\n",
    "    \n",
    "    @property\n",
    "    def perimeter(self):\n",
    "        return 2 * 3.14 * self.radius\n",
    "\n",
    "# Subclass for Rectangle implementing the abstract properties\n",
    "class Rectangle(Shape):\n",
    "    def __init__(self, width, height):\n",
    "        self.width = width\n",
    "        self.height = height\n",
    "    \n",
    "    @property\n",
    "    def area(self):\n",
    "        return self.width * self.height\n",
    "    \n",
    "    @property\n",
    "    def perimeter(self):\n",
    "        return 2 * (self.width + self.height)\n",
    "\n",
    "# Example usage\n",
    "shapes = [Circle(5), Rectangle(4, 6)]\n",
    "\n",
    "for shape in shapes:\n",
    "    print(f\"{shape.__class__.__name__}:\")\n",
    "    print(f\"  Area: {shape.area}\")\n",
    "    print(f\"  Perimeter: {shape.perimeter}\")\n",
    "    print()\n"
   ]
  },
  {
   "cell_type": "code",
   "execution_count": null,
   "id": "689051d4",
   "metadata": {},
   "outputs": [],
   "source": []
  },
  {
   "cell_type": "markdown",
   "id": "637c3a16",
   "metadata": {},
   "source": [
    "# 13. Create a Python class hierarchy for employees in a company (e.g., manager, developer, designer) and implement abstraction by defining a common `get_salary()` method."
   ]
  },
  {
   "cell_type": "code",
   "execution_count": 95,
   "id": "63b414fd",
   "metadata": {},
   "outputs": [
    {
     "name": "stdout",
     "output_type": "stream",
     "text": [
      "Manager Alice: Salary - $90000\n",
      "Developer Bob: Salary - $67500\n",
      "Designer Charlie: Salary - $65000\n"
     ]
    }
   ],
   "source": [
    "from abc import ABC, abstractmethod\n",
    "\n",
    "# Abstract base class for all employees\n",
    "class Employee(ABC):\n",
    "    \n",
    "    @abstractmethod\n",
    "    def get_salary(self):\n",
    "        \"\"\"Abstract method to calculate the salary of the employee.\"\"\"\n",
    "        pass\n",
    "\n",
    "# Subclass for Manager\n",
    "class Manager(Employee):\n",
    "    def __init__(self, name, base_salary, bonus):\n",
    "        self.name = name\n",
    "        self.base_salary = base_salary\n",
    "        self.bonus = bonus\n",
    "    \n",
    "    def get_salary(self):\n",
    "        return self.base_salary + self.bonus\n",
    "\n",
    "# Subclass for Developer\n",
    "class Developer(Employee):\n",
    "    def __init__(self, name, base_salary, hours_worked, hourly_rate):\n",
    "        self.name = name\n",
    "        self.base_salary = base_salary\n",
    "        self.hours_worked = hours_worked\n",
    "        self.hourly_rate = hourly_rate\n",
    "    \n",
    "    def get_salary(self):\n",
    "        return self.base_salary + (self.hours_worked * self.hourly_rate)\n",
    "\n",
    "# Subclass for Designer\n",
    "class Designer(Employee):\n",
    "    def __init__(self, name, base_salary, projects_completed, bonus_per_project):\n",
    "        self.name = name\n",
    "        self.base_salary = base_salary\n",
    "        self.projects_completed = projects_completed\n",
    "        self.bonus_per_project = bonus_per_project\n",
    "    \n",
    "    def get_salary(self):\n",
    "        return self.base_salary + (self.projects_completed * self.bonus_per_project)\n",
    "\n",
    "# Example usage\n",
    "employees = [\n",
    "    Manager(name=\"Alice\", base_salary=80000, bonus=10000),\n",
    "    Developer(name=\"Bob\", base_salary=60000, hours_worked=150, hourly_rate=50),\n",
    "    Designer(name=\"Charlie\", base_salary=55000, projects_completed=5, bonus_per_project=2000)\n",
    "]\n",
    "\n",
    "for employee in employees:\n",
    "    print(f\"{employee.__class__.__name__} {employee.name}: Salary - ${employee.get_salary()}\")\n"
   ]
  },
  {
   "cell_type": "markdown",
   "id": "4cf7537e",
   "metadata": {},
   "source": [
    "# 14. Discuss the differences between abstract classes and concrete classes in Python, including their instantiation."
   ]
  },
  {
   "cell_type": "markdown",
   "id": "091b2ce2",
   "metadata": {},
   "source": [
    "Abstract Classes:\n",
    "\n",
    "Purpose: Define a common interface and enforce a contract for subclasses.\n",
    "Instantiation: Cannot be instantiated directly.\n",
    "Methods: May contain abstract methods (no implementation) that must be overridden by subclasses.\n",
    "Usage: Used as a blueprint for other classes.\n",
    "Concrete Classes:\n",
    "\n",
    "Purpose: Implement the functionality and provide complete behavior.\n",
    "Instantiation: Can be instantiated to create objects.\n",
    "Methods: Must provide implementations for all methods, including those from abstract classes.\n",
    "Usage: Used to create actual objects and implement specific behaviors."
   ]
  },
  {
   "cell_type": "code",
   "execution_count": 96,
   "id": "40405cdd",
   "metadata": {},
   "outputs": [
    {
     "name": "stdout",
     "output_type": "stream",
     "text": [
      "TypeError: Can't instantiate abstract class Shape with abstract methods area, perimeter\n"
     ]
    }
   ],
   "source": [
    "# abstract   class\n",
    "\n",
    "from abc import ABC, abstractmethod\n",
    "\n",
    "class Shape(ABC):\n",
    "    @abstractmethod\n",
    "    def area(self):\n",
    "        pass\n",
    "\n",
    "    @abstractmethod\n",
    "    def perimeter(self):\n",
    "        pass\n",
    "\n",
    "# Attempting to instantiate Shape will raise an error\n",
    "try:\n",
    "    shape = Shape() \n",
    "except:\n",
    "    print(\"TypeError: Can't instantiate abstract class Shape with abstract methods area, perimeter\")\n",
    " "
   ]
  },
  {
   "cell_type": "code",
   "execution_count": 97,
   "id": "9ae2e71e",
   "metadata": {},
   "outputs": [
    {
     "name": "stdout",
     "output_type": "stream",
     "text": [
      "78.5\n",
      "31.400000000000002\n"
     ]
    }
   ],
   "source": [
    "# concrete class\n",
    "\n",
    "\n",
    "class Circle(Shape):\n",
    "    def __init__(self, radius):\n",
    "        self.radius = radius\n",
    "\n",
    "    @property\n",
    "    def area(self):\n",
    "        return 3.14 * self.radius ** 2\n",
    "\n",
    "    @property\n",
    "    def perimeter(self):\n",
    "        return 2 * 3.14 * self.radius\n",
    "\n",
    "# Instantiating Circle is allowed\n",
    "circle = Circle(5)\n",
    "print(circle.area)      # Output: 78.5\n",
    "print(circle.perimeter) # Output: 31.400000000000002\n",
    "\n"
   ]
  },
  {
   "cell_type": "markdown",
   "id": "6ffed297",
   "metadata": {},
   "source": [
    "# 15. Explain the concept of abstract data types (ADTs) and their role in achieving abstraction in Python."
   ]
  },
  {
   "cell_type": "markdown",
   "id": "4ec2dae2",
   "metadata": {},
   "source": [
    "\n",
    "Abstract Data Types (ADTs):\n",
    "\n",
    "Concept: ADTs are theoretical models for data structures that define what operations can be performed but not how these operations are implemented. They focus on what data operations are possible rather than how they are executed.\n",
    "\n",
    "Role in Abstraction: ADTs provide a way to hide the implementation details and expose only the necessary operations. This abstraction allows users to work with data in a consistent manner without needing to know the underlying implementation specifics.\n",
    "\n",
    "Example: A stack ADT defines operations like push, pop, and peek, but does not specify how these operations are implemented internally (e.g., using a list or linked list).\n",
    "\n",
    "In Python: You can implement ADTs using classes and methods, providing a clear interface while hiding the internal details."
   ]
  },
  {
   "cell_type": "markdown",
   "id": "9f665a01",
   "metadata": {},
   "source": [
    "# 16. Create a Python class for a computer system, demonstrating abstraction by defining common methods eg power(),shutdown() in an abstract base class"
   ]
  },
  {
   "cell_type": "code",
   "execution_count": 98,
   "id": "c89df847",
   "metadata": {},
   "outputs": [
    {
     "name": "stdout",
     "output_type": "stream",
     "text": [
      "Desktop Dell started.\n",
      "Desktop Dell is On.\n",
      "Desktop Dell shut down.\n",
      "Desktop Dell is Off.\n",
      "\n",
      "Laptop HP started.\n",
      "Laptop HP is On.\n",
      "Laptop HP shut down.\n",
      "Laptop HP is Off.\n",
      "\n"
     ]
    }
   ],
   "source": [
    "from abc import ABC, abstractmethod\n",
    "\n",
    "# Abstract base class for a computer system\n",
    "class ComputerSystem(ABC):\n",
    "    \n",
    "    @abstractmethod\n",
    "    def start(self):\n",
    "        \"\"\"Start the computer system.\"\"\"\n",
    "        pass\n",
    "    \n",
    "    @abstractmethod\n",
    "    def shutdown(self):\n",
    "        \"\"\"Shutdown the computer system.\"\"\"\n",
    "        pass\n",
    "    \n",
    "    @abstractmethod\n",
    "    def get_status(self):\n",
    "        \"\"\"Get the current status of the computer system.\"\"\"\n",
    "        pass\n",
    "\n",
    "# Concrete subclass for a Desktop computer\n",
    "class Desktop(ComputerSystem):\n",
    "    def __init__(self, brand):\n",
    "        self.brand = brand\n",
    "        self.status = \"Off\"\n",
    "    \n",
    "    def start(self):\n",
    "        self.status = \"On\"\n",
    "        return f\"Desktop {self.brand} started.\"\n",
    "    \n",
    "    def shutdown(self):\n",
    "        self.status = \"Off\"\n",
    "        return f\"Desktop {self.brand} shut down.\"\n",
    "    \n",
    "    def get_status(self):\n",
    "        return f\"Desktop {self.brand} is {self.status}.\"\n",
    "\n",
    "# Concrete subclass for a Laptop computer\n",
    "class Laptop(ComputerSystem):\n",
    "    def __init__(self, brand):\n",
    "        self.brand = brand\n",
    "        self.status = \"Off\"\n",
    "    \n",
    "    def start(self):\n",
    "        self.status = \"On\"\n",
    "        return f\"Laptop {self.brand} started.\"\n",
    "    \n",
    "    def shutdown(self):\n",
    "        self.status = \"Off\"\n",
    "        return f\"Laptop {self.brand} shut down.\"\n",
    "    \n",
    "    def get_status(self):\n",
    "        return f\"Laptop {self.brand} is {self.status}.\"\n",
    "\n",
    "# Example usage\n",
    "computers = [\n",
    "    Desktop(brand=\"Dell\"),\n",
    "    Laptop(brand=\"HP\")\n",
    "]\n",
    "\n",
    "for computer in computers:\n",
    "    print(computer.start())\n",
    "    print(computer.get_status())\n",
    "    print(computer.shutdown())\n",
    "    print(computer.get_status())\n",
    "    print()\n"
   ]
  },
  {
   "cell_type": "markdown",
   "id": "fbf6dce7",
   "metadata": {},
   "source": [
    "# 17. Discuss the benefits of using abstraction in large-scale software development projects."
   ]
  },
  {
   "cell_type": "markdown",
   "id": "bfebba10",
   "metadata": {},
   "source": [
    "Abstraction simplifies complex systems, enhances modularity, promotes reusability, improves maintainability, facilitates testing, encourages encapsulation, supports scalability, and enhances code clarity.\n",
    "\n",
    "\n",
    "\n",
    "In large-scale projects, these benefits lead to more manageable, flexible, and maintainable software, making it easier to develop, extend, and support complex systems efficiently."
   ]
  },
  {
   "cell_type": "markdown",
   "id": "f11ae2c2",
   "metadata": {},
   "source": [
    "# 18. Explain how abstraction enhances code reusability and modularity in Python programs."
   ]
  },
  {
   "cell_type": "markdown",
   "id": "823ad909",
   "metadata": {},
   "source": [
    "Reusability:\n",
    "\n",
    "Clear Interfaces: Define common methods without specifying how they work, allowing different implementations to be used interchangeably.\n",
    "Encapsulation: Hides implementation details, enabling components to be reused without modifying their internal logic.\n",
    "Modularity:\n",
    "\n",
    "Separation of Concerns: Keeps the definition of operations separate from their implementation, making it easier to develop and test components independently.\n",
    "Flexible Integration: Allows components to be easily replaced or updated without affecting other parts of the system."
   ]
  },
  {
   "cell_type": "markdown",
   "id": "a0cc1f1c",
   "metadata": {},
   "source": [
    "# 19. Create a Python class for a library system, implementing abstraction by defining common methods (e.g., add book(),borrorw book() in an abstract class"
   ]
  },
  {
   "cell_type": "code",
   "execution_count": 99,
   "id": "b79ed68e",
   "metadata": {},
   "outputs": [
    {
     "name": "stdout",
     "output_type": "stream",
     "text": [
      "Book 'To Kill a Mockingbird' added to the public library.\n",
      "Book 'To Kill a Mockingbird' borrowed from the public library.\n",
      "Book 'To Kill a Mockingbird' returned to the public library.\n",
      "Book '1984' added to the university library.\n",
      "Book '1984' borrowed from the university library.\n",
      "Book '1984' returned to the university library.\n"
     ]
    }
   ],
   "source": [
    "from abc import ABC, abstractmethod\n",
    "\n",
    "# Abstract base class for a library system\n",
    "class LibrarySystem(ABC):\n",
    "    \n",
    "    @abstractmethod\n",
    "    def add_book(self, book_title):\n",
    "        \"\"\"Add a book to the library.\"\"\"\n",
    "        pass\n",
    "    \n",
    "    @abstractmethod\n",
    "    def borrow_book(self, book_title):\n",
    "        \"\"\"Borrow a book from the library.\"\"\"\n",
    "        pass\n",
    "    \n",
    "    @abstractmethod\n",
    "    def return_book(self, book_title):\n",
    "        \"\"\"Return a book to the library.\"\"\"\n",
    "        pass\n",
    "\n",
    "# Concrete subclass for a Public Library\n",
    "class PublicLibrary(LibrarySystem):\n",
    "    def __init__(self):\n",
    "        self.books = []\n",
    "    \n",
    "    def add_book(self, book_title):\n",
    "        self.books.append(book_title)\n",
    "        return f\"Book '{book_title}' added to the public library.\"\n",
    "    \n",
    "    def borrow_book(self, book_title):\n",
    "        if book_title in self.books:\n",
    "            self.books.remove(book_title)\n",
    "            return f\"Book '{book_title}' borrowed from the public library.\"\n",
    "        else:\n",
    "            return f\"Book '{book_title}' is not available in the public library.\"\n",
    "    \n",
    "    def return_book(self, book_title):\n",
    "        self.books.append(book_title)\n",
    "        return f\"Book '{book_title}' returned to the public library.\"\n",
    "\n",
    "# Concrete subclass for a University Library\n",
    "class UniversityLibrary(LibrarySystem):\n",
    "    def __init__(self):\n",
    "        self.books = []\n",
    "    \n",
    "    def add_book(self, book_title):\n",
    "        self.books.append(book_title)\n",
    "        return f\"Book '{book_title}' added to the university library.\"\n",
    "    \n",
    "    def borrow_book(self, book_title):\n",
    "        if book_title in self.books:\n",
    "            self.books.remove(book_title)\n",
    "            return f\"Book '{book_title}' borrowed from the university library.\"\n",
    "        else:\n",
    "            return f\"Book '{book_title}' is not available in the university library.\"\n",
    "    \n",
    "    def return_book(self, book_title):\n",
    "        self.books.append(book_title)\n",
    "        return f\"Book '{book_title}' returned to the university library.\"\n",
    "\n",
    "# Example usage\n",
    "def main():\n",
    "    public_library = PublicLibrary()\n",
    "    university_library = UniversityLibrary()\n",
    "\n",
    "    # Adding and borrowing books\n",
    "    print(public_library.add_book(\"To Kill a Mockingbird\"))\n",
    "    print(public_library.borrow_book(\"To Kill a Mockingbird\"))\n",
    "    print(public_library.return_book(\"To Kill a Mockingbird\"))\n",
    "\n",
    "    print(university_library.add_book(\"1984\"))\n",
    "    print(university_library.borrow_book(\"1984\"))\n",
    "    print(university_library.return_book(\"1984\"))\n",
    "\n",
    "if __name__ == \"__main__\":\n",
    "    main()\n"
   ]
  },
  {
   "cell_type": "markdown",
   "id": "cf208b90",
   "metadata": {},
   "source": [
    "# 20. Describe the concept of method abstraction in Python and how it relates to polymorphism."
   ]
  },
  {
   "cell_type": "markdown",
   "id": "79d9992b",
   "metadata": {},
   "source": [
    "Concept: Method abstraction in Python involves defining methods in an abstract base class (ABC) without providing their implementations. Subclasses must override these abstract methods to provide specific behavior.\n",
    "\n",
    "Relation to Polymorphism: Method abstraction supports polymorphism by allowing different subclasses to implement the same method in their own way. This enables code to interact with different objects through a common interface, while each object may have a unique implementation of the method."
   ]
  },
  {
   "cell_type": "code",
   "execution_count": 100,
   "id": "8e4938d1",
   "metadata": {},
   "outputs": [
    {
     "name": "stdout",
     "output_type": "stream",
     "text": [
      "Circle Details:\n",
      "Area: 78.5\n",
      "Perimeter: 31.400000000000002\n",
      "\n",
      "Rectangle Details:\n",
      "Area: 24\n",
      "Perimeter: 20\n"
     ]
    }
   ],
   "source": [
    "from abc import ABC, abstractmethod\n",
    "\n",
    "# Abstract base class with abstract methods\n",
    "class Shape(ABC):\n",
    "    \n",
    "    @abstractmethod\n",
    "    def area(self):\n",
    "        \"\"\"Calculate the area of the shape.\"\"\"\n",
    "        pass\n",
    "    \n",
    "    @abstractmethod\n",
    "    def perimeter(self):\n",
    "        \"\"\"Calculate the perimeter of the shape.\"\"\"\n",
    "        pass\n",
    "\n",
    "# Concrete subclass for Circle\n",
    "class Circle(Shape):\n",
    "    def __init__(self, radius):\n",
    "        self.radius = radius\n",
    "    \n",
    "    def area(self):\n",
    "        return 3.14 * self.radius ** 2\n",
    "    \n",
    "    def perimeter(self):\n",
    "        return 2 * 3.14 * self.radius\n",
    "\n",
    "# Concrete subclass for Rectangle\n",
    "class Rectangle(Shape):\n",
    "    def __init__(self, width, height):\n",
    "        self.width = width\n",
    "        self.height = height\n",
    "    \n",
    "    def area(self):\n",
    "        return self.width * self.height\n",
    "    \n",
    "    def perimeter(self):\n",
    "        return 2 * (self.width + self.height)\n",
    "\n",
    "# Function to display shape details using polymorphism\n",
    "def display_shape_details(shape):\n",
    "    print(f\"Area: {shape.area()}\")\n",
    "    print(f\"Perimeter: {shape.perimeter()}\")\n",
    "\n",
    "# Example usage\n",
    "circle = Circle(radius=5)\n",
    "rectangle = Rectangle(width=4, height=6)\n",
    "\n",
    "print(\"Circle Details:\")\n",
    "display_shape_details(circle)\n",
    "print(\"\\nRectangle Details:\")\n",
    "display_shape_details(rectangle)\n"
   ]
  },
  {
   "cell_type": "markdown",
   "id": "0553ea79",
   "metadata": {},
   "source": [
    "Method Abstraction: Methods in Shape are abstract and need to be implemented by subclasses.\n",
    "\n",
    "\n",
    "Polymorphism: display_shape_details() can work with any shape, using the appropriate method implementations for Circle and Rectangle."
   ]
  },
  {
   "cell_type": "code",
   "execution_count": null,
   "id": "3d2fba6c",
   "metadata": {},
   "outputs": [],
   "source": []
  },
  {
   "cell_type": "code",
   "execution_count": null,
   "id": "c632e8c2",
   "metadata": {},
   "outputs": [],
   "source": []
  },
  {
   "cell_type": "markdown",
   "id": "9632b562",
   "metadata": {},
   "source": [
    "# composition"
   ]
  },
  {
   "cell_type": "markdown",
   "id": "3faef025",
   "metadata": {},
   "source": [
    "#  1. Explain the concept of composition in Python and how it is used to build complex objects from simpler ones."
   ]
  },
  {
   "cell_type": "markdown",
   "id": "28060c71",
   "metadata": {},
   "source": [
    "\n",
    "Composition in Python is a design principle where one class contains instances of other classes, creating a \"has-a\" relationship. It allows building complex objects from simpler ones by combining them rather than using inheritance. This makes the code modular, reusable, and easier to maintain\n",
    "\n",
    "\n",
    "Here, Car contains an Engine, showcasing composition."
   ]
  },
  {
   "cell_type": "code",
   "execution_count": 101,
   "id": "96c3a66b",
   "metadata": {},
   "outputs": [
    {
     "name": "stdout",
     "output_type": "stream",
     "text": [
      "Engine started\n"
     ]
    }
   ],
   "source": [
    "class Engine:\n",
    "    def start(self):\n",
    "        return \"Engine started\"\n",
    "\n",
    "class Car:\n",
    "    def __init__(self, engine):\n",
    "        self.engine = engine           # Composition: Car \"has-a\" Engine\n",
    "\n",
    "    def start_car(self):\n",
    "        return self.engine.start()\n",
    "\n",
    "engine = Engine()\n",
    "my_car = Car(engine)\n",
    "print(my_car.start_car())\n"
   ]
  },
  {
   "cell_type": "markdown",
   "id": "27909b54",
   "metadata": {},
   "source": [
    "#  2. Describe the difference between composition and inheritance in object-oriented programming."
   ]
  },
  {
   "cell_type": "code",
   "execution_count": 102,
   "id": "850f1b32",
   "metadata": {},
   "outputs": [
    {
     "name": "stdout",
     "output_type": "stream",
     "text": [
      "Dog barks\n"
     ]
    }
   ],
   "source": [
    "\"\"\"The difference between composition and inheritance in object-oriented programming lies in how objects are related and how behavior is shared:\n",
    "\n",
    "1. Inheritance:\n",
    "\"Is-a\" relationship: The derived (child) class inherits properties and behaviors (methods) from a base (parent) class.\n",
    "Code reuse: Allows sharing behavior between related classes.\n",
    "Tight coupling: Changes in the parent class can affect all child classes.\n",
    "Example: A Dog class might inherit from an Animal class, meaning a dog is an animal.\"\"\"\n",
    "\n",
    "\n",
    "\n",
    "\n",
    "class Animal:\n",
    "    def speak(self):\n",
    "        return \"Animal speaks\"\n",
    "\n",
    "class Dog(Animal):  # Inheritance\n",
    "    def speak(self):\n",
    "        return \"Dog barks\"\n",
    "\n",
    "dog = Dog()\n",
    "print(dog.speak())  \n"
   ]
  },
  {
   "cell_type": "code",
   "execution_count": 103,
   "id": "53e7079b",
   "metadata": {},
   "outputs": [
    {
     "name": "stdout",
     "output_type": "stream",
     "text": [
      "Engine started\n"
     ]
    }
   ],
   "source": [
    "\"\"\"2. Composition:\n",
    "\"Has-a\" relationship: One class contains an instance of another class.\n",
    "Modular design: Classes are independent, promoting flexibility and reuse.\n",
    "Loose coupling: Changes to one class do not directly affect others.\n",
    "Example: A Car class may have an Engine class, meaning a car has an engine.\"\"\"\n",
    "\n",
    "\n",
    "\n",
    "class Engine:\n",
    "    def start(self):\n",
    "        return \"Engine started\"\n",
    "\n",
    "class Car:\n",
    "    def __init__(self, engine):\n",
    "        self.engine = engine  # Composition\n",
    "\n",
    "    def start_car(self):\n",
    "        return self.engine.start()      # calling strt function \n",
    "\n",
    "engine = Engine()\n",
    "car = Car(engine)\n",
    "print(car.start_car())  \n"
   ]
  },
  {
   "cell_type": "markdown",
   "id": "031df047",
   "metadata": {},
   "source": [
    "#  3. Create a Python class called `Author` with attributes for name and birthdate. Then, create a `Book` class that contains an instance of `Author` as a composition. Provide an example of creating a `Book` object."
   ]
  },
  {
   "cell_type": "code",
   "execution_count": 104,
   "id": "bf008915",
   "metadata": {},
   "outputs": [
    {
     "name": "stdout",
     "output_type": "stream",
     "text": [
      "'1984' by George Orwell, published in 1949. Author born on June 25, 1903.\n"
     ]
    }
   ],
   "source": [
    "# Author class\n",
    "class Author:\n",
    "    def __init__(self, name, birthdate):\n",
    "        self.name = name\n",
    "        self.birthdate = birthdate\n",
    "\n",
    "# Book class with composition of Author\n",
    "class Book:\n",
    "    def __init__(self, title, author, year_published):\n",
    "        self.title = title\n",
    "        self.author = author  # Composition: Book \"has an\" Author\n",
    "        self.year_published = year_published\n",
    "\n",
    "    def get_book_details(self):\n",
    "        return (f\"'{self.title}' by {self.author.name}, \"\n",
    "                f\"published in {self.year_published}. \"\n",
    "                f\"Author born on {self.author.birthdate}.\")\n",
    "\n",
    "# Example of creating a Book object\n",
    "author = Author(\"George Orwell\", \"June 25, 1903\")\n",
    "book = Book(\"1984\", author, 1949)\n",
    "\n",
    "# Display book details\n",
    "print(book.get_book_details())\n"
   ]
  },
  {
   "cell_type": "markdown",
   "id": "67144991",
   "metadata": {},
   "source": [
    "# 4. Discuss the benefits of using composition over inheritance in Python, especially in terms of code flexibility and reusability."
   ]
  },
  {
   "cell_type": "markdown",
   "id": "acfd9ca6",
   "metadata": {},
   "source": [
    " Flexibility:\n",
    "\n",
    "Composition allows combining objects dynamically, making it easier to change behavior by swapping components without altering class hierarchies.\n",
    "\n",
    "Reusability:\n",
    "\n",
    "Classes can be reused across different systems without modification, promoting modular code.\n",
    "\n",
    "Avoiding Inheritance Complexity:\n",
    "\n",
    "Composition prevents deep inheritance chains and issues like method overriding and multiple inheritance problems.\n",
    "\n",
    "Dynamic Behavior:\n",
    "\n",
    "You can replace components at runtime, making systems more adaptable and easier to extend."
   ]
  },
  {
   "cell_type": "code",
   "execution_count": null,
   "id": "91e2318b",
   "metadata": {},
   "outputs": [],
   "source": []
  },
  {
   "cell_type": "markdown",
   "id": "20d7636b",
   "metadata": {},
   "source": [
    "#  5. How can you implement composition in Python classes? Provide examples of using composition to create complex objects."
   ]
  },
  {
   "cell_type": "code",
   "execution_count": 105,
   "id": "bd94d33f",
   "metadata": {},
   "outputs": [
    {
     "name": "stdout",
     "output_type": "stream",
     "text": [
      "Sedan car: Engine started\n"
     ]
    }
   ],
   "source": [
    "\"\"\"Composition is implemented by including instances of other classes within a class, allowing for more complex behavior without relying on inheritance.\n",
    "\n",
    "\"\"\"\n",
    "\n",
    "# Component class\n",
    "class Engine:\n",
    "    def start(self):\n",
    "        return \"Engine started\"\n",
    "\n",
    "# Composite class\n",
    "class Car:\n",
    "    def __init__(self, model, engine):\n",
    "        self.model = model\n",
    "        self.engine = engine  # Composition: Car \"has an\" Engine\n",
    "    \n",
    "    def start_car(self):\n",
    "        return f\"{self.model} car: {self.engine.start()}\"\n",
    "\n",
    "# Using composition to create a complex object\n",
    "engine = Engine()\n",
    "car = Car(\"Sedan\", engine)\n",
    "\n",
    "print(car.start_car())  \n",
    "\n"
   ]
  },
  {
   "cell_type": "markdown",
   "id": "bd2c9348",
   "metadata": {},
   "source": [
    "#  6. Create a Python class hierarchy for a music player system, using composition to represent playlists and songs."
   ]
  },
  {
   "cell_type": "code",
   "execution_count": 106,
   "id": "4fa96967",
   "metadata": {},
   "outputs": [
    {
     "name": "stdout",
     "output_type": "stream",
     "text": [
      "Playlist: Favorite Classics\n",
      "Imagine by John Lennon (183 sec)\n",
      "Hey Jude by The Beatles (431 sec)\n"
     ]
    }
   ],
   "source": [
    "# Song class\n",
    "class Song:\n",
    "    def __init__(self, title, artist, duration):\n",
    "        self.title = title\n",
    "        self.artist = artist\n",
    "        self.duration = duration  # Duration in seconds\n",
    "\n",
    "    def __str__(self):\n",
    "        return f\"{self.title} by {self.artist} ({self.duration} sec)\"\n",
    "\n",
    "# Playlist class\n",
    "class Playlist:\n",
    "    def __init__(self, name):\n",
    "        self.name = name\n",
    "        self.songs = []  # List to store songs\n",
    "    \n",
    "    def add_song(self, song):\n",
    "        self.songs.append(song)\n",
    "    \n",
    "    def remove_song(self, song_title):\n",
    "        self.songs = [song for song in self.songs if song.title != song_title]\n",
    "    \n",
    "    def get_playlist_details(self):\n",
    "        return f\"Playlist: {self.name}\\n\" + \"\\n\".join(str(song) for song in self.songs)\n",
    "\n",
    "# MusicPlayer class\n",
    "class MusicPlayer:\n",
    "    def __init__(self):\n",
    "        self.playlists = {}  # Dictionary to store playlists by name\n",
    "    \n",
    "    def add_playlist(self, playlist):\n",
    "        self.playlists[playlist.name] = playlist\n",
    "    \n",
    "    def remove_playlist(self, playlist_name):\n",
    "        if playlist_name in self.playlists:\n",
    "            del self.playlists[playlist_name]\n",
    "    \n",
    "    def get_player_details(self):\n",
    "        details = []\n",
    "        for playlist_name, playlist in self.playlists.items():\n",
    "            details.append(playlist.get_playlist_details())\n",
    "        return \"\\n\\n\".join(details)\n",
    "\n",
    "# Example usage\n",
    "# Creating songs\n",
    "song1 = Song(\"Imagine\", \"John Lennon\", 183)\n",
    "song2 = Song(\"Hey Jude\", \"The Beatles\", 431)\n",
    "\n",
    "# Creating a playlist and adding songs\n",
    "playlist = Playlist(\"Favorite Classics\")\n",
    "playlist.add_song(song1)\n",
    "playlist.add_song(song2)\n",
    "\n",
    "# Creating a music player and adding the playlist\n",
    "player = MusicPlayer()\n",
    "player.add_playlist(playlist)\n",
    "\n",
    "# Displaying details\n",
    "print(player.get_player_details())\n"
   ]
  },
  {
   "cell_type": "markdown",
   "id": "52bbf6f8",
   "metadata": {},
   "source": [
    "#  7. Explain the concept of \"has-a\" relationships in composition and how it helps design software systems."
   ]
  },
  {
   "cell_type": "markdown",
   "id": "a3e88f2c",
   "metadata": {},
   "source": [
    " The \"has-a\" relationship in composition means that one class contains or includes instances of another class. This relationship indicates that the containing class relies on the contained class to provide certain functionality or attributes.\n",
    "\n",
    "Benefits:\n",
    "Modularity: Classes are independent and can be used in various combinations.\n",
    "Flexibility: Changes to the contained class do not impact the container class as long as the interface remains the same.\n",
    "Reusability: Components can be reused across different contexts without modifying their implementation.\n",
    "Maintainability: Each class can be modified independently, making the code easier to manage.\n",
    "Example:\n",
    "A Car class has an Engine, and a Library class has a list of Books, demonstrating how composition builds complex objects from simpler ones."
   ]
  },
  {
   "cell_type": "markdown",
   "id": "2f0726b5",
   "metadata": {},
   "source": [
    "#  8. Create a Python class for a computer system, using composition to represent components like CPU, RAM, and storage devices."
   ]
  },
  {
   "cell_type": "code",
   "execution_count": 107,
   "id": "90686287",
   "metadata": {},
   "outputs": [
    {
     "name": "stdout",
     "output_type": "stream",
     "text": [
      "CPU: Intel with 8 cores\n",
      "RAM: 16 GB\n",
      "Storage: 512 GB SSD\n"
     ]
    }
   ],
   "source": [
    "# Component classes\n",
    "class CPU:\n",
    "    def __init__(self, brand, cores):\n",
    "        self.brand = brand\n",
    "        self.cores = cores\n",
    "\n",
    "    def get_info(self):\n",
    "        return f\"CPU: {self.brand} with {self.cores} cores\"\n",
    "\n",
    "class RAM:\n",
    "    def __init__(self, size_gb):\n",
    "        self.size_gb = size_gb\n",
    "\n",
    "    def get_info(self):\n",
    "        return f\"RAM: {self.size_gb} GB\"\n",
    "\n",
    "class Storage:\n",
    "    def __init__(self, size_gb, type_):\n",
    "        self.size_gb = size_gb\n",
    "        self.type_ = type_\n",
    "\n",
    "    def get_info(self):\n",
    "        return f\"Storage: {self.size_gb} GB {self.type_}\"\n",
    "\n",
    "# Composite class\n",
    "class Computer:\n",
    "    def __init__(self, cpu, ram, storage):\n",
    "        self.cpu = cpu        # Composition: Computer \"has a\" CPU\n",
    "        self.ram = ram        # Composition: Computer \"has RAM\"\n",
    "        self.storage = storage # Composition: Computer \"has Storage\"\n",
    "\n",
    "    def get_system_info(self):\n",
    "        return (\n",
    "            f\"{self.cpu.get_info()}\\n\"\n",
    "            f\"{self.ram.get_info()}\\n\"\n",
    "            f\"{self.storage.get_info()}\"\n",
    "        )\n",
    "\n",
    "# Example usage\n",
    "cpu = CPU(\"Intel\", 8)\n",
    "ram = RAM(16)\n",
    "storage = Storage(512, \"SSD\")\n",
    "\n",
    "computer = Computer(cpu, ram, storage)\n",
    "\n",
    "print(computer.get_system_info())\n"
   ]
  },
  {
   "cell_type": "markdown",
   "id": "c195b226",
   "metadata": {},
   "source": [
    "#  9. Describe the concept of \"delegation\" in composition and how it simplifies the design of complex systems."
   ]
  },
  {
   "cell_type": "markdown",
   "id": "d128552e",
   "metadata": {},
   "source": [
    "Delegation is a design pattern where an object (delegator) forwards specific tasks or responsibilities to another object (delegate).\n",
    "\n",
    "Benefits:\n",
    "\n",
    "Separation of Concerns: Different objects handle distinct responsibilities, leading to cleaner code.\n",
    "Flexibility: You can change or extend functionality by swapping delegates without modifying the delegator.\n",
    "Reusability: Common tasks can be handled by shared delegate objects, reducing code duplication.\n",
    "\n",
    "Example:\n",
    "\n",
    "A Printer class delegates document and image printing tasks to DocumentPrinter and ImagePrinter classes, respectively, simplifying the design and making it more modular"
   ]
  },
  {
   "cell_type": "markdown",
   "id": "1d419988",
   "metadata": {},
   "source": [
    "#  10. Create a Python class for a car, using composition to represent components like the engine, wheels, and transmission."
   ]
  },
  {
   "cell_type": "code",
   "execution_count": 108,
   "id": "cc50e76b",
   "metadata": {},
   "outputs": [
    {
     "name": "stdout",
     "output_type": "stream",
     "text": [
      "Engine: V6 with 300 HP\n",
      "Wheels: 18-inch\n",
      "Transmission: Automatic\n"
     ]
    }
   ],
   "source": [
    "# Component classes\n",
    "class Engine:\n",
    "    def __init__(self, type_, horsepower):\n",
    "        self.type_ = type_           # Type of engine (e.g., V6, electric)\n",
    "        self.horsepower = horsepower # Engine horsepower\n",
    "\n",
    "    def get_info(self):\n",
    "        return f\"Engine: {self.type_} with {self.horsepower} HP\"\n",
    "\n",
    "class Wheels:\n",
    "    def __init__(self, size_inch):\n",
    "        self.size_inch = size_inch   # Wheel size in inches\n",
    "\n",
    "    def get_info(self):\n",
    "        return f\"Wheels: {self.size_inch}-inch\"\n",
    "\n",
    "class Transmission:\n",
    "    def __init__(self, transmission_type):\n",
    "        self.transmission_type = transmission_type # Transmission type (e.g., automatic, manual)\n",
    "\n",
    "    def get_info(self):\n",
    "        return f\"Transmission: {self.transmission_type}\"\n",
    "\n",
    "# Composite class\n",
    "class Car:\n",
    "    def __init__(self, engine, wheels, transmission):\n",
    "        self.engine = engine           # Composition: Car \"has an\" Engine\n",
    "        self.wheels = wheels           # Composition: Car \"has Wheels\"\n",
    "        self.transmission = transmission # Composition: Car \"has a Transmission\"\n",
    "\n",
    "    def get_car_info(self):\n",
    "        return (\n",
    "            f\"{self.engine.get_info()}\\n\"\n",
    "            f\"{self.wheels.get_info()}\\n\"\n",
    "            f\"{self.transmission.get_info()}\"\n",
    "        )\n",
    "\n",
    "# Example usage\n",
    "engine = Engine(\"V6\", 300)\n",
    "wheels = Wheels(18)\n",
    "transmission = Transmission(\"Automatic\")\n",
    "\n",
    "car = Car(engine, wheels, transmission)\n",
    "\n",
    "print(car.get_car_info())\n"
   ]
  },
  {
   "cell_type": "markdown",
   "id": "f584358b",
   "metadata": {},
   "source": [
    "# 11. How can you encapsulate and hide the details of composed objects in Python classes to maintain abstraction?"
   ]
  },
  {
   "cell_type": "markdown",
   "id": "e1ce0e78",
   "metadata": {},
   "source": [
    "\"\"\"\n",
    "To encapsulate and hide the details of composed objects in Python:\n",
    "\n",
    "Private Attributes:\n",
    "\n",
    "Use double underscores (__) to make attributes private, preventing direct access.\n",
    "\n",
    "Protected Attributes:\n",
    "\n",
    "Use a single underscore (_) to signal that the attribute is internal but still accessible if needed.\n",
    "Public Methods:\n",
    "\n",
    "Provide methods to interact with composed objects, keeping the internal details hidden\"\"\"\n",
    "\n",
    "\n",
    "\n"
   ]
  },
  {
   "cell_type": "code",
   "execution_count": 109,
   "id": "c202dc6f",
   "metadata": {},
   "outputs": [
    {
     "name": "stdout",
     "output_type": "stream",
     "text": [
      "Engine started\n",
      "Car has 250 horsepower\n"
     ]
    }
   ],
   "source": [
    "# Component class\n",
    "class Engine:\n",
    "    def __init__(self, horsepower):\n",
    "        self.horsepower = horsepower\n",
    "\n",
    "    def start(self):\n",
    "        return \"Engine started\"\n",
    "\n",
    "# Composite class with encapsulation\n",
    "class Car:\n",
    "    def __init__(self, horsepower):\n",
    "        self.__engine = Engine(horsepower)  # Private engine attribute\n",
    " \n",
    "    def start_car(self):\n",
    "        return self.__engine.start()  # Public method to interact with the engine\n",
    "\n",
    "    def get_horsepower(self):\n",
    "        return f\"Car has {self.__engine.horsepower} horsepower\"\n",
    "\n",
    "# Example usage\n",
    "car = Car(250)\n",
    "print(car.start_car())          \n",
    "print(car.get_horsepower())      "
   ]
  },
  {
   "cell_type": "markdown",
   "id": "02e46f2a",
   "metadata": {},
   "source": [
    "# 12. Create a Python class for a university course, using composition to represent students, instructors, and course materials"
   ]
  },
  {
   "cell_type": "code",
   "execution_count": 110,
   "id": "9bb6cc63",
   "metadata": {},
   "outputs": [
    {
     "name": "stdout",
     "output_type": "stream",
     "text": [
      "Course: Intro to Programming\n",
      "Instructor: Dr. Smith, Dept: Computer Science\n",
      "Students:\n",
      "  Student: Alice (ID: 101)\n",
      "  Student: Bob (ID: 102)\n",
      "  Student: Charlie (ID: 103)\n",
      "Course Materials:\n",
      "  Material: Introduction to Python (Textbook)\n",
      "  Material: Python Basics Video (Video)\n",
      "  Material: Lecture 1 Slides (Slides)\n",
      "\n"
     ]
    }
   ],
   "source": [
    "# Component classes\n",
    "class Student:\n",
    "    def __init__(self, name, student_id):\n",
    "        self.name = name\n",
    "        self.student_id = student_id\n",
    "\n",
    "    def get_info(self):\n",
    "        return f\"Student: {self.name} (ID: {self.student_id})\"\n",
    "\n",
    "class Instructor:\n",
    "    def __init__(self, name, department):\n",
    "        self.name = name\n",
    "        self.department = department\n",
    "\n",
    "    def get_info(self):\n",
    "        return f\"Instructor: {self.name}, Dept: {self.department}\"\n",
    "\n",
    "class CourseMaterial:\n",
    "    def __init__(self, title, material_type):\n",
    "        self.title = title\n",
    "        self.material_type = material_type  # e.g., textbook, video, slides\n",
    "\n",
    "    def get_info(self):\n",
    "        return f\"Material: {self.title} ({self.material_type})\"\n",
    "\n",
    "# Composite class\n",
    "class Course:\n",
    "    def __init__(self, course_name, instructor, students, materials):\n",
    "        self.course_name = course_name\n",
    "        self.instructor = instructor  # Composition: Course \"has an\" Instructor\n",
    "        self.students = students      # Composition: Course \"has\" multiple Students\n",
    "        self.materials = materials    # Composition: Course \"has\" multiple Materials\n",
    "\n",
    "    def get_course_info(self):\n",
    "        info = f\"Course: {self.course_name}\\n\"\n",
    "        info += f\"{self.instructor.get_info()}\\n\"\n",
    "        info += \"Students:\\n\"\n",
    "        for student in self.students:\n",
    "            info += f\"  {student.get_info()}\\n\"\n",
    "        info += \"Course Materials:\\n\"\n",
    "        for material in self.materials:\n",
    "            info += f\"  {material.get_info()}\\n\"\n",
    "        return info\n",
    "\n",
    "# Example usage\n",
    "instructor = Instructor(\"Dr. Smith\", \"Computer Science\")\n",
    "students = [\n",
    "    Student(\"Alice\", 101),\n",
    "    Student(\"Bob\", 102),\n",
    "    Student(\"Charlie\", 103)\n",
    "]\n",
    "materials = [\n",
    "    CourseMaterial(\"Introduction to Python\", \"Textbook\"),\n",
    "    CourseMaterial(\"Python Basics Video\", \"Video\"),\n",
    "    CourseMaterial(\"Lecture 1 Slides\", \"Slides\")\n",
    "]\n",
    "\n",
    "course = Course(\"Intro to Programming\", instructor, students, materials)\n",
    "\n",
    "print(course.get_course_info())\n"
   ]
  },
  {
   "cell_type": "markdown",
   "id": "80d8ab42",
   "metadata": {},
   "source": [
    "# 13. Discuss the challenges and drawbacks of composition, such as increased complexity and potential for tight coupling between objects."
   ]
  },
  {
   "cell_type": "markdown",
   "id": "30f74124",
   "metadata": {},
   "source": [
    "Increased Complexity:\n",
    "\n",
    " Managing multiple components inside an object can make the design harder to understand and debug.\n",
    "\n",
    "Tight Coupling:\n",
    "\n",
    " Objects in composition depend heavily on each other, making changes or replacements of components more difficult.\n",
    "\n",
    "Testing and Maintenance: \n",
    "\n",
    "Testing composite objects requires ensuring both components and their integration work well, which can complicate maintenance.\n",
    "\n",
    "Performance Overhead:\n",
    "\n",
    " Creating and managing many objects can introduce memory and performance costs.\n",
    "\n",
    "Responsibility Diffusion:\n",
    "\n",
    " It can be unclear which object is responsible for certain behaviors, leading to potential confusion in managing and updating the system."
   ]
  },
  {
   "cell_type": "markdown",
   "id": "efac25f1",
   "metadata": {},
   "source": [
    "# 14. Create a Python class hierarchy for a restaurant system, using composition to represent menus, dishes, and ingredients."
   ]
  },
  {
   "cell_type": "code",
   "execution_count": 111,
   "id": "dde3b120",
   "metadata": {},
   "outputs": [
    {
     "name": "stdout",
     "output_type": "stream",
     "text": [
      "Dish: Chicken Sandwich | Ingredients: 2 slices of Tomato, 1 leaf of Lettuce, 2 pieces of Bread, 200 grams of Chicken\n"
     ]
    }
   ],
   "source": [
    "# Component class for ingredients\n",
    "class Ingredient:\n",
    "    def __init__(self, name, quantity):\n",
    "        self.name = name\n",
    "        self.quantity = quantity\n",
    "\n",
    "    def get_info(self):\n",
    "        return f\"{self.quantity} of {self.name}\"\n",
    "\n",
    "# Component class for dishes\n",
    "class Dish:\n",
    "    def __init__(self, name, ingredients):\n",
    "        self.name = name\n",
    "        self.ingredients = ingredients  # Composition: Dish has ingredients\n",
    "\n",
    "    def get_dish_info(self):\n",
    "        ingredients_info = \", \".join([ingredient.get_info() for ingredient in self.ingredients])\n",
    "        return f\"Dish: {self.name} | Ingredients: {ingredients_info}\"\n",
    "\n",
    "# Composite class for the menu\n",
    "class Menu:\n",
    "    def __init__(self):\n",
    "        self.dishes = []  # Composition: Menu has dishes\n",
    "\n",
    "    def add_dish(self, dish):\n",
    "        self.dishes.append(dish)\n",
    "\n",
    "    def get_menu(self):\n",
    "        return \"\\n\".join([dish.get_dish_info() for dish in self.dishes])\n",
    "\n",
    "# Example usage\n",
    "# Create some ingredients\n",
    "ingredient1 = Ingredient(\"Tomato\", \"2 slices\")\n",
    "ingredient2 = Ingredient(\"Lettuce\", \"1 leaf\")\n",
    "ingredient3 = Ingredient(\"Bread\", \"2 pieces\")\n",
    "ingredient4 = Ingredient(\"Chicken\", \"200 grams\")\n",
    "\n",
    "# Create dishes with ingredients\n",
    "dish1 = Dish(\"Chicken Sandwich\", [ingredient1, ingredient2, ingredient3, ingredient4])\n",
    "\n",
    "# Create a menu and add dishes\n",
    "menu = Menu()\n",
    "menu.add_dish(dish1)\n",
    "\n",
    "# Display menu\n",
    "print(menu.get_menu())\n"
   ]
  },
  {
   "cell_type": "markdown",
   "id": "3ce89fdc",
   "metadata": {},
   "source": [
    "#  15. Explain how composition enhances code maintainability and modularity in Python programs."
   ]
  },
  {
   "cell_type": "markdown",
   "id": "962f7b53",
   "metadata": {},
   "source": [
    "Composition enhances code maintainability and modularity by:\n",
    "\n",
    "Modularity: Breaks down complex systems into simpler, reusable components. Each component (class) handles its specific functionality, making the system easier to understand and manage.\n",
    "\n",
    "Flexibility: Allows for easy modification or replacement of components without affecting other parts of the system. Changes to one component don't require changes to others.\n",
    "\n",
    "Encapsulation: Hides implementation details of components, exposing only necessary interfaces. This simplifies interactions and reduces dependencies.\n",
    "\n",
    "Reusability: Components can be reused across different contexts or projects, reducing redundancy and promoting code reuse.\n",
    "\n",
    "Overall, composition leads to cleaner, more organized code that is easier to maintain and extend."
   ]
  },
  {
   "cell_type": "markdown",
   "id": "bf1318a2",
   "metadata": {},
   "source": [
    "# 16. Create a Python class for a computer game character, using composition to represent attributes like weapons, armor, and inventory."
   ]
  },
  {
   "cell_type": "code",
   "execution_count": 112,
   "id": "f00b076b",
   "metadata": {},
   "outputs": [
    {
     "name": "stdout",
     "output_type": "stream",
     "text": [
      "Character: Hero\n",
      "Weapon: Sword with 50 damage\n",
      "Armor: Shield with 30 defense\n",
      "Inventory: Health Potion, Mana Potion\n"
     ]
    }
   ],
   "source": [
    "# Component class for weapons\n",
    "class Weapon:\n",
    "    def __init__(self, name, damage):\n",
    "        self.name = name\n",
    "        self.damage = damage\n",
    "\n",
    "    def get_info(self):\n",
    "        return f\"Weapon: {self.name} with {self.damage} damage\"\n",
    "\n",
    "# Component class for armor\n",
    "class Armor:\n",
    "    def __init__(self, name, defense):\n",
    "        self.name = name\n",
    "        self.defense = defense\n",
    "\n",
    "    def get_info(self):\n",
    "        return f\"Armor: {self.name} with {self.defense} defense\"\n",
    "\n",
    "# Component class for inventory\n",
    "class Inventory:\n",
    "    def __init__(self):\n",
    "        self.items = []  # List of items\n",
    "\n",
    "    def add_item(self, item):\n",
    "        self.items.append(item)\n",
    "\n",
    "    def get_inventory(self):\n",
    "        return \", \".join(self.items) if self.items else \"Empty\"\n",
    "\n",
    "# Composite class for the character\n",
    "class Character:\n",
    "    def __init__(self, name):\n",
    "        self.name = name\n",
    "        self.weapon = None\n",
    "        self.armor = None\n",
    "        self.inventory = Inventory()  # Composition: Character has an inventory\n",
    "\n",
    "    def equip_weapon(self, weapon):\n",
    "        self.weapon = weapon\n",
    "\n",
    "    def equip_armor(self, armor):\n",
    "        self.armor = armor\n",
    "\n",
    "    def add_to_inventory(self, item):\n",
    "        self.inventory.add_item(item)\n",
    "\n",
    "    def get_character_info(self):\n",
    "        weapon_info = self.weapon.get_info() if self.weapon else \"No weapon equipped\"\n",
    "        armor_info = self.armor.get_info() if self.armor else \"No armor equipped\"\n",
    "        inventory_info = self.inventory.get_inventory()\n",
    "        return (\n",
    "            f\"Character: {self.name}\\n\"\n",
    "            f\"{weapon_info}\\n\"\n",
    "            f\"{armor_info}\\n\"\n",
    "            f\"Inventory: {inventory_info}\"\n",
    "        )\n",
    "\n",
    "# Example usage\n",
    "# Create some weapons and armor\n",
    "sword = Weapon(\"Sword\", 50)\n",
    "shield = Armor(\"Shield\", 30)\n",
    "\n",
    "# Create a character\n",
    "character = Character(\"Hero\")\n",
    "\n",
    "# Equip weapon and armor\n",
    "character.equip_weapon(sword)\n",
    "character.equip_armor(shield)\n",
    "\n",
    "# Add items to inventory\n",
    "character.add_to_inventory(\"Health Potion\")\n",
    "character.add_to_inventory(\"Mana Potion\")\n",
    "\n",
    "# Display character info\n",
    "print(character.get_character_info())\n"
   ]
  },
  {
   "cell_type": "markdown",
   "id": "05055f41",
   "metadata": {},
   "source": [
    "#  17. Describe the concept of \"aggregation\" in composition and how it differs from simple composition."
   ]
  },
  {
   "cell_type": "code",
   "execution_count": 113,
   "id": "5497f748",
   "metadata": {},
   "outputs": [
    {
     "name": "stdout",
     "output_type": "stream",
     "text": [
      "Car with Engine with 150 horsepower\n"
     ]
    }
   ],
   "source": [
    "\"\"\"Aggregation: Represents a \"has-a\" relationship where the contained object can exist independently of the container. The container does not control the lifecycle of the contained object.\n",
    "Composition: Represents a stronger \"has-a\" relationship where the contained object's lifecycle is dependent on the container. If the container is destroyed, the contained object is also destroyed\n",
    "\"\"\"\n",
    "\n",
    "# aggregation\n",
    "\n",
    "# Aggregated class (independent lifecycle)\n",
    "class Engine:\n",
    "    def __init__(self, horsepower):\n",
    "        self.horsepower = horsepower\n",
    "\n",
    "    def get_info(self):\n",
    "        return f\"Engine with {self.horsepower} horsepower\"\n",
    "\n",
    "# Aggregating class (does not own the Engine)\n",
    "class Car:\n",
    "    def __init__(self, engine):\n",
    "        self.engine = engine  # Aggregation: Car \"has a\" Engine, but Engine is independent\n",
    "\n",
    "    def get_info(self):\n",
    "        return f\"Car with {self.engine.get_info()}\"\n",
    "\n",
    "# Example usage\n",
    "engine = Engine(150)  # Create Engine independently\n",
    "car = Car(engine)     # Use the Engine in a Car\n",
    "\n",
    "print(car.get_info())  # Output: Car with Engine with 150 horsepower\n",
    "\n"
   ]
  },
  {
   "cell_type": "markdown",
   "id": "8fa294af",
   "metadata": {},
   "source": [
    "# 18. Create a Python class for a house, using composition to represent rooms, furniture, and appliances."
   ]
  },
  {
   "cell_type": "code",
   "execution_count": 114,
   "id": "93bc0f8b",
   "metadata": {},
   "outputs": [
    {
     "name": "stdout",
     "output_type": "stream",
     "text": [
      "Room: Living Room\n",
      "Furniture: Furniture: Sofa\n",
      "Appliances: Appliance: Refrigerator\n",
      "\n",
      "Room: Dining Room\n",
      "Furniture: Furniture: Dining Table\n",
      "Appliances: Appliance: Oven\n"
     ]
    }
   ],
   "source": [
    "# Component class for furniture\n",
    "class Furniture:\n",
    "    def __init__(self, name):\n",
    "        self.name = name\n",
    "\n",
    "    def get_info(self):\n",
    "        return f\"Furniture: {self.name}\"\n",
    "\n",
    "# Component class for appliances\n",
    "class Appliance:\n",
    "    def __init__(self, name):\n",
    "        self.name = name\n",
    "\n",
    "    def get_info(self):\n",
    "        return f\"Appliance: {self.name}\"\n",
    "\n",
    "# Composite class for rooms\n",
    "class Room:\n",
    "    def __init__(self, name):\n",
    "        self.name = name\n",
    "        self.furniture_list = []  # List to store furniture\n",
    "        self.appliance_list = []  # List to store appliances\n",
    "\n",
    "    def add_furniture(self, furniture):\n",
    "        self.furniture_list.append(furniture)\n",
    "\n",
    "    def add_appliance(self, appliance):\n",
    "        self.appliance_list.append(appliance)\n",
    "\n",
    "    def get_room_info(self):\n",
    "        furniture_info = \", \".join(f.get_info() for f in self.furniture_list)\n",
    "        appliance_info = \", \".join(a.get_info() for a in self.appliance_list)\n",
    "        return (f\"Room: {self.name}\\n\"\n",
    "                f\"Furniture: {furniture_info if furniture_info else 'None'}\\n\"\n",
    "                f\"Appliances: {appliance_info if appliance_info else 'None'}\")\n",
    "\n",
    "# Composite class for the house\n",
    "class House:\n",
    "    def __init__(self):\n",
    "        self.rooms = []  # List to store rooms\n",
    "\n",
    "    def add_room(self, room):\n",
    "        self.rooms.append(room)\n",
    "\n",
    "    def get_house_info(self):\n",
    "        return \"\\n\\n\".join(room.get_room_info() for room in self.rooms)\n",
    "\n",
    "# Example usage\n",
    "# Create some furniture and appliances\n",
    "sofa = Furniture(\"Sofa\")\n",
    "table = Furniture(\"Dining Table\")\n",
    "fridge = Appliance(\"Refrigerator\")\n",
    "oven = Appliance(\"Oven\")\n",
    "\n",
    "# Create rooms and add furniture and appliances\n",
    "living_room = Room(\"Living Room\")\n",
    "living_room.add_furniture(sofa)\n",
    "living_room.add_appliance(fridge)\n",
    "\n",
    "dining_room = Room(\"Dining Room\")\n",
    "dining_room.add_furniture(table)\n",
    "dining_room.add_appliance(oven)\n",
    "\n",
    "# Create a house and add rooms\n",
    "house = House()\n",
    "house.add_room(living_room)\n",
    "house.add_room(dining_room)\n",
    "\n",
    "# Display house information\n",
    "print(house.get_house_info())\n"
   ]
  },
  {
   "cell_type": "markdown",
   "id": "758e4cd5",
   "metadata": {},
   "source": [
    "# 19. How can you achieve flexibility in composed objects by allowing them to be replaced or modified dynamically at runtime?"
   ]
  },
  {
   "cell_type": "markdown",
   "id": "a74cb108",
   "metadata": {},
   "source": [
    "\n",
    "To achieve flexibility in composed objects:\n",
    "\n",
    "Dependency Injection: \n",
    "\n",
    "Pass components to a class via its constructor or methods, allowing runtime changes.\n",
    "\n",
    "\n",
    "class Car:\n",
    "\n",
    "\n",
    "\n",
    "    def __init__(self, engine):\n",
    "        self.engine = engine\n",
    "\n",
    "\n",
    "\n",
    "Interfaces/Abstract Classes: \n",
    "\n",
    "Use abstract base classes to define common behavior, enabling different implementations to be swapped easily\n",
    "\n",
    "\n",
    "\n",
    "\n",
    "class Engine(ABC):\n",
    "\n",
    "\n",
    "    @abstractmethod\n",
    "    def start(self): pass\n",
    "\n",
    "\n",
    "Composition with Delegation:\n",
    "\n",
    " Delegate functionality to composed objects and provide methods to replace or modify them at runtime.\n",
    "\n",
    "\n",
    "\n",
    "\n",
    "class Car:\n",
    "\n",
    "    def __init__(self, engine):\n",
    "        self._engine = engine\n",
    "    def set_engine(self, new_engine):\n",
    "        self._engine = new_engine\n"
   ]
  },
  {
   "cell_type": "markdown",
   "id": "341af8f8",
   "metadata": {},
   "source": [
    "# 20. Create a Python class for a social media application, using composition to represent users, posts, and comments."
   ]
  },
  {
   "cell_type": "code",
   "execution_count": 115,
   "id": "006853a2",
   "metadata": {},
   "outputs": [
    {
     "name": "stdout",
     "output_type": "stream",
     "text": [
      "User: alice\n",
      "Posts:\n",
      "Post by alice: My first post!\n",
      "Comments:\n",
      "Comment by bob: Great post, Alice!\n",
      "\n",
      "----------------------------------------\n",
      "\n",
      "User: bob\n",
      "Posts:\n",
      "Post by bob: Hello, world!\n",
      "Comments:\n",
      "Comment by alice: Welcome to the platform, Bob!\n"
     ]
    }
   ],
   "source": [
    "# Component class for comments\n",
    "class Comment:\n",
    "    def __init__(self, user, text):\n",
    "        self.user = user  # User who made the comment\n",
    "        self.text = text  # Content of the comment\n",
    "\n",
    "    def get_comment_info(self):\n",
    "        return f\"Comment by {self.user.username}: {self.text}\"\n",
    "\n",
    "# Composite class for posts\n",
    "class Post:\n",
    "    def __init__(self, user, content):\n",
    "        self.user = user  # User who created the post\n",
    "        self.content = content  # Content of the post\n",
    "        self.comments = []  # List of comments on the post\n",
    "\n",
    "    def add_comment(self, comment):\n",
    "        self.comments.append(comment)\n",
    "\n",
    "    def get_post_info(self):\n",
    "        comments_info = \"\\n\".join(c.get_comment_info() for c in self.comments)\n",
    "        return (f\"Post by {self.user.username}: {self.content}\\n\"\n",
    "                f\"Comments:\\n{comments_info if comments_info else 'No comments'}\")\n",
    "\n",
    "# Composite class for users\n",
    "class User:\n",
    "    def __init__(self, username):\n",
    "        self.username = username  # User's username\n",
    "        self.posts = []  # List of posts created by the user\n",
    "\n",
    "    def create_post(self, content):\n",
    "        post = Post(self, content)\n",
    "        self.posts.append(post)\n",
    "        return post\n",
    "\n",
    "    def get_user_info(self):\n",
    "        posts_info = \"\\n\\n\".join(post.get_post_info() for post in self.posts)\n",
    "        return f\"User: {self.username}\\nPosts:\\n{posts_info if posts_info else 'No posts'}\"\n",
    "\n",
    "# Example usage\n",
    "# Create users\n",
    "alice = User(\"alice\")\n",
    "bob = User(\"bob\")\n",
    "\n",
    "# Alice creates a post\n",
    "post1 = alice.create_post(\"My first post!\")\n",
    "post1.add_comment(Comment(bob, \"Great post, Alice!\"))\n",
    "\n",
    "# Bob creates a post\n",
    "post2 = bob.create_post(\"Hello, world!\")\n",
    "post2.add_comment(Comment(alice, \"Welcome to the platform, Bob!\"))\n",
    "\n",
    "# Display user information\n",
    "print(alice.get_user_info())\n",
    "print(\"\\n\" + \"-\"*40 + \"\\n\")\n",
    "print(bob.get_user_info())\n"
   ]
  }
 ],
 "metadata": {
  "kernelspec": {
   "display_name": "Python 3 (ipykernel)",
   "language": "python",
   "name": "python3"
  },
  "language_info": {
   "codemirror_mode": {
    "name": "ipython",
    "version": 3
   },
   "file_extension": ".py",
   "mimetype": "text/x-python",
   "name": "python",
   "nbconvert_exporter": "python",
   "pygments_lexer": "ipython3",
   "version": "3.11.5"
  }
 },
 "nbformat": 4,
 "nbformat_minor": 5
}
