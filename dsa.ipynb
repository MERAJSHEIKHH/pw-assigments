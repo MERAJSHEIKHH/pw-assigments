{
 "cells": [
  {
   "cell_type": "markdown",
   "metadata": {},
   "source": [
    "# Problem 1: Reverse a singly linked list.\n",
    "\n",
    " Input: 1 -> 2 -> 3 -> 4 -> 5       \n",
    " Output: 5 -> 4 -> 3 -> 2 -> 1          "
   ]
  },
  {
   "cell_type": "code",
   "execution_count": 20,
   "metadata": {},
   "outputs": [
    {
     "name": "stdout",
     "output_type": "stream",
     "text": [
      "Original list:\n",
      "1 -> 2 -> 3 -> 4 -> 5\n",
      "Reversed list:\n",
      "5 -> 4 -> 3 -> 2 -> 1\n"
     ]
    }
   ],
   "source": [
    "class ListNode:\n",
    "    def __init__(self, value=0, next=None):\n",
    "        self.value = value\n",
    "        self.next = next\n",
    "\n",
    "def reverse_linked_list(head):\n",
    "    prev = None\n",
    "    curr = head\n",
    "\n",
    "    while curr:\n",
    "        next_node = curr.next  # Save the next node\n",
    "        curr.next = prev       # Reverse the link\n",
    "        prev = curr            # Move prev one step forward\n",
    "        curr = next_node       # Move curr one step forward\n",
    "\n",
    "    return prev  # New head of the reversed list\n",
    "\n",
    "# Helper function to print the list\n",
    "def print_list(head):\n",
    "    while head:\n",
    "        print(head.value, end=\" -> \" if head.next else \"\\n\")\n",
    "        head = head.next\n",
    "\n",
    "# Example Usage\n",
    "head = ListNode(1)\n",
    "head.next = ListNode(2)\n",
    "head.next.next = ListNode(3)\n",
    "head.next.next.next = ListNode(4)\n",
    "head.next.next.next.next = ListNode(5)\n",
    "\n",
    "print(\"Original list:\")\n",
    "print_list(head)\n",
    "\n",
    "reversed_head = reverse_linked_list(head)\n",
    "\n",
    "print(\"Reversed list:\")\n",
    "print_list(reversed_head)\n"
   ]
  },
  {
   "cell_type": "markdown",
   "metadata": {},
   "source": [
    " # Problem 2: Merge two sorted linked lists into one sorted linked list.\n",
    "\n",
    " Input: List 1: 1 -> 3 -> 5, List 2: 2 -> 4 -> 6        \n",
    " Output: 1 -> 2 -> 3 -> 4 -> 5 -> 6              "
   ]
  },
  {
   "cell_type": "code",
   "execution_count": 21,
   "metadata": {},
   "outputs": [
    {
     "name": "stdout",
     "output_type": "stream",
     "text": [
      "List 1:\n",
      "1 -> 3 -> 5\n",
      "List 2:\n",
      "2 -> 4 -> 6\n",
      "Merged list:\n",
      "1 -> 2 -> 3 -> 4 -> 5 -> 6\n"
     ]
    }
   ],
   "source": [
    "class ListNode:\n",
    "    def __init__(self, value=0, next=None):\n",
    "        self.value = value\n",
    "        self.next = next\n",
    "\n",
    "def merge_two_sorted_lists(l1, l2):\n",
    "    # Create a dummy node to serve as the starting point of the merged list\n",
    "    dummy = ListNode()\n",
    "    tail = dummy\n",
    "\n",
    "    # Traverse both lists and merge them in sorted order\n",
    "    while l1 and l2:\n",
    "        if l1.value < l2.value:\n",
    "            tail.next = l1\n",
    "            l1 = l1.next\n",
    "        else:\n",
    "            tail.next = l2\n",
    "            l2 = l2.next\n",
    "        tail = tail.next\n",
    "\n",
    "    # Append the remaining nodes of l1 or l2 (if any)\n",
    "    if l1:\n",
    "        tail.next = l1\n",
    "    elif l2:\n",
    "        tail.next = l2\n",
    "\n",
    "    return dummy.next  # Return the next node of the dummy, which is the head of the merged list\n",
    "\n",
    "# Helper function to print the list\n",
    "def print_list(head):\n",
    "    while head:\n",
    "        print(head.value, end=\" -> \" if head.next else \"\\n\")\n",
    "        head = head.next\n",
    "\n",
    "# Example Usage\n",
    "l1 = ListNode(1)\n",
    "l1.next = ListNode(3)\n",
    "l1.next.next = ListNode(5)\n",
    "\n",
    "l2 = ListNode(2)\n",
    "l2.next = ListNode(4)\n",
    "l2.next.next = ListNode(6)\n",
    "\n",
    "print(\"List 1:\")\n",
    "print_list(l1)\n",
    "\n",
    "print(\"List 2:\")\n",
    "print_list(l2)\n",
    "\n",
    "merged_head = merge_two_sorted_lists(l1, l2)\n",
    "\n",
    "print(\"Merged list:\")\n",
    "print_list(merged_head)\n"
   ]
  },
  {
   "cell_type": "markdown",
   "metadata": {},
   "source": [
    "# Problem 3: Remove the nth node from the end of a linked list.\n",
    "\n",
    " Input: 1 -> 2 -> 3 -> 4 -> 5, n = 2                        \n",
    " Output: 1 -> 2 -> 3 -> 5                  "
   ]
  },
  {
   "cell_type": "code",
   "execution_count": 22,
   "metadata": {},
   "outputs": [
    {
     "name": "stdout",
     "output_type": "stream",
     "text": [
      "Original list:\n",
      "1 -> 2 -> 3 -> 4 -> 5\n",
      "List after removing 2th node from the end:\n",
      "1 -> 2 -> 3 -> 5\n"
     ]
    }
   ],
   "source": [
    "class ListNode:\n",
    "    def __init__(self, value=0, next=None):\n",
    "        self.value = value\n",
    "        self.next = next\n",
    "\n",
    "def remove_nth_from_end(head, n):\n",
    "    # Create a dummy node to simplify edge cases like removing the first node\n",
    "    dummy = ListNode(0)\n",
    "    dummy.next = head\n",
    "    first = dummy\n",
    "    second = dummy\n",
    "\n",
    "    # Move first pointer n+1 steps ahead to maintain the gap\n",
    "    for _ in range(n + 1):\n",
    "        first = first.next\n",
    "\n",
    "    # Move both pointers until first reaches the end\n",
    "    while first:\n",
    "        first = first.next\n",
    "        second = second.next\n",
    "\n",
    "    # Remove the nth node from the end\n",
    "    second.next = second.next.next\n",
    "\n",
    "    return dummy.next\n",
    "\n",
    "# Helper function to print the list\n",
    "def print_list(head):\n",
    "    while head:\n",
    "        print(head.value, end=\" -> \" if head.next else \"\\n\")\n",
    "        head = head.next\n",
    "\n",
    "# Example Usage\n",
    "head = ListNode(1)\n",
    "head.next = ListNode(2)\n",
    "head.next.next = ListNode(3)\n",
    "head.next.next.next = ListNode(4)\n",
    "head.next.next.next.next = ListNode(5)\n",
    "\n",
    "print(\"Original list:\")\n",
    "print_list(head)\n",
    "\n",
    "n = 2\n",
    "new_head = remove_nth_from_end(head, n)\n",
    "\n",
    "print(f\"List after removing {n}th node from the end:\")\n",
    "print_list(new_head)\n"
   ]
  },
  {
   "cell_type": "markdown",
   "metadata": {},
   "source": [
    "#  Problem 4: Find the intersection point of two linked lists.\n",
    "\n",
    " Input: List 1: 1 -> 2 -> 3 -> 4, List 2: 9 -> 8 -> 3 -> 4          \n",
    " Output: Node with value 3              "
   ]
  },
  {
   "cell_type": "code",
   "execution_count": 23,
   "metadata": {},
   "outputs": [
    {
     "name": "stdout",
     "output_type": "stream",
     "text": [
      "List 1:\n",
      "1 -> 2 -> 3 -> 4\n",
      "List 2:\n",
      "9 -> 8 -> 3 -> 4\n",
      "Intersection at node with value: 3\n"
     ]
    }
   ],
   "source": [
    "class ListNode:\n",
    "    def __init__(self, value=0, next=None):\n",
    "        self.value = value\n",
    "        self.next = next\n",
    "\n",
    "def get_length(head):\n",
    "    length = 0\n",
    "    while head:\n",
    "        length += 1\n",
    "        head = head.next\n",
    "    return length\n",
    "\n",
    "def get_intersection_node(headA, headB):\n",
    "    # Get the lengths of both linked lists\n",
    "    lenA = get_length(headA)\n",
    "    lenB = get_length(headB)\n",
    "\n",
    "    # Align the two lists by advancing the pointer of the longer list\n",
    "    if lenA > lenB:\n",
    "        for _ in range(lenA - lenB):\n",
    "            headA = headA.next\n",
    "    elif lenB > lenA:\n",
    "        for _ in range(lenB - lenA):\n",
    "            headB = headB.next\n",
    "\n",
    "    # Traverse both lists together to find the intersection point\n",
    "    while headA and headB:\n",
    "        if headA == headB:\n",
    "            return headA  # Intersection point\n",
    "        headA = headA.next\n",
    "        headB = headB.next\n",
    "\n",
    "    return None  # No intersection\n",
    "\n",
    "# Helper function to print the list\n",
    "def print_list(head):\n",
    "    while head:\n",
    "        print(head.value, end=\" -> \" if head.next else \"\\n\")\n",
    "        head = head.next\n",
    "\n",
    "# Example Usage\n",
    "# Creating the intersection\n",
    "common = ListNode(3)\n",
    "common.next = ListNode(4)\n",
    "\n",
    "# Creating first list: 1 -> 2 -> 3 -> 4\n",
    "list1 = ListNode(1)\n",
    "list1.next = ListNode(2)\n",
    "list1.next.next = common\n",
    "\n",
    "# Creating second list: 9 -> 8 -> 3 -> 4\n",
    "list2 = ListNode(9)\n",
    "list2.next = ListNode(8)\n",
    "list2.next.next = common\n",
    "\n",
    "print(\"List 1:\")\n",
    "print_list(list1)\n",
    "\n",
    "print(\"List 2:\")\n",
    "print_list(list2)\n",
    "\n",
    "intersection_node = get_intersection_node(list1, list2)\n",
    "\n",
    "if intersection_node:\n",
    "    print(f\"Intersection at node with value: {intersection_node.value}\")\n",
    "else:\n",
    "    print(\"No intersection.\")\n"
   ]
  },
  {
   "cell_type": "markdown",
   "metadata": {},
   "source": [
    "#  Problem 5: Remove duplicates from a sorted linked list.\n",
    "\n",
    " Input: 1 -> 1 -> 2 -> 3 -> 3                \n",
    " Output: 1 -> 2 -> 3             "
   ]
  },
  {
   "cell_type": "code",
   "execution_count": 24,
   "metadata": {},
   "outputs": [
    {
     "name": "stdout",
     "output_type": "stream",
     "text": [
      "Original list:\n",
      "1 -> 1 -> 2 -> 3 -> 3\n",
      "List after removing duplicates:\n",
      "1 -> 2 -> 3\n"
     ]
    }
   ],
   "source": [
    "class ListNode:\n",
    "    def __init__(self, value=0, next=None):\n",
    "        self.value = value\n",
    "        self.next = next\n",
    "\n",
    "def remove_duplicates(head):\n",
    "    current = head\n",
    "    \n",
    "    # Traverse the list and remove duplicates\n",
    "    while current and current.next:\n",
    "        if current.value == current.next.value:\n",
    "            current.next = current.next.next  # Skip the duplicate node\n",
    "        else:\n",
    "            current = current.next  # Move to the next node if no duplicate\n",
    "    \n",
    "    return head\n",
    "\n",
    "# Helper function to print the list\n",
    "def print_list(head):\n",
    "    while head:\n",
    "        print(head.value, end=\" -> \" if head.next else \"\\n\")\n",
    "        head = head.next\n",
    "\n",
    "# Example Usage\n",
    "head = ListNode(1)\n",
    "head.next = ListNode(1)\n",
    "head.next.next = ListNode(2)\n",
    "head.next.next.next = ListNode(3)\n",
    "head.next.next.next.next = ListNode(3)\n",
    "\n",
    "print(\"Original list:\")\n",
    "print_list(head)\n",
    "\n",
    "new_head = remove_duplicates(head)\n",
    "\n",
    "print(\"List after removing duplicates:\")\n",
    "print_list(new_head)\n"
   ]
  },
  {
   "cell_type": "markdown",
   "metadata": {},
   "source": [
    "#  Problem 6: Add two numbers represented by linked lists (where each node contains a single digit).\n",
    "\n",
    " Input: List 1: 2 -> 4 -> 3, List 2: 5 -> 6 -> 4 (represents 342 + 465)       \n",
    " Output: 7 -> 0 -> 8 (represents 807)           \n",
    "               "
   ]
  },
  {
   "cell_type": "code",
   "execution_count": 25,
   "metadata": {},
   "outputs": [
    {
     "name": "stdout",
     "output_type": "stream",
     "text": [
      "List 1:\n",
      "2 -> 4 -> 3\n",
      "List 2:\n",
      "5 -> 6 -> 4\n",
      "Resultant list:\n",
      "7 -> 0 -> 8\n"
     ]
    }
   ],
   "source": [
    "class ListNode:\n",
    "    def __init__(self, value=0, next=None):\n",
    "        self.value = value\n",
    "        self.next = next\n",
    "\n",
    "def add_two_numbers(l1, l2):\n",
    "    # Initialize dummy node and pointer for result list\n",
    "    dummy = ListNode(0)\n",
    "    current = dummy\n",
    "    carry = 0\n",
    "\n",
    "    # Traverse both lists\n",
    "    while l1 or l2 or carry:\n",
    "        # Get the current values of l1 and l2 (if they exist)\n",
    "        val1 = l1.value if l1 else 0\n",
    "        val2 = l2.value if l2 else 0\n",
    "\n",
    "        # Calculate the sum and update carry\n",
    "        total = val1 + val2 + carry\n",
    "        carry = total // 10\n",
    "        new_val = total % 10\n",
    "\n",
    "        # Create a new node with the sum's digit\n",
    "        current.next = ListNode(new_val)\n",
    "        current = current.next\n",
    "\n",
    "        # Move to the next node in both lists (if available)\n",
    "        if l1:\n",
    "            l1 = l1.next\n",
    "        if l2:\n",
    "            l2 = l2.next\n",
    "\n",
    "    # Return the next of dummy (which is the head of the resulting list)\n",
    "    return dummy.next\n",
    "\n",
    "# Helper function to print the list\n",
    "def print_list(head):\n",
    "    while head:\n",
    "        print(head.value, end=\" -> \" if head.next else \"\\n\")\n",
    "        head = head.next\n",
    "\n",
    "# Example Usage\n",
    "l1 = ListNode(2)\n",
    "l1.next = ListNode(4)\n",
    "l1.next.next = ListNode(3)\n",
    "\n",
    "l2 = ListNode(5)\n",
    "l2.next = ListNode(6)\n",
    "l2.next.next = ListNode(4)\n",
    "\n",
    "print(\"List 1:\")\n",
    "print_list(l1)\n",
    "\n",
    "print(\"List 2:\")\n",
    "print_list(l2)\n",
    "\n",
    "result = add_two_numbers(l1, l2)\n",
    "\n",
    "print(\"Resultant list:\")\n",
    "print_list(result)\n"
   ]
  },
  {
   "cell_type": "markdown",
   "metadata": {},
   "source": [
    "#  Problem 7: Swap nodes in pairs in a linked list.\n",
    "\n",
    " Input: 1 -> 2 -> 3 -> 4                      \n",
    " Output: 2 -> 1 -> 4 -> 3             "
   ]
  },
  {
   "cell_type": "code",
   "execution_count": 26,
   "metadata": {},
   "outputs": [
    {
     "name": "stdout",
     "output_type": "stream",
     "text": [
      "Original list:\n",
      "1 -> 2 -> 3 -> 4\n",
      "List after swapping pairs:\n",
      "2 -> 1 -> 4 -> 3\n"
     ]
    }
   ],
   "source": [
    "class ListNode:\n",
    "    def __init__(self, value=0, next=None):\n",
    "        self.value = value\n",
    "        self.next = next\n",
    "\n",
    "def swap_pairs(head):\n",
    "    # Create a dummy node to handle edge cases\n",
    "    dummy = ListNode(0)\n",
    "    dummy.next = head\n",
    "    prev = dummy\n",
    "\n",
    "    # Traverse the list in pairs\n",
    "    while head and head.next:\n",
    "        first_node = head\n",
    "        second_node = head.next\n",
    "\n",
    "        # Swap the nodes\n",
    "        prev.next = second_node\n",
    "        first_node.next = second_node.next\n",
    "        second_node.next = first_node\n",
    "\n",
    "        # Move the pointers forward\n",
    "        prev = first_node\n",
    "        head = first_node.next\n",
    "\n",
    "    return dummy.next\n",
    "\n",
    "# Helper function to print the list\n",
    "def print_list(head):\n",
    "    while head:\n",
    "        print(head.value, end=\" -> \" if head.next else \"\\n\")\n",
    "        head = head.next\n",
    "\n",
    "# Example Usage\n",
    "head = ListNode(1)\n",
    "head.next = ListNode(2)\n",
    "head.next.next = ListNode(3)\n",
    "head.next.next.next = ListNode(4)\n",
    "\n",
    "print(\"Original list:\")\n",
    "print_list(head)\n",
    "\n",
    "swapped_head = swap_pairs(head)\n",
    "\n",
    "print(\"List after swapping pairs:\")\n",
    "print_list(swapped_head)\n"
   ]
  },
  {
   "cell_type": "markdown",
   "metadata": {},
   "source": [
    " # Problem 8: Reverse nodes in a linked list in groups of k.\n",
    "\n",
    " Input: 1 -> 2 -> 3 -> 4 -> 5, k = 3                 \n",
    " Output: 3 -> 2 -> 1 -> 4 -> 5                 "
   ]
  },
  {
   "cell_type": "code",
   "execution_count": 27,
   "metadata": {},
   "outputs": [
    {
     "name": "stdout",
     "output_type": "stream",
     "text": [
      "Original list:\n",
      "1 -> 2 -> 3 -> 4 -> 5\n",
      "List after reversing every 3 nodes:\n",
      "3 -> 2 -> 1 -> 4 -> 5\n"
     ]
    }
   ],
   "source": [
    "class ListNode:\n",
    "    def __init__(self, value=0, next=None):\n",
    "        self.value = value\n",
    "        self.next = next\n",
    "\n",
    "# Helper function to reverse a sublist of length k\n",
    "def reverse_sublist(head, k):\n",
    "    prev = None\n",
    "    current = head\n",
    "    while k > 0 and current:\n",
    "        next_node = current.next\n",
    "        current.next = prev\n",
    "        prev = current\n",
    "        current = next_node\n",
    "        k -= 1\n",
    "    return prev\n",
    "\n",
    "def reverse_k_group(head, k):\n",
    "    dummy = ListNode(0)\n",
    "    dummy.next = head\n",
    "    prev_group = dummy\n",
    "    \n",
    "    while True:\n",
    "        # Check if there are at least k nodes left in the list\n",
    "        kth_node = prev_group\n",
    "        for _ in range(k):\n",
    "            kth_node = kth_node.next\n",
    "            if not kth_node:\n",
    "                return dummy.next  # Return if there are fewer than k nodes left\n",
    "\n",
    "        # Reverse the k nodes\n",
    "        group_start = prev_group.next\n",
    "        next_group = kth_node.next\n",
    "        kth_node.next = None  # Temporarily break the list\n",
    "        reversed_group = reverse_sublist(group_start, k)\n",
    "\n",
    "        # Connect the reversed group with the previous part of the list\n",
    "        prev_group.next = reversed_group\n",
    "        group_start.next = next_group  # Connect the end of the reversed group to the next part\n",
    "\n",
    "        # Move the prev_group pointer for the next group\n",
    "        prev_group = group_start\n",
    "\n",
    "# Helper function to print the list\n",
    "def print_list(head):\n",
    "    while head:\n",
    "        print(head.value, end=\" -> \" if head.next else \"\\n\")\n",
    "        head = head.next\n",
    "\n",
    "# Example Usage\n",
    "head = ListNode(1)\n",
    "head.next = ListNode(2)\n",
    "head.next.next = ListNode(3)\n",
    "head.next.next.next = ListNode(4)\n",
    "head.next.next.next.next = ListNode(5)\n",
    "\n",
    "print(\"Original list:\")\n",
    "print_list(head)\n",
    "\n",
    "k = 3\n",
    "new_head = reverse_k_group(head, k)\n",
    "\n",
    "print(f\"List after reversing every {k} nodes:\")\n",
    "print_list(new_head)\n"
   ]
  },
  {
   "cell_type": "markdown",
   "metadata": {},
   "source": [
    " # Problem 9: Determine if a linked list is a palindrome.\n",
    "\n",
    " Input: 1 -> 2 -> 2 -> 1            \n",
    " Output: True             "
   ]
  },
  {
   "cell_type": "code",
   "execution_count": 28,
   "metadata": {},
   "outputs": [
    {
     "name": "stdout",
     "output_type": "stream",
     "text": [
      "Original list:\n",
      "1 -> 2 -> 2 -> 1\n",
      "Is the list a palindrome? True\n"
     ]
    }
   ],
   "source": [
    "class ListNode:\n",
    "    def __init__(self, value=0, next=None):\n",
    "        self.value = value\n",
    "        self.next = next\n",
    "\n",
    "def reverse_list(head):\n",
    "    prev = None\n",
    "    current = head\n",
    "    while current:\n",
    "        next_node = current.next\n",
    "        current.next = prev\n",
    "        prev = current\n",
    "        current = next_node\n",
    "    return prev\n",
    "\n",
    "def is_palindrome(head):\n",
    "    if not head or not head.next:\n",
    "        return True  # A list with 0 or 1 node is a palindrome\n",
    "    \n",
    "    # Step 1: Find the middle of the linked list\n",
    "    slow = head\n",
    "    fast = head\n",
    "    while fast and fast.next:\n",
    "        slow = slow.next\n",
    "        fast = fast.next.next\n",
    "\n",
    "    # Step 2: Reverse the second half of the list\n",
    "    second_half = reverse_list(slow)\n",
    "\n",
    "    # Step 3: Compare the first half and the reversed second half\n",
    "    first_half = head\n",
    "    second_half_copy = second_half  # To restore the list later (optional)\n",
    "    while second_half:\n",
    "        if first_half.value != second_half.value:\n",
    "            return False\n",
    "        first_half = first_half.next\n",
    "        second_half = second_half.next\n",
    "\n",
    "    # (Optional) Step 4: Restore the second half of the list\n",
    "    reverse_list(second_half_copy)\n",
    "\n",
    "    return True\n",
    "\n",
    "# Helper function to print the list\n",
    "def print_list(head):\n",
    "    while head:\n",
    "        print(head.value, end=\" -> \" if head.next else \"\\n\")\n",
    "        head = head.next\n",
    "\n",
    "# Example Usage\n",
    "head = ListNode(1)\n",
    "head.next = ListNode(2)\n",
    "head.next.next = ListNode(2)\n",
    "head.next.next.next = ListNode(1)\n",
    "\n",
    "print(\"Original list:\")\n",
    "print_list(head)\n",
    "\n",
    "result = is_palindrome(head)\n",
    "\n",
    "print(f\"Is the list a palindrome? {result}\")\n",
    "\n"
   ]
  },
  {
   "cell_type": "markdown",
   "metadata": {},
   "source": [
    "# Problem 10: Rotate a linked list to the right by k places.\n",
    "\n",
    " Input: 1 -> 2 -> 3 -> 4 -> 5, k = 2                 \n",
    " Output: 4 -> 5 -> 1 -> 2 -> 3              "
   ]
  },
  {
   "cell_type": "code",
   "execution_count": null,
   "metadata": {},
   "outputs": [],
   "source": []
  },
  {
   "cell_type": "markdown",
   "metadata": {},
   "source": [
    "#  Problem 11: Flatten a multilevel doubly linked list.\n",
    "\n",
    " Input: 1 <-> 2 <-> 3 <-> 7 <-> 8 <-> 11 -> 12, 4 <-> 5 -> 9 -> 10, 6 -> 13  \n",
    " Output: 1 <-> 2 <-> 3 <-> 4 <-> 5 <-> 6 <-> 7 <-> 8 <-> 9 <-> 10 <-> 11 <-> 12 <-> 13   "
   ]
  },
  {
   "cell_type": "code",
   "execution_count": 29,
   "metadata": {},
   "outputs": [
    {
     "name": "stdout",
     "output_type": "stream",
     "text": [
      "Original multilevel doubly linked list:\n",
      "1 <-> 2 <-> 3 <-> 7 <-> 8 <-> 11 <-> 12\n",
      "Flattened list:\n",
      "1 <-> 2 <-> 3 <-> 4 <-> 5 <-> 9 <-> 10 <-> 7 <-> 8 <-> 6 <-> 13 <-> 11 <-> 12\n"
     ]
    }
   ],
   "source": [
    "class ListNode:\n",
    "    def __init__(self, value=0, next=None, prev=None, child=None):\n",
    "        self.value = value\n",
    "        self.next = next\n",
    "        self.prev = prev\n",
    "        self.child = child\n",
    "\n",
    "def flatten(head):\n",
    "    if not head:\n",
    "        return None\n",
    "\n",
    "    # Dummy node to handle the head of the flattened list\n",
    "    dummy = ListNode(0)\n",
    "    prev = dummy\n",
    "    stack = [head]\n",
    "\n",
    "    while stack:\n",
    "        curr = stack.pop()\n",
    "        \n",
    "        # Link the current node with the previous node\n",
    "        prev.next = curr\n",
    "        curr.prev = prev\n",
    "        \n",
    "        # Push the next node onto the stack\n",
    "        if curr.next:\n",
    "            stack.append(curr.next)\n",
    "        \n",
    "        # If there is a child node, push it onto the stack and nullify the child pointer\n",
    "        if curr.child:\n",
    "            stack.append(curr.child)\n",
    "            curr.child = None\n",
    "        \n",
    "        # Move the prev pointer\n",
    "        prev = curr\n",
    "\n",
    "    # Detach the dummy node from the head\n",
    "    dummy.next.prev = None\n",
    "    return dummy.next\n",
    "\n",
    "# Helper function to print the list\n",
    "def print_list(head):\n",
    "    while head:\n",
    "        print(head.value, end=\" <-> \" if head.next else \"\\n\")\n",
    "        head = head.next\n",
    "\n",
    "# Example Usage\n",
    "# Creating a multilevel doubly linked list\n",
    "head = ListNode(1)\n",
    "head.next = ListNode(2)\n",
    "head.next.prev = head\n",
    "head.next.next = ListNode(3)\n",
    "head.next.next.prev = head.next\n",
    "head.next.next.next = ListNode(7)\n",
    "head.next.next.next.prev = head.next.next\n",
    "head.next.next.next.next = ListNode(8)\n",
    "head.next.next.next.next.prev = head.next.next.next\n",
    "head.next.next.next.next.next = ListNode(11)\n",
    "head.next.next.next.next.next.prev = head.next.next.next.next\n",
    "head.next.next.next.next.next.next = ListNode(12)\n",
    "head.next.next.next.next.next.next.prev = head.next.next.next.next.next\n",
    "\n",
    "# Adding child nodes\n",
    "head.next.next.child = ListNode(4)\n",
    "head.next.next.child.next = ListNode(5)\n",
    "head.next.next.child.next.prev = head.next.next.child\n",
    "head.next.next.child.next.next = ListNode(9)\n",
    "head.next.next.child.next.next.prev = head.next.next.child.next\n",
    "head.next.next.child.next.next.next = ListNode(10)\n",
    "head.next.next.child.next.next.next.prev = head.next.next.child.next.next\n",
    "\n",
    "head.next.next.next.next.child = ListNode(6)\n",
    "head.next.next.next.next.child.next = ListNode(13)\n",
    "head.next.next.next.next.child.next.prev = head.next.next.next.next.child\n",
    "\n",
    "print(\"Original multilevel doubly linked list:\")\n",
    "print_list(head)\n",
    "\n",
    "flattened_head = flatten(head)\n",
    "\n",
    "print(\"Flattened list:\")\n",
    "print_list(flattened_head)\n"
   ]
  },
  {
   "cell_type": "markdown",
   "metadata": {},
   "source": [
    "# Problem 12: Rearrange a linked list such that all even positioned nodes are placed at the end.\n",
    " Input: 1 -> 2 -> 3 -> 4 -> 5             \n",
    " Output: 1 -> 3 -> 5 -> 2 -> 4                "
   ]
  },
  {
   "cell_type": "code",
   "execution_count": 30,
   "metadata": {},
   "outputs": [
    {
     "name": "stdout",
     "output_type": "stream",
     "text": [
      "Original list:\n",
      "1 -> 2 -> 3 -> 4 -> 5\n",
      "Rearranged list:\n",
      "1 -> 3 -> 5 -> 2 -> 4\n"
     ]
    }
   ],
   "source": [
    "class ListNode:\n",
    "    def __init__(self, value=0, next=None):\n",
    "        self.value = value\n",
    "        self.next = next\n",
    "\n",
    "def rearrange_list(head):\n",
    "    if not head or not head.next:\n",
    "        return head\n",
    "    \n",
    "    # Initialize pointers for odd and even lists\n",
    "    odd_head = odd_tail = ListNode(0)  # Dummy node for odd-indexed nodes\n",
    "    even_head = even_tail = ListNode(0)  # Dummy node for even-indexed nodes\n",
    "    \n",
    "    current = head\n",
    "    is_odd = True\n",
    "\n",
    "    while current:\n",
    "        if is_odd:\n",
    "            odd_tail.next = current\n",
    "            odd_tail = odd_tail.next\n",
    "        else:\n",
    "            even_tail.next = current\n",
    "            even_tail = even_tail.next\n",
    "        \n",
    "        current = current.next\n",
    "        is_odd = not is_odd\n",
    "    \n",
    "    # End the even list\n",
    "    even_tail.next = None\n",
    "    # Append the even list to the end of the odd list\n",
    "    odd_tail.next = even_head.next\n",
    "    \n",
    "    return odd_head.next\n",
    "\n",
    "# Helper function to print the list\n",
    "def print_list(head):\n",
    "    while head:\n",
    "        print(head.value, end=\" -> \" if head.next else \"\\n\")\n",
    "        head = head.next\n",
    "\n",
    "# Example Usage\n",
    "head = ListNode(1)\n",
    "head.next = ListNode(2)\n",
    "head.next.next = ListNode(3)\n",
    "head.next.next.next = ListNode(4)\n",
    "head.next.next.next.next = ListNode(5)\n",
    "\n",
    "print(\"Original list:\")\n",
    "print_list(head)\n",
    "\n",
    "rearranged_head = rearrange_list(head)\n",
    "\n",
    "print(\"Rearranged list:\")\n",
    "print_list(rearranged_head)\n"
   ]
  },
  {
   "cell_type": "markdown",
   "metadata": {},
   "source": [
    "# Problem 13: Given a non-negative number represented as a linked list, add one to it.\n",
    "\n",
    " Input: 1 -> 2 -> 3 (represents the number 123)                   \n",
    " Output: 1 -> 2 -> 4 (represents the number 124)                 "
   ]
  },
  {
   "cell_type": "code",
   "execution_count": 31,
   "metadata": {},
   "outputs": [
    {
     "name": "stdout",
     "output_type": "stream",
     "text": [
      "Original list:\n",
      "1 -> 2 -> 3\n",
      "List after adding one:\n",
      "1 -> 2 -> 4\n"
     ]
    }
   ],
   "source": [
    "class ListNode:\n",
    "    def __init__(self, value=0, next=None):\n",
    "        self.value = value\n",
    "        self.next = next\n",
    "\n",
    "def reverse_list(head):\n",
    "    prev = None\n",
    "    curr = head\n",
    "    while curr:\n",
    "        next_node = curr.next\n",
    "        curr.next = prev\n",
    "        prev = curr\n",
    "        curr = next_node\n",
    "    return prev\n",
    "\n",
    "def add_one(head):\n",
    "    # Step 1: Reverse the linked list\n",
    "    head = reverse_list(head)\n",
    "    \n",
    "    # Step 2: Add one to the reversed list\n",
    "    curr = head\n",
    "    carry = 1\n",
    "    prev = None\n",
    "    \n",
    "    while curr:\n",
    "        sum_value = curr.value + carry\n",
    "        carry = sum_value // 10\n",
    "        curr.value = sum_value % 10\n",
    "        prev = curr\n",
    "        curr = curr.next\n",
    "    \n",
    "    # If there's a carry left, add a new node at the end\n",
    "    if carry:\n",
    "        prev.next = ListNode(carry)\n",
    "    \n",
    "    # Step 3: Reverse the list back to original order\n",
    "    head = reverse_list(head)\n",
    "    \n",
    "    return head\n",
    "\n",
    "# Helper function to print the list\n",
    "def print_list(head):\n",
    "    while head:\n",
    "        print(head.value, end=\" -> \" if head.next else \"\\n\")\n",
    "        head = head.next\n",
    "\n",
    "# Example Usage\n",
    "head = ListNode(1)\n",
    "head.next = ListNode(2)\n",
    "head.next.next = ListNode(3)\n",
    "\n",
    "print(\"Original list:\")\n",
    "print_list(head)\n",
    "\n",
    "result_head = add_one(head)\n",
    "\n",
    "print(\"List after adding one:\")\n",
    "print_list(result_head)\n"
   ]
  },
  {
   "cell_type": "markdown",
   "metadata": {},
   "source": [
    "# Problem 14: Given a sorted array and a target value, return the index if the target is found. If not, return the index where it would be inserted.\n",
    " Input: nums = [1, 3, 5, 6], target = 5          \n",
    " Output: 2            "
   ]
  },
  {
   "cell_type": "code",
   "execution_count": 32,
   "metadata": {},
   "outputs": [
    {
     "name": "stdout",
     "output_type": "stream",
     "text": [
      "Index: 2\n"
     ]
    }
   ],
   "source": [
    "def search_insert(nums, target):\n",
    "    left, right = 0, len(nums) - 1\n",
    "    \n",
    "    while left <= right:\n",
    "        mid = (left + right) // 2\n",
    "        if nums[mid] == target:\n",
    "            return mid\n",
    "        elif nums[mid] < target:\n",
    "            left = mid + 1\n",
    "        else:\n",
    "            right = mid - 1\n",
    "    \n",
    "    return left\n",
    "\n",
    "# Example Usage\n",
    "nums = [1, 3, 5, 6]\n",
    "target = 5\n",
    "\n",
    "result_index = search_insert(nums, target)\n",
    "print(f\"Index: {result_index}\")\n"
   ]
  },
  {
   "cell_type": "markdown",
   "metadata": {},
   "source": [
    "# Problem 15: Find the minimum element in a rotated sorted array.\n",
    "\n",
    "Input: [4, 5, 6, 7, 0, 1, 2]            \n",
    "  Output: 0   \n"
   ]
  },
  {
   "cell_type": "code",
   "execution_count": 33,
   "metadata": {},
   "outputs": [
    {
     "name": "stdout",
     "output_type": "stream",
     "text": [
      "Minimum element: 0\n"
     ]
    }
   ],
   "source": [
    "def find_minimum(nums):\n",
    "    left, right = 0, len(nums) - 1\n",
    "    \n",
    "    while left < right:\n",
    "        mid = (left + right) // 2\n",
    "        \n",
    "        if nums[mid] > nums[right]:\n",
    "            # Minimum is in the right part\n",
    "            left = mid + 1\n",
    "        else:\n",
    "            # Minimum is in the left part or could be mid\n",
    "            right = mid\n",
    "    \n",
    "    # After the loop ends, left == right, which is the index of the minimum element\n",
    "    return nums[left]\n",
    "\n",
    "# Example Usage\n",
    "nums = [4, 5, 6, 7, 0, 1, 2]\n",
    "min_element = find_minimum(nums)\n",
    "print(f\"Minimum element: {min_element}\")\n"
   ]
  },
  {
   "cell_type": "markdown",
   "metadata": {},
   "source": [
    "#  Problem 16: Search for a target value in a rotated sorted array.\n",
    "\n",
    " Input: nums = [4, 5, 6, 7, 0, 1, 2], target = 0            \n",
    " Output: 4       "
   ]
  },
  {
   "cell_type": "code",
   "execution_count": 34,
   "metadata": {},
   "outputs": [
    {
     "name": "stdout",
     "output_type": "stream",
     "text": [
      "Index of target: 4\n"
     ]
    }
   ],
   "source": [
    "def search_in_rotated_array(nums, target):\n",
    "    left, right = 0, len(nums) - 1\n",
    "    \n",
    "    while left <= right:\n",
    "        mid = (left + right) // 2\n",
    "        \n",
    "        if nums[mid] == target:\n",
    "            return mid\n",
    "        \n",
    "        # Determine which half is sorted\n",
    "        if nums[left] <= nums[mid]:  # Left half is sorted\n",
    "            if nums[left] <= target < nums[mid]:  # Target in the left half\n",
    "                right = mid - 1\n",
    "            else:  # Target in the right half\n",
    "                left = mid + 1\n",
    "        else:  # Right half is sorted\n",
    "            if nums[mid] < target <= nums[right]:  # Target in the right half\n",
    "                left = mid + 1\n",
    "            else:  # Target in the left half\n",
    "                right = mid - 1\n",
    "    \n",
    "    return -1  # Target not found\n",
    "\n",
    "# Example Usage\n",
    "nums = [4, 5, 6, 7, 0, 1, 2]\n",
    "target = 0\n",
    "\n",
    "result_index = search_in_rotated_array(nums, target)\n",
    "print(f\"Index of target: {result_index}\")\n"
   ]
  },
  {
   "cell_type": "markdown",
   "metadata": {},
   "source": [
    "#  Problem 17: Find the peak element in an array. A peak element is greater than its neighbors.\n",
    "\n",
    " Input: nums = [1, 2, 3, 1]         \n",
    " Output: 2 (index of peak element)            "
   ]
  },
  {
   "cell_type": "code",
   "execution_count": 35,
   "metadata": {},
   "outputs": [
    {
     "name": "stdout",
     "output_type": "stream",
     "text": [
      "Index of peak element: 2\n"
     ]
    }
   ],
   "source": [
    "def find_peak_element(nums):\n",
    "    left, right = 0, len(nums) - 1\n",
    "    \n",
    "    while left <= right:\n",
    "        mid = (left + right) // 2\n",
    "        \n",
    "        # Check if mid is a peak\n",
    "        if (mid == 0 or nums[mid] > nums[mid - 1]) and (mid == len(nums) - 1 or nums[mid] > nums[mid + 1]):\n",
    "            return mid\n",
    "        # If mid element is less than the next element, then peak must be in the right part\n",
    "        elif mid < len(nums) - 1 and nums[mid] < nums[mid + 1]:\n",
    "            left = mid + 1\n",
    "        # If mid element is less than the previous element, then peak must be in the left part\n",
    "        else:\n",
    "            right = mid - 1\n",
    "    \n",
    "    return -1  # Peak not found, should not reach here if array is valid\n",
    "\n",
    "# Example Usage\n",
    "nums = [1, 2, 3, 1]\n",
    "\n",
    "result_index = find_peak_element(nums)\n",
    "print(f\"Index of peak element: {result_index}\")\n"
   ]
  },
  {
   "cell_type": "markdown",
   "metadata": {},
   "source": [
    "\n",
    "#  Problem 18: Given a m x n matrix where each row and column is sorted in ascending order, count the number of negative numbers.\n",
    " Input: grid = [[4, 3, 2, -1], [3, 2, 1, -1], [1, 1, -1, -2], [-1, -1, -2, -3]]\n",
    "\n",
    " Output: 8   "
   ]
  },
  {
   "cell_type": "code",
   "execution_count": 36,
   "metadata": {},
   "outputs": [
    {
     "name": "stdout",
     "output_type": "stream",
     "text": [
      "Number of negative numbers: 16\n"
     ]
    }
   ],
   "source": [
    "def count_negatives(matrix):\n",
    "    if not matrix:\n",
    "        return 0\n",
    "    \n",
    "    m, n = len(matrix), len(matrix[0])\n",
    "    count = 0\n",
    "    row, col = 0, n - 1  # Start from the top-right corner\n",
    "    \n",
    "    while row < m and col >= 0:\n",
    "        if matrix[row][col] < 0:\n",
    "            # Count all elements from matrix[row][0] to matrix[row][col]\n",
    "            count += (col + 1)\n",
    "            row += 1  # Move down to the next row\n",
    "        else:\n",
    "            col -= 1  # Move left\n",
    "    \n",
    "    return count\n",
    "\n",
    "# Example Usage\n",
    "grid = [[4, 3, 2, -1], [3, 2, 1, -1], [1, 1, -1, -2], [-1, -1, -2, -3]]\n",
    "negative_count = count_negatives(grid)\n",
    "print(f\"Number of negative numbers: {negative_count}\")\n"
   ]
  },
  {
   "cell_type": "markdown",
   "metadata": {},
   "source": [
    "# Problem 19: Given a 2D matrix sorted in ascending order in each row, and the first integer of each row is greater than the last integer of the previous row, determine if a target value is present in the matrix.\n",
    " Input: matrix = [[1, 3, 5, 7], [10, 11, 16, 20], [23, 30, 34, 60]], target = 3              \n",
    " Output: True   "
   ]
  },
  {
   "cell_type": "code",
   "execution_count": 37,
   "metadata": {},
   "outputs": [
    {
     "name": "stdout",
     "output_type": "stream",
     "text": [
      "Target found: True\n"
     ]
    }
   ],
   "source": [
    "def search_matrix(matrix, target):\n",
    "    if not matrix or not matrix[0]:\n",
    "        return False\n",
    "    \n",
    "    m, n = len(matrix), len(matrix[0])\n",
    "    left, right = 0, m * n - 1\n",
    "    \n",
    "    while left <= right:\n",
    "        mid = (left + right) // 2\n",
    "        mid_value = matrix[mid // n][mid % n]\n",
    "        \n",
    "        if mid_value == target:\n",
    "            return True\n",
    "        elif mid_value < target:\n",
    "            left = mid + 1\n",
    "        else:\n",
    "            right = mid - 1\n",
    "    \n",
    "    return False\n",
    "\n",
    "# Example Usage\n",
    "matrix = [[1, 3, 5, 7], [10, 11, 16, 20], [23, 30, 34, 60]]\n",
    "target = 3\n",
    "\n",
    "result = search_matrix(matrix, target)\n",
    "print(f\"Target found: {result}\")\n"
   ]
  },
  {
   "cell_type": "markdown",
   "metadata": {},
   "source": [
    "# Problem 20: Find Median in Two Sorted Arrays Problem: Given two sorted arrays, find the median of the combined sorted array.\n",
    " Input: nums1 = [1, 3], nums2 = [2]            \n",
    " Output: 2.0            "
   ]
  },
  {
   "cell_type": "code",
   "execution_count": 38,
   "metadata": {},
   "outputs": [
    {
     "name": "stdout",
     "output_type": "stream",
     "text": [
      "Median: 2\n"
     ]
    }
   ],
   "source": [
    "def find_median_sorted_arrays(nums1, nums2):\n",
    "    if len(nums1) > len(nums2):\n",
    "        nums1, nums2 = nums2, nums1\n",
    "    \n",
    "    x, y = len(nums1), len(nums2)\n",
    "    low, high = 0, x\n",
    "    \n",
    "    while low <= high:\n",
    "        partitionX = (low + high) // 2\n",
    "        partitionY = (x + y + 1) // 2 - partitionX\n",
    "        \n",
    "        maxX = float('-inf') if partitionX == 0 else nums1[partitionX - 1]\n",
    "        minX = float('inf') if partitionX == x else nums1[partitionX]\n",
    "        \n",
    "        maxY = float('-inf') if partitionY == 0 else nums2[partitionY - 1]\n",
    "        minY = float('inf') if partitionY == y else nums2[partitionY]\n",
    "        \n",
    "        if maxX <= minY and maxY <= minX:\n",
    "            if (x + y) % 2 == 0:\n",
    "                return (max(maxX, maxY) + min(minX, minY)) / 2.0\n",
    "            else:\n",
    "                return max(maxX, maxY)\n",
    "        elif maxX > minY:\n",
    "            high = partitionX - 1\n",
    "        else:\n",
    "            low = partitionX + 1\n",
    "    \n",
    "    raise ValueError(\"Input arrays are not sorted or are invalid.\")\n",
    "\n",
    "# Example Usage\n",
    "nums1 = [1, 3]\n",
    "nums2 = [2]\n",
    "\n",
    "median = find_median_sorted_arrays(nums1, nums2)\n",
    "print(f\"Median: {median}\")\n"
   ]
  },
  {
   "cell_type": "markdown",
   "metadata": {},
   "source": [
    "#  Problem 21: Given a sorted character array and a target letter, find the smallest letter in the array that is greater than the target.\n",
    " Input: letters = ['c', 'f', 'j'], target = 'a'            \n",
    " Output: 'c'                "
   ]
  },
  {
   "cell_type": "code",
   "execution_count": 39,
   "metadata": {},
   "outputs": [
    {
     "name": "stdout",
     "output_type": "stream",
     "text": [
      "Smallest letter greater than the target: c\n"
     ]
    }
   ],
   "source": [
    "def next_greatest_letter(letters, target):\n",
    "    left, right = 0, len(letters) - 1\n",
    "    \n",
    "    while left <= right:\n",
    "        mid = (left + right) // 2\n",
    "        if letters[mid] <= target:\n",
    "            left = mid + 1\n",
    "        else:\n",
    "            right = mid - 1\n",
    "    \n",
    "    # Handle wrap around\n",
    "    return letters[left % len(letters)]\n",
    "\n",
    "# Example Usage\n",
    "letters = ['c', 'f', 'j']\n",
    "target = 'a'\n",
    "\n",
    "result = next_greatest_letter(letters, target)\n",
    "print(f\"Smallest letter greater than the target: {result}\")\n"
   ]
  },
  {
   "cell_type": "markdown",
   "metadata": {},
   "source": [
    "# Problem 22: Given an array with n objects colored red, white, or blue, sort them in-place so that objects of the same color are adjacent, with the colors in the order red, white, and blue.\n",
    " Input: nums = [2, 0, 2, 1, 1, 0]                     \n",
    " Output: [0, 0, 1, 1, 2, 2]                  "
   ]
  },
  {
   "cell_type": "code",
   "execution_count": 40,
   "metadata": {},
   "outputs": [
    {
     "name": "stdout",
     "output_type": "stream",
     "text": [
      "Sorted colors: [0, 0, 1, 1, 2, 2]\n"
     ]
    }
   ],
   "source": [
    "def sort_colors(nums):\n",
    "    low, mid, high = 0, 0, len(nums) - 1\n",
    "    \n",
    "    while mid <= high:\n",
    "        if nums[mid] == 0:\n",
    "            nums[low], nums[mid] = nums[mid], nums[low]\n",
    "            low += 1\n",
    "            mid += 1\n",
    "        elif nums[mid] == 1:\n",
    "            mid += 1\n",
    "        else:  # nums[mid] == 2\n",
    "            nums[high], nums[mid] = nums[mid], nums[high]\n",
    "            high -= 1\n",
    "\n",
    "# Example Usage\n",
    "nums = [2, 0, 2, 1, 1, 0]\n",
    "sort_colors(nums)\n",
    "print(f\"Sorted colors: {nums}\")\n"
   ]
  },
  {
   "cell_type": "markdown",
   "metadata": {},
   "source": [
    "#  Problem 23: Find the kth largest element in an unsorted array.\n",
    " Input: nums = [3, 2, 1, 5, 6, 4], k = 2          \n",
    " Output: 5                     \n",
    " \n"
   ]
  },
  {
   "cell_type": "code",
   "execution_count": 41,
   "metadata": {},
   "outputs": [
    {
     "name": "stdout",
     "output_type": "stream",
     "text": [
      "The 2th largest element is: 5\n"
     ]
    }
   ],
   "source": [
    "import heapq\n",
    "\n",
    "def find_kth_largest(nums, k):\n",
    "    min_heap = []\n",
    "    \n",
    "    for num in nums:\n",
    "        heapq.heappush(min_heap, num)\n",
    "        if len(min_heap) > k:\n",
    "            heapq.heappop(min_heap)\n",
    "    \n",
    "    return min_heap[0]\n",
    "\n",
    "# Example Usage\n",
    "nums = [3, 2, 1, 5, 6, 4]\n",
    "k = 2\n",
    "\n",
    "kth_largest = find_kth_largest(nums, k)\n",
    "print(f\"The {k}th largest element is: {kth_largest}\")\n"
   ]
  },
  {
   "cell_type": "markdown",
   "metadata": {},
   "source": [
    " # Problem 24: Given an unsorted array, reorder it in-place such that nums[0] <= nums[1] >= nums[2] <= nums[3]...\n",
    "\n",
    " Input: nums = [3, 5, 2, 1, 6, 4]                \n",
    " Output: [3, 5, 1, 6, 2, 4]            "
   ]
  },
  {
   "cell_type": "code",
   "execution_count": 42,
   "metadata": {},
   "outputs": [
    {
     "name": "stdout",
     "output_type": "stream",
     "text": [
      "Reordered array: [3, 5, 1, 6, 2, 4]\n"
     ]
    }
   ],
   "source": [
    "def wiggle_sort(nums):\n",
    "    for i in range(len(nums)):\n",
    "        if i % 2 == 0:\n",
    "            # Even index: nums[i] should be <= nums[i + 1]\n",
    "            if i + 1 < len(nums) and nums[i] > nums[i + 1]:\n",
    "                nums[i], nums[i + 1] = nums[i + 1], nums[i]\n",
    "        else:\n",
    "            # Odd index: nums[i] should be >= nums[i + 1]\n",
    "            if i + 1 < len(nums) and nums[i] < nums[i + 1]:\n",
    "                nums[i], nums[i + 1] = nums[i + 1], nums[i]\n",
    "\n",
    "# Example Usage\n",
    "nums = [3, 5, 2, 1, 6, 4]\n",
    "wiggle_sort(nums)\n",
    "print(f\"Reordered array: {nums}\")\n"
   ]
  },
  {
   "cell_type": "markdown",
   "metadata": {},
   "source": [
    "#  Problem 25: Given an array of integers, calculate the sum of all its elements.\n",
    "\n",
    " Input: [1, 2, 3, 4, 5]                  \n",
    " Output: 15                     "
   ]
  },
  {
   "cell_type": "code",
   "execution_count": 43,
   "metadata": {},
   "outputs": [
    {
     "name": "stdout",
     "output_type": "stream",
     "text": [
      "The sum of all elements is: 15\n"
     ]
    }
   ],
   "source": [
    "def calculate_sum(nums):\n",
    "    total = 0\n",
    "    for num in nums:\n",
    "        total += num\n",
    "    return total\n",
    "\n",
    "# Example Usage\n",
    "nums = [1, 2, 3, 4, 5]\n",
    "result = calculate_sum(nums)\n",
    "print(f\"The sum of all elements is: {result}\")\n"
   ]
  },
  {
   "cell_type": "code",
   "execution_count": 44,
   "metadata": {},
   "outputs": [
    {
     "name": "stdout",
     "output_type": "stream",
     "text": [
      "The sum of all elements is: 15\n"
     ]
    }
   ],
   "source": [
    "def calculate_sum(nums):\n",
    "    return sum(nums)\n",
    "\n",
    "# Example Usage\n",
    "nums = [1, 2, 3, 4, 5]\n",
    "result = calculate_sum(nums)\n",
    "print(f\"The sum of all elements is: {result}\")\n"
   ]
  },
  {
   "cell_type": "markdown",
   "metadata": {},
   "source": [
    "#  Problem 26: Find the maximum element in an array of integers.\n",
    "\n",
    " Input: [3, 7, 2, 9, 4, 1]                                       \n",
    " Output: 9                "
   ]
  },
  {
   "cell_type": "code",
   "execution_count": 45,
   "metadata": {},
   "outputs": [
    {
     "name": "stdout",
     "output_type": "stream",
     "text": [
      "The maximum element is: 9\n"
     ]
    }
   ],
   "source": [
    "def find_maximum(nums):\n",
    "    if not nums:\n",
    "        return None  # Handle empty array case\n",
    "    \n",
    "    max_value = nums[0]\n",
    "    for num in nums[1:]:\n",
    "        if num > max_value:\n",
    "            max_value = num\n",
    "    return max_value\n",
    "\n",
    "# Example Usage\n",
    "nums = [3, 7, 2, 9, 4, 1]\n",
    "result = find_maximum(nums)\n",
    "print(f\"The maximum element is: {result}\")\n"
   ]
  },
  {
   "cell_type": "markdown",
   "metadata": {},
   "source": [
    "#  Problem 27: Implement linear search to find the index of a target element in an array.\n",
    "\n",
    " Input: [5, 3, 8, 2, 7, 4], target = 8         \n",
    " Output: 2          "
   ]
  },
  {
   "cell_type": "code",
   "execution_count": 46,
   "metadata": {},
   "outputs": [
    {
     "name": "stdout",
     "output_type": "stream",
     "text": [
      "The index of the target element is: 2\n"
     ]
    }
   ],
   "source": [
    "def linear_search(nums, target):\n",
    "    for index, element in enumerate(nums):\n",
    "        if element == target:\n",
    "            return index\n",
    "    return -1\n",
    "\n",
    "# Example Usage\n",
    "nums = [5, 3, 8, 2, 7, 4]\n",
    "target = 8\n",
    "result = linear_search(nums, target)\n",
    "print(f\"The index of the target element is: {result}\")\n"
   ]
  },
  {
   "cell_type": "markdown",
   "metadata": {},
   "source": [
    "#  Problem 28 Calculate the factorial of a given number.\n",
    "\n",
    " Input: 5                  \n",
    " Output: 120 (as 5! = 5 * 4 * 3 * 2 * 1 = 120)"
   ]
  },
  {
   "cell_type": "code",
   "execution_count": 47,
   "metadata": {},
   "outputs": [
    {
     "name": "stdout",
     "output_type": "stream",
     "text": [
      "The factorial of 5 is: 120\n"
     ]
    }
   ],
   "source": [
    "def factorial_iterative(n):\n",
    "    if n < 0:\n",
    "        raise ValueError(\"Factorial is not defined for negative numbers\")\n",
    "    result = 1\n",
    "    for i in range(1, n + 1):\n",
    "        result *= i\n",
    "    return result\n",
    "\n",
    "# Example Usage\n",
    "n = 5\n",
    "result = factorial_iterative(n)\n",
    "print(f\"The factorial of {n} is: {result}\")\n"
   ]
  },
  {
   "cell_type": "markdown",
   "metadata": {},
   "source": [
    "#  Problem 29: Check if a given number is a prime number.\n",
    "\n",
    " Input: 7                   \n",
    " Output: True                   "
   ]
  },
  {
   "cell_type": "code",
   "execution_count": 48,
   "metadata": {},
   "outputs": [
    {
     "name": "stdout",
     "output_type": "stream",
     "text": [
      "7 is a prime number: True\n"
     ]
    }
   ],
   "source": [
    "import math\n",
    "\n",
    "def is_prime(n):\n",
    "    if n <= 1:\n",
    "        return False\n",
    "    if n <= 3:\n",
    "        return True\n",
    "    if n % 2 == 0 or n % 3 == 0:\n",
    "        return False\n",
    "    i = 5\n",
    "    while i * i <= n:\n",
    "        if n % i == 0 or n % (i + 2) == 0:\n",
    "            return False\n",
    "        i += 6\n",
    "    return True\n",
    "\n",
    "# Example Usage\n",
    "n = 7\n",
    "result = is_prime(n)\n",
    "print(f\"{n} is a prime number: {result}\")\n"
   ]
  },
  {
   "cell_type": "markdown",
   "metadata": {},
   "source": [
    "#  Problem 30: Generate the Fibonacci series up to a given number n.\n",
    "\n",
    " Input: 8                              \n",
    " Output: [0, 1, 1, 2, 3, 5, 8, 13]                "
   ]
  },
  {
   "cell_type": "code",
   "execution_count": 49,
   "metadata": {},
   "outputs": [
    {
     "name": "stdout",
     "output_type": "stream",
     "text": [
      "Fibonacci series up to 8: [0, 1, 1, 2, 3, 5, 8]\n"
     ]
    }
   ],
   "source": [
    "def generate_fibonacci_up_to(n):\n",
    "    if n < 0:\n",
    "        raise ValueError(\"Input should be a non-negative integer\")\n",
    "    \n",
    "    fibonacci_series = []\n",
    "    a, b = 0, 1\n",
    "    while a <= n:\n",
    "        fibonacci_series.append(a)\n",
    "        a, b = b, a + b\n",
    "    return fibonacci_series\n",
    "\n",
    "# Example Usage\n",
    "n = 8\n",
    "result = generate_fibonacci_up_to(n)\n",
    "print(f\"Fibonacci series up to {n}: {result}\")\n"
   ]
  },
  {
   "cell_type": "markdown",
   "metadata": {},
   "source": [
    "# Problem 31: Calculate the power of a number using recursion.\n",
    "\n",
    " Input: base = 3, exponent = 4                  \n",
    " Output: 81 (as 3^4 = 3 * 3 * 3 * 3 = 81)             "
   ]
  },
  {
   "cell_type": "code",
   "execution_count": 50,
   "metadata": {},
   "outputs": [
    {
     "name": "stdout",
     "output_type": "stream",
     "text": [
      "3^4 = 81\n"
     ]
    }
   ],
   "source": [
    "# Recursive Approach\n",
    "\n",
    "def power(base, exponent):\n",
    "    # Base case: anything raised to the power of 0 is 1\n",
    "    if exponent == 0:\n",
    "        return 1\n",
    "    # Recursive case\n",
    "    return base * power(base, exponent - 1)\n",
    "\n",
    "# Example Usage\n",
    "base = 3\n",
    "exponent = 4\n",
    "result = power(base, exponent)\n",
    "print(f\"{base}^{exponent} = {result}\")\n",
    "\n",
    "\n"
   ]
  },
  {
   "cell_type": "markdown",
   "metadata": {},
   "source": [
    "#  Problem 32: Reverse a given string.   \n",
    "          \n",
    " Input: \"hello\"               \n",
    " Output: \"olleh\"             "
   ]
  },
  {
   "cell_type": "code",
   "execution_count": 51,
   "metadata": {},
   "outputs": [
    {
     "name": "stdout",
     "output_type": "stream",
     "text": [
      "Reversed string: olleh\n"
     ]
    }
   ],
   "source": [
    "# Approach 1: Using Python's Slicing\n",
    "\n",
    "def reverse_string(s):\n",
    "    return s[::-1]\n",
    "\n",
    "# Example Usage\n",
    "input_string = \"hello\"\n",
    "result = reverse_string(input_string)\n",
    "print(f\"Reversed string: {result}\")\n"
   ]
  },
  {
   "cell_type": "code",
   "execution_count": 52,
   "metadata": {},
   "outputs": [
    {
     "name": "stdout",
     "output_type": "stream",
     "text": [
      "Reversed string: olleh\n"
     ]
    }
   ],
   "source": [
    "# Approach 2: Using a Loop\n",
    "def reverse_string(s):\n",
    "    reversed_str = \"\"\n",
    "    for char in s:\n",
    "        reversed_str = char + reversed_str\n",
    "    return reversed_str\n",
    "\n",
    "# Example Usage\n",
    "input_string = \"hello\"\n",
    "result = reverse_string(input_string)\n",
    "print(f\"Reversed string: {result}\")\n"
   ]
  }
 ],
 "metadata": {
  "kernelspec": {
   "display_name": "Python 3",
   "language": "python",
   "name": "python3"
  },
  "language_info": {
   "codemirror_mode": {
    "name": "ipython",
    "version": 3
   },
   "file_extension": ".py",
   "mimetype": "text/x-python",
   "name": "python",
   "nbconvert_exporter": "python",
   "pygments_lexer": "ipython3",
   "version": "3.11.5"
  }
 },
 "nbformat": 4,
 "nbformat_minor": 2
}
