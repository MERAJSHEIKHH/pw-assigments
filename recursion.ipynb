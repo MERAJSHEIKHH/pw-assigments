{
 "cells": [
  {
   "cell_type": "code",
   "execution_count": null,
   "metadata": {},
   "outputs": [],
   "source": []
  },
  {
   "cell_type": "markdown",
   "metadata": {},
   "source": [
    "#  Q.1  Can you explain the logic and working of the Tower of Hanoi algorithm by writing a Java program? How does the recursion work, and how are the movements of disks between rods accomplished?"
   ]
  },
  {
   "cell_type": "code",
   "execution_count": null,
   "metadata": {},
   "outputs": [],
   "source": []
  },
  {
   "cell_type": "raw",
   "metadata": {
    "vscode": {
     "languageId": "raw"
    }
   },
   "source": [
    "public class TowerOfHanoi {\n",
    "\n",
    "    // Recursive function to solve Tower of Hanoi\n",
    "    public static void solveHanoi(int n, char source, char auxiliary, char destination) {\n",
    "        if (n == 1) {\n",
    "            // Base case: Move the only disk from source to destination\n",
    "            System.out.println(\"Move disk 1 from rod \" + source + \" to rod \" + destination);\n",
    "            return;\n",
    "        }\n",
    "        \n",
    "        // Step 1: Move top n-1 disks from source to auxiliary rod\n",
    "        solveHanoi(n - 1, source, destination, auxiliary);\n",
    "        \n",
    "        // Step 2: Move the nth disk from source to destination rod\n",
    "        System.out.println(\"Move disk \" + n + \" from rod \" + source + \" to rod \" + destination);\n",
    "        \n",
    "        // Step 3: Move the n-1 disks from auxiliary to destination rod\n",
    "        solveHanoi(n - 1, auxiliary, source, destination);\n",
    "    }\n",
    "\n",
    "    public static void main(String[] args) {\n",
    "        int n = 3; // Number of disks\n",
    "        System.out.println(\"The sequence of moves are:\");\n",
    "        solveHanoi(n, 'A', 'B', 'C'); // A is source, B is auxiliary, C is destination\n",
    "    }\n",
    "}\n"
   ]
  },
  {
   "cell_type": "markdown",
   "metadata": {},
   "source": [
    "###  Q.2  Given two strings word1 and word2, return the minimum number of operations required to convert word1    to word2."
   ]
  },
  {
   "cell_type": "raw",
   "metadata": {},
   "source": [
    "\n",
    " Example 1:\n",
    "       Input: word1 = \"horse\", word2 = \"ros\"\n",
    "       Output: 3\n",
    "       Explanation: \n",
    "       horse -> rorse (replace 'h' with 'r')\n",
    "       rorse -> rose (remove 'r')\n",
    "       rose -> ros (remove 'e')\n",
    " Example 2:\n",
    "       Input: word1 = \"intention\", word2 = \"execution\"\n",
    "       Output: 5\n",
    "       Explanation: \n",
    "       intention -> inention (remove 't')\n",
    "       inention -> enention (replace 'i' with 'e')\n",
    "       enention -> exention (replace 'n' with 'x')\n",
    "       exention -> exection (replace 'n' with 'c')\n",
    "       exection -> execution (insert 'u')"
   ]
  },
  {
   "cell_type": "code",
   "execution_count": 16,
   "metadata": {},
   "outputs": [
    {
     "name": "stdout",
     "output_type": "stream",
     "text": [
      "3\n",
      "5\n"
     ]
    }
   ],
   "source": [
    "def min_distance(word1, word2):\n",
    "    m, n = len(word1), len(word2)\n",
    "    # Create a 2D DP array\n",
    "    dp = [[0] * (n + 1) for _ in range(m + 1)]\n",
    "\n",
    "    # Initialize the base cases\n",
    "    for i in range(m + 1):\n",
    "        dp[i][0] = i\n",
    "    for j in range(n + 1):\n",
    "        dp[0][j] = j\n",
    "\n",
    "    # Fill the DP table\n",
    "    for i in range(1, m + 1):\n",
    "        for j in range(1, n + 1):\n",
    "            if word1[i - 1] == word2[j - 1]:\n",
    "                dp[i][j] = dp[i - 1][j - 1]\n",
    "            else:\n",
    "                dp[i][j] = min(dp[i - 1][j] + 1,   # Delete\n",
    "                               dp[i][j - 1] + 1,   # Insert\n",
    "                               dp[i - 1][j - 1] + 1)  # Replace\n",
    "\n",
    "    # The result is in dp[m][n]\n",
    "    return dp[m][n]\n",
    "\n",
    "# Example usage\n",
    "print(min_distance(\"horse\", \"ros\"))      \n",
    "print(min_distance(\"intention\", \"execution\"))  \n"
   ]
  },
  {
   "cell_type": "markdown",
   "metadata": {},
   "source": [
    "# Q. 3 Print the max value of the array [ 13, 1, -3, 22, 5]."
   ]
  },
  {
   "cell_type": "code",
   "execution_count": 2,
   "metadata": {},
   "outputs": [
    {
     "name": "stdout",
     "output_type": "stream",
     "text": [
      "22\n"
     ]
    }
   ],
   "source": [
    "def find_max(arr, start, end):\n",
    "    # Base case: if the array has only one element\n",
    "    if start == end:\n",
    "        return arr[start]\n",
    "    \n",
    "    # Find the middle index\n",
    "    mid = (start + end) // 2\n",
    "    \n",
    "    # Recursively find the maximum in the left and right halves\n",
    "    left_max = find_max(arr, start, mid)\n",
    "    right_max = find_max(arr, mid + 1, end)\n",
    "    \n",
    "    # Return the maximum of the two halves\n",
    "    return max(left_max, right_max)\n",
    "\n",
    "# Test the function\n",
    "arr = [13, 1, -3, 22, 5]\n",
    "max_value = find_max(arr, 0, len(arr) - 1)\n",
    "print(max_value)  \n"
   ]
  },
  {
   "cell_type": "markdown",
   "metadata": {},
   "source": [
    "# Q.4 Find the sum of the values of the array [92, 23, 15, -20, 10]."
   ]
  },
  {
   "cell_type": "code",
   "execution_count": 8,
   "metadata": {},
   "outputs": [
    {
     "name": "stdout",
     "output_type": "stream",
     "text": [
      "120\n"
     ]
    }
   ],
   "source": [
    "def sum_array(arr, index=0):\n",
    "    # Base case: if index is equal to the length of the array, return 0\n",
    "    if index == len(arr):\n",
    "        return 0\n",
    "    \n",
    "    # Recursive case: sum the current element with the sum of the rest of the array\n",
    "    return arr[index] + sum_array(arr, index + 1)\n",
    "\n",
    "# Test the function\n",
    "arr = [92, 23, 15, -20, 10]\n",
    "total_sum = sum_array(arr)\n",
    "print(total_sum)  # Output: 120\n"
   ]
  },
  {
   "cell_type": "markdown",
   "metadata": {},
   "source": [
    "### Q.5 Given a number n. Print if it is an armstrong number or not.An armstrong number is a number if the sum of every digit in that number raised to the power of total digits in that number is equal to the number.\n",
    "\n",
    " Example : 153 = 1^3 + 5^3 + 3^3 = 1 + 125 + 27 = 153 hence 153 is an armstrong number. (Easy)\n",
    " Input1 : 153\n",
    " Output1 : Yes\n",
    " Input 2 : 134\n",
    " Output2 : No"
   ]
  },
  {
   "cell_type": "code",
   "execution_count": 15,
   "metadata": {},
   "outputs": [
    {
     "name": "stdout",
     "output_type": "stream",
     "text": [
      "Yes\n",
      "No\n"
     ]
    }
   ],
   "source": [
    "def count_digits(n):\n",
    "    # Base case: single digit\n",
    "    if n < 10:\n",
    "        return 1\n",
    "    # Recursive case: count digits by reducing the number\n",
    "    return 1 + count_digits(n // 10)\n",
    "\n",
    "def sum_of_powers(n, power):\n",
    "    # Base case: if n is 0, return 0\n",
    "    if n == 0:\n",
    "        return 0\n",
    "    # Recursive case: digit^power + sum of powers of remaining digits\n",
    "    return (n % 10) ** power + sum_of_powers(n // 10, power)\n",
    "\n",
    "def is_armstrong_number(n):\n",
    "    # Get the number of digits in n\n",
    "    num_digits = count_digits(n)\n",
    "    # Get the sum of digits raised to the power of num_digits\n",
    "    sum_powers = sum_of_powers(n, num_digits)\n",
    "    # Check if the sum of powers equals the original number\n",
    "    return sum_powers == n\n",
    "\n",
    "# Test the function\n",
    "def print_result(n):\n",
    "    if is_armstrong_number(n):\n",
    "        print(\"Yes\")\n",
    "    else:\n",
    "        print(\"No\")\n",
    "\n",
    "# Example usage\n",
    "print_result(153)  \n",
    "print_result(134)  \n"
   ]
  }
 ],
 "metadata": {
  "kernelspec": {
   "display_name": "Python 3",
   "language": "python",
   "name": "python3"
  },
  "language_info": {
   "codemirror_mode": {
    "name": "ipython",
    "version": 3
   },
   "file_extension": ".py",
   "mimetype": "text/x-python",
   "name": "python",
   "nbconvert_exporter": "python",
   "pygments_lexer": "ipython3",
   "version": "3.11.5"
  }
 },
 "nbformat": 4,
 "nbformat_minor": 2
}
