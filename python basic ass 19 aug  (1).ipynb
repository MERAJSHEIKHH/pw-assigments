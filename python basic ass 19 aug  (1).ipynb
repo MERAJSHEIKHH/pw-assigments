{
 "cells": [
  {
   "cell_type": "code",
   "execution_count": 10,
   "id": "bf90646a-992c-48bb-b4b3-bea4a986aba6",
   "metadata": {},
   "outputs": [
    {
     "name": "stdout",
     "output_type": "stream",
     "text": [
      "Before swap x: 5 and y: 10\n",
      "After swap x: 10 and y: 5\n"
     ]
    }
   ],
   "source": [
    "# 1. Declare two variables, `x` and `y`, and assign them integer values. Swap the\n",
    "#values of these variables without using any temporary variable.\n",
    "\n",
    "\n",
    "# Step 1: provide values\n",
    "x = 5\n",
    "y = 10\n",
    "\n",
    "# Step 2: Creating function to swap the variables\n",
    "def swap_variables(x,y):\n",
    "  print(f\"Before swap x:\",x,\"and y:\",y )\n",
    "  x,y = y, x\n",
    "  print(f\"After swap x:\",x,\"and y:\",y )\n",
    "\n",
    "swap_variables(x,y)\n"
   ]
  },
  {
   "cell_type": "code",
   "execution_count": 15,
   "id": "e8d73d24-65ed-460f-aabe-86ce52e96b15",
   "metadata": {},
   "outputs": [
    {
     "name": "stdin",
     "output_type": "stream",
     "text": [
      "length: 50\n",
      "width: 10\n"
     ]
    },
    {
     "name": "stdout",
     "output_type": "stream",
     "text": [
      "area: 500\n"
     ]
    }
   ],
   "source": [
    "#2. Create a program that calculates the area of a rectangle. Take the length and\n",
    "#width as inputs from the user and store them in variables. Calculate and\n",
    "#display the area.\n",
    "\n",
    "#step 1 get input from the user \n",
    "length=int(input(\"length:\"))\n",
    "width=int(input(\"width:\")) \n",
    "          \n",
    "#step 2 provide formula\n",
    "\n",
    "area=length*width    \n",
    "          \n",
    "print(\"area:\",area)          \n",
    "          "
   ]
  },
  {
   "cell_type": "code",
   "execution_count": 19,
   "id": "e51ce286-24c2-4152-b427-b3c8f76f26d7",
   "metadata": {},
   "outputs": [
    {
     "name": "stdin",
     "output_type": "stream",
     "text": [
      "temperature in celcius: 30\n"
     ]
    },
    {
     "name": "stdout",
     "output_type": "stream",
     "text": [
      "86.0\n"
     ]
    }
   ],
   "source": [
    "#3. Write a Python program that converts temperatures from Celsius to\n",
    "#Fahrenheit. Take the temperature in Celsius as input, store it in a variable,\n",
    "#convert it to Fahrenheit, and display the result.\n",
    "\n",
    "\n",
    "#step 1 input from user\n",
    "celcius_temp=float(input(\"temperature in celcius:\"))\n",
    "\n",
    "#step 2 covert celcius to formula\n",
    "fahranhite=celcius_temp *1.8+32\n",
    "print(fahranhite)"
   ]
  },
  {
   "cell_type": "code",
   "execution_count": null,
   "id": "2a9a8f04-56e5-4e23-bd48-02dcfc76ea44",
   "metadata": {},
   "outputs": [],
   "source": []
  },
  {
   "cell_type": "code",
   "execution_count": null,
   "id": "6ad1b26e-0789-4a79-834a-74b12085787f",
   "metadata": {},
   "outputs": [],
   "source": []
  },
  {
   "cell_type": "code",
   "execution_count": 20,
   "id": "8e46dc92-4793-4f33-a953-c67f1160df48",
   "metadata": {},
   "outputs": [
    {
     "data": {
      "text/plain": [
       "'string base question'"
      ]
     },
     "execution_count": 20,
     "metadata": {},
     "output_type": "execute_result"
    }
   ],
   "source": [
    "\"\"\"string base question\"\"\""
   ]
  },
  {
   "cell_type": "code",
   "execution_count": null,
   "id": "43f876b6-fe2f-4385-8a7c-71383ca60fd2",
   "metadata": {},
   "outputs": [],
   "source": []
  },
  {
   "cell_type": "code",
   "execution_count": 25,
   "id": "129126f7-93f0-4e3d-b976-725f4bb060a5",
   "metadata": {},
   "outputs": [
    {
     "name": "stdin",
     "output_type": "stream",
     "text": [
      " my name \n"
     ]
    },
    {
     "name": "stdout",
     "output_type": "stream",
     "text": [
      "length: 8\n"
     ]
    }
   ],
   "source": [
    "#ques1 1. Write a Python program that takes a string as input and prints the length of the string\n",
    "\n",
    "#step 1 take input\n",
    "my_str=str(input())\n",
    "#step2 use len function\n",
    "length=len(my_str)\n",
    "#step 3 print \n",
    "print(\"length:\",length)\n",
    "\n",
    "        \n"
   ]
  },
  {
   "cell_type": "code",
   "execution_count": 38,
   "id": "9d408fba-4922-4269-85b1-a35331dfdad8",
   "metadata": {},
   "outputs": [
    {
     "name": "stdin",
     "output_type": "stream",
     "text": [
      " elephant\n"
     ]
    },
    {
     "name": "stdout",
     "output_type": "stream",
     "text": [
      "3\n"
     ]
    }
   ],
   "source": [
    "#2. Create a program that takes a sentence from the user and counts the number\n",
    "#of vowels (a, e, i, o, u) in the string.\n",
    "\n",
    "#step 1 take input\n",
    "sentance=input()\n",
    "#step 2 provide  vowels\n",
    "vowel=\"aeiouAEIOU\"\n",
    "\n",
    "#step 3 count\n",
    "count =0\n",
    "#step 4 use function \n",
    "for char in sentance:\n",
    "    if char in vowel:\n",
    "        \n",
    "        count=count+1\n",
    "        \n",
    "print(count)    \n",
    "    \n",
    "    "
   ]
  },
  {
   "cell_type": "code",
   "execution_count": 41,
   "id": "dcf1521c-1375-49ae-8bf7-12cde9d37b39",
   "metadata": {},
   "outputs": [
    {
     "data": {
      "text/plain": [
       "'tneduts slliks wp ma i'"
      ]
     },
     "execution_count": 41,
     "metadata": {},
     "output_type": "execute_result"
    }
   ],
   "source": [
    "#3. Given a string, reverse the order of characters using string slicing and print\n",
    "#the reversed string.\n",
    "#step 1 provide a srring\n",
    "a= \"i am pw skills student\"\n",
    "#step 2 use slicing function\n",
    "a[::-1]\n"
   ]
  },
  {
   "cell_type": "code",
   "execution_count": null,
   "id": "e410acad-a6b0-47f4-b9d4-4466ebd97a0d",
   "metadata": {},
   "outputs": [],
   "source": []
  },
  {
   "cell_type": "code",
   "execution_count": 51,
   "id": "6a6e46d6-ba0c-42a8-8faa-b0957b363349",
   "metadata": {},
   "outputs": [
    {
     "name": "stdin",
     "output_type": "stream",
     "text": [
      " radr\n"
     ]
    },
    {
     "name": "stdout",
     "output_type": "stream",
     "text": [
      "this in not a palindrome\n"
     ]
    }
   ],
   "source": [
    "#4. Write a program that takes a string as input and checks if it is a palindrome\n",
    "#(reads the same forwards and backwards).\n",
    "\n",
    "#step 1 take input\n",
    "a= input()\n",
    "#step 2 use slice fun to read for backward\n",
    "b= a[::-1]\n",
    "#step 3 for backward and forward is samne\n",
    "if a==b:\n",
    "    print(\"this is palindrome\")\n",
    "else:\n",
    "    print(\"this in not a palindrome\")\n"
   ]
  },
  {
   "cell_type": "code",
   "execution_count": 54,
   "id": "89d0cc0b-04d2-40e7-9a12-6a4c0affa1bf",
   "metadata": {},
   "outputs": [
    {
     "name": "stdin",
     "output_type": "stream",
     "text": [
      "enter a string my name is meraj \n"
     ]
    },
    {
     "name": "stdout",
     "output_type": "stream",
     "text": [
      "modified string without space: mynameismeraj\n"
     ]
    }
   ],
   "source": [
    "#5. Create a program that takes a string as input and removes all the spaces from\n",
    "#it. Print the modified string without spaces.\n",
    "#step 1 take input\n",
    "my_str=str(input(\"enter a string\"))\n",
    "#step 2 find amd replace function \n",
    "modified_str =my_str.replace(\" \",\"\")\n",
    "\n",
    "print(\"modified string without space:\",modified_str)\n",
    "\n"
   ]
  },
  {
   "cell_type": "code",
   "execution_count": null,
   "id": "38d5b715-bf05-498f-af2e-faf26a9e383d",
   "metadata": {},
   "outputs": [],
   "source": []
  }
 ],
 "metadata": {
  "kernelspec": {
   "display_name": "Python 3 (ipykernel)",
   "language": "python",
   "name": "python3"
  },
  "language_info": {
   "codemirror_mode": {
    "name": "ipython",
    "version": 3
   },
   "file_extension": ".py",
   "mimetype": "text/x-python",
   "name": "python",
   "nbconvert_exporter": "python",
   "pygments_lexer": "ipython3",
   "version": "3.10.8"
  }
 },
 "nbformat": 4,
 "nbformat_minor": 5
}
